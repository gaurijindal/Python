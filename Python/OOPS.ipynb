{
 "cells": [
  {
   "cell_type": "markdown",
   "id": "80098a98",
   "metadata": {},
   "source": [
    "# OOPS IN PYTHON"
   ]
  },
  {
   "cell_type": "markdown",
   "id": "1f2154a5",
   "metadata": {},
   "source": [
    "SIMULA ----> First Language to accept OOPS."
   ]
  },
  {
   "cell_type": "markdown",
   "id": "8d3b1862",
   "metadata": {},
   "source": [
    "OOPS Concepts:\n",
    "1. Class\n",
    "2. Object\n",
    "3. Inheritance\n",
    "4. Encapsulation\n",
    "5. Abstraction\n",
    "6. Polymorphism\n",
    "\n",
    "Overloading yes, no overriding."
   ]
  },
  {
   "cell_type": "code",
   "execution_count": 35,
   "id": "01b5c3a4",
   "metadata": {},
   "outputs": [
    {
     "name": "stdout",
     "output_type": "stream",
     "text": [
      "Hello\n",
      "27\n",
      "12\n"
     ]
    }
   ],
   "source": [
    "class demo:       #Without an object\n",
    "    print(\"Hello\")\n",
    "    a = 12\n",
    "    b = 15\n",
    "    print(a+b)\n",
    "\n",
    "obj = demo()\n",
    "print(obj.a)"
   ]
  },
  {
   "cell_type": "code",
   "execution_count": 13,
   "id": "600f6893",
   "metadata": {},
   "outputs": [
    {
     "data": {
      "text/plain": [
       "12"
      ]
     },
     "execution_count": 13,
     "metadata": {},
     "output_type": "execute_result"
    }
   ],
   "source": [
    "demo.a"
   ]
  },
  {
   "cell_type": "code",
   "execution_count": 5,
   "id": "65d6651b",
   "metadata": {},
   "outputs": [],
   "source": [
    "def demo():\n",
    "    print(\"Hello\")"
   ]
  },
  {
   "cell_type": "code",
   "execution_count": 27,
   "id": "0cc533af",
   "metadata": {},
   "outputs": [
    {
     "data": {
      "text/plain": [
       "-5"
      ]
     },
     "execution_count": 27,
     "metadata": {},
     "output_type": "execute_result"
    }
   ],
   "source": [
    "class demo:  #With an object\n",
    "    c = 5 #class variable\n",
    "    def add(self, a, b):   #instance / object parameter\n",
    "\n",
    "        # a = 12\n",
    "        # b = 15\n",
    "        # print(a+b)\n",
    "        return a+b\n",
    "    \n",
    "    def sub(self, a, b):\n",
    "        return a - b - self.c\n",
    "\n",
    "# obj = demo()\n",
    "# v1 = obj.add(12, 12)\n",
    "# obj1 = demo()\n",
    "# v2 = obj1.add(10, 10)\n",
    "# print(v1, v2)\n",
    "\n",
    "obj = demo()\n",
    "obj.sub(12, 12)\n"
   ]
  },
  {
   "cell_type": "code",
   "execution_count": 36,
   "id": "37ff9ae1",
   "metadata": {},
   "outputs": [
    {
     "name": "stdout",
     "output_type": "stream",
     "text": [
      "0 20\n"
     ]
    }
   ],
   "source": [
    "class demo:\n",
    "    c=10  # class variable\n",
    "    def __init__(self,a,b):  #activated by your object  // dunder method\n",
    "        self.a = a  #instance variable\n",
    "        self.b = b\n",
    "\n",
    "    def add(self):\n",
    "        return self.a + self.b\n",
    "    \n",
    "    def sub(self):\n",
    "        return self.a - self.b\n",
    "    \n",
    "obj = demo(10, 10)\n",
    "print(obj.sub(), obj.add())"
   ]
  },
  {
   "cell_type": "code",
   "execution_count": 33,
   "id": "75b8c49d",
   "metadata": {},
   "outputs": [
    {
     "name": "stdout",
     "output_type": "stream",
     "text": [
      "1 2\n"
     ]
    }
   ],
   "source": [
    "a=1\n",
    "b=2\n",
    "print(a,b)"
   ]
  },
  {
   "cell_type": "code",
   "execution_count": 41,
   "id": "f0710149",
   "metadata": {},
   "outputs": [
    {
     "data": {
      "text/plain": [
       "-30"
      ]
     },
     "execution_count": 41,
     "metadata": {},
     "output_type": "execute_result"
    }
   ],
   "source": [
    "class demo:\n",
    "    c=10  # class variable\n",
    "    def __init__(self,a,b):  #activated by your object  // dunder method\n",
    "        self.a = a  #instance variable\n",
    "        self.b = b\n",
    "\n",
    "    def add(self):\n",
    "        return self.a + self.b\n",
    "    \n",
    "    def sub(self):\n",
    "        return self.a - self.b - self.d\n",
    "    \n",
    "obj = demo(10, 10)\n",
    "# print(obj.sub(), obj.add())\n",
    "\n",
    "obj.d = 30\n",
    "obj.sub()"
   ]
  },
  {
   "cell_type": "code",
   "execution_count": 54,
   "id": "4dbb4aa2",
   "metadata": {},
   "outputs": [
    {
     "name": "stdout",
     "output_type": "stream",
     "text": [
      "The name is Gauri\n",
      "The age is 23\n",
      "The email is gaurijindal.hrd@gmail.com\n",
      "The contact is 8077730645\n"
     ]
    }
   ],
   "source": [
    "class form:\n",
    "\n",
    "    def __init__(self,name, age, email, contact): \n",
    "        self.a = name  \n",
    "        self.b = age\n",
    "        self.c = email\n",
    "        self.d = contact\n",
    "\n",
    "    def info(self):\n",
    "        print(f\"The name is {self.a}\")\n",
    "        print(f\"The age is {self.b}\")\n",
    "        print(f\"The email is {self.c}\")\n",
    "        print(f\"The contact is {self.d}\")\n",
    "\n",
    "obj = form('Gauri', 23, 'gaurijindal.hrd@gmail.com', 8077730645 )\n",
    "obj.info()\n",
    "\n",
    "form.info.__doc__"
   ]
  },
  {
   "cell_type": "code",
   "execution_count": null,
   "id": "53907380",
   "metadata": {},
   "outputs": [],
   "source": []
  }
 ],
 "metadata": {
  "kernelspec": {
   "display_name": "Python 3",
   "language": "python",
   "name": "python3"
  },
  "language_info": {
   "codemirror_mode": {
    "name": "ipython",
    "version": 3
   },
   "file_extension": ".py",
   "mimetype": "text/x-python",
   "name": "python",
   "nbconvert_exporter": "python",
   "pygments_lexer": "ipython3",
   "version": "3.12.3"
  }
 },
 "nbformat": 4,
 "nbformat_minor": 5
}
