{
 "cells": [
  {
   "cell_type": "markdown",
   "id": "80098a98",
   "metadata": {},
   "source": [
    "# OOPS IN PYTHON"
   ]
  },
  {
   "cell_type": "markdown",
   "id": "1f2154a5",
   "metadata": {},
   "source": [
    "SIMULA ----> First Language to accept OOPS."
   ]
  },
  {
   "cell_type": "markdown",
   "id": "8d3b1862",
   "metadata": {},
   "source": [
    "OOPS Concepts:\n",
    "1. Class\n",
    "2. Object\n",
    "3. Inheritance\n",
    "4. Encapsulation\n",
    "5. Abstraction\n",
    "6. Polymorphism\n",
    "\n",
    "Overloading yes, no overriding."
   ]
  },
  {
   "cell_type": "code",
   "execution_count": 35,
   "id": "01b5c3a4",
   "metadata": {},
   "outputs": [
    {
     "name": "stdout",
     "output_type": "stream",
     "text": [
      "Hello\n",
      "27\n",
      "12\n"
     ]
    }
   ],
   "source": [
    "class demo:       #Without an object\n",
    "    print(\"Hello\")\n",
    "    a = 12\n",
    "    b = 15\n",
    "    print(a+b)\n",
    "\n",
    "obj = demo()\n",
    "print(obj.a)"
   ]
  },
  {
   "cell_type": "code",
   "execution_count": 13,
   "id": "600f6893",
   "metadata": {},
   "outputs": [
    {
     "data": {
      "text/plain": [
       "12"
      ]
     },
     "execution_count": 13,
     "metadata": {},
     "output_type": "execute_result"
    }
   ],
   "source": [
    "demo.a"
   ]
  },
  {
   "cell_type": "code",
   "execution_count": 5,
   "id": "65d6651b",
   "metadata": {},
   "outputs": [],
   "source": [
    "def demo():\n",
    "    print(\"Hello\")"
   ]
  },
  {
   "cell_type": "code",
   "execution_count": 27,
   "id": "0cc533af",
   "metadata": {},
   "outputs": [
    {
     "data": {
      "text/plain": [
       "-5"
      ]
     },
     "execution_count": 27,
     "metadata": {},
     "output_type": "execute_result"
    }
   ],
   "source": [
    "class demo:  #With an object\n",
    "    c = 5 #class variable\n",
    "    def add(self, a, b):   #instance / object parameter\n",
    "\n",
    "        # a = 12\n",
    "        # b = 15\n",
    "        # print(a+b)\n",
    "        return a+b\n",
    "    \n",
    "    def sub(self, a, b):\n",
    "        return a - b - self.c\n",
    "\n",
    "# obj = demo()\n",
    "# v1 = obj.add(12, 12)\n",
    "# obj1 = demo()\n",
    "# v2 = obj1.add(10, 10)\n",
    "# print(v1, v2)\n",
    "\n",
    "obj = demo()\n",
    "obj.sub(12, 12)\n"
   ]
  },
  {
   "cell_type": "code",
   "execution_count": 36,
   "id": "37ff9ae1",
   "metadata": {},
   "outputs": [
    {
     "name": "stdout",
     "output_type": "stream",
     "text": [
      "0 20\n"
     ]
    }
   ],
   "source": [
    "class demo:\n",
    "    c=10  # class variable\n",
    "    def __init__(self,a,b):  #activated by your object  // dunder method\n",
    "        self.a = a  #instance variable\n",
    "        self.b = b\n",
    "\n",
    "    def add(self):\n",
    "        return self.a + self.b\n",
    "    \n",
    "    def sub(self):\n",
    "        return self.a - self.b\n",
    "    \n",
    "obj = demo(10, 10)\n",
    "print(obj.sub(), obj.add())"
   ]
  },
  {
   "cell_type": "code",
   "execution_count": 33,
   "id": "75b8c49d",
   "metadata": {},
   "outputs": [
    {
     "name": "stdout",
     "output_type": "stream",
     "text": [
      "1 2\n"
     ]
    }
   ],
   "source": [
    "a=1\n",
    "b=2\n",
    "print(a,b)"
   ]
  },
  {
   "cell_type": "code",
   "execution_count": 41,
   "id": "f0710149",
   "metadata": {},
   "outputs": [
    {
     "data": {
      "text/plain": [
       "-30"
      ]
     },
     "execution_count": 41,
     "metadata": {},
     "output_type": "execute_result"
    }
   ],
   "source": [
    "class demo:\n",
    "    c=10  # class variable\n",
    "    def __init__(self,a,b):  #activated by your object  // dunder method\n",
    "        self.a = a  #instance variable\n",
    "        self.b = b\n",
    "\n",
    "    def add(self):\n",
    "        return self.a + self.b\n",
    "    \n",
    "    def sub(self):\n",
    "        return self.a - self.b - self.d\n",
    "    \n",
    "obj = demo(10, 10)\n",
    "# print(obj.sub(), obj.add())\n",
    "\n",
    "obj.d = 30\n",
    "obj.sub()"
   ]
  },
  {
   "cell_type": "code",
   "execution_count": 54,
   "id": "4dbb4aa2",
   "metadata": {},
   "outputs": [
    {
     "name": "stdout",
     "output_type": "stream",
     "text": [
      "The name is Gauri\n",
      "The age is 23\n",
      "The email is gaurijindal.hrd@gmail.com\n",
      "The contact is 8077730645\n"
     ]
    }
   ],
   "source": [
    "class form:\n",
    "\n",
    "    def __init__(self,name, age, email, contact): \n",
    "        self.a = name  \n",
    "        self.b = age\n",
    "        self.c = email\n",
    "        self.d = contact\n",
    "\n",
    "    def info(self):\n",
    "        print(f\"The name is {self.a}\")\n",
    "        print(f\"The age is {self.b}\")\n",
    "        print(f\"The email is {self.c}\")\n",
    "        print(f\"The contact is {self.d}\")\n",
    "\n",
    "obj = form('Gauri', 23, 'gaurijindal.hrd@gmail.com', 8077730645 )\n",
    "obj.info()\n",
    "\n",
    "form.info.__doc__"
   ]
  },
  {
   "cell_type": "markdown",
   "id": "ed5328a8",
   "metadata": {},
   "source": [
    "# PYTHON DAY 10"
   ]
  },
  {
   "cell_type": "markdown",
   "id": "53907380",
   "metadata": {},
   "source": [
    "CONSTRUCTORS"
   ]
  },
  {
   "cell_type": "code",
   "execution_count": 2,
   "id": "63b2ad31",
   "metadata": {},
   "outputs": [
    {
     "name": "stdout",
     "output_type": "stream",
     "text": [
      "100\n"
     ]
    }
   ],
   "source": [
    "class cal:\n",
    "    # self is known as instance variable  \"here a, b are local variable.\"\n",
    "    # __init__ is also known as constructor/initialization method.\n",
    "\n",
    "    def __init__(self, a = 20, b = 40):\n",
    "        self.m = a\n",
    "        self.n = b\n",
    "\n",
    "    def add(self):\n",
    "        print(self.m + self.n)\n",
    "\n",
    "s = cal(70, 30)  #obj\n",
    "s.add()"
   ]
  },
  {
   "cell_type": "code",
   "execution_count": 4,
   "id": "f2529667",
   "metadata": {},
   "outputs": [
    {
     "name": "stdout",
     "output_type": "stream",
     "text": [
      "Reactangle(5, 10)\n",
      "False\n",
      "50\n"
     ]
    }
   ],
   "source": [
    "class Reactangle:\n",
    "    def __init__(self, length, width):\n",
    "        self.length = length\n",
    "        self.width = width\n",
    "    \n",
    "    def __str__(self):\n",
    "        return f\"Reactangle({self.length}, {self.width})\"\n",
    "    \n",
    "    def __eg__(self, other):\n",
    "        return self.length == other.length and self.width == other.width\n",
    "    \n",
    "    def area(self):\n",
    "        return self.length * self.width\n",
    "    \n",
    "r1 = Reactangle(5, 10)\n",
    "r2 = Reactangle(10, 5)\n",
    "\n",
    "print(r1) #Output: Rectangle(5, 10)\n",
    "print(r1 == r2) #Output: False\n",
    "print(r1.area()) #Output: 50"
   ]
  },
  {
   "cell_type": "code",
   "execution_count": 14,
   "id": "1a2765f0",
   "metadata": {},
   "outputs": [],
   "source": [
    "class myClass:\n",
    "    def __init__(self):\n",
    "        self.public_attr = 'public'\n",
    "        #self._protected_attr = 'protected' \n",
    "        self.__private_attr = 'private'\n",
    "\n",
    "    def __get_private_attr(self):\n",
    "        #return self.__private_attr\n",
    "        print(\"nel\")\n",
    "        #return self.public_attr\n",
    "    \n",
    "obj = myClass()\n",
    "# obj.__get_private_attr()\n"
   ]
  },
  {
   "cell_type": "code",
   "execution_count": 17,
   "id": "8c0bfe4a",
   "metadata": {},
   "outputs": [
    {
     "name": "stdout",
     "output_type": "stream",
     "text": [
      "True\n",
      "Help on built-in function print in module builtins:\n",
      "\n",
      "print(*args, sep=' ', end='\\n', file=None, flush=False)\n",
      "    Prints the values to a stream, or to sys.stdout by default.\n",
      "\n",
      "    sep\n",
      "      string inserted between values, default a space.\n",
      "    end\n",
      "      string appended after the last value, default a newline.\n",
      "    file\n",
      "      a file-like object (stream); defaults to the current sys.stdout.\n",
      "    flush\n",
      "      whether to forcibly flush the stream.\n",
      "\n"
     ]
    }
   ],
   "source": [
    "class demo():\n",
    "    a = 10\n",
    "    b = 34\n",
    "\n",
    "obj = demo()\n",
    "dir(demo)\n",
    "x = isinstance(obj, demo)\n",
    "print(x)\n",
    "#print(x)\n",
    "help(print)"
   ]
  },
  {
   "cell_type": "code",
   "execution_count": 19,
   "id": "ad97d723",
   "metadata": {},
   "outputs": [
    {
     "name": "stdout",
     "output_type": "stream",
     "text": [
      "10\n"
     ]
    }
   ],
   "source": [
    "# get attr\n",
    "class demo():\n",
    "    a = 10\n",
    "    b = 20\n",
    "\n",
    "obj = demo()\n",
    "getattr(demo, 'a')\n",
    "print(obj.a)"
   ]
  },
  {
   "cell_type": "code",
   "execution_count": 32,
   "id": "6e92585d",
   "metadata": {},
   "outputs": [
    {
     "data": {
      "text/plain": [
       "['__class__',\n",
       " '__delattr__',\n",
       " '__dict__',\n",
       " '__dir__',\n",
       " '__doc__',\n",
       " '__eq__',\n",
       " '__format__',\n",
       " '__ge__',\n",
       " '__getattribute__',\n",
       " '__getstate__',\n",
       " '__gt__',\n",
       " '__hash__',\n",
       " '__init__',\n",
       " '__init_subclass__',\n",
       " '__le__',\n",
       " '__lt__',\n",
       " '__module__',\n",
       " '__ne__',\n",
       " '__new__',\n",
       " '__reduce__',\n",
       " '__reduce_ex__',\n",
       " '__repr__',\n",
       " '__setattr__',\n",
       " '__sizeof__',\n",
       " '__str__',\n",
       " '__subclasshook__',\n",
       " '__weakref__',\n",
       " 'a',\n",
       " 'b',\n",
       " 'c']"
      ]
     },
     "execution_count": 32,
     "metadata": {},
     "output_type": "execute_result"
    }
   ],
   "source": [
    "# set attr\n",
    "class demo():\n",
    "    a = 10\n",
    "    b = 20\n",
    "\n",
    "obj = demo()\n",
    "setattr(obj, 'c', 30)\n",
    "getattr(obj,'c')\n",
    "dir(obj)"
   ]
  },
  {
   "cell_type": "code",
   "execution_count": 34,
   "id": "502d43e0",
   "metadata": {},
   "outputs": [
    {
     "data": {
      "text/plain": [
       "['__class__',\n",
       " '__delattr__',\n",
       " '__dict__',\n",
       " '__dir__',\n",
       " '__doc__',\n",
       " '__eq__',\n",
       " '__format__',\n",
       " '__ge__',\n",
       " '__getattribute__',\n",
       " '__getstate__',\n",
       " '__gt__',\n",
       " '__hash__',\n",
       " '__init__',\n",
       " '__init_subclass__',\n",
       " '__le__',\n",
       " '__lt__',\n",
       " '__module__',\n",
       " '__ne__',\n",
       " '__new__',\n",
       " '__reduce__',\n",
       " '__reduce_ex__',\n",
       " '__repr__',\n",
       " '__setattr__',\n",
       " '__sizeof__',\n",
       " '__str__',\n",
       " '__subclasshook__',\n",
       " '__weakref__',\n",
       " 'a',\n",
       " 'b']"
      ]
     },
     "execution_count": 34,
     "metadata": {},
     "output_type": "execute_result"
    }
   ],
   "source": [
    "# delattr\n",
    "class demo():\n",
    "  a=10\n",
    "  b=20\n",
    "  c=30\n",
    "obj=demo()\n",
    "delattr(demo,\"c\")\n",
    "dir(obj)\n",
    "# getattr(demo,'c')"
   ]
  },
  {
   "cell_type": "code",
   "execution_count": 36,
   "id": "663571ae",
   "metadata": {},
   "outputs": [
    {
     "name": "stdout",
     "output_type": "stream",
     "text": [
      "50000\n",
      "7500000\n",
      "60000\n",
      "62400\n"
     ]
    }
   ],
   "source": [
    "class Employee:\n",
    "    raise_amount = 1.04        #class or variable\n",
    "\n",
    "    def __init__(self, first, last, pay):\n",
    "        self.first = first\n",
    "        self.last = last\n",
    "        self.pay = pay\n",
    "        self.email = first + '.' + last + '@company.com'\n",
    "\n",
    "    def fullname(self):\n",
    "        return '{} {}'.fromat(self.first, self.last)\n",
    "    \n",
    "    def apply_raise(self):\n",
    "        # self.pay = int(self.pay * 1.04)\n",
    "        self.pay = int(self.pay * self.raise_amount) #Employee.raise_amount\n",
    "\n",
    "emp_1 = Employee('Coery', \"Schafer\", 50000)\n",
    "emp_2 = Employee('Test', 'User', 60000)\n",
    "\n",
    "# print(emp_1.pay)\n",
    "# Employee.raise_amount = 1.05        #changing the class variable value\n",
    "# emp_1.apply_raise()\n",
    "# print(emp_1.pay)\n",
    "\n",
    "# print(emp_1.__dict__)\n",
    "# print(Employee.__dict__)\n",
    "\n",
    "emp_1.raise_amount=150\n",
    "print(emp_1.pay)\n",
    "emp_1.apply_raise()\n",
    "print(emp_1.pay)\n",
    "\n",
    "\n",
    "print(emp_2.pay)\n",
    "emp_2.apply_raise()\n",
    "print(emp_2.pay)\n",
    "     "
   ]
  },
  {
   "cell_type": "code",
   "execution_count": 37,
   "id": "82ec48c8",
   "metadata": {},
   "outputs": [
    {
     "name": "stdout",
     "output_type": "stream",
     "text": [
      "1.05\n",
      "1.05\n",
      "1.05\n"
     ]
    }
   ],
   "source": [
    "# regular methods class methods and static methods\n",
    "\n",
    "class Employee:\n",
    "  raise_amount=1.04       #class variable\n",
    "\n",
    "  def __init__(self, first, last, pay):\n",
    "    self.first = first\n",
    "    self.last = last\n",
    "    self.pay = pay\n",
    "    self.email = first + '.' + last + '@company.com'\n",
    "\n",
    "  def fullname(self):       #regular method\n",
    "    return '{} {}'.format(self.first, self.last)\n",
    "\n",
    "  def apply_raise(self):\n",
    "    #self.pay = int(self.pay * 1.04)\n",
    "    self.pay=int(self.pay*self.raise_amount) # Employee.raise_amount\n",
    "\n",
    "  @classmethod\n",
    "  def set_raise_amt(cls,amount):\n",
    "    cls.raise_amount=amount\n",
    "\n",
    "emp_1 = Employee('Coery',\"Schafer\",50000)\n",
    "emp_2 = Employee('Test','User',60000)\n",
    "\n",
    "#emp_1.set_raise_amt(1.05)    # a class method will work with a object\n",
    "Employee.set_raise_amt(1.05)\n",
    "\n",
    "print(Employee.raise_amount)\n",
    "print(emp_1.raise_amount)\n",
    "print(emp_2.raise_amount)"
   ]
  },
  {
   "cell_type": "code",
   "execution_count": 39,
   "id": "d241a9d0",
   "metadata": {},
   "outputs": [
    {
     "name": "stdout",
     "output_type": "stream",
     "text": [
      "True\n"
     ]
    }
   ],
   "source": [
    "# regular methods class methods and static methods\n",
    "\n",
    "class Employee:\n",
    "  raise_amount=1.04       #class variable\n",
    "\n",
    "  def __init__(self, first, last, pay):\n",
    "    self.first = first\n",
    "    self.last = last\n",
    "    self.pay = pay\n",
    "    self.email = first + '.' + last + '@company.com'\n",
    "\n",
    "  def fullname(self):       #regular method\n",
    "    return '{} {}'.format(self.first, self.last)\n",
    "\n",
    "  def apply_raise(self):\n",
    "    #self.pay = int(self.pay * 1.04)\n",
    "    self.pay=int(self.pay*self.raise_amount) # Employee.raise_amount\n",
    "\n",
    "  @classmethod\n",
    "  def set_raise_amt(cls,amount):\n",
    "    cls.raise_amount=amount\n",
    "\n",
    "  @classmethod\n",
    "  def from_string(cls,emp_str):\n",
    "    first,last,pay=emp_str.split('-')\n",
    "    return cls(first,last,pay)\n",
    "\n",
    "  @staticmethod\n",
    "  def is_workday(day):\n",
    "    if day.weekday()==5 or day.weekday()==6:\n",
    "      return False\n",
    "    return True\n",
    "\n",
    "emp_1 = Employee('Coery',\"Schafer\",50000)\n",
    "emp_2 = Employee('Test','User',60000)\n",
    "\n",
    "import datetime\n",
    "my_date=datetime.date(2016,5,10)\n",
    "print(Employee.is_workday(my_date))"
   ]
  },
  {
   "cell_type": "markdown",
   "id": "4b39ceef",
   "metadata": {},
   "source": [
    "INHERITANCE\n",
    "\n",
    "1. Simple Inheritance\n",
    "2. Multiple Inheritance\n",
    "3. Multi - Level Inheritance\n",
    "4. Hierarchical Inheritance\n",
    "5. Hybrid Inheritance"
   ]
  },
  {
   "cell_type": "code",
   "execution_count": 40,
   "id": "e5b5ace3",
   "metadata": {},
   "outputs": [
    {
     "name": "stdout",
     "output_type": "stream",
     "text": [
      "base\n",
      "derived\n"
     ]
    }
   ],
   "source": [
    "#single\n",
    "\n",
    "class base():\n",
    "    a_name = \"base\"\n",
    "    # print(a_name)\n",
    "\n",
    "class derived(base):\n",
    "    b_name = \"derived\"\n",
    "\n",
    "obj = derived()\n",
    "print(obj.a_name)\n",
    "print(obj.b_name)"
   ]
  },
  {
   "cell_type": "code",
   "execution_count": 42,
   "id": "0ff422a2",
   "metadata": {},
   "outputs": [
    {
     "name": "stdout",
     "output_type": "stream",
     "text": [
      "Dog Barking\n",
      "Animal Speaking\n"
     ]
    }
   ],
   "source": [
    "class Animal:     #Parent Class\n",
    "    def speak(self):\n",
    "        print(\"Animal Speaking\")\n",
    "\n",
    "class Dog(Animal): #Child Class\n",
    "    def bark(self):\n",
    "        print(\"Dog Barking\")\n",
    "\n",
    "d = Dog()\n",
    "d.bark()\n",
    "d.speak()"
   ]
  },
  {
   "cell_type": "code",
   "execution_count": 48,
   "id": "db02a9f8",
   "metadata": {},
   "outputs": [
    {
     "name": "stdout",
     "output_type": "stream",
     "text": [
      "Hi, I am James\n"
     ]
    }
   ],
   "source": [
    "class Robot:\n",
    "\n",
    "    def __init__(self, name = 'Gauri'):\n",
    "        self.name = name\n",
    "\n",
    "    def say_hi(self):\n",
    "        print(\"Hi, I am \" + self.name)\n",
    "\n",
    "class PhysicianRobot(Robot):\n",
    "    pass\n",
    "\n",
    "#x = Robot(\"Marvin\")\n",
    "y = PhysicianRobot(\"James\")\n",
    "\n",
    "# print(x, type(x))\n",
    "# print(y, type(y))\n",
    "\n",
    "y.say_hi()\n"
   ]
  },
  {
   "cell_type": "code",
   "execution_count": 49,
   "id": "d15cee55",
   "metadata": {},
   "outputs": [],
   "source": [
    "#MULTILEVEL INHERITANCE\n",
    "\n",
    "class gfather:\n",
    "    g_name = \"abc\"\n",
    "\n",
    "class father(gfather):\n",
    "    f_name = \"xyz\"\n",
    "\n",
    "class son(father):\n",
    "    son = \"son\"\n",
    "    s_name = 'Jerry'"
   ]
  },
  {
   "cell_type": "code",
   "execution_count": null,
   "id": "01e008e3",
   "metadata": {},
   "outputs": [],
   "source": [
    "#MULTIPLE INHERITANCE\n",
    "\n",
    "class father:\n",
    "    f_name = \"abc\"\n",
    "\n",
    "class mother:\n",
    "    m_name = \"xyz\"\n",
    "\n",
    "class son(father, mother):\n",
    "    son = \"son\""
   ]
  },
  {
   "cell_type": "code",
   "execution_count": 53,
   "id": "4f90c19a",
   "metadata": {},
   "outputs": [
    {
     "name": "stdout",
     "output_type": "stream",
     "text": [
      "I'm a car\n",
      "General Use: Transportation\n",
      "Specific Use: Commute to work, vacation with family.\n"
     ]
    }
   ],
   "source": [
    "#HIERARCHICAL INHERITANCE\n",
    "\n",
    "class vehicle:\n",
    "    def general_usage(self):\n",
    "        print(\"General Use: Transportation\")\n",
    "\n",
    "class car(vehicle):\n",
    "    def __init__(self):\n",
    "        print(\"I'm a car\")\n",
    "        self.wheels = 4\n",
    "        self.has_roots = True\n",
    "\n",
    "    def specific_usage(self):\n",
    "        # self.general_usage()\n",
    "        print(\"Specific Use: Commute to work, vacation with family.\")\n",
    "\n",
    "class MotorCycle(vehicle):\n",
    "    def __init__(self):\n",
    "        print(\"I'm a motor cycle\")\n",
    "        self.wheels = 2\n",
    "        self.has_roof = False\n",
    "\n",
    "    def specific_usage(self):\n",
    "        # self.general_usage()\n",
    "        print(\"Specific Use: Road Trip, Racing.\")\n",
    "\n",
    "#vehicle vobj = new car\n",
    "\n",
    "c = car()\n",
    "c.general_usage()\n",
    "c.specific_usage()\n"
   ]
  },
  {
   "cell_type": "code",
   "execution_count": 54,
   "id": "e3d1c23d",
   "metadata": {},
   "outputs": [],
   "source": [
    "def a():\n",
    "    print(\"Hello\")\n",
    "def a():\n",
    "    print(\"World\")"
   ]
  },
  {
   "cell_type": "code",
   "execution_count": 57,
   "id": "010c4212",
   "metadata": {},
   "outputs": [
    {
     "name": "stdout",
     "output_type": "stream",
     "text": [
      "From Demo\n",
      "From Demo1\n"
     ]
    }
   ],
   "source": [
    "class demo():\n",
    "    def __init__(self):\n",
    "        print('From Demo')\n",
    "\n",
    "class demo1(demo):\n",
    "    def __init__(self):\n",
    "        super().__init__()\n",
    "        print('From Demo1')\n",
    "\n",
    "d = demo1()"
   ]
  },
  {
   "cell_type": "code",
   "execution_count": 58,
   "id": "493aa390",
   "metadata": {},
   "outputs": [
    {
     "name": "stdout",
     "output_type": "stream",
     "text": [
      "Animal __init__\n",
      "Dog __init__\n",
      "Labrador\n",
      "Dog\n"
     ]
    }
   ],
   "source": [
    "class Animal:\n",
    "    def __init__(self, species):\n",
    "        self.species = species\n",
    "        print(\"Animal __init__\")\n",
    "\n",
    "class Dog(Animal):\n",
    "    def __init__(self, breed):\n",
    "        super().__init__(\"Dog\")\n",
    "        self.breed = breed\n",
    "        print(\"Dog __init__\")\n",
    "\n",
    "my_dog = Dog(\"Labrador\")\n",
    "print(my_dog.breed)\n",
    "print(my_dog.species)"
   ]
  },
  {
   "cell_type": "code",
   "execution_count": 18,
   "id": "4a51c8ae",
   "metadata": {},
   "outputs": [
    {
     "name": "stdout",
     "output_type": "stream",
     "text": [
      "True\n",
      "False\n"
     ]
    }
   ],
   "source": [
    "class Calculation1():     #Multiple\n",
    "    def Summation(self, a, b):\n",
    "        return a + b\n",
    "\n",
    "class Calculation2():\n",
    "    def Multiplication(self, a, b):\n",
    "        return a * b\n",
    "\n",
    "class Derived(Calculation1, Calculation2):\n",
    "    def Divide(self, a, b):\n",
    "        return a/b\n",
    "\n",
    "d = Derived()\n",
    "print(issubclass(Derived, Calculation2))\n",
    "print(issubclass(Calculation1, Calculation2))"
   ]
  },
  {
   "cell_type": "code",
   "execution_count": 3,
   "id": "70cd8d37",
   "metadata": {},
   "outputs": [
    {
     "name": "stdout",
     "output_type": "stream",
     "text": [
      "Initializing A\n",
      "Initializing C\n",
      "Initializing B\n",
      "Initializing D\n",
      "Help on class D in module __main__:\n",
      "\n",
      "class D(B, C)\n",
      " |  Method resolution order:\n",
      " |      D\n",
      " |      B\n",
      " |      C\n",
      " |      A\n",
      " |      builtins.object\n",
      " |\n",
      " |  Methods defined here:\n",
      " |\n",
      " |  __init__(self)\n",
      " |      Initialize self.  See help(type(self)) for accurate signature.\n",
      " |\n",
      " |  ----------------------------------------------------------------------\n",
      " |  Data descriptors inherited from A:\n",
      " |\n",
      " |  __dict__\n",
      " |      dictionary for instance variables\n",
      " |\n",
      " |  __weakref__\n",
      " |      list of weak references to the object\n",
      "\n"
     ]
    }
   ],
   "source": [
    "class A:                  #Hybrid\n",
    "    def __init__(self):\n",
    "        print(\"Initializing A\")\n",
    "\n",
    "class B(A):\n",
    "    def __init__(self):\n",
    "        super().__init__() #Call A's __init__\n",
    "        print(\"Initializing B\")\n",
    "\n",
    "class C(A):\n",
    "    def __init__(self):\n",
    "        super().__init__()  #Call A's __init__\n",
    "        print(\"Initializing C\")\n",
    "\n",
    "class D(B, C):\n",
    "    def __init__(self):\n",
    "        super().__init__()  #Call B's and then C's __init__\n",
    "        print(\"Initializing D\")\n",
    "\n",
    "#usage\n",
    "d = D()\n",
    "help(D)"
   ]
  },
  {
   "cell_type": "code",
   "execution_count": 2,
   "id": "ae208a21",
   "metadata": {},
   "outputs": [
    {
     "name": "stdout",
     "output_type": "stream",
     "text": [
      "104\n",
      "200\n",
      "10\n"
     ]
    }
   ],
   "source": [
    "#Overloading\n",
    "\n",
    "def sum(a=None, b=None, c=None):\n",
    "    if a!=None and b!=None and c!=None:\n",
    "        c = a+b+c\n",
    "    elif a!=None and b!=None:\n",
    "        c = a*b\n",
    "    else:\n",
    "        c = a\n",
    "    print(c)\n",
    "\n",
    "a = int(input(\"a=\"))\n",
    "\n",
    "sum(a, 20, 30)\n",
    "sum(10, 20)\n",
    "sum(10)\n"
   ]
  },
  {
   "cell_type": "code",
   "execution_count": 49,
   "id": "286173fe",
   "metadata": {},
   "outputs": [
    {
     "name": "stdout",
     "output_type": "stream",
     "text": [
      "11\n",
      "HiGeeks\n"
     ]
    }
   ],
   "source": [
    "#Function to take multiple arguments  \n",
    " \n",
    "def add(datatype,*args):\n",
    " \n",
    "#if datatype is int\n",
    "#initialize answer as 0\n",
    " \n",
    "    if datatype == 'int':\n",
    "        answer = 0\n",
    " \n",
    "#if datatype is str\n",
    "#initialize answer as 1\n",
    " \n",
    "    if datatype == 'str':\n",
    "        answer = ''\n",
    " \n",
    "#Traverse through the arguments\n",
    "    for x in args:\n",
    " \n",
    "    # This will do addition if the\n",
    "    #arguments are int or concatenation\n",
    "    # if the arguments are str\n",
    "        answer = answer + x\n",
    " \n",
    "    print(answer)\n",
    " \n",
    "#Integer\n",
    "add('int',5,6)\n",
    " \n",
    "#string\n",
    " \n",
    "add('str','Hi','Geeks')"
   ]
  },
  {
   "cell_type": "code",
   "execution_count": 15,
   "id": "0765d2a2",
   "metadata": {},
   "outputs": [
    {
     "name": "stdout",
     "output_type": "stream",
     "text": [
      "7.3\n",
      "14.96\n",
      "4\n"
     ]
    }
   ],
   "source": [
    "from multipledispatch import dispatch      #Overloading\n",
    "\n",
    "#pass one parameter\n",
    "@dispatch(int, int) #decorator\n",
    "def product(first, second):\n",
    "    result = first * second\n",
    "    print(result)\n",
    "\n",
    "#passing two parameters\n",
    "@dispatch(int, int, float)\n",
    "def product(first, second, third):\n",
    "    result = first + second + third\n",
    "    print(result)\n",
    "\n",
    "# you can also pass datatype of any value as per requirement\n",
    "\n",
    "@dispatch(float, float, int)\n",
    "def product(first, second, third):\n",
    "    result = first * second * third\n",
    "    print(result)\n",
    "\n",
    "#calling product method with two arguememnts\n",
    "product(2, 3, 2.3)         # this will give output of 12\n",
    "product(2.2, 3.4, 2)         # this will give output of 17.98599999999997\n",
    "product(2, 2)"
   ]
  },
  {
   "cell_type": "code",
   "execution_count": null,
   "id": "f58f22c4",
   "metadata": {},
   "outputs": [],
   "source": [
    "# pip install multipledispatch"
   ]
  },
  {
   "cell_type": "code",
   "execution_count": 25,
   "id": "4f8c23f8",
   "metadata": {},
   "outputs": [
    {
     "name": "stdout",
     "output_type": "stream",
     "text": [
      "I have 3 sides.\n"
     ]
    }
   ],
   "source": [
    "#ABSTRACTION\n",
    "\n",
    "#Python program showing abstract base class work.\n",
    "\n",
    "from abc import ABC, abstractmethod\n",
    "\n",
    "class Polygon(ABC):\n",
    "    @abstractmethod\n",
    "    def noofsides(self):\n",
    "        pass\n",
    "\n",
    "class Triangle(Polygon):\n",
    "\n",
    "    #overriding abstract method\n",
    "    def noofsides(self):\n",
    "        print(\"I have 3 sides.\")\n",
    "\n",
    "class Pentagon(Polygon):\n",
    "    \n",
    "    #overriding abstract method\n",
    "    def noofsides(self):\n",
    "        print(\"I have 5 sides.\")\n",
    "\n",
    "# obj = Pentagon()\n",
    "# obj.noofsides()\n",
    "\n",
    "obj = Triangle()\n",
    "obj.noofsides()"
   ]
  },
  {
   "cell_type": "code",
   "execution_count": 26,
   "id": "a9460bd4",
   "metadata": {},
   "outputs": [
    {
     "name": "stdout",
     "output_type": "stream",
     "text": [
      "Name: Alice\n",
      "Roll No: 1\n",
      "Marks: 85\n",
      "Name: Bob\n",
      "Roll No: 2\n",
      "Marks: 90\n"
     ]
    }
   ],
   "source": [
    "#######################  CLASS & OBJECT  #######################\n",
    "\n",
    "# 1. Define a Student class\n",
    "#    Task: \n",
    "#    Create a student class with attributes; name, roll no, and marks. \n",
    "#    Create two student objects and print their details.\n",
    "\n",
    "\n",
    "class Student:\n",
    "    def __init__(self, name, roll_no, marks):\n",
    "        self.name = name\n",
    "        self.roll_no = roll_no\n",
    "        self.marks = marks\n",
    "\n",
    "    def display_details(self):\n",
    "        print(f\"Name: {self.name}\")\n",
    "        print(f\"Roll No: {self.roll_no}\")\n",
    "        print(f\"Marks: {self.marks}\")\n",
    "\n",
    "student1 = Student(\"Alice\", 1, 85)\n",
    "student2 = Student(\"Bob\", 2, 90)\n",
    "\n",
    "student1.display_details()\n",
    "student2.display_details()\n"
   ]
  },
  {
   "cell_type": "code",
   "execution_count": 42,
   "id": "be42d26c",
   "metadata": {},
   "outputs": [
    {
     "name": "stdout",
     "output_type": "stream",
     "text": [
      "C\n",
      "A\n"
     ]
    }
   ],
   "source": [
    "# 2.Calculate Average\n",
    "# Task:\n",
    "# Add a method get_grade() that returns the grade based on marks:\n",
    "\n",
    "# Above 90: A\n",
    "\n",
    "# 80-90: B\n",
    "\n",
    "# Below 80: C\n",
    "\n",
    "class Student:\n",
    "    def __init__(self, marks):\n",
    "        self.marks = marks\n",
    "\n",
    "    def get_grade(self):\n",
    "        if self.marks > 90:\n",
    "            return 'A'\n",
    "        elif 80 <= self.marks <= 90:\n",
    "            return 'B'\n",
    "        else:\n",
    "            return 'C'\n",
    "\n",
    "student1 = Student(75)\n",
    "student2 = Student(95)\n",
    "\n",
    "print(student1.get_grade())\n",
    "print(student2.get_grade())\n",
    "\n"
   ]
  },
  {
   "cell_type": "code",
   "execution_count": null,
   "id": "e57ea3d0",
   "metadata": {},
   "outputs": [
    {
     "name": "stdout",
     "output_type": "stream",
     "text": [
      "Before changing the brand: GenericBrand , GenericBrand\n",
      "After changing the brand: SpecificBrand , SpecificBrand\n"
     ]
    }
   ],
   "source": [
    "# 3.Class Method vs Instance Method\n",
    "# Task:\n",
    "# Create a class Laptop with:\n",
    "\n",
    "# class variable brand\n",
    "\n",
    "# instance variable price\n",
    "# Add a class method to change the brand for all objects.\n",
    "\n",
    "class Laptop:\n",
    "    brand = \"GenericBrand\"  # Class variable\n",
    "\n",
    "    def __init__(self, price):\n",
    "        self.price = price  # Instance variable\n",
    "\n",
    "    @classmethod\n",
    "    def change_brand(cls, new_brand):\n",
    "        cls.brand = new_brand\n",
    "\n",
    "laptop1 = Laptop(10000)\n",
    "laptop2 = Laptop(15000)\n",
    "\n",
    "# Displaying their details before changing the brand\n",
    "print(\"Before changing the brand:\", laptop1.brand, ',', laptop2.brand)\n",
    "\n",
    "# Changing the brand for all objects\n",
    "Laptop.change_brand(\"SpecificBrand\")\n",
    "\n",
    "# Displaying their details after changing the brand\n",
    "print(\"After changing the brand:\", laptop1.brand, ',',laptop2.brand)\n"
   ]
  },
  {
   "cell_type": "code",
   "execution_count": null,
   "id": "9c30071a",
   "metadata": {},
   "outputs": [
    {
     "name": "stdout",
     "output_type": "stream",
     "text": [
      "45\n",
      "55\n"
     ]
    }
   ],
   "source": [
    "# 4. Use Dunder/magic method to compare two objects.\n",
    "\n",
    "class compare:\n",
    "    def __init__(self,a,b):  #activated by your object  // dunder method\n",
    "        self.a = a  #instance variable\n",
    "        self.b = b\n",
    "\n",
    "    def comp(self):\n",
    "        if self.a > self.b:\n",
    "            return self.a\n",
    "        else:\n",
    "            return self.b\n",
    "    \n",
    "obj = compare(10, 45)\n",
    "obj1 = compare(55, 45)\n",
    "\n",
    "print(obj.comp())\n",
    "print(obj1.comp())\n"
   ]
  },
  {
   "cell_type": "code",
   "execution_count": 44,
   "id": "b3e33c60",
   "metadata": {},
   "outputs": [],
   "source": [
    "# 5. Create a class with static method. \n",
    "\n",
    "\n"
   ]
  },
  {
   "cell_type": "code",
   "execution_count": null,
   "id": "4a8469b6",
   "metadata": {},
   "outputs": [],
   "source": []
  },
  {
   "cell_type": "code",
   "execution_count": null,
   "id": "c5a0e8ee",
   "metadata": {},
   "outputs": [],
   "source": []
  }
 ],
 "metadata": {
  "kernelspec": {
   "display_name": "Python 3",
   "language": "python",
   "name": "python3"
  },
  "language_info": {
   "codemirror_mode": {
    "name": "ipython",
    "version": 3
   },
   "file_extension": ".py",
   "mimetype": "text/x-python",
   "name": "python",
   "nbconvert_exporter": "python",
   "pygments_lexer": "ipython3",
   "version": "3.12.3"
  }
 },
 "nbformat": 4,
 "nbformat_minor": 5
}
