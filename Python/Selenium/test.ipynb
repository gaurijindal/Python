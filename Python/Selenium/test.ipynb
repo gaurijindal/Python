{
 "cells": [
  {
   "cell_type": "code",
   "execution_count": 2,
   "id": "a303d14d",
   "metadata": {},
   "outputs": [
    {
     "name": "stdout",
     "output_type": "stream",
     "text": [
      "Google\n"
     ]
    }
   ],
   "source": [
    "from selenium import webdriver\n",
    "\n",
    "driver = webdriver.Chrome()\n",
    "driver.get(\"https://www.google.com\")\n",
    "print(driver.title)\n",
    "driver.quit()"
   ]
  },
  {
   "cell_type": "code",
   "execution_count": null,
   "id": "7232f304",
   "metadata": {},
   "outputs": [],
   "source": [
    "#Finding Elements\n",
    "#find_element(By.ID, ...)\n",
    "\n",
    "#find_element(By.NAME, ...)\n",
    "\n",
    "#find_element(By.CLASS_NAME, ...)\n",
    "\n",
    "#find_element(By.XPATH, ...)"
   ]
  },
  {
   "cell_type": "code",
   "execution_count": 3,
   "id": "1e509f2a",
   "metadata": {},
   "outputs": [],
   "source": [
    "from selenium.webdriver.common.by import By\n",
    "import time\n",
    "\n",
    "driver = webdriver.Chrome()\n",
    "driver.get(\"https://www.google.com\")\n",
    "search_box = driver.find_element(By.NAME, \"q\")\n",
    "search_box.send_keys(\"Python Selenium\")\n",
    "search_box.submit()\n",
    "time.sleep(3)\n",
    "# driver.quit()"
   ]
  },
  {
   "cell_type": "code",
   "execution_count": 6,
   "id": "3e095586",
   "metadata": {},
   "outputs": [],
   "source": [
    "#test case\n",
    "from selenium.webdriver.common.by import By\n",
    "from selenium.webdriver.common.keys import Keys \n",
    "import time\n",
    "\n",
    "driver = webdriver.Chrome()\n",
    "driver.get(\"https://www.saucedemo.com/\")\n",
    "user_name = driver.find_element(By.ID, \"user-name\")\n",
    "user_name.send_keys(\"standard_user\")\n",
    "password = driver.find_element(By.ID, \"password\")\n",
    "password.send_keys(\"secret_sauce\")\n",
    "submit_btn = driver.find_element(By.ID, \"login-button\")\n",
    "submit_btn.send_keys(Keys.ENTER)"
   ]
  },
  {
   "cell_type": "code",
   "execution_count": null,
   "id": "6fc359d7",
   "metadata": {},
   "outputs": [],
   "source": [
    "# https://practicetestautomation.com/practice-test-login/"
   ]
  },
  {
   "cell_type": "code",
   "execution_count": 9,
   "id": "877748d2",
   "metadata": {},
   "outputs": [],
   "source": [
    "from selenium.webdriver.common.by import By\n",
    "from selenium.webdriver.common.keys import Keys \n",
    "import time\n",
    "\n",
    "driver = webdriver.Chrome()\n",
    "driver.get(\"https://practicetestautomation.com/practice-test-login/\")\n",
    "user_name = driver.find_element(By.ID, \"username\")\n",
    "user_name.send_keys(\"student\")\n",
    "password = driver.find_element(By.ID, \"password\")\n",
    "password.send_keys(\"Password123\")\n",
    "submit_btn = driver.find_element(By.ID, \"submit\")\n",
    "submit_btn.send_keys(Keys.ENTER)"
   ]
  },
  {
   "cell_type": "code",
   "execution_count": 11,
   "id": "cb5362df",
   "metadata": {},
   "outputs": [],
   "source": [
    "# https://practicetestautomation.com/prctice-test-login/\n",
    "\n",
    "# https://rahulshettyacademy.com/loginpagePractise/"
   ]
  },
  {
   "cell_type": "code",
   "execution_count": 12,
   "id": "1dae9444",
   "metadata": {},
   "outputs": [],
   "source": [
    "from selenium.webdriver.common.by import By\n",
    "from selenium.webdriver.common.keys import Keys \n",
    "import time\n",
    "\n",
    "driver = webdriver.Chrome()\n",
    "driver.get(\"https://rahulshettyacademy.com/loginpagePractise/\")\n",
    "user_name = driver.find_element(By.ID, \"username\")\n",
    "user_name.send_keys(\"rahulshettyacademy\")\n",
    "password = driver.find_element(By.ID, \"password\")\n",
    "password.send_keys(\"learning\")\n",
    "submit_btn = driver.find_element(By.ID, \"signInBtn\")\n",
    "submit_btn.send_keys(Keys.ENTER)"
   ]
  },
  {
   "cell_type": "code",
   "execution_count": 17,
   "id": "00ad19bd",
   "metadata": {},
   "outputs": [
    {
     "name": "stdout",
     "output_type": "stream",
     "text": [
      " ✔ Negative login test passed: Error message displayed.\n"
     ]
    }
   ],
   "source": [
    "from selenium.webdriver.common.by import By\n",
    "from selenium.webdriver.common.keys import Keys \n",
    "import time\n",
    "\n",
    "driver = webdriver.Chrome()\n",
    "driver.get(\"https://practicetestautomation.com/practice-test-login/\")\n",
    "\n",
    "#Step-2: Enter Invalid Credentials\n",
    "username = driver.find_element(By.ID, \"username\")\n",
    "password = driver.find_element(By.ID, \"password\")\n",
    "username.send_keys('wronguser')\n",
    "password.send_keys('wrongpass')\n",
    "\n",
    "#Step-3: Submit the form\n",
    "login_button = driver.find_element(By.ID, \"submit\")\n",
    "login_button.click()\n",
    "\n",
    "time.sleep(2)  #wait for the page to load\n",
    "\n",
    "#Step-4: Verify error message is displayed\n",
    "error_message = driver.find_element(By.ID, 'error')\n",
    "assert \"Your username is invalid!\" in error_message.text \n",
    "\n",
    "print(\" ✔ Negative login test passed: Error message displayed.\")\n",
    "\n",
    "#Close Browser\n",
    "driver.quit()"
   ]
  },
  {
   "cell_type": "code",
   "execution_count": 21,
   "id": "5867995e",
   "metadata": {},
   "outputs": [],
   "source": [
    "from selenium.webdriver.common.by import By\n",
    "from selenium.webdriver.common.keys import Keys \n",
    "import time\n",
    "\n",
    "driver = webdriver.Chrome()\n",
    "driver.get(\"https://www.saucedemo.com/\")\n",
    "user_name = driver.find_element(By.ID, \"user-name\")\n",
    "user_name.send_keys(\"standard_user\")\n",
    "\n",
    "password = driver.find_element(By.ID, \"password\")\n",
    "password.send_keys(\"secret_sauce\")\n",
    "\n",
    "submit_btn = driver.find_element(By.ID, \"login-button\")\n",
    "submit_btn.send_keys(Keys.ENTER)\n",
    "\n",
    "access_sidebar = driver.find_element(By.ID, \"react-burger-menu-btn\" )\n",
    "access_sidebar.click()\n",
    "\n",
    "time.sleep(2)\n",
    "\n",
    "logout = driver.find_element(By.ID, \"logout_sidebar_link\" )\n",
    "logout.click()\n",
    "\n",
    "driver.quit()"
   ]
  },
  {
   "cell_type": "code",
   "execution_count": 15,
   "id": "8588eff8",
   "metadata": {},
   "outputs": [],
   "source": [
    "from selenium import webdriver\n",
    "from selenium.webdriver.common.by import By\n",
    "# from webdriver_manager.chrome import ChromeDriverManager\n",
    "import time\n",
    "\n",
    "#Setup\n",
    "driver = webdriver.Chrome()\n",
    "driver.maximize_window()"
   ]
  },
  {
   "cell_type": "code",
   "execution_count": 23,
   "id": "8b8276d9",
   "metadata": {},
   "outputs": [
    {
     "name": "stdout",
     "output_type": "stream",
     "text": [
      "✔ First Checkbox is Selected.\n",
      "✔ Second Checkbox is Unselected.\n"
     ]
    }
   ],
   "source": [
    "from selenium import webdriver\n",
    "from selenium.webdriver.common.by import By\n",
    "import time\n",
    "\n",
    "#Step-1: Lauch browser and open the checkbox test page\n",
    "driver = webdriver.Chrome()\n",
    "driver.get(\"https://the-internet.herokuapp.com/checkboxes\")\n",
    "time.sleep(2)\n",
    "\n",
    "#Step-2: Locate the checkboxes\n",
    "checkboxes = driver.find_elements(By.CSS_SELECTOR, \"input[type='checkbox']\")\n",
    "\n",
    "#Step-3: Click the first checkbox if it is not selected\n",
    "if not checkboxes[0].is_selected():\n",
    "    checkboxes[0].click()\n",
    "\n",
    "#Step-4: Verify the first checkbox is now selected\n",
    "assert checkboxes[0].is_selected() == True\n",
    "print(\"✔ First Checkbox is Selected.\")\n",
    "\n",
    "#Step-5: Uncheck second checkbox if selected\n",
    "if checkboxes[1].is_selected():\n",
    "    checkboxes[1].click()\n",
    "\n",
    "#Step-6: Verify the second checkbox is now unchecked\n",
    "assert not checkboxes[1].is_selected()\n",
    "print(\"✔ Second Checkbox is Unselected.\")\n",
    "\n",
    "#Step-7: Close Browser\n",
    "driver.quit()\n"
   ]
  },
  {
   "cell_type": "code",
   "execution_count": null,
   "id": "ea274406",
   "metadata": {},
   "outputs": [
    {
     "name": "stdout",
     "output_type": "stream",
     "text": [
      "✔ Selected option is: Option 2\n"
     ]
    }
   ],
   "source": [
    "from selenium import webdriver\n",
    "from selenium.webdriver.common.by import By\n",
    "from selenium.webdriver.support.ui import Select\n",
    "import time\n",
    " \n",
    "#Step-1: Launch browser and go to the dropdown page\n",
    "driver=webdriver.Chrome()\n",
    "driver.get(\"https://the-internet.herokuapp.com/dropdown\")\n",
    "time.sleep(2)\n",
    " \n",
    "#Step-2: Locate the dropdown element\n",
    "dropdown_element=driver.find_element(By.ID,\"dropdown\")\n",
    " \n",
    "#Step-3: Create a select object\n",
    "dropdown=Select(dropdown_element)\n",
    " \n",
    "#Step-4: Selected \"Option 2\" by visible text\n",
    "dropdown.select_by_visible_text(\"Option 2\")\n",
    "time.sleep(1)\n",
    " \n",
    "#Step-5: Verify the selected option is \"Option 2\"\n",
    "Select_option=dropdown.first_selected_option.text\n",
    "assert Select_option == \"Option 2\"\n",
    "print(f\"✔ Selected option is: {Select_option}\")\n",
    "\n",
    "#Step-6: Wait for the page to load\n",
    "time.sleep(2)\n",
    "\n",
    "#Step-7: Close the Browser\n",
    "driver.quit()"
   ]
  },
  {
   "cell_type": "code",
   "execution_count": 25,
   "id": "163a8694",
   "metadata": {},
   "outputs": [],
   "source": [
    "from selenium import webdriver\n",
    "from selenium.webdriver.common.by import By\n",
    "import time\n",
    " \n",
    "#Step-1: Open browser and go to a website\n",
    "driver=webdriver.Chrome()\n",
    "driver.get(\"https://www.google.com\") # starting page\n",
    "time.sleep(2)\n",
    " \n",
    "#Step-2: click on the \"Gmail\" link to navigate to a new page\n",
    "gmail_link=driver.find_element(By.LINK_TEXT,\"Gmail\")\n",
    "gmail_link.click()\n",
    "time.sleep(2)\n",
    " \n",
    "#Step-3: Use the back button to go the prevoius page\n",
    "driver.back()\n",
    "time.sleep(2)\n",
    " \n",
    "#Step-4: Use the forward button to go forward to the Gmail page\n",
    "driver.forward()\n",
    "time.sleep(2)\n",
    " \n",
    "#Step-5: Refresh the current page(Google homepage)\n",
    "driver.refresh()\n",
    "time.sleep(2)\n",
    "\n",
    "#Step-6: Close all tabs\n",
    "driver.quit()\n"
   ]
  },
  {
   "cell_type": "code",
   "execution_count": null,
   "id": "00c49d8c",
   "metadata": {},
   "outputs": [
    {
     "name": "stdout",
     "output_type": "stream",
     "text": [
      "New Tab Title: Gmail: Private and secure email at no cost | Google Workspace\n"
     ]
    }
   ],
   "source": [
    "from selenium import webdriver\n",
    "from selenium.webdriver.common.by import By\n",
    "import time\n",
    "\n",
    "#Step-1: Open the main page\n",
    "driver = webdriver.Chrome()\n",
    "driver.get(\"https://www.google.com\")\n",
    "time.sleep(2)\n",
    "\n",
    "#Step-2: Open a new tab by clicking a link (e.g., Gmail)\n",
    "gmail_link = driver.find_element(By.LINK_TEXT, \"Gmail\")\n",
    "driver.execute_script(\"window.open(arguments[0]);\", gmail_link.get_attribute('href'))\n",
    "time.sleep(2)\n",
    "\n",
    "#Step-3: Switch to the new tab\n",
    "driver.switch_to.window(driver.window_handles[1])  # Switch to second tab\n",
    "time.sleep(2)\n",
    "\n",
    "#Step-4: Perform actions in the new tab (e.g., check the title of the Gmail page)\n",
    "print(\"New Tab Title:\", driver.title)\n",
    "\n",
    "#Step-5: Switch back to the original tab\n",
    "driver.switch_to.window(driver.window_handles[0])  # Switch back to first tab\n",
    "time.sleep(2)\n",
    "\n",
    "#Step-6: Close all tabs\n",
    "driver.quit()"
   ]
  },
  {
   "cell_type": "code",
   "execution_count": 27,
   "id": "85f2bf65",
   "metadata": {},
   "outputs": [
    {
     "name": "stdout",
     "output_type": "stream",
     "text": [
      "Message: It's gone!\n"
     ]
    }
   ],
   "source": [
    "from selenium import webdriver\n",
    "from selenium.webdriver.common.by import By\n",
    "from selenium.webdriver.support.ui import WebDriverWait\n",
    "from selenium.webdriver.support import expected_conditions as EC\n",
    "\n",
    "driver = webdriver.Chrome()\n",
    "driver.get(\"https://the-internet.herokuapp.com/dynamic_controls\")\n",
    "\n",
    "# Wait for the 'Remove' button to be clickable\n",
    "remove_button = WebDriverWait(driver, 10).until(\n",
    "    EC.element_to_be_clickable((By.XPATH, \"//button[text()='Remove']\"))\n",
    ")\n",
    "remove_button.click()\n",
    "\n",
    "# Wait for the message \"It's gone!\" to appear\n",
    "message = WebDriverWait(driver, 10).until(\n",
    "    EC.visibility_of_element_located((By.ID, \"message\"))\n",
    ")\n",
    "print(\"Message:\", message.text)\n",
    "\n",
    "driver.quit()"
   ]
  },
  {
   "cell_type": "code",
   "execution_count": null,
   "id": "86b86256",
   "metadata": {},
   "outputs": [
    {
     "name": "stdout",
     "output_type": "stream",
     "text": [
      "✅ Positive login test passed successfully!\n"
     ]
    }
   ],
   "source": [
    "from selenium import webdriver\n",
    "from selenium.webdriver.common.by import By\n",
    "#from webdriver_manager.chrome import ChromeDriverManager\n",
    "import time\n",
    "\n",
    "#Setup\n",
    "driver = webdriver.Chrome()\n",
    "driver.maximize_window()\n",
    "\n",
    "#Step-1: Open login page\n",
    "driver.get(\"https://practicetestautomation.com/practice-test-login/\")\n",
    "\n",
    "#Step-2: Enter username\n",
    "driver.find_element(By.ID, \"username\").send_keys(\"student\")\n",
    "\n",
    "#Step-3: Enter password\n",
    "driver.find_element(By.ID, \"password\").send_keys(\"Password123\")\n",
    "\n",
    "#Step-4: Click Submit\n",
    "driver.find_element(By.ID, \"submit\").click()\n",
    "\n",
    "time.sleep(2)  # Wait for page to load\n",
    "\n",
    "#Step-5: Verify new URL\n",
    "assert \"logged-in-successfully\" in driver.current_url, \"URL verification failed\"\n",
    "\n",
    "#Step-6: Verify success message text\n",
    "page_text = driver.find_element(By.TAG_NAME, \"body\").text\n",
    "assert \"Congratulations\" in page_text or \"successfully logged in\" in page_text, \"Login message not found\"\n",
    "\n",
    "#Step-7: Verify Logout button is displayed\n",
    "logout_btn = driver.find_element(By.XPATH, '//*[@id=\"loop-container\"]/div/article/div[2]/div/div/div/a')\n",
    "#XPATH ---> If there's no link, ID, CSS Selector or class name, go to inspect, click logout, right click, copy, copy XPATH\n",
    "\n",
    "assert logout_btn.is_displayed(), \"Logout button is not displayed\"\n",
    "logout_btn.send_keys(Keys.ENTER)\n",
    "\n",
    "print(\"✅ Positive login test passed successfully!\")\n",
    "time.sleep(5)\n",
    "\n",
    "#Optional: Close browser\n",
    "driver.quit()"
   ]
  },
  {
   "cell_type": "code",
   "execution_count": 34,
   "id": "5612363e",
   "metadata": {},
   "outputs": [
    {
     "ename": "NoSuchElementException",
     "evalue": "Message: no such element: Unable to locate element: {\"method\":\"css selector\",\"selector\":\"[id=\"SignInBtn\"]\"}\n  (Session info: chrome=135.0.7049.86); For documentation on this error, please visit: https://www.selenium.dev/documentation/webdriver/troubleshooting/errors#no-such-element-exception\nStacktrace:\n\tGetHandleVerifier [0x00007FF74A885355+78597]\n\tGetHandleVerifier [0x00007FF74A8853B0+78688]\n\t(No symbol) [0x00007FF74A6391AA]\n\t(No symbol) [0x00007FF74A68F149]\n\t(No symbol) [0x00007FF74A68F3FC]\n\t(No symbol) [0x00007FF74A6E2467]\n\t(No symbol) [0x00007FF74A6B712F]\n\t(No symbol) [0x00007FF74A6DF2BB]\n\t(No symbol) [0x00007FF74A6B6EC3]\n\t(No symbol) [0x00007FF74A6803F8]\n\t(No symbol) [0x00007FF74A681163]\n\tGetHandleVerifier [0x00007FF74AB2EF0D+2870973]\n\tGetHandleVerifier [0x00007FF74AB296B8+2848360]\n\tGetHandleVerifier [0x00007FF74AB46993+2967875]\n\tGetHandleVerifier [0x00007FF74A8A019A+188746]\n\tGetHandleVerifier [0x00007FF74A8A847F+222255]\n\tGetHandleVerifier [0x00007FF74A88D2D4+111236]\n\tGetHandleVerifier [0x00007FF74A88D482+111666]\n\tGetHandleVerifier [0x00007FF74A8735A9+5465]\n\tBaseThreadInitThunk [0x00007FF843557374+20]\n\tRtlUserThreadStart [0x00007FF84525CC91+33]\n",
     "output_type": "error",
     "traceback": [
      "\u001b[31m---------------------------------------------------------------------------\u001b[39m",
      "\u001b[31mNoSuchElementException\u001b[39m                    Traceback (most recent call last)",
      "\u001b[36mCell\u001b[39m\u001b[36m \u001b[39m\u001b[32mIn[34]\u001b[39m\u001b[32m, line 26\u001b[39m\n\u001b[32m     24\u001b[39m login_page.enter_username(\u001b[33m\"\u001b[39m\u001b[33mrahulshettyacademy\u001b[39m\u001b[33m\"\u001b[39m)\n\u001b[32m     25\u001b[39m login_page.enter_password(\u001b[33m\"\u001b[39m\u001b[33mpassword123\u001b[39m\u001b[33m\"\u001b[39m)\n\u001b[32m---> \u001b[39m\u001b[32m26\u001b[39m \u001b[43mlogin_page\u001b[49m\u001b[43m.\u001b[49m\u001b[43mclick_login\u001b[49m\u001b[43m(\u001b[49m\u001b[43m)\u001b[49m\n\u001b[32m     28\u001b[39m driver.quit()\n",
      "\u001b[36mFile \u001b[39m\u001b[32mc:\\Users\\gauri.jindal\\Python\\Selenium\\login.py:17\u001b[39m, in \u001b[36mLoginPage.click_login\u001b[39m\u001b[34m(self)\u001b[39m\n\u001b[32m     16\u001b[39m \u001b[38;5;28;01mdef\u001b[39;00m\u001b[38;5;250m \u001b[39m\u001b[34mclick_login\u001b[39m(\u001b[38;5;28mself\u001b[39m):\n\u001b[32m---> \u001b[39m\u001b[32m17\u001b[39m     \u001b[38;5;28;43mself\u001b[39;49m\u001b[43m.\u001b[49m\u001b[43mdriver\u001b[49m\u001b[43m.\u001b[49m\u001b[43mfind_element\u001b[49m\u001b[43m(\u001b[49m\u001b[43m*\u001b[49m\u001b[38;5;28;43mself\u001b[39;49m\u001b[43m.\u001b[49m\u001b[43mlogin_button\u001b[49m\u001b[43m)\u001b[49m.click()\n",
      "\u001b[36mFile \u001b[39m\u001b[32m~\\AppData\\Roaming\\Python\\Python312\\site-packages\\selenium\\webdriver\\remote\\webdriver.py:898\u001b[39m, in \u001b[36mWebDriver.find_element\u001b[39m\u001b[34m(self, by, value)\u001b[39m\n\u001b[32m    895\u001b[39m         \u001b[38;5;28;01mraise\u001b[39;00m NoSuchElementException(\u001b[33mf\u001b[39m\u001b[33m\"\u001b[39m\u001b[33mCannot locate relative element with: \u001b[39m\u001b[38;5;132;01m{\u001b[39;00mby.root\u001b[38;5;132;01m}\u001b[39;00m\u001b[33m\"\u001b[39m)\n\u001b[32m    896\u001b[39m     \u001b[38;5;28;01mreturn\u001b[39;00m elements[\u001b[32m0\u001b[39m]\n\u001b[32m--> \u001b[39m\u001b[32m898\u001b[39m \u001b[38;5;28;01mreturn\u001b[39;00m \u001b[38;5;28;43mself\u001b[39;49m\u001b[43m.\u001b[49m\u001b[43mexecute\u001b[49m\u001b[43m(\u001b[49m\u001b[43mCommand\u001b[49m\u001b[43m.\u001b[49m\u001b[43mFIND_ELEMENT\u001b[49m\u001b[43m,\u001b[49m\u001b[43m \u001b[49m\u001b[43m{\u001b[49m\u001b[33;43m\"\u001b[39;49m\u001b[33;43musing\u001b[39;49m\u001b[33;43m\"\u001b[39;49m\u001b[43m:\u001b[49m\u001b[43m \u001b[49m\u001b[43mby\u001b[49m\u001b[43m,\u001b[49m\u001b[43m \u001b[49m\u001b[33;43m\"\u001b[39;49m\u001b[33;43mvalue\u001b[39;49m\u001b[33;43m\"\u001b[39;49m\u001b[43m:\u001b[49m\u001b[43m \u001b[49m\u001b[43mvalue\u001b[49m\u001b[43m}\u001b[49m\u001b[43m)\u001b[49m[\u001b[33m\"\u001b[39m\u001b[33mvalue\u001b[39m\u001b[33m\"\u001b[39m]\n",
      "\u001b[36mFile \u001b[39m\u001b[32m~\\AppData\\Roaming\\Python\\Python312\\site-packages\\selenium\\webdriver\\remote\\webdriver.py:429\u001b[39m, in \u001b[36mWebDriver.execute\u001b[39m\u001b[34m(self, driver_command, params)\u001b[39m\n\u001b[32m    427\u001b[39m response = \u001b[38;5;28mself\u001b[39m.command_executor.execute(driver_command, params)\n\u001b[32m    428\u001b[39m \u001b[38;5;28;01mif\u001b[39;00m response:\n\u001b[32m--> \u001b[39m\u001b[32m429\u001b[39m     \u001b[38;5;28;43mself\u001b[39;49m\u001b[43m.\u001b[49m\u001b[43merror_handler\u001b[49m\u001b[43m.\u001b[49m\u001b[43mcheck_response\u001b[49m\u001b[43m(\u001b[49m\u001b[43mresponse\u001b[49m\u001b[43m)\u001b[49m\n\u001b[32m    430\u001b[39m     response[\u001b[33m\"\u001b[39m\u001b[33mvalue\u001b[39m\u001b[33m\"\u001b[39m] = \u001b[38;5;28mself\u001b[39m._unwrap_value(response.get(\u001b[33m\"\u001b[39m\u001b[33mvalue\u001b[39m\u001b[33m\"\u001b[39m, \u001b[38;5;28;01mNone\u001b[39;00m))\n\u001b[32m    431\u001b[39m     \u001b[38;5;28;01mreturn\u001b[39;00m response\n",
      "\u001b[36mFile \u001b[39m\u001b[32m~\\AppData\\Roaming\\Python\\Python312\\site-packages\\selenium\\webdriver\\remote\\errorhandler.py:232\u001b[39m, in \u001b[36mErrorHandler.check_response\u001b[39m\u001b[34m(self, response)\u001b[39m\n\u001b[32m    230\u001b[39m         alert_text = value[\u001b[33m\"\u001b[39m\u001b[33malert\u001b[39m\u001b[33m\"\u001b[39m].get(\u001b[33m\"\u001b[39m\u001b[33mtext\u001b[39m\u001b[33m\"\u001b[39m)\n\u001b[32m    231\u001b[39m     \u001b[38;5;28;01mraise\u001b[39;00m exception_class(message, screen, stacktrace, alert_text)  \u001b[38;5;66;03m# type: ignore[call-arg]  # mypy is not smart enough here\u001b[39;00m\n\u001b[32m--> \u001b[39m\u001b[32m232\u001b[39m \u001b[38;5;28;01mraise\u001b[39;00m exception_class(message, screen, stacktrace)\n",
      "\u001b[31mNoSuchElementException\u001b[39m: Message: no such element: Unable to locate element: {\"method\":\"css selector\",\"selector\":\"[id=\"SignInBtn\"]\"}\n  (Session info: chrome=135.0.7049.86); For documentation on this error, please visit: https://www.selenium.dev/documentation/webdriver/troubleshooting/errors#no-such-element-exception\nStacktrace:\n\tGetHandleVerifier [0x00007FF74A885355+78597]\n\tGetHandleVerifier [0x00007FF74A8853B0+78688]\n\t(No symbol) [0x00007FF74A6391AA]\n\t(No symbol) [0x00007FF74A68F149]\n\t(No symbol) [0x00007FF74A68F3FC]\n\t(No symbol) [0x00007FF74A6E2467]\n\t(No symbol) [0x00007FF74A6B712F]\n\t(No symbol) [0x00007FF74A6DF2BB]\n\t(No symbol) [0x00007FF74A6B6EC3]\n\t(No symbol) [0x00007FF74A6803F8]\n\t(No symbol) [0x00007FF74A681163]\n\tGetHandleVerifier [0x00007FF74AB2EF0D+2870973]\n\tGetHandleVerifier [0x00007FF74AB296B8+2848360]\n\tGetHandleVerifier [0x00007FF74AB46993+2967875]\n\tGetHandleVerifier [0x00007FF74A8A019A+188746]\n\tGetHandleVerifier [0x00007FF74A8A847F+222255]\n\tGetHandleVerifier [0x00007FF74A88D2D4+111236]\n\tGetHandleVerifier [0x00007FF74A88D482+111666]\n\tGetHandleVerifier [0x00007FF74A8735A9+5465]\n\tBaseThreadInitThunk [0x00007FF843557374+20]\n\tRtlUserThreadStart [0x00007FF84525CC91+33]\n"
     ]
    }
   ],
   "source": [
    "from selenium import webdriver\n",
    "from selenium.webdriver.chrome.service import Service\n",
    "from login import LoginPage\n",
    "\n",
    "\n",
    "#chrome_driver_path = \"C:\\development\\chromedriver.exe\"  # Ensure double backslashes\n",
    "# service=Service(executable_path=\"chromedriver.exe\")\n",
    "# driver = webdriver.Chrome(service=service)'\n",
    "\n",
    "driver = webdriver.Chrome()\n",
    "\n",
    "\n",
    "# from webdriver_manager.chrome import ChromeDriverManager\n",
    "#\n",
    "# driver = webdriver.Chrome(ChromeDriverManager().install())\n",
    "\n",
    "# chrome_driver_path=\"C:\\development\\chromedriver.exe\"\n",
    "#\n",
    "# driver=webdriver.Chrome()\n",
    "\n",
    "driver.get(\"https://rahulshettyacademy.com/loginpagePractise/\")\n",
    "\n",
    "login_page = LoginPage(driver)\n",
    "login_page.enter_username(\"rahulshettyacademy\")\n",
    "login_page.enter_password(\"password123\")\n",
    "login_page.click_login()\n",
    "\n",
    "driver.quit()"
   ]
  },
  {
   "cell_type": "code",
   "execution_count": null,
   "id": "f63b5162",
   "metadata": {},
   "outputs": [],
   "source": []
  }
 ],
 "metadata": {
  "kernelspec": {
   "display_name": "Python 3",
   "language": "python",
   "name": "python3"
  },
  "language_info": {
   "codemirror_mode": {
    "name": "ipython",
    "version": 3
   },
   "file_extension": ".py",
   "mimetype": "text/x-python",
   "name": "python",
   "nbconvert_exporter": "python",
   "pygments_lexer": "ipython3",
   "version": "3.12.3"
  }
 },
 "nbformat": 4,
 "nbformat_minor": 5
}
