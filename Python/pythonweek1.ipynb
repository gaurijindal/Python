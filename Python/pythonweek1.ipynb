{
 "cells": [
  {
   "cell_type": "markdown",
   "metadata": {},
   "source": [
    "# PYTHON DAY 1"
   ]
  },
  {
   "cell_type": "code",
   "execution_count": 1,
   "metadata": {},
   "outputs": [
    {
     "name": "stdout",
     "output_type": "stream",
     "text": [
      "Hello World\n"
     ]
    }
   ],
   "source": [
    "print(\"Hello World\")"
   ]
  },
  {
   "cell_type": "code",
   "execution_count": 2,
   "metadata": {},
   "outputs": [
    {
     "name": "stdout",
     "output_type": "stream",
     "text": [
      "Hello!\n"
     ]
    }
   ],
   "source": [
    "print(\"Hello!\")"
   ]
  },
  {
   "cell_type": "code",
   "execution_count": null,
   "metadata": {},
   "outputs": [],
   "source": [
    "a = input()\n",
    "123"
   ]
  },
  {
   "cell_type": "code",
   "execution_count": null,
   "metadata": {},
   "outputs": [
    {
     "name": "stdout",
     "output_type": "stream",
     "text": [
      "(1, 2, 3, 5)\n"
     ]
    }
   ],
   "source": [
    "a= 1, 2, 3, 5 #pack\n",
    "print(a)"
   ]
  },
  {
   "cell_type": "code",
   "execution_count": null,
   "metadata": {},
   "outputs": [
    {
     "name": "stdout",
     "output_type": "stream",
     "text": [
      "('abc', 10, 12.5)\n"
     ]
    }
   ],
   "source": [
    "data='abc', 10, 12.5\n",
    "print(data)"
   ]
  },
  {
   "cell_type": "code",
   "execution_count": null,
   "metadata": {},
   "outputs": [
    {
     "name": "stdout",
     "output_type": "stream",
     "text": [
      "abc\n",
      "10\n",
      "12.5\n"
     ]
    }
   ],
   "source": [
    "name, age, wei = data\n",
    "print(name)\n",
    "print(age)\n",
    "print(wei)\n"
   ]
  },
  {
   "cell_type": "code",
   "execution_count": null,
   "metadata": {},
   "outputs": [
    {
     "name": "stdout",
     "output_type": "stream",
     "text": [
      "<class 'float'>\n"
     ]
    }
   ],
   "source": [
    "age = 14\n",
    "print(type(wei))"
   ]
  },
  {
   "cell_type": "code",
   "execution_count": null,
   "metadata": {},
   "outputs": [
    {
     "name": "stdout",
     "output_type": "stream",
     "text": [
      "14\n"
     ]
    }
   ],
   "source": [
    "s=str(a)\n",
    "print(str(age))"
   ]
  },
  {
   "cell_type": "code",
   "execution_count": null,
   "metadata": {},
   "outputs": [
    {
     "name": "stdout",
     "output_type": "stream",
     "text": [
      "<class 'str'>\n"
     ]
    }
   ],
   "source": [
    "s=str(a)\n",
    "print(type(s))"
   ]
  },
  {
   "cell_type": "code",
   "execution_count": null,
   "metadata": {},
   "outputs": [
    {
     "data": {
      "text/plain": [
       "str"
      ]
     },
     "execution_count": 9,
     "metadata": {},
     "output_type": "execute_result"
    }
   ],
   "source": [
    "s = str(a)\n",
    "type(s)"
   ]
  },
  {
   "cell_type": "code",
   "execution_count": null,
   "metadata": {},
   "outputs": [
    {
     "data": {
      "text/plain": [
       "float"
      ]
     },
     "execution_count": 10,
     "metadata": {},
     "output_type": "execute_result"
    }
   ],
   "source": [
    "type(wei)"
   ]
  },
  {
   "cell_type": "code",
   "execution_count": null,
   "metadata": {},
   "outputs": [],
   "source": [
    "f=int(wei) #converting float to int"
   ]
  },
  {
   "cell_type": "code",
   "execution_count": null,
   "metadata": {},
   "outputs": [
    {
     "name": "stdout",
     "output_type": "stream",
     "text": [
      "12\n"
     ]
    }
   ],
   "source": [
    "print(f)"
   ]
  },
  {
   "cell_type": "code",
   "execution_count": null,
   "metadata": {},
   "outputs": [
    {
     "name": "stdout",
     "output_type": "stream",
     "text": [
      "('abc', 10, 12.5)\n"
     ]
    }
   ],
   "source": [
    "print(data)"
   ]
  },
  {
   "cell_type": "code",
   "execution_count": null,
   "metadata": {},
   "outputs": [
    {
     "name": "stdout",
     "output_type": "stream",
     "text": [
      "1 2 3 4 5\n"
     ]
    }
   ],
   "source": [
    "print(1,2,3,4,5)"
   ]
  },
  {
   "cell_type": "code",
   "execution_count": null,
   "metadata": {},
   "outputs": [
    {
     "name": "stdout",
     "output_type": "stream",
     "text": [
      "1/2/3/4/5\n"
     ]
    }
   ],
   "source": [
    "print(1,2,3,4,5, sep=\"/\")"
   ]
  },
  {
   "cell_type": "code",
   "execution_count": null,
   "metadata": {},
   "outputs": [
    {
     "name": "stdout",
     "output_type": "stream",
     "text": [
      "Hello\n",
      "World\n"
     ]
    }
   ],
   "source": [
    "print(\"Hello\")\n",
    "print(\"World\")"
   ]
  },
  {
   "cell_type": "code",
   "execution_count": null,
   "metadata": {},
   "outputs": [
    {
     "name": "stdout",
     "output_type": "stream",
     "text": [
      "Hello!World\n"
     ]
    }
   ],
   "source": [
    "print(\"Hello\", end=\"!\")\n",
    "print(\"World\")"
   ]
  },
  {
   "cell_type": "code",
   "execution_count": null,
   "metadata": {},
   "outputs": [
    {
     "name": "stdout",
     "output_type": "stream",
     "text": [
      "5\n"
     ]
    }
   ],
   "source": [
    "#OPERATORS\n",
    "\n",
    "#Arithematic + - * / % // (returns int) ** (power)\n",
    "\n",
    "a = 10\n",
    "b = 2\n",
    "\n",
    "print(a//b)"
   ]
  },
  {
   "cell_type": "code",
   "execution_count": null,
   "metadata": {},
   "outputs": [
    {
     "name": "stdout",
     "output_type": "stream",
     "text": [
      "3\n"
     ]
    }
   ],
   "source": [
    "a = 10\n",
    "b = 3\n",
    "print(a//b)"
   ]
  },
  {
   "cell_type": "code",
   "execution_count": null,
   "metadata": {},
   "outputs": [
    {
     "name": "stdout",
     "output_type": "stream",
     "text": [
      "1010101010\n"
     ]
    }
   ],
   "source": [
    "a = \"10\"\n",
    "print(a*5)"
   ]
  },
  {
   "cell_type": "code",
   "execution_count": null,
   "metadata": {},
   "outputs": [
    {
     "name": "stdout",
     "output_type": "stream",
     "text": [
      "50\n"
     ]
    }
   ],
   "source": [
    "a  = 10\n",
    "print(a*5)"
   ]
  },
  {
   "cell_type": "code",
   "execution_count": null,
   "metadata": {},
   "outputs": [
    {
     "name": "stdout",
     "output_type": "stream",
     "text": [
      "x > y is False\n",
      "True\n",
      "False\n",
      "True\n",
      "False\n",
      "True\n"
     ]
    }
   ],
   "source": [
    "x = 10\n",
    "y = 12\n",
    "\n",
    "print(\"x > y is\", x > y)\n",
    "print(x<y)\n",
    "print(x==y)\n",
    "print(x!=y)\n",
    "print(x>=y)\n",
    "print(x<=y)\n"
   ]
  },
  {
   "cell_type": "code",
   "execution_count": null,
   "metadata": {},
   "outputs": [
    {
     "name": "stdout",
     "output_type": "stream",
     "text": [
      "x and y is False\n",
      "x or y is True\n",
      "not y is True\n"
     ]
    }
   ],
   "source": [
    "x = True\n",
    "y = False\n",
    "print(\"x and y is\", x and y)\n",
    "print(\"x or y is\", x or y)\n",
    "print(\"not y is\", not y)"
   ]
  },
  {
   "cell_type": "code",
   "execution_count": null,
   "metadata": {},
   "outputs": [
    {
     "name": "stdout",
     "output_type": "stream",
     "text": [
      "abc is studying in 8th\n"
     ]
    }
   ],
   "source": [
    "name = \"abc\"\n",
    "std = \"8th\"\n",
    "print(name, \"is studying in\", std)"
   ]
  },
  {
   "cell_type": "code",
   "execution_count": null,
   "metadata": {},
   "outputs": [
    {
     "name": "stdout",
     "output_type": "stream",
     "text": [
      "abc is studying in 8th\n"
     ]
    }
   ],
   "source": [
    "print(f'{name} is studying in {std}')"
   ]
  },
  {
   "cell_type": "code",
   "execution_count": null,
   "metadata": {},
   "outputs": [
    {
     "name": "stdout",
     "output_type": "stream",
     "text": [
      "abc's parent\n"
     ]
    }
   ],
   "source": [
    "print(\"abc's parent\")"
   ]
  },
  {
   "cell_type": "code",
   "execution_count": null,
   "metadata": {},
   "outputs": [],
   "source": [
    "#formula\n",
    "#conversion\n",
    "#simple interest\n",
    "#compound interest"
   ]
  },
  {
   "cell_type": "code",
   "execution_count": null,
   "metadata": {},
   "outputs": [
    {
     "name": "stdout",
     "output_type": "stream",
     "text": [
      "The area of the parallellogram is: 1250\n"
     ]
    }
   ],
   "source": [
    "base = 25\n",
    "height = 50\n",
    "print(\"The area of the parallellogram is:\", base*height)"
   ]
  },
  {
   "cell_type": "code",
   "execution_count": null,
   "metadata": {},
   "outputs": [
    {
     "name": "stdout",
     "output_type": "stream",
     "text": [
      "The area of the circle is: 78.5\n"
     ]
    }
   ],
   "source": [
    "r = 5\n",
    "print(\"The area of the circle is:\", 3.14*(r**2))"
   ]
  },
  {
   "cell_type": "code",
   "execution_count": null,
   "metadata": {},
   "outputs": [
    {
     "name": "stdout",
     "output_type": "stream",
     "text": [
      "0C is 32.0F\n"
     ]
    }
   ],
   "source": [
    "celcius = 0\n",
    "ferenheit = (celcius * 9/5) + 32\n",
    "print(f'{celcius}C is {ferenheit}F')"
   ]
  },
  {
   "cell_type": "code",
   "execution_count": null,
   "metadata": {},
   "outputs": [
    {
     "name": "stdout",
     "output_type": "stream",
     "text": [
      "Principle 1000 amounts to 1200.0 at a rate of 10% in 2 years\n"
     ]
    }
   ],
   "source": [
    "P = 1000\n",
    "R = 10\n",
    "T = 2\n",
    "SI = P*R*T/100\n",
    "A = P+SI\n",
    "print(f'Principle {P} amounts to {A} at a rate of {R}% in {T} years')"
   ]
  },
  {
   "cell_type": "code",
   "execution_count": null,
   "metadata": {},
   "outputs": [
    {
     "name": "stdout",
     "output_type": "stream",
     "text": [
      "2604.374999999999\n"
     ]
    }
   ],
   "source": [
    "p = 5000\n",
    "r = 15\n",
    "t= 3\n",
    "a=p*((1+r/100)**t)\n",
    "c=a-p\n",
    "print(c)"
   ]
  },
  {
   "cell_type": "code",
   "execution_count": null,
   "metadata": {},
   "outputs": [],
   "source": [
    "a = 10\n",
    "a += 5  # a = a + 5"
   ]
  },
  {
   "cell_type": "code",
   "execution_count": null,
   "metadata": {},
   "outputs": [
    {
     "data": {
      "text/plain": [
       "65"
      ]
     },
     "execution_count": 34,
     "metadata": {},
     "output_type": "execute_result"
    }
   ],
   "source": [
    "ord('A') #ASCII Value"
   ]
  },
  {
   "cell_type": "code",
   "execution_count": null,
   "metadata": {},
   "outputs": [
    {
     "data": {
      "text/plain": [
       "'0b1000001'"
      ]
     },
     "execution_count": 35,
     "metadata": {},
     "output_type": "execute_result"
    }
   ],
   "source": [
    "bin(65) #Binary string as a binary value"
   ]
  },
  {
   "cell_type": "code",
   "execution_count": null,
   "metadata": {},
   "outputs": [
    {
     "data": {
      "text/plain": [
       "'A'"
      ]
     },
     "execution_count": 36,
     "metadata": {},
     "output_type": "execute_result"
    }
   ],
   "source": [
    "chr(65) # Character of the ASCII Value"
   ]
  },
  {
   "cell_type": "code",
   "execution_count": null,
   "metadata": {},
   "outputs": [
    {
     "data": {
      "text/plain": [
       "'One Hundred And One100'"
      ]
     },
     "execution_count": 37,
     "metadata": {},
     "output_type": "execute_result"
    }
   ],
   "source": [
    "n = 101\n",
    "s = 'One Hundred And One'\n",
    "\n",
    "s1 = \"100\"\n",
    "\n",
    "s+s1"
   ]
  },
  {
   "cell_type": "code",
   "execution_count": null,
   "metadata": {},
   "outputs": [
    {
     "data": {
      "text/plain": [
       "'enO dnA derdnuH enO'"
      ]
     },
     "execution_count": 38,
     "metadata": {},
     "output_type": "execute_result"
    }
   ],
   "source": [
    "s[::-1]"
   ]
  },
  {
   "cell_type": "code",
   "execution_count": null,
   "metadata": {},
   "outputs": [
    {
     "data": {
      "text/plain": [
       "' Hund'"
      ]
     },
     "execution_count": 39,
     "metadata": {},
     "output_type": "execute_result"
    }
   ],
   "source": [
    "s[3:8]"
   ]
  },
  {
   "cell_type": "code",
   "execution_count": null,
   "metadata": {},
   "outputs": [
    {
     "data": {
      "text/plain": [
       "'O'"
      ]
     },
     "execution_count": 40,
     "metadata": {},
     "output_type": "execute_result"
    }
   ],
   "source": [
    "s[0:3:9]"
   ]
  },
  {
   "cell_type": "code",
   "execution_count": null,
   "metadata": {},
   "outputs": [
    {
     "data": {
      "text/plain": [
       "19"
      ]
     },
     "execution_count": 41,
     "metadata": {},
     "output_type": "execute_result"
    }
   ],
   "source": [
    "len(s)"
   ]
  },
  {
   "cell_type": "code",
   "execution_count": null,
   "metadata": {},
   "outputs": [
    {
     "data": {
      "text/plain": [
       "'One Hundred And One'"
      ]
     },
     "execution_count": 42,
     "metadata": {},
     "output_type": "execute_result"
    }
   ],
   "source": [
    "s[:len(s)]"
   ]
  },
  {
   "cell_type": "code",
   "execution_count": null,
   "metadata": {},
   "outputs": [
    {
     "name": "stdout",
     "output_type": "stream",
     "text": [
      "11\n"
     ]
    }
   ],
   "source": [
    "A=\"Corporation\"\n",
    "print(len(A))"
   ]
  },
  {
   "cell_type": "code",
   "execution_count": null,
   "metadata": {},
   "outputs": [
    {
     "name": "stdout",
     "output_type": "stream",
     "text": [
      "Chennai\n"
     ]
    }
   ],
   "source": [
    "city=\"chennai\"\n",
    "print(city.capitalize())"
   ]
  },
  {
   "cell_type": "code",
   "execution_count": null,
   "metadata": {},
   "outputs": [
    {
     "name": "stdout",
     "output_type": "stream",
     "text": [
      "****Welcome****\n"
     ]
    }
   ],
   "source": [
    "str=\"Welcome\"\n",
    "print(str.center(15,'*'))"
   ]
  },
  {
   "cell_type": "code",
   "execution_count": null,
   "metadata": {},
   "outputs": [
    {
     "data": {
      "text/plain": [
       "0"
      ]
     },
     "execution_count": 46,
     "metadata": {},
     "output_type": "execute_result"
    }
   ],
   "source": [
    "str = \"mammals\"\n",
    "str.find('ma')"
   ]
  },
  {
   "cell_type": "code",
   "execution_count": null,
   "metadata": {},
   "outputs": [
    {
     "data": {
      "text/plain": [
       "3"
      ]
     },
     "execution_count": 47,
     "metadata": {},
     "output_type": "execute_result"
    }
   ],
   "source": [
    "str = \"mammals\"\n",
    "str.find('ma',2)"
   ]
  },
  {
   "cell_type": "code",
   "execution_count": null,
   "metadata": {},
   "outputs": [
    {
     "data": {
      "text/plain": [
       "-1"
      ]
     },
     "execution_count": 48,
     "metadata": {},
     "output_type": "execute_result"
    }
   ],
   "source": [
    "str = \"mammals\"\n",
    "str.find('ma',2,4)"
   ]
  },
  {
   "cell_type": "code",
   "execution_count": null,
   "metadata": {},
   "outputs": [
    {
     "data": {
      "text/plain": [
       "False"
      ]
     },
     "execution_count": 49,
     "metadata": {},
     "output_type": "execute_result"
    }
   ],
   "source": [
    "\"One\" not in s"
   ]
  },
  {
   "cell_type": "code",
   "execution_count": null,
   "metadata": {},
   "outputs": [
    {
     "name": "stderr",
     "output_type": "stream",
     "text": [
      "<>:1: SyntaxWarning: \"is\" with 'str' literal. Did you mean \"==\"?\n",
      "<>:1: SyntaxWarning: \"is\" with 'str' literal. Did you mean \"==\"?\n",
      "C:\\Users\\gauri.jindal\\AppData\\Local\\Temp\\ipykernel_16732\\880638850.py:1: SyntaxWarning: \"is\" with 'str' literal. Did you mean \"==\"?\n",
      "  \"One\" is s\n"
     ]
    },
    {
     "data": {
      "text/plain": [
       "False"
      ]
     },
     "execution_count": 50,
     "metadata": {},
     "output_type": "execute_result"
    }
   ],
   "source": [
    "\"One\" is s"
   ]
  },
  {
   "cell_type": "code",
   "execution_count": null,
   "metadata": {},
   "outputs": [
    {
     "data": {
      "text/plain": [
       "True"
      ]
     },
     "execution_count": 51,
     "metadata": {},
     "output_type": "execute_result"
    }
   ],
   "source": [
    "\"One\" in s"
   ]
  },
  {
   "cell_type": "code",
   "execution_count": null,
   "metadata": {},
   "outputs": [
    {
     "name": "stdout",
     "output_type": "stream",
     "text": [
      "True\n"
     ]
    }
   ],
   "source": [
    "n=5\n",
    "m=10\n",
    "print(n is n)"
   ]
  },
  {
   "cell_type": "code",
   "execution_count": null,
   "metadata": {},
   "outputs": [
    {
     "data": {
      "text/plain": [
       "True"
      ]
     },
     "execution_count": 53,
     "metadata": {},
     "output_type": "execute_result"
    }
   ],
   "source": [
    "n=10\n",
    "m=10\n",
    "n is m\n"
   ]
  },
  {
   "cell_type": "code",
   "execution_count": null,
   "metadata": {},
   "outputs": [
    {
     "data": {
      "text/plain": [
       "False"
      ]
     },
     "execution_count": 54,
     "metadata": {},
     "output_type": "execute_result"
    }
   ],
   "source": [
    "n is not m"
   ]
  },
  {
   "cell_type": "code",
   "execution_count": null,
   "metadata": {},
   "outputs": [
    {
     "data": {
      "text/plain": [
       "True"
      ]
     },
     "execution_count": 55,
     "metadata": {},
     "output_type": "execute_result"
    }
   ],
   "source": [
    "n is m"
   ]
  },
  {
   "cell_type": "code",
   "execution_count": null,
   "metadata": {},
   "outputs": [
    {
     "name": "stdout",
     "output_type": "stream",
     "text": [
      "0\n",
      "13\n",
      "13\n",
      "-9\n",
      "-6\n"
     ]
    }
   ],
   "source": [
    "#bitwise operator\n",
    "a = 8\n",
    "b = 5\n",
    "print(a&b)\n",
    "print(a|b)\n",
    "print(a^b)\n",
    "print(~a)\n",
    "print(~b)\n"
   ]
  },
  {
   "cell_type": "code",
   "execution_count": null,
   "metadata": {},
   "outputs": [
    {
     "name": "stdout",
     "output_type": "stream",
     "text": [
      "4\n"
     ]
    }
   ],
   "source": [
    "print(a ^ b)"
   ]
  },
  {
   "cell_type": "code",
   "execution_count": null,
   "metadata": {},
   "outputs": [
    {
     "name": "stdout",
     "output_type": "stream",
     "text": [
      "4\n"
     ]
    }
   ],
   "source": [
    "a = 3\n",
    "b = 7\n",
    "print(a ^ b)"
   ]
  },
  {
   "cell_type": "code",
   "execution_count": null,
   "metadata": {},
   "outputs": [
    {
     "name": "stdout",
     "output_type": "stream",
     "text": [
      "15\n"
     ]
    }
   ],
   "source": [
    "a = 6\n",
    "b = 9\n",
    "print(a ^ b)"
   ]
  },
  {
   "cell_type": "code",
   "execution_count": null,
   "metadata": {},
   "outputs": [
    {
     "data": {
      "text/plain": [
       "complex"
      ]
     },
     "execution_count": 18,
     "metadata": {},
     "output_type": "execute_result"
    }
   ],
   "source": [
    "a = 3 +4j\n",
    "type(a)"
   ]
  },
  {
   "cell_type": "code",
   "execution_count": null,
   "metadata": {},
   "outputs": [
    {
     "name": "stdout",
     "output_type": "stream",
     "text": [
      "123498765\n"
     ]
    }
   ],
   "source": [
    "# Input: '123456789'\n",
    "# Output: '123498765'\n",
    "\n",
    "str = '123456789'\n",
    "s3 = str[4:9]\n",
    "print(str[0:4] + s3[::-1])"
   ]
  },
  {
   "cell_type": "code",
   "execution_count": null,
   "metadata": {},
   "outputs": [
    {
     "name": "stdout",
     "output_type": "stream",
     "text": [
      "50 is greater than 10\n",
      "Hello!\n"
     ]
    }
   ],
   "source": [
    "#CONDITIONAL STATEMENTS\n",
    "\n",
    "a = 50\n",
    "b = 10\n",
    "if a < b:\n",
    "    print(f'{b} is greater than {a}.')\n",
    "else:\n",
    "    print(f'{a} is greater than {b}')\n",
    "    \n",
    "print(\"Hello!\")"
   ]
  },
  {
   "cell_type": "code",
   "execution_count": null,
   "metadata": {},
   "outputs": [
    {
     "name": "stdout",
     "output_type": "stream",
     "text": [
      "0\n"
     ]
    }
   ],
   "source": [
    "num = 0\n",
    "\n",
    "if num > 0:\n",
    "    print(\"+\")\n",
    "elif num < 0:\n",
    "    print(\"-\")\n",
    "else:\n",
    "    print(\"0\")"
   ]
  },
  {
   "cell_type": "code",
   "execution_count": null,
   "metadata": {},
   "outputs": [],
   "source": [
    "a= 10\n",
    "b = 20\n",
    "c = 30"
   ]
  },
  {
   "cell_type": "code",
   "execution_count": null,
   "metadata": {},
   "outputs": [
    {
     "name": "stdout",
     "output_type": "stream",
     "text": [
      "SI is better.\n"
     ]
    }
   ],
   "source": [
    "p = 8000\n",
    "r = 25\n",
    "t = 4\n",
    "\n",
    "SI = (p*r*t)/100\n",
    "CI = p*(1 + r/100)**t\n",
    "\n",
    "if (SI < CI):\n",
    "    print(\"SI is better.\")\n",
    "else:\n",
    "    print(\"CI is better.\")\n"
   ]
  },
  {
   "cell_type": "code",
   "execution_count": null,
   "metadata": {},
   "outputs": [
    {
     "name": "stdout",
     "output_type": "stream",
     "text": [
      "A is a consonant\n"
     ]
    }
   ],
   "source": [
    "str = 'A'\n",
    "\n",
    "if( str == 'a' or str == 'e' or str == 'i' or str == 'o' or str == 'u'):\n",
    "    print(f'{str} is a vowel')\n",
    "else:\n",
    "    print(f'{str} is a consonant')"
   ]
  },
  {
   "cell_type": "code",
   "execution_count": null,
   "metadata": {},
   "outputs": [
    {
     "name": "stdout",
     "output_type": "stream",
     "text": [
      "Vowel\n"
     ]
    }
   ],
   "source": [
    "s='A'\n",
    "s1='aeiouAEIOU'\n",
    "if(s in s1):\n",
    "    print(\"Vowel\")\n",
    "else:\n",
    "    print(\"Consonant\")"
   ]
  },
  {
   "cell_type": "code",
   "execution_count": null,
   "metadata": {},
   "outputs": [],
   "source": [
    "marks = input(\"enter Marks:\")\n",
    "\n",
    "if(marks.isdigit()):\n",
    "    marks = int(marks)\n",
    "    if marks >= 90:\n",
    "        print(\"A\")\n",
    "    elif marks <= 90 and marks >= 80:\n",
    "        print(\"B\")\n",
    "    elif marks == 80 & marks >= 70:\n",
    "        print(\"C\")\n",
    "    elif marks == 70 & marks >= 75:\n",
    "        print(\"D\")\n",
    "    elif marks == 75 & marks >= 80:\n",
    "        print(\"B\")"
   ]
  },
  {
   "cell_type": "code",
   "execution_count": null,
   "metadata": {},
   "outputs": [
    {
     "data": {
      "text/plain": [
       "range"
      ]
     },
     "execution_count": 70,
     "metadata": {},
     "output_type": "execute_result"
    }
   ],
   "source": [
    "#LOOPS\n",
    "\n",
    "#for _ in range()\n",
    "\n",
    "type(range(5))"
   ]
  },
  {
   "cell_type": "code",
   "execution_count": null,
   "metadata": {},
   "outputs": [
    {
     "name": "stdout",
     "output_type": "stream",
     "text": [
      "HELLO\n",
      "HELLO\n",
      "HELLO\n",
      "HELLO\n",
      "HELLO\n"
     ]
    }
   ],
   "source": [
    "for _ in range(5):\n",
    "    print('HELLO')"
   ]
  },
  {
   "cell_type": "code",
   "execution_count": null,
   "metadata": {},
   "outputs": [
    {
     "name": "stdout",
     "output_type": "stream",
     "text": [
      "0 Hello\n",
      "1 Hello\n",
      "2 Hello\n",
      "3 Hello\n",
      "4 Hello\n",
      "5 Hello\n",
      "6 Hello\n",
      "7 Hello\n",
      "8 Hello\n",
      "9 Hello\n"
     ]
    }
   ],
   "source": [
    "for i in range(10):\n",
    "    print(i, \"Hello\")"
   ]
  },
  {
   "cell_type": "code",
   "execution_count": null,
   "metadata": {},
   "outputs": [
    {
     "name": "stdout",
     "output_type": "stream",
     "text": [
      " 5 * 1 = 5\n",
      " 5 * 2 = 10\n",
      " 5 * 3 = 15\n",
      " 5 * 4 = 20\n",
      " 5 * 5 = 25\n",
      " 5 * 6 = 30\n",
      " 5 * 7 = 35\n",
      " 5 * 8 = 40\n",
      " 5 * 9 = 45\n",
      " 5 * 10 = 50\n"
     ]
    }
   ],
   "source": [
    "for i in range(1, 11):\n",
    "    print(f' 5 * {i} = {5*i}')"
   ]
  },
  {
   "cell_type": "code",
   "execution_count": null,
   "metadata": {},
   "outputs": [
    {
     "name": "stdout",
     "output_type": "stream",
     "text": [
      "0 Hello\n",
      "1 Hello\n",
      "2 Hello\n",
      "3 Hello\n",
      "4 Hello\n",
      "End\n"
     ]
    }
   ],
   "source": [
    "for i in range(5):\n",
    "    print(i,\"Hello\")\n",
    "else:\n",
    "    print(\"End\")"
   ]
  },
  {
   "cell_type": "code",
   "execution_count": null,
   "metadata": {},
   "outputs": [
    {
     "name": "stdout",
     "output_type": "stream",
     "text": [
      "H Hello\n",
      "e Hello\n",
      "l Hello\n",
      "l Hello\n",
      "o Hello\n",
      "End\n"
     ]
    }
   ],
   "source": [
    "for i in \"Hello\":\n",
    "    print(i,\"Hello\")\n",
    "else:                      # executed when the for loop returns false\n",
    "    print(\"End\")"
   ]
  },
  {
   "cell_type": "code",
   "execution_count": null,
   "metadata": {},
   "outputs": [
    {
     "name": "stdout",
     "output_type": "stream",
     "text": [
      "3\n"
     ]
    }
   ],
   "source": [
    "strg = input(\"Enter String:\")\n",
    "s1 = 'aeiouAEIOU'\n",
    "count=0\n",
    "for i in strg:\n",
    "    if(i in s1):\n",
    "        count += 1\n",
    "print(count)"
   ]
  },
  {
   "cell_type": "code",
   "execution_count": null,
   "metadata": {},
   "outputs": [
    {
     "name": "stdout",
     "output_type": "stream",
     "text": [
      "2 3 5 7 11 13 17 19 23 29 31 37 41 43 47 \n",
      "15\n"
     ]
    }
   ],
   "source": [
    "# Count the prime numbers from 1 to 50\n",
    "count = 0\n",
    "for i in range(1,50):\n",
    "    if i > 1:\n",
    "        for j in range(2, i):\n",
    "            if(i % j == 0):\n",
    "                break\n",
    "        else:\n",
    "            print(i, end=\" \")\n",
    "            count += 1\n",
    "print()\n",
    "print(count)"
   ]
  },
  {
   "cell_type": "code",
   "execution_count": null,
   "metadata": {},
   "outputs": [
    {
     "name": "stdout",
     "output_type": "stream",
     "text": [
      "It is an armstrong number\n"
     ]
    }
   ],
   "source": [
    "#Armstrong Number\n",
    "n = int(input(\"Enter number : \"))\n",
    "temp = n\n",
    "a=len(str(n))\n",
    "sum = 0\n",
    "while(n > 0):\n",
    "    rem = n % 10\n",
    "    sum+=rem**a\n",
    "    n = n // 10\n",
    "if(temp == sum):\n",
    "    print(\"It is an armstrong number\")\n",
    "else:\n",
    "    print(\"Not an Armstrong Number\")\n"
   ]
  },
  {
   "cell_type": "markdown",
   "metadata": {},
   "source": [
    "# PYTHON DAY 2"
   ]
  },
  {
   "cell_type": "code",
   "execution_count": null,
   "metadata": {},
   "outputs": [],
   "source": [
    "#Array\n",
    "#Data Structures\n",
    "#List - []\n",
    "#Tuple - ()\n",
    "#dict-{key:Value}\n",
    "#set-{}\n"
   ]
  },
  {
   "cell_type": "code",
   "execution_count": 2,
   "metadata": {},
   "outputs": [
    {
     "name": "stdout",
     "output_type": "stream",
     "text": [
      "[1, 3.14, 'str', True, []]\n"
     ]
    }
   ],
   "source": [
    "#list\n",
    "lis=[1,3.14, 'str', True, []]\n",
    "print(lis)"
   ]
  },
  {
   "cell_type": "code",
   "execution_count": 3,
   "metadata": {},
   "outputs": [
    {
     "data": {
      "text/plain": [
       "'str'"
      ]
     },
     "execution_count": 3,
     "metadata": {},
     "output_type": "execute_result"
    }
   ],
   "source": [
    "lis[2]"
   ]
  },
  {
   "cell_type": "code",
   "execution_count": 4,
   "metadata": {},
   "outputs": [
    {
     "data": {
      "text/plain": [
       "[1, 3.14, 'abc', True, []]"
      ]
     },
     "execution_count": 4,
     "metadata": {},
     "output_type": "execute_result"
    }
   ],
   "source": [
    "lis[2] = 'abc'\n",
    "lis"
   ]
  },
  {
   "cell_type": "code",
   "execution_count": 8,
   "metadata": {},
   "outputs": [
    {
     "data": {
      "text/plain": [
       "[130, 140]"
      ]
     },
     "execution_count": 8,
     "metadata": {},
     "output_type": "execute_result"
    }
   ],
   "source": [
    "#Slice\n",
    "l = [100, 120, 130, 140, 130, 110]\n",
    "l[2:4]\n"
   ]
  },
  {
   "cell_type": "code",
   "execution_count": 11,
   "metadata": {},
   "outputs": [
    {
     "name": "stdout",
     "output_type": "stream",
     "text": [
      "[130, 140]\n",
      "140\n",
      "[100, 120, 130, 140, 130, 110]\n",
      "[110, 130, 140, 130, 120, 100]\n",
      "6\n",
      "2\n"
     ]
    }
   ],
   "source": [
    "l = [100, 120, 130, 140, 130, 110]\n",
    "print(l[2:4])\n",
    "print(l[-3])\n",
    "print(l[:])\n",
    "print(l[::-1])\n",
    "print(len(l))\n",
    "print(l.count(130))"
   ]
  },
  {
   "cell_type": "code",
   "execution_count": null,
   "metadata": {},
   "outputs": [
    {
     "name": "stdout",
     "output_type": "stream",
     "text": [
      "vadapalani\n",
      "10\n",
      "6\n",
      "hen\n"
     ]
    }
   ],
   "source": [
    "city=['chennai-vadapalani', 'mumbai', 'delhi']\n",
    "city[0][8:]\n",
    "\n",
    "# 0 Chennai\n",
    "# 1 Mumbai\n",
    "# 2 Delhi\n",
    "\n",
    "print(city[0][8:])\n",
    "print(len(city[0][8:]))\n",
    "print(len(city[1]))\n",
    "print(city[0][1:4])"
   ]
  },
  {
   "cell_type": "code",
   "execution_count": null,
   "metadata": {},
   "outputs": [
    {
     "data": {
      "text/plain": [
       "999"
      ]
     },
     "execution_count": 18,
     "metadata": {},
     "output_type": "execute_result"
    }
   ],
   "source": [
    "li = [[1,2], ['abc', 'xyz', [999, 888]]]\n",
    "li[1][2][0] "
   ]
  },
  {
   "cell_type": "code",
   "execution_count": 19,
   "metadata": {},
   "outputs": [
    {
     "data": {
      "text/plain": [
       "[[1, 2], ['abc', 'xyz', [1000, 888]]]"
      ]
     },
     "execution_count": 19,
     "metadata": {},
     "output_type": "execute_result"
    }
   ],
   "source": [
    "li = [[1,2], ['abc', 'xyz', [999, 888]]]\n",
    "li[1][2][0] = 1000\n",
    "li "
   ]
  },
  {
   "cell_type": "code",
   "execution_count": 30,
   "metadata": {},
   "outputs": [
    {
     "name": "stdout",
     "output_type": "stream",
     "text": [
      "[100, 120, 130, 333, 140, 130, 110, 777]\n",
      "False\n"
     ]
    },
    {
     "data": {
      "text/plain": [
       "7"
      ]
     },
     "execution_count": 30,
     "metadata": {},
     "output_type": "execute_result"
    }
   ],
   "source": [
    "l = [100, 120, 130, 140, 130, 110]\n",
    "l.append(777)\n",
    "l.insert(3,333) #index, value\n",
    "print(l)\n",
    "print(779 in l)\n",
    "num = l.index(777)\n",
    "num"
   ]
  },
  {
   "cell_type": "code",
   "execution_count": 42,
   "metadata": {},
   "outputs": [
    {
     "name": "stdout",
     "output_type": "stream",
     "text": [
      "[100, 120, 130, 130, 110]\n"
     ]
    }
   ],
   "source": [
    "print(l)"
   ]
  },
  {
   "cell_type": "code",
   "execution_count": 43,
   "metadata": {},
   "outputs": [
    {
     "name": "stdout",
     "output_type": "stream",
     "text": [
      "[100, 120, 130, 110]\n",
      "[100, 120, 110]\n",
      "[]\n"
     ]
    }
   ],
   "source": [
    "l.remove(130) # to remove the known value from the list\n",
    "print(l)\n",
    "l.pop(2) #delete the value at an index\n",
    "print(l)\n",
    "\n",
    "#delete\n",
    "l.clear()\n",
    "print(l)"
   ]
  },
  {
   "cell_type": "code",
   "execution_count": 44,
   "metadata": {},
   "outputs": [
    {
     "data": {
      "text/plain": [
       "[100, 120, 130, 140, 130, 110, 111, 222]"
      ]
     },
     "execution_count": 44,
     "metadata": {},
     "output_type": "execute_result"
    }
   ],
   "source": [
    "l = [100, 120, 130, 140, 130, 110]\n",
    "l.extend([111, 222])\n",
    "l"
   ]
  },
  {
   "cell_type": "code",
   "execution_count": 45,
   "metadata": {},
   "outputs": [
    {
     "data": {
      "text/plain": [
       "[100, 120, 130, 140, 130, 110, 111, 222, 550, 660]"
      ]
     },
     "execution_count": 45,
     "metadata": {},
     "output_type": "execute_result"
    }
   ],
   "source": [
    "l = l + [550, 660]\n",
    "l"
   ]
  },
  {
   "cell_type": "code",
   "execution_count": null,
   "metadata": {},
   "outputs": [
    {
     "data": {
      "text/plain": [
       "[660, 222, 110, 140, 120]"
      ]
     },
     "execution_count": 46,
     "metadata": {},
     "output_type": "execute_result"
    }
   ],
   "source": [
    "l[::-2] #prints half the length of the list in reverse order"
   ]
  },
  {
   "cell_type": "code",
   "execution_count": 47,
   "metadata": {},
   "outputs": [
    {
     "data": {
      "text/plain": [
       "['re', 'rd', 're', 'rd', 're', 'rd']"
      ]
     },
     "execution_count": 47,
     "metadata": {},
     "output_type": "execute_result"
    }
   ],
   "source": [
    "s = ['re', 'rd']*3\n",
    "s"
   ]
  },
  {
   "cell_type": "code",
   "execution_count": 48,
   "metadata": {},
   "outputs": [],
   "source": [
    "num = [1,2,3,4,5,6,7,8,9,10]\n",
    "num2 = [1,2,3,4,5,10,9,8,7,6]"
   ]
  },
  {
   "cell_type": "code",
   "execution_count": 53,
   "metadata": {},
   "outputs": [
    {
     "name": "stdout",
     "output_type": "stream",
     "text": [
      "[2, 3, 5, 7, 11, 13, 17, 19, 23, 29, 31, 37, 41, 43, 47]\n"
     ]
    }
   ],
   "source": [
    "#prime number from append\n",
    "\n",
    "prime = []\n",
    "for i in range(1,50):\n",
    "    if i > 1:\n",
    "        for j in range(2, i):\n",
    "            if(i % j == 0):\n",
    "                break\n",
    "        else:\n",
    "            prime.append(i)\n",
    "print(prime)\n"
   ]
  },
  {
   "cell_type": "code",
   "execution_count": 104,
   "metadata": {},
   "outputs": [],
   "source": [
    "#Tuple-()\n",
    "\n",
    "t = (0, 9, 7)\n",
    "# t[0] = 999 TypeError: 'tuple' object does not support item assignment"
   ]
  },
  {
   "cell_type": "code",
   "execution_count": 56,
   "metadata": {},
   "outputs": [
    {
     "data": {
      "text/plain": [
       "(0, 9, 7)"
      ]
     },
     "execution_count": 56,
     "metadata": {},
     "output_type": "execute_result"
    }
   ],
   "source": [
    "t = (0, 9, 7)\n",
    "t"
   ]
  },
  {
   "cell_type": "code",
   "execution_count": 57,
   "metadata": {},
   "outputs": [
    {
     "data": {
      "text/plain": [
       "[0, 9, 7]"
      ]
     },
     "execution_count": 57,
     "metadata": {},
     "output_type": "execute_result"
    }
   ],
   "source": [
    "l = list(t)\n",
    "l"
   ]
  },
  {
   "cell_type": "code",
   "execution_count": 58,
   "metadata": {},
   "outputs": [
    {
     "data": {
      "text/plain": [
       "(0, 9, 7)"
      ]
     },
     "execution_count": 58,
     "metadata": {},
     "output_type": "execute_result"
    }
   ],
   "source": [
    "t2 = tuple(l)\n",
    "t2"
   ]
  },
  {
   "cell_type": "code",
   "execution_count": 65,
   "metadata": {},
   "outputs": [
    {
     "data": {
      "text/plain": [
       "(1, 2, 3, [2, 222, 5])"
      ]
     },
     "execution_count": 65,
     "metadata": {},
     "output_type": "execute_result"
    }
   ],
   "source": [
    "t2 = (1, 2, 3, [2, 3, 5])\n",
    "t2[-1][1] = 222\n",
    "t2"
   ]
  },
  {
   "cell_type": "code",
   "execution_count": 66,
   "metadata": {},
   "outputs": [],
   "source": [
    "#tim sort"
   ]
  },
  {
   "cell_type": "code",
   "execution_count": null,
   "metadata": {},
   "outputs": [
    {
     "name": "stdout",
     "output_type": "stream",
     "text": [
      "gauri got an interest of 100.0\n",
      "ankita got an interest of 600.0\n",
      "mahima got an interest of 1800.0\n",
      "vishal got an interest of 4000.0\n",
      "seenu got an interest of 7500.0\n"
     ]
    }
   ],
   "source": [
    "#SI & CI\n",
    "\n",
    "name = ['gauri', 'ankita', 'mahima', 'vishal', 'seenu']\n",
    "p = [1000, 2000, 3000, 4000, 5000]\n",
    "r = [10, 15, 20, 25, 30]\n",
    "t = [1, 2, 3, 4, 5]\n",
    "si = []\n",
    "ci = []\n",
    "for i in range (5):\n",
    "    a1 = (p[i]*r[i]*t[i])/100\n",
    "    si.append(a1)\n",
    "    print(f'{name[i]} got an interest of {si[i]}')\n",
    "\n"
   ]
  },
  {
   "cell_type": "code",
   "execution_count": 105,
   "metadata": {},
   "outputs": [
    {
     "name": "stdout",
     "output_type": "stream",
     "text": [
      "[0, 1]\n"
     ]
    }
   ],
   "source": [
    "# Given an array of integers nums and target, return indices of the two numbers such that they add up to the target. You may assume that each input would have exactly one solution and you may not use the same element twice.\n",
    "\n",
    "def two_sum(nums, target):\n",
    "    num_to_index = {}\n",
    "    for index, num in enumerate(nums):\n",
    "        complement = target - num\n",
    "        if complement in num_to_index:\n",
    "            return [num_to_index[complement], index]\n",
    "        num_to_index[num] = index\n",
    "\n",
    "nums = [2, 7, 11, 15]\n",
    "target = 9\n",
    "print(two_sum(nums, target)) \n"
   ]
  },
  {
   "cell_type": "code",
   "execution_count": 77,
   "metadata": {},
   "outputs": [
    {
     "name": "stdout",
     "output_type": "stream",
     "text": [
      "[3, 4, 5, 6]\n",
      "[3, 4, 5, 6]\n"
     ]
    }
   ],
   "source": [
    "a = [3,4]\n",
    "b = a\n",
    "b += [5,6]\n",
    "print(a)\n",
    "print(b) "
   ]
  },
  {
   "cell_type": "code",
   "execution_count": 78,
   "metadata": {},
   "outputs": [],
   "source": [
    "#Py core\n",
    "#OOPs\n",
    "#DSA\n",
    "#SQL (DBMS/RDBMS)\n",
    "#Testing\n",
    "#Robo\n",
    "#Numpy\n",
    "#Pandas"
   ]
  },
  {
   "cell_type": "code",
   "execution_count": null,
   "metadata": {},
   "outputs": [
    {
     "name": "stdout",
     "output_type": "stream",
     "text": [
      "[3, 4]\n",
      "[3, 4, 5, 6]\n"
     ]
    }
   ],
   "source": [
    "#copy - shallow copy (directly points to the original variable)\n",
    "\n",
    "a = [3,4]\n",
    "\n",
    "b = a.copy()\n",
    "b += [5,6]\n",
    "print(a)\n",
    "print(b) \n"
   ]
  },
  {
   "cell_type": "code",
   "execution_count": 80,
   "metadata": {},
   "outputs": [
    {
     "name": "stdout",
     "output_type": "stream",
     "text": [
      "[3, 4, [999, 888, 1000]]\n",
      "[3, 4, [999, 888, 1000]]\n"
     ]
    }
   ],
   "source": [
    "a = [3,4, [999,888]]\n",
    "b = a.copy()\n",
    "\n",
    "b[2].append(1000)\n",
    "print(b)\n",
    "print(a)"
   ]
  },
  {
   "cell_type": "code",
   "execution_count": 83,
   "metadata": {},
   "outputs": [
    {
     "name": "stdout",
     "output_type": "stream",
     "text": [
      "2083121355136\n",
      "2083128397696\n"
     ]
    }
   ],
   "source": [
    "print(id(a))\n",
    "print(id(b))"
   ]
  },
  {
   "cell_type": "code",
   "execution_count": 82,
   "metadata": {},
   "outputs": [
    {
     "name": "stdout",
     "output_type": "stream",
     "text": [
      "140723865655800\n",
      "140723865655800\n"
     ]
    }
   ],
   "source": [
    "print(id(a[0]))\n",
    "print(id(b[0]))"
   ]
  },
  {
   "cell_type": "code",
   "execution_count": 87,
   "metadata": {},
   "outputs": [
    {
     "name": "stdout",
     "output_type": "stream",
     "text": [
      "[3, 4, [999, 888, 1000]]\n",
      "[3, 4, [999, 888]]\n",
      "2083126846016\n",
      "2083126848768\n"
     ]
    }
   ],
   "source": [
    "import copy\n",
    "a = [3,4, [999,888]]\n",
    "b = copy.deepcopy(a)\n",
    "\n",
    "b[2].append(1000)\n",
    "print(b)\n",
    "print(a)\n",
    "\n",
    "print(id(a[2]))\n",
    "print(id(b[2]))"
   ]
  },
  {
   "cell_type": "code",
   "execution_count": 88,
   "metadata": {},
   "outputs": [
    {
     "name": "stdout",
     "output_type": "stream",
     "text": [
      "140723865655800\n",
      "140723865655800\n"
     ]
    }
   ],
   "source": [
    "print(id(a[0]))\n",
    "print(id(b[0]))"
   ]
  },
  {
   "cell_type": "code",
   "execution_count": 89,
   "metadata": {},
   "outputs": [
    {
     "data": {
      "text/plain": [
       "{'name': 'abc', 'std': 8, 'height': 5.5, 'key': 'value'}"
      ]
     },
     "execution_count": 89,
     "metadata": {},
     "output_type": "execute_result"
    }
   ],
   "source": [
    "#Dictionary\n",
    "\n",
    "d = {'name': \"abc\", 'std':8, 'height':5.5}\n",
    "#single key: value-dict item\n",
    "d['key'] = 'value'\n",
    "d"
   ]
  },
  {
   "cell_type": "code",
   "execution_count": 90,
   "metadata": {},
   "outputs": [
    {
     "name": "stdout",
     "output_type": "stream",
     "text": [
      "{'name': 'ABB', 'std': 'ABB', 'height': 5.5}\n"
     ]
    }
   ],
   "source": [
    "d = {'name': \"abc\", 'std':'ABB', 'height':5.5, 'name': 'ABB'}\n",
    "print(d)"
   ]
  },
  {
   "cell_type": "code",
   "execution_count": 91,
   "metadata": {},
   "outputs": [
    {
     "data": {
      "text/plain": [
       "'ABB'"
      ]
     },
     "execution_count": 91,
     "metadata": {},
     "output_type": "execute_result"
    }
   ],
   "source": [
    "d['name']"
   ]
  },
  {
   "cell_type": "code",
   "execution_count": 92,
   "metadata": {},
   "outputs": [
    {
     "data": {
      "text/plain": [
       "'ABB'"
      ]
     },
     "execution_count": 92,
     "metadata": {},
     "output_type": "execute_result"
    }
   ],
   "source": [
    "d.get('name')"
   ]
  },
  {
   "cell_type": "code",
   "execution_count": null,
   "metadata": {},
   "outputs": [],
   "source": [
    "#create user defined list, tuple and dictionary."
   ]
  },
  {
   "cell_type": "code",
   "execution_count": 125,
   "metadata": {},
   "outputs": [
    {
     "name": "stdout",
     "output_type": "stream",
     "text": [
      "[1, 2, 3, 4, 5]\n"
     ]
    }
   ],
   "source": [
    "# Creating a user-defined list\n",
    "user_list = [1, 2, 3, 4, 5]\n",
    "print(user_list)"
   ]
  },
  {
   "cell_type": "code",
   "execution_count": 126,
   "metadata": {},
   "outputs": [
    {
     "name": "stdout",
     "output_type": "stream",
     "text": [
      "(1, 2, 3, 4, 5)\n"
     ]
    }
   ],
   "source": [
    "# Creating a user-defined tuple\n",
    "user_tuple = (1, 2, 3, 4, 5)\n",
    "print(user_tuple)"
   ]
  },
  {
   "cell_type": "code",
   "execution_count": 127,
   "metadata": {},
   "outputs": [
    {
     "name": "stdout",
     "output_type": "stream",
     "text": [
      "{'name': 'Alice', 'age': 25, 'city': 'New York'}\n"
     ]
    }
   ],
   "source": [
    "# Creating a user-defined dictionary\n",
    "user_dict = {'name': 'Alice', 'age': 25, 'city': 'New York'}\n",
    "print(user_dict)"
   ]
  },
  {
   "cell_type": "code",
   "execution_count": 128,
   "metadata": {},
   "outputs": [
    {
     "name": "stdout",
     "output_type": "stream",
     "text": [
      "{'name': 'Alice', 'age': 25, 'city': 'New York'}\n"
     ]
    }
   ],
   "source": [
    "#Take two list and convert it to the dictionary.\n",
    "\n",
    "keys = ['name', 'age', 'city']\n",
    "values = ['Alice', 25, 'New York']\n",
    "\n",
    "user_dict = dict(zip(keys, values))\n",
    "\n",
    "print(user_dict)\n"
   ]
  },
  {
   "cell_type": "code",
   "execution_count": 95,
   "metadata": {},
   "outputs": [
    {
     "name": "stdout",
     "output_type": "stream",
     "text": [
      "{'name': 'abc', 'age': 10, 'std': '5th'}\n"
     ]
    }
   ],
   "source": [
    "k = ['name', 'age', 'std']\n",
    "v = ['abc', 10, '5th']\n",
    "\n",
    "z = zip(k,v)\n",
    "print(dict(z))"
   ]
  },
  {
   "cell_type": "code",
   "execution_count": 100,
   "metadata": {},
   "outputs": [
    {
     "data": {
      "text/plain": [
       "{'name': 'abc', 'age': 10, 'std': '5th'}"
      ]
     },
     "execution_count": 100,
     "metadata": {},
     "output_type": "execute_result"
    }
   ],
   "source": [
    "k = ['name', 'age', 'std']\n",
    "v = ['abc', 10, '5th']\n",
    "\n",
    "z = zip(k,v)\n",
    "dict(z)"
   ]
  },
  {
   "cell_type": "code",
   "execution_count": 97,
   "metadata": {},
   "outputs": [
    {
     "data": {
      "text/plain": [
       "(('name', 'abc'), ('age', 10), ('std', '5th'))"
      ]
     },
     "execution_count": 97,
     "metadata": {},
     "output_type": "execute_result"
    }
   ],
   "source": [
    "k = ['name', 'age', 'std']\n",
    "v = ['abc', 10, '5th']\n",
    "\n",
    "z = tuple(zip(k,v))\n",
    "z"
   ]
  },
  {
   "cell_type": "code",
   "execution_count": 98,
   "metadata": {},
   "outputs": [
    {
     "name": "stdout",
     "output_type": "stream",
     "text": [
      "{'name': 'ABB', 'std': 'ABB', 'height': 5.5}\n",
      "dict_keys(['name', 'std', 'height'])\n",
      "dict_values(['ABB', 'ABB', 5.5])\n"
     ]
    }
   ],
   "source": [
    "d = {'name': \"abc\", 'std':'ABB', 'height':5.5, 'name': 'ABB'}\n",
    "print(d)\n",
    "print(d.keys())\n",
    "print(d.values())"
   ]
  },
  {
   "cell_type": "code",
   "execution_count": 99,
   "metadata": {},
   "outputs": [
    {
     "name": "stdout",
     "output_type": "stream",
     "text": [
      "{'name': 'ABB', 'std': 'ABB', 'height': 5.5}\n",
      "dict_keys(['name', 'std', 'height'])\n",
      "dict_values(['ABB', 'ABB', 5.5])\n",
      "dict_items([('name', 'ABB'), ('std', 'ABB'), ('height', 5.5)])\n"
     ]
    }
   ],
   "source": [
    "d = {'name': \"abc\", 'std':'ABB', 'height':5.5, 'name': 'ABB'}\n",
    "print(d)\n",
    "print(d.keys())\n",
    "print(d.values())\n",
    "print(d.items())"
   ]
  },
  {
   "cell_type": "code",
   "execution_count": 110,
   "metadata": {},
   "outputs": [
    {
     "data": {
      "text/plain": [
       "{'name': 4,\n",
       " 'age': 3,\n",
       " 'gender': 6,\n",
       " 'height': 6,\n",
       " 'weight': 6,\n",
       " 'occupation': 10,\n",
       " 'contact': 7,\n",
       " 'dob': 3,\n",
       " 'address': 7,\n",
       " 'blood group': 11}"
      ]
     },
     "execution_count": 110,
     "metadata": {},
     "output_type": "execute_result"
    }
   ],
   "source": [
    "d={}\n",
    "l = ['name', 'age', 'gender', 'height', 'weight', 'occupation', 'contact', 'dob', 'address', 'blood group' ]\n",
    "for i in l:\n",
    "    v = len(i)\n",
    "    d[i]=v\n",
    "d"
   ]
  },
  {
   "cell_type": "code",
   "execution_count": 113,
   "metadata": {},
   "outputs": [
    {
     "name": "stdout",
     "output_type": "stream",
     "text": [
      "{'The': 1, 'sun': 1, 'set': 1, 'over': 1, 'the': 6, 'horizon,': 1, 'casting': 1, 'a': 4, 'warm,': 1, 'golden': 1, 'glow': 1, 'across': 1, 'tranquil': 1, 'lake.': 1, 'Birds': 1, 'chirped': 1, 'softly': 1, 'as': 1, 'they': 1, 'settled': 1, 'into': 1, 'their': 1, 'nests,': 1, 'and': 2, 'gentle': 1, 'breeze': 1, 'rustled': 1, 'leaves': 1, 'of': 3, 'trees.': 1, 'It': 1, 'was': 1, 'perfect': 1, 'evening,': 1, 'filled': 1, 'with': 1, 'peaceful': 1, 'sounds': 1, 'nature': 1, 'promise': 1, 'restful': 1, 'night.': 1}\n"
     ]
    }
   ],
   "source": [
    "#Create a para of 50 words, check the occurences of each word.\n",
    "p = \"The sun set over the horizon, casting a warm, golden glow across the tranquil lake. Birds chirped softly as they settled into their nests, and a gentle breeze rustled the leaves of the trees. It was a perfect evening, filled with the peaceful sounds of nature and the promise of a restful night.\"\n",
    "ans=p.split()\n",
    "d={}\n",
    "for i in ans:\n",
    "    if i not in d:\n",
    "        d[i]=1\n",
    "    else:\n",
    "        d[i]+=1\n",
    "print(d)\n",
    "\n",
    "\n"
   ]
  },
  {
   "cell_type": "code",
   "execution_count": 118,
   "metadata": {},
   "outputs": [
    {
     "data": {
      "text/plain": [
       "3"
      ]
     },
     "execution_count": 118,
     "metadata": {},
     "output_type": "execute_result"
    }
   ],
   "source": [
    "#clear, #delete, pop\n",
    "people = {1: {'name':4, 'age':3, 'height': 6},\n",
    "2:['name', 'age', 'std'],  # type: ignore\n",
    "3:('name', 'age', 'std')} # type: ignore\n",
    "people[1]['age']\n"
   ]
  },
  {
   "cell_type": "code",
   "execution_count": 117,
   "metadata": {},
   "outputs": [
    {
     "data": {
      "text/plain": [
       "'std'"
      ]
     },
     "execution_count": 117,
     "metadata": {},
     "output_type": "execute_result"
    }
   ],
   "source": [
    "people[2][2]"
   ]
  },
  {
   "cell_type": "code",
   "execution_count": 120,
   "metadata": {},
   "outputs": [
    {
     "data": {
      "text/plain": [
       "{1: {'name': 4, 'age': 3, 'height': 6},\n",
       " 2: ['name', 'age', 'std'],\n",
       " 3: ('name', 'age', 'std'),\n",
       " 4: {'zero': 0}}"
      ]
     },
     "execution_count": 120,
     "metadata": {},
     "output_type": "execute_result"
    }
   ],
   "source": [
    "people[4]={'zero':0}\n",
    "people"
   ]
  },
  {
   "cell_type": "code",
   "execution_count": 109,
   "metadata": {},
   "outputs": [],
   "source": [
    "d = {'a':5, 'b':15, 'c':25, 'd':8}\n",
    "d1 = {}\n",
    "a = d.values()\n"
   ]
  },
  {
   "cell_type": "code",
   "execution_count": 140,
   "metadata": {},
   "outputs": [
    {
     "name": "stdout",
     "output_type": "stream",
     "text": [
      "5\n"
     ]
    }
   ],
   "source": [
    "n = int(5.5)\n",
    "print(n)"
   ]
  },
  {
   "cell_type": "code",
   "execution_count": 106,
   "metadata": {},
   "outputs": [
    {
     "data": {
      "text/plain": [
       "5"
      ]
     },
     "execution_count": 106,
     "metadata": {},
     "output_type": "execute_result"
    }
   ],
   "source": [
    "n = int(input('Enter a float: '))\n",
    "n"
   ]
  },
  {
   "cell_type": "code",
   "execution_count": 143,
   "metadata": {},
   "outputs": [
    {
     "name": "stdout",
     "output_type": "stream",
     "text": [
      "5\n",
      "25\n"
     ]
    }
   ],
   "source": [
    "d = {'a':5, 'b':15, 'c':25, 'd':8}\n",
    "d1 = {}\n",
    "a = d.values()\n",
    "print(min(a))\n",
    "print(max(a))"
   ]
  },
  {
   "cell_type": "code",
   "execution_count": 145,
   "metadata": {},
   "outputs": [
    {
     "data": {
      "text/plain": [
       "{1, 3, 5, 6}"
      ]
     },
     "execution_count": 145,
     "metadata": {},
     "output_type": "execute_result"
    }
   ],
   "source": [
    "#set-{}\n",
    "\n",
    "l = [1, 1, 3, 3, 5, 5, 6]\n",
    "set(l)"
   ]
  },
  {
   "cell_type": "code",
   "execution_count": null,
   "metadata": {},
   "outputs": [
    {
     "name": "stdout",
     "output_type": "stream",
     "text": [
      "{1, 2, 3, 4, 5, 6, 7, 8}\n"
     ]
    }
   ],
   "source": [
    "#Set Union Method\n",
    "A = {1,2,3,4,5}\n",
    "B = {4,5,6,7,8}\n",
    "\n",
    "#use | Operator\n",
    "\n",
    "print(A|B)"
   ]
  },
  {
   "cell_type": "code",
   "execution_count": 148,
   "metadata": {},
   "outputs": [
    {
     "data": {
      "text/plain": [
       "{1, 2, 3, 4, 5, 6, 7, 8}"
      ]
     },
     "execution_count": 148,
     "metadata": {},
     "output_type": "execute_result"
    }
   ],
   "source": [
    "# use union function\n",
    "A.union(B) "
   ]
  },
  {
   "cell_type": "code",
   "execution_count": 149,
   "metadata": {},
   "outputs": [
    {
     "name": "stdout",
     "output_type": "stream",
     "text": [
      "{1, 2, 3, 4, 5, 6, 7, 8, 9}\n"
     ]
    }
   ],
   "source": [
    "A = {1,2,3,4,5}\n",
    "B = {4,5,6,7,8}\n",
    "C = {7,8,9,1,2}\n",
    "\n",
    "#use | Operator\n",
    "\n",
    "print(A|B|C)"
   ]
  },
  {
   "cell_type": "code",
   "execution_count": null,
   "metadata": {},
   "outputs": [
    {
     "data": {
      "text/plain": [
       "set()"
      ]
     },
     "execution_count": 155,
     "metadata": {},
     "output_type": "execute_result"
    }
   ],
   "source": [
    "#Intersection use & Operator\n",
    "#A.intersection(B)\n",
    "A&B\n",
    "#A.intersection(B).intersection(C)"
   ]
  },
  {
   "cell_type": "code",
   "execution_count": 156,
   "metadata": {},
   "outputs": [
    {
     "data": {
      "text/plain": [
       "{1, 2, 3}"
      ]
     },
     "execution_count": 156,
     "metadata": {},
     "output_type": "execute_result"
    }
   ],
   "source": [
    "# Set Difference (- or .difference)\n",
    "A.difference(B)"
   ]
  },
  {
   "cell_type": "code",
   "execution_count": null,
   "metadata": {},
   "outputs": [
    {
     "data": {
      "text/plain": [
       "{1, 2, 3}"
      ]
     },
     "execution_count": 157,
     "metadata": {},
     "output_type": "execute_result"
    }
   ],
   "source": [
    "A - B"
   ]
  },
  {
   "cell_type": "code",
   "execution_count": 158,
   "metadata": {},
   "outputs": [
    {
     "data": {
      "text/plain": [
       "{6, 7, 8}"
      ]
     },
     "execution_count": 158,
     "metadata": {},
     "output_type": "execute_result"
    }
   ],
   "source": [
    "B - A"
   ]
  },
  {
   "cell_type": "code",
   "execution_count": 159,
   "metadata": {},
   "outputs": [
    {
     "data": {
      "text/plain": [
       "{1, 2, 3, 6, 7, 8}"
      ]
     },
     "execution_count": 159,
     "metadata": {},
     "output_type": "execute_result"
    }
   ],
   "source": [
    "# SET Symmetric Difference (^ or .symmetric_difference)\n",
    "\n",
    "A^B"
   ]
  },
  {
   "cell_type": "code",
   "execution_count": 160,
   "metadata": {},
   "outputs": [
    {
     "data": {
      "text/plain": [
       "{1, 2, 4, 5, 6, 9}"
      ]
     },
     "execution_count": 160,
     "metadata": {},
     "output_type": "execute_result"
    }
   ],
   "source": [
    "B.symmetric_difference(C)"
   ]
  },
  {
   "cell_type": "code",
   "execution_count": 161,
   "metadata": {},
   "outputs": [
    {
     "data": {
      "text/plain": [
       "False"
      ]
     },
     "execution_count": 161,
     "metadata": {},
     "output_type": "execute_result"
    }
   ],
   "source": [
    "A.issubset(B)"
   ]
  },
  {
   "cell_type": "code",
   "execution_count": 162,
   "metadata": {},
   "outputs": [
    {
     "data": {
      "text/plain": [
       "False"
      ]
     },
     "execution_count": 162,
     "metadata": {},
     "output_type": "execute_result"
    }
   ],
   "source": [
    "A.issuperset(B)"
   ]
  },
  {
   "cell_type": "code",
   "execution_count": 163,
   "metadata": {},
   "outputs": [
    {
     "data": {
      "text/plain": [
       "False"
      ]
     },
     "execution_count": 163,
     "metadata": {},
     "output_type": "execute_result"
    }
   ],
   "source": [
    "B.issubset(A)"
   ]
  },
  {
   "cell_type": "code",
   "execution_count": 166,
   "metadata": {},
   "outputs": [
    {
     "data": {
      "text/plain": [
       "True"
      ]
     },
     "execution_count": 166,
     "metadata": {},
     "output_type": "execute_result"
    }
   ],
   "source": [
    "D = {1, 2, 3}\n",
    "E = {1, 2, 3, 4, 6}\n",
    "D.issubset(E)\n"
   ]
  },
  {
   "cell_type": "code",
   "execution_count": null,
   "metadata": {},
   "outputs": [
    {
     "data": {
      "text/plain": [
       "False"
      ]
     },
     "execution_count": 167,
     "metadata": {},
     "output_type": "execute_result"
    }
   ],
   "source": [
    "D.issuperset(E)  # >="
   ]
  },
  {
   "cell_type": "code",
   "execution_count": 168,
   "metadata": {},
   "outputs": [
    {
     "data": {
      "text/plain": [
       "True"
      ]
     },
     "execution_count": 168,
     "metadata": {},
     "output_type": "execute_result"
    }
   ],
   "source": [
    "E.issuperset(D)"
   ]
  },
  {
   "cell_type": "code",
   "execution_count": 175,
   "metadata": {},
   "outputs": [
    {
     "name": "stdout",
     "output_type": "stream",
     "text": [
      "{20}\n"
     ]
    }
   ],
   "source": [
    "a = {10, 20, 30}\n",
    "b = {20, 40, 60}\n",
    "c = {20, 50, 80}\n",
    "\n",
    "print(a&b&c)\n",
    "#print(b&c)"
   ]
  },
  {
   "cell_type": "code",
   "execution_count": 3,
   "metadata": {},
   "outputs": [
    {
     "data": {
      "text/plain": [
       "['The',\n",
       " 'sun',\n",
       " 'set',\n",
       " 'over',\n",
       " 'the',\n",
       " 'horizon,',\n",
       " 'casting',\n",
       " 'a',\n",
       " 'warm,',\n",
       " 'golden',\n",
       " 'glow',\n",
       " 'across',\n",
       " 'the',\n",
       " 'tranquil',\n",
       " 'lake.',\n",
       " 'Birds',\n",
       " 'chirped',\n",
       " 'softly',\n",
       " 'as',\n",
       " 'they',\n",
       " 'settled',\n",
       " 'into',\n",
       " 'their',\n",
       " 'nests,',\n",
       " 'and',\n",
       " 'a',\n",
       " 'gentle',\n",
       " 'breeze',\n",
       " 'rustled',\n",
       " 'the',\n",
       " 'leaves',\n",
       " 'of',\n",
       " 'the',\n",
       " 'trees.',\n",
       " 'It',\n",
       " 'was',\n",
       " 'a',\n",
       " 'perfect',\n",
       " 'evening,',\n",
       " 'filled',\n",
       " 'with',\n",
       " 'the',\n",
       " 'peaceful',\n",
       " 'sounds',\n",
       " 'of',\n",
       " 'nature',\n",
       " 'and',\n",
       " 'the',\n",
       " 'promise',\n",
       " 'of',\n",
       " 'a',\n",
       " 'restful',\n",
       " 'night.']"
      ]
     },
     "execution_count": 3,
     "metadata": {},
     "output_type": "execute_result"
    }
   ],
   "source": [
    "p = \"The sun set over the horizon, casting a warm, golden glow across the tranquil lake. Birds chirped softly as they settled into their nests, and a gentle breeze rustled the leaves of the trees. It was a perfect evening, filled with the peaceful sounds of nature and the promise of a restful night.\"\n",
    "ans=p.split()\n",
    "# d={}\n",
    "ans"
   ]
  },
  {
   "cell_type": "code",
   "execution_count": 188,
   "metadata": {},
   "outputs": [
    {
     "name": "stdout",
     "output_type": "stream",
     "text": [
      "Hll Wrld\n"
     ]
    }
   ],
   "source": [
    "s = 'Hello World'\n",
    "v = 'aeiouAEIOU'\n",
    "strg = ''\n",
    "for i in s:\n",
    "    if i in v:\n",
    "        continue\n",
    "    else:\n",
    "        strg += i\n",
    "print(strg)\n"
   ]
  },
  {
   "cell_type": "code",
   "execution_count": 1,
   "metadata": {},
   "outputs": [],
   "source": [
    "#Dict -\n",
    "#Set -\n",
    "#Tuple - \n",
    "#List - "
   ]
  },
  {
   "cell_type": "code",
   "execution_count": 129,
   "metadata": {},
   "outputs": [
    {
     "name": "stdout",
     "output_type": "stream",
     "text": [
      "5\n",
      "-2\n",
      "-3\n",
      "0\n"
     ]
    }
   ],
   "source": [
    "#Divide w/o using operator\n",
    "\n",
    "def divide(dividend, divisor):\n",
    "    if divisor == 0:\n",
    "        raise ValueError(\"Divisor cannot be zero.\")\n",
    "    \n",
    "    quotient = 0\n",
    "    remainder = abs(dividend)\n",
    "    abs_divisor = abs(divisor)\n",
    "    \n",
    "    while remainder >= abs_divisor:\n",
    "        remainder -= abs_divisor\n",
    "        quotient += 1\n",
    "    \n",
    "    # Adjust the sign of the quotient based on the signs of the inputs\n",
    "    if (dividend < 0 and divisor > 0) or (dividend > 0 and divisor < 0):\n",
    "        quotient = -quotient\n",
    "    \n",
    "    return quotient\n",
    "\n",
    "print(divide(10, 2))\n",
    "print(divide(7, -3)) \n",
    "print(divide(-15, 5)) \n",
    "print(divide(0, 1))"
   ]
  },
  {
   "cell_type": "markdown",
   "metadata": {},
   "source": [
    "# PYTHON DAY 3"
   ]
  },
  {
   "cell_type": "code",
   "execution_count": 7,
   "metadata": {},
   "outputs": [
    {
     "name": "stdout",
     "output_type": "stream",
     "text": [
      "Hello!\n",
      "Hello!\n",
      "Hello!\n",
      "Hello!\n",
      "Hello!\n"
     ]
    }
   ],
   "source": [
    "n = 0\n",
    "while n<5 :      #declaration\n",
    "    print(\"Hello!\")\n",
    "    n += 1  #Update counter"
   ]
  },
  {
   "cell_type": "code",
   "execution_count": 9,
   "metadata": {},
   "outputs": [
    {
     "name": "stdout",
     "output_type": "stream",
     "text": [
      "Hello!\n",
      "Hello!\n",
      "Hello!\n",
      "Hello!\n",
      "Hello!\n",
      "END\n"
     ]
    }
   ],
   "source": [
    "n = 0\n",
    "while n<5 :      #declaration\n",
    "    print(\"Hello!\")\n",
    "    n += 1  #Update counter\n",
    "else:\n",
    "    print(\"END\")"
   ]
  },
  {
   "cell_type": "code",
   "execution_count": 11,
   "metadata": {},
   "outputs": [
    {
     "name": "stdout",
     "output_type": "stream",
     "text": [
      "h\n"
     ]
    }
   ],
   "source": [
    "#break\n",
    "for i in 'Python':\n",
    "    if i == 'h':\n",
    "        print(i)\n",
    "        break"
   ]
  },
  {
   "cell_type": "code",
   "execution_count": 19,
   "metadata": {},
   "outputs": [
    {
     "name": "stdout",
     "output_type": "stream",
     "text": [
      "P\n",
      "y\n",
      "t\n"
     ]
    }
   ],
   "source": [
    "for i in 'Python':\n",
    "    if i == 'h':\n",
    "        break\n",
    "    print(i)"
   ]
  },
  {
   "cell_type": "code",
   "execution_count": 21,
   "metadata": {},
   "outputs": [],
   "source": [
    "for i in 'Python':\n",
    "    if i == 'h':\n",
    "        print(i)\n",
    "    break"
   ]
  },
  {
   "cell_type": "code",
   "execution_count": null,
   "metadata": {},
   "outputs": [
    {
     "name": "stdout",
     "output_type": "stream",
     "text": [
      "P\n",
      "y\n",
      "t\n",
      "o\n",
      "n\n"
     ]
    }
   ],
   "source": [
    "#continue  ---> Bypass statement\n",
    "for i in 'Python':\n",
    "    if i == 'h':\n",
    "        continue\n",
    "    print(i)"
   ]
  },
  {
   "cell_type": "code",
   "execution_count": 97,
   "metadata": {},
   "outputs": [],
   "source": [
    "#pass\n",
    "#for i in 'python':   \n",
    "    # never leave a block with empty statement, use pass instead"
   ]
  },
  {
   "cell_type": "code",
   "execution_count": 25,
   "metadata": {},
   "outputs": [],
   "source": [
    "#pass\n",
    "for i in 'python':\n",
    "    pass"
   ]
  },
  {
   "cell_type": "code",
   "execution_count": 100,
   "metadata": {},
   "outputs": [],
   "source": [
    "class fun:\n",
    "    pass"
   ]
  },
  {
   "cell_type": "code",
   "execution_count": 29,
   "metadata": {},
   "outputs": [
    {
     "name": "stdout",
     "output_type": "stream",
     "text": [
      "p\n",
      "y\n",
      "t\n",
      "h\n",
      "o\n",
      "n\n"
     ]
    }
   ],
   "source": [
    "for i in 'python':\n",
    "    if i == 'h':\n",
    "        pass\n",
    "    print(i)"
   ]
  },
  {
   "cell_type": "code",
   "execution_count": 33,
   "metadata": {},
   "outputs": [
    {
     "name": "stdout",
     "output_type": "stream",
     "text": [
      "Fibonacci Seies:  1 1 2 3 5 8 13 21 34 55 "
     ]
    }
   ],
   "source": [
    "n = int(input(\"Enter the number of terms: \"))\n",
    "a = 1\n",
    "b = 1\n",
    "print(\"Fibonacci Seies: \", a, b, end = \" \")\n",
    "\n",
    "for _ in range(n - 2):\n",
    "    c = a + b \n",
    "    print(c, end = \" \")\n",
    "    a = b \n",
    "    b = c"
   ]
  },
  {
   "cell_type": "code",
   "execution_count": 37,
   "metadata": {},
   "outputs": [],
   "source": [
    "#Functions   \n",
    "\n",
    "def add():\n",
    "    print(\"Hello!\")"
   ]
  },
  {
   "cell_type": "code",
   "execution_count": 38,
   "metadata": {},
   "outputs": [
    {
     "name": "stdout",
     "output_type": "stream",
     "text": [
      "Hello!\n"
     ]
    }
   ],
   "source": [
    "def add():\n",
    "    print(\"Hello!\")\n",
    "add()"
   ]
  },
  {
   "cell_type": "code",
   "execution_count": 39,
   "metadata": {},
   "outputs": [],
   "source": [
    "def add(a, b):\n",
    "    print(a+b)"
   ]
  },
  {
   "cell_type": "code",
   "execution_count": 42,
   "metadata": {},
   "outputs": [
    {
     "name": "stdout",
     "output_type": "stream",
     "text": [
      "6\n"
     ]
    }
   ],
   "source": [
    "# user defined functions types: with parameter, without return type\n",
    "def add(a, b):\n",
    "    print(a+b)\n",
    "add(2,4)                    #parameter(arguements)"
   ]
  },
  {
   "cell_type": "code",
   "execution_count": null,
   "metadata": {},
   "outputs": [
    {
     "name": "stdout",
     "output_type": "stream",
     "text": [
      "16\n"
     ]
    }
   ],
   "source": [
    "# without parameter, without return type\n",
    "def add():\n",
    "    a = 10\n",
    "    b = 6\n",
    "    print(a+b)\n",
    "\n",
    "add()"
   ]
  },
  {
   "cell_type": "code",
   "execution_count": null,
   "metadata": {},
   "outputs": [
    {
     "data": {
      "text/plain": [
       "10"
      ]
     },
     "execution_count": 43,
     "metadata": {},
     "output_type": "execute_result"
    }
   ],
   "source": [
    "#with parameter, with return type\n",
    "\n",
    "def add(a, b):\n",
    "    return a + b  #return the value to the calling statement\n",
    "s = add(4,6)\n",
    "s"
   ]
  },
  {
   "cell_type": "code",
   "execution_count": 44,
   "metadata": {},
   "outputs": [
    {
     "data": {
      "text/plain": [
       "13"
      ]
     },
     "execution_count": 44,
     "metadata": {},
     "output_type": "execute_result"
    }
   ],
   "source": [
    "# without parameter, with return type\n",
    "\n",
    "def add():\n",
    "    a = 5\n",
    "    b = 8\n",
    "    return a + b \n",
    "s = add()\n",
    "s"
   ]
  },
  {
   "cell_type": "code",
   "execution_count": 20,
   "metadata": {},
   "outputs": [
    {
     "name": "stdout",
     "output_type": "stream",
     "text": [
      "33\n",
      "0\n"
     ]
    }
   ],
   "source": [
    "#built-in function with arguement - 95% with parameter, with return type\n",
    "\n",
    "from test_a import add\n",
    "from test_b import sub\n",
    "\n",
    "val_add = add(12,21)\n",
    "val_sub = sub(20,20)\n",
    "\n",
    "print(val_add)\n",
    "print(val_sub)"
   ]
  },
  {
   "cell_type": "code",
   "execution_count": 80,
   "metadata": {},
   "outputs": [
    {
     "name": "stdout",
     "output_type": "stream",
     "text": [
      "2500.0\n"
     ]
    }
   ],
   "source": [
    "def si(p,r,t):\n",
    "    print((p*r*t)/100)\n",
    "si(5000,25,2)"
   ]
  },
  {
   "cell_type": "code",
   "execution_count": 13,
   "metadata": {},
   "outputs": [
    {
     "name": "stdout",
     "output_type": "stream",
     "text": [
      "2500.0\n"
     ]
    }
   ],
   "source": [
    "def si():\n",
    "    p = 5000\n",
    "    r = 25\n",
    "    t = 2\n",
    "    print((p*r*t)/100)\n",
    "si()"
   ]
  },
  {
   "cell_type": "code",
   "execution_count": 14,
   "metadata": {},
   "outputs": [
    {
     "data": {
      "text/plain": [
       "2500.0"
      ]
     },
     "execution_count": 14,
     "metadata": {},
     "output_type": "execute_result"
    }
   ],
   "source": [
    "def si():\n",
    "    p = 5000\n",
    "    r = 25\n",
    "    t = 2\n",
    "    return ((p*r*t)/100)\n",
    "s = si()\n",
    "s"
   ]
  },
  {
   "cell_type": "code",
   "execution_count": 19,
   "metadata": {},
   "outputs": [
    {
     "name": "stdout",
     "output_type": "stream",
     "text": [
      "2500.0\n"
     ]
    }
   ],
   "source": [
    "from test_si import si\n",
    "\n",
    "val_si = si(5000,25,2)\n",
    "\n",
    "print(val_si)\n"
   ]
  },
  {
   "cell_type": "code",
   "execution_count": 30,
   "metadata": {},
   "outputs": [
    {
     "name": "stdout",
     "output_type": "stream",
     "text": [
      "0\n"
     ]
    }
   ],
   "source": [
    "li = [12, 21, 42, 24, 48, 84]\n",
    "target = 111\n",
    "\n",
    "def countfunc(li, target):\n",
    "    count = 0\n",
    "    for i in li:\n",
    "\n",
    "        if target == i:\n",
    "            count += 1\n",
    "        else:\n",
    "           continue\n",
    "    return count\n",
    "\n",
    "print(countfunc(li, target))"
   ]
  },
  {
   "cell_type": "code",
   "execution_count": null,
   "metadata": {},
   "outputs": [],
   "source": [
    "#avg\n",
    "\n",
    "def avg(x,y,z):\n",
    "    print(())"
   ]
  },
  {
   "cell_type": "code",
   "execution_count": 32,
   "metadata": {},
   "outputs": [
    {
     "name": "stdout",
     "output_type": "stream",
     "text": [
      "1\n"
     ]
    }
   ],
   "source": [
    "#Types of arguements\n",
    "\n",
    "#positional\n",
    "\n",
    "def func(a,b):\n",
    "    print(a%b)\n",
    "func(5,2)"
   ]
  },
  {
   "cell_type": "code",
   "execution_count": 38,
   "metadata": {},
   "outputs": [
    {
     "name": "stdout",
     "output_type": "stream",
     "text": [
      "Gauri\n"
     ]
    }
   ],
   "source": [
    "#default\n",
    "\n",
    "def data(name = 'Gauri'):\n",
    "    print(name)\n",
    "data()"
   ]
  },
  {
   "cell_type": "code",
   "execution_count": 39,
   "metadata": {},
   "outputs": [
    {
     "name": "stdout",
     "output_type": "stream",
     "text": [
      "Jindal\n"
     ]
    }
   ],
   "source": [
    "def data(name = 'Gauri'):\n",
    "    print(name)\n",
    "data('Jindal')"
   ]
  },
  {
   "cell_type": "code",
   "execution_count": 41,
   "metadata": {},
   "outputs": [
    {
     "name": "stdout",
     "output_type": "stream",
     "text": [
      "Hello! My name is Gauri. I am 23 years old.\n"
     ]
    }
   ],
   "source": [
    "def data(name,age):\n",
    "    print(f'Hello! My name is {name}. I am {age} years old.')\n",
    "data('Gauri', 23)"
   ]
  },
  {
   "cell_type": "code",
   "execution_count": 43,
   "metadata": {},
   "outputs": [
    {
     "name": "stdout",
     "output_type": "stream",
     "text": [
      "Hello! My name is 23. I am Gauri years old.\n"
     ]
    }
   ],
   "source": [
    "def data(name,age):\n",
    "    print(f'Hello! My name is {name}. I am {age} years old.')\n",
    "data(23, 'Gauri')"
   ]
  },
  {
   "cell_type": "code",
   "execution_count": 42,
   "metadata": {},
   "outputs": [
    {
     "name": "stdout",
     "output_type": "stream",
     "text": [
      "Hello! My name is Gauri. I am 23 years old.\n"
     ]
    }
   ],
   "source": [
    "def data(name,age):\n",
    "    print(f'Hello! My name is {name}. I am {age} years old.')\n",
    "data(age = 23, name = 'Gauri')"
   ]
  },
  {
   "cell_type": "code",
   "execution_count": 56,
   "metadata": {},
   "outputs": [
    {
     "name": "stdout",
     "output_type": "stream",
     "text": [
      "5869,25,58!"
     ]
    }
   ],
   "source": [
    "print(5869,25,58, end = \"!\", sep = \",\") #keyword arguements"
   ]
  },
  {
   "cell_type": "code",
   "execution_count": 58,
   "metadata": {},
   "outputs": [
    {
     "name": "stdout",
     "output_type": "stream",
     "text": [
      "2\n"
     ]
    }
   ],
   "source": [
    "#Variable length arguements\n",
    "def fun(a,b):\n",
    "    print(a)\n",
    "fun(2,3)"
   ]
  },
  {
   "cell_type": "code",
   "execution_count": 59,
   "metadata": {},
   "outputs": [
    {
     "name": "stdout",
     "output_type": "stream",
     "text": [
      "(2, 3, 4, 5)\n"
     ]
    }
   ],
   "source": [
    "def fun(*a):\n",
    "    print(a)\n",
    "fun(2,3,4,5)"
   ]
  },
  {
   "cell_type": "code",
   "execution_count": 61,
   "metadata": {},
   "outputs": [
    {
     "name": "stdout",
     "output_type": "stream",
     "text": [
      "Gauri (2, 3, 4, 5)\n"
     ]
    }
   ],
   "source": [
    "def fun(name,*a):\n",
    "    print(name,a)\n",
    "fun('Gauri', 2,3,4,5)"
   ]
  },
  {
   "cell_type": "code",
   "execution_count": 67,
   "metadata": {},
   "outputs": [
    {
     "name": "stdout",
     "output_type": "stream",
     "text": [
      "Gauri\n",
      "(2, 3, 4, 5)\n"
     ]
    }
   ],
   "source": [
    "def fun(name,*a):\n",
    "    print(name)\n",
    "    print(a)\n",
    "fun('Gauri', 2,3,4,5)"
   ]
  },
  {
   "cell_type": "code",
   "execution_count": 68,
   "metadata": {},
   "outputs": [
    {
     "name": "stdout",
     "output_type": "stream",
     "text": [
      "q\n",
      "()\n"
     ]
    }
   ],
   "source": [
    "def fun(name,*a):\n",
    "    print(name)\n",
    "    print(a)\n",
    "fun('q')"
   ]
  },
  {
   "cell_type": "code",
   "execution_count": 69,
   "metadata": {},
   "outputs": [
    {
     "name": "stdout",
     "output_type": "stream",
     "text": [
      "q\n",
      "{'na': 'ABC', 'age': 23}\n"
     ]
    }
   ],
   "source": [
    "#Variable length keyword arguement\n",
    "\n",
    "def func(name, **a):\n",
    "    print(name)\n",
    "    print(a)\n",
    "\n",
    "func('q', na = 'ABC', age = 23)"
   ]
  },
  {
   "cell_type": "code",
   "execution_count": 71,
   "metadata": {},
   "outputs": [
    {
     "data": {
      "text/plain": [
       "45"
      ]
     },
     "execution_count": 71,
     "metadata": {},
     "output_type": "execute_result"
    }
   ],
   "source": [
    "#docstring\n",
    "def addition(a,b):\n",
    "    \"\"\"This function takes two values and adds.\"\"\"\n",
    "    return a+b \n",
    "addition(30,15)"
   ]
  },
  {
   "cell_type": "code",
   "execution_count": 72,
   "metadata": {},
   "outputs": [
    {
     "name": "stdout",
     "output_type": "stream",
     "text": [
      "Help on function addition in module __main__:\n",
      "\n",
      "addition(a, b)\n",
      "    This function takes two values and adds.\n",
      "\n"
     ]
    }
   ],
   "source": [
    "help(addition)"
   ]
  },
  {
   "cell_type": "code",
   "execution_count": 73,
   "metadata": {},
   "outputs": [
    {
     "name": "stdout",
     "output_type": "stream",
     "text": [
      "Help on function func in module __main__:\n",
      "\n",
      "func(name, **a)\n",
      "\n"
     ]
    }
   ],
   "source": [
    "help(func)"
   ]
  },
  {
   "cell_type": "code",
   "execution_count": 74,
   "metadata": {},
   "outputs": [
    {
     "data": {
      "text/plain": [
       "'This function takes two values and adds.'"
      ]
     },
     "execution_count": 74,
     "metadata": {},
     "output_type": "execute_result"
    }
   ],
   "source": [
    "addition.__doc__"
   ]
  },
  {
   "cell_type": "code",
   "execution_count": null,
   "metadata": {},
   "outputs": [
    {
     "name": "stdout",
     "output_type": "stream",
     "text": [
      "Integer = 25, String = Silver\n"
     ]
    }
   ],
   "source": [
    "#function annotations\n",
    "def data(a:int, b:str)->str: # type: ignore\n",
    "    \"\"\"This function takes an int and a string and returns a format string\"\"\"\n",
    "    return f'Integer = {a}, String = {b}'\n",
    "\n",
    "print(data(25,'Silver'))"
   ]
  },
  {
   "cell_type": "code",
   "execution_count": 76,
   "metadata": {},
   "outputs": [
    {
     "name": "stdout",
     "output_type": "stream",
     "text": [
      "Help on function data in module __main__:\n",
      "\n",
      "data(a: int, b: str) -> str\n",
      "    This function takes an int and a string and returns a format string\n",
      "\n"
     ]
    }
   ],
   "source": [
    "help(data)"
   ]
  },
  {
   "cell_type": "code",
   "execution_count": 77,
   "metadata": {},
   "outputs": [
    {
     "data": {
      "text/plain": [
       "'This function takes an int and a string and returns a format string'"
      ]
     },
     "execution_count": 77,
     "metadata": {},
     "output_type": "execute_result"
    }
   ],
   "source": [
    "data.__doc__"
   ]
  },
  {
   "cell_type": "code",
   "execution_count": 81,
   "metadata": {},
   "outputs": [
    {
     "data": {
      "text/plain": [
       "{'a': int, 'b': str, 'return': str}"
      ]
     },
     "execution_count": 81,
     "metadata": {},
     "output_type": "execute_result"
    }
   ],
   "source": [
    "data.__annotations__"
   ]
  },
  {
   "cell_type": "code",
   "execution_count": 82,
   "metadata": {},
   "outputs": [],
   "source": [
    "#pascal triangle\n",
    "[1]\n",
    "[1, 1]\n",
    "[1, 2, 1]\n",
    "[1, 4, 6, 4, 1]\n",
    "[1, 5, 10, 10, 5, 1]\n",
    "\n",
    "array1 = [11, 10, 22, 20, 35, 67]\n",
    "array2 = [22, 30, 35, 11]\n",
    "\n",
    "out = [22, 35, 11] #without using set intersection"
   ]
  },
  {
   "cell_type": "code",
   "execution_count": 6,
   "metadata": {},
   "outputs": [
    {
     "name": "stdout",
     "output_type": "stream",
     "text": [
      "[11, 22, 35]\n"
     ]
    }
   ],
   "source": [
    "#without using set intersection\n",
    "array1 = [11, 10, 22, 20, 35, 67]\n",
    "array2 = [22, 30, 35, 11]\n",
    "result=[]\n",
    "def fun(arr1,arr2):\n",
    "    for i in arr1:\n",
    "        for j in arr2:\n",
    "            if i==j:\n",
    "                result.append(i)\n",
    "    return result\n",
    "print(fun(array1,array2))"
   ]
  },
  {
   "cell_type": "code",
   "execution_count": 102,
   "metadata": {},
   "outputs": [
    {
     "name": "stdout",
     "output_type": "stream",
     "text": [
      "1\n",
      "1 1\n",
      "1 2 1\n",
      "1 3 3 1\n",
      "1 4 6 4 1\n",
      "1 5 10 10 5 1\n",
      "1 6 15 20 15 6 1\n",
      "1 7 21 35 35 21 7 1\n",
      "1 8 28 56 70 56 28 8 1\n",
      "1 9 36 84 126 126 84 36 9 1\n"
     ]
    }
   ],
   "source": [
    "#pascal triangle\n",
    "\n",
    "def generate_pascals_triangle(n):\n",
    "    triangle = []\n",
    "    for i in range(n):\n",
    "        row = [1] * (i + 1)\n",
    "        for j in range(1, i):\n",
    "            row[j] = triangle[i - 1][j - 1] + triangle[i - 1][j]\n",
    "        triangle.append(row)\n",
    "    return triangle\n",
    "\n",
    "def print_pascals_triangle(triangle):\n",
    "    for row in triangle:\n",
    "        print(' '.join(map(str, row)))\n",
    "\n",
    "n = int(input())\n",
    "triangle = generate_pascals_triangle(n)\n",
    "print_pascals_triangle(triangle)"
   ]
  },
  {
   "cell_type": "code",
   "execution_count": 8,
   "metadata": {},
   "outputs": [
    {
     "data": {
      "text/plain": [
       "140708811513016"
      ]
     },
     "execution_count": 8,
     "metadata": {},
     "output_type": "execute_result"
    }
   ],
   "source": [
    "n=25\n",
    "id(n)"
   ]
  },
  {
   "cell_type": "code",
   "execution_count": 9,
   "metadata": {},
   "outputs": [
    {
     "data": {
      "text/plain": [
       "20"
      ]
     },
     "execution_count": 9,
     "metadata": {},
     "output_type": "execute_result"
    }
   ],
   "source": [
    "#Scope\n",
    "\n",
    "x = 10\n",
    "x = 20\n",
    "x"
   ]
  },
  {
   "cell_type": "code",
   "execution_count": 10,
   "metadata": {},
   "outputs": [
    {
     "data": {
      "text/plain": [
       "30"
      ]
     },
     "execution_count": 10,
     "metadata": {},
     "output_type": "execute_result"
    }
   ],
   "source": [
    "x = 10\n",
    "x = 20\n",
    "x = 30\n",
    "x"
   ]
  },
  {
   "cell_type": "code",
   "execution_count": null,
   "metadata": {},
   "outputs": [
    {
     "name": "stdout",
     "output_type": "stream",
     "text": [
      "10 inside func\n",
      "20 oyt func\n"
     ]
    }
   ],
   "source": [
    "x = 20\n",
    "\n",
    "def num():\n",
    "    x = 10  #Local Variable\n",
    "    print(x, 'inside func')\n",
    "\n",
    "num()\n",
    "print(x, 'out func')\n"
   ]
  },
  {
   "cell_type": "code",
   "execution_count": 13,
   "metadata": {},
   "outputs": [
    {
     "name": "stdout",
     "output_type": "stream",
     "text": [
      "50 inside func\n",
      "50 out func\n"
     ]
    }
   ],
   "source": [
    "x = 20\n",
    "\n",
    "def num():\n",
    "    #x = 10  #Local Variable\n",
    "    global x\n",
    "    x += 30\n",
    "    print(x, 'inside func')\n",
    "\n",
    "num()\n",
    "print(x, 'out func')\n"
   ]
  },
  {
   "cell_type": "code",
   "execution_count": null,
   "metadata": {},
   "outputs": [],
   "source": [
    "x = 20\n",
    "\n",
    "def num():\n",
    "    x = 10  #Local Variable\n",
    "    print(x, 'inside func')\n",
    "\n",
    "num()\n",
    "x += 30\n",
    "print(x, 'out func')"
   ]
  },
  {
   "cell_type": "code",
   "execution_count": 15,
   "metadata": {},
   "outputs": [
    {
     "data": {
      "text/plain": [
       "0.5438425917541366"
      ]
     },
     "execution_count": 15,
     "metadata": {},
     "output_type": "execute_result"
    }
   ],
   "source": [
    "#random() Generates a random float number between 0 to 1. The function doen't need any arguements.\n",
    "\n",
    "import random\n",
    "random.random()"
   ]
  },
  {
   "cell_type": "code",
   "execution_count": 16,
   "metadata": {},
   "outputs": [
    {
     "data": {
      "text/plain": [
       "78"
      ]
     },
     "execution_count": 16,
     "metadata": {},
     "output_type": "execute_result"
    }
   ],
   "source": [
    "#randint(): Returns a random integer between the specified integers.\n",
    "\n",
    "random.randint(1, 100)"
   ]
  },
  {
   "cell_type": "code",
   "execution_count": 2,
   "metadata": {},
   "outputs": [
    {
     "data": {
      "text/plain": [
       "87"
      ]
     },
     "execution_count": 2,
     "metadata": {},
     "output_type": "execute_result"
    }
   ],
   "source": [
    "#randrange(): Returns a randomly selected element from the range created by the start, stop and step arguements. \n",
    "# The value of the start is 0 by default. IIly the value of step is 1 by default.\n",
    "\n",
    "import random\n",
    "random.randrange(0, 100, 3)"
   ]
  },
  {
   "cell_type": "code",
   "execution_count": null,
   "metadata": {},
   "outputs": [
    {
     "name": "stdout",
     "output_type": "stream",
     "text": [
      "Computer chose: paper\n",
      "Computer wins!\n"
     ]
    }
   ],
   "source": [
    "# Rock, Paper, Scissors\n",
    "\n",
    "import random\n",
    "\n",
    "def get_computer_choice():\n",
    "    choices = ['rock', 'paper', 'scissors']\n",
    "    return random.choice(choices)\n",
    "\n",
    "def get_winner(player, computer):\n",
    "    if player == computer:\n",
    "        return \"It's a tie!\"\n",
    "    elif (player == 'rock' and computer == 'scissors') or \\\n",
    "         (player == 'scissors' and computer == 'paper') or \\\n",
    "         (player == 'paper' and computer == 'rock'):\n",
    "        return \"You win!\"\n",
    "    else:\n",
    "        return \"Computer wins!\"\n",
    "\n",
    "def play_game():\n",
    "    player_choice = input(\"Enter your choice (rock, paper, or scissors): \").lower()\n",
    "    computer_choice = get_computer_choice()\n",
    "    print(f\"Computer chose: {computer_choice}\")\n",
    "    result = get_winner(player_choice, computer_choice)\n",
    "    print(result)\n",
    "\n",
    "play_game()"
   ]
  },
  {
   "cell_type": "code",
   "execution_count": 84,
   "metadata": {},
   "outputs": [
    {
     "name": "stdout",
     "output_type": "stream",
     "text": [
      "X@1cEMlY<XIe\n"
     ]
    }
   ],
   "source": [
    "#Password Generator\n",
    "\n",
    "import random\n",
    "import string\n",
    "\n",
    "def generate_password(length=12):\n",
    "    characters = string.ascii_letters + string.digits + string.punctuation\n",
    "    password = ''.join(random.choice(characters) for _ in range(length))\n",
    "    return password\n",
    "\n",
    "print(generate_password(12))  # Generates a 12-character password"
   ]
  },
  {
   "cell_type": "code",
   "execution_count": 86,
   "metadata": {},
   "outputs": [
    {
     "name": "stdout",
     "output_type": "stream",
     "text": [
      "Welcome to the Number Guessing Game!\n",
      "I'm thinking of a number between 1 and 100.\n",
      "You have 5 attempts to guess the number.\n",
      "Too high!\n",
      "Too high!\n",
      "Too high!\n",
      "Too high!\n",
      "Too low!\n",
      "Sorry, you've used all 5 attempts. The number was 9. Better luck next time!\n"
     ]
    }
   ],
   "source": [
    "#Number Guessing Game\n",
    "\n",
    "import random\n",
    "\n",
    "def number_guessing_game():\n",
    "    number_to_guess = random.randint(1, 100)\n",
    "    attempts = 0\n",
    "    max_attempts = 5\n",
    "    score = 0\n",
    "\n",
    "    print(\"Welcome to the Number Guessing Game!\")\n",
    "    print(\"I'm thinking of a number between 1 and 100.\")\n",
    "    print(f\"You have {max_attempts} attempts to guess the number.\")\n",
    "\n",
    "    while attempts < max_attempts:\n",
    "        guess = input(\"Take a guess: \")\n",
    "        attempts += 1\n",
    "\n",
    "        try:\n",
    "            guess = int(guess)\n",
    "        except ValueError:\n",
    "            print(\"Please enter a valid number.\")\n",
    "            continue\n",
    "\n",
    "        if guess < number_to_guess:\n",
    "            print(\"Too low!\")\n",
    "        elif guess > number_to_guess:\n",
    "            print(\"Too high!\")\n",
    "        else:\n",
    "            print(f\"Congratulations! You guessed the number in {attempts} attempts.\")\n",
    "            score = max_attempts - attempts + 1\n",
    "            print(f\"Your score is: {score}\")\n",
    "            break\n",
    "    else:\n",
    "        print(f\"Sorry, you've used all {max_attempts} attempts. The number was {number_to_guess}. Better luck next time!\")\n",
    "\n",
    "number_guessing_game()"
   ]
  },
  {
   "cell_type": "code",
   "execution_count": null,
   "metadata": {},
   "outputs": [],
   "source": [
    "#Word Guessing Game\n",
    "\n",
    "import random\n",
    "\n",
    "def shuffle_word(word):\n",
    "    word = list(word)\n",
    "    random.shuffle(word)\n",
    "    return ''.join(word)\n",
    "\n",
    "def word_guessing_game(words):\n",
    "    score = 0\n",
    "    for word in words:\n",
    "        shuffled_word = shuffle_word(word)\n",
    "        print(f\"Guess the word: {shuffled_word}\")\n",
    "        attempts = 0\n",
    "        guessed_correctly = False\n",
    "\n",
    "        while attempts < 3:\n",
    "            guess = input(f\"Attempt {attempts + 1}: \").strip().lower()\n",
    "            attempts += 1\n",
    "\n",
    "            if guess == word:\n",
    "                print(\"Correct!\")\n",
    "                score += 5\n",
    "                guessed_correctly = True\n",
    "                break\n",
    "            else:\n",
    "                print(\"Incorrect!\")\n",
    "\n",
    "        if not guessed_correctly:\n",
    "            print(f\"Sorry, the correct word was: {word}\")\n",
    "            score -= 10\n",
    "\n",
    "    print(f\"Game over! Your final score is: {score}\")\n",
    "\n",
    "words = [\"python\", \"algorithm\", \"function\", \"variable\", \"loop\"]\n",
    "\n",
    "word_guessing_game(words)\n"
   ]
  },
  {
   "cell_type": "markdown",
   "metadata": {},
   "source": [
    "<!-- # PYTHON DAY 4 -->"
   ]
  },
  {
   "cell_type": "markdown",
   "metadata": {},
   "source": [
    "# PYTHON DAY 4"
   ]
  },
  {
   "cell_type": "code",
   "execution_count": null,
   "metadata": {},
   "outputs": [
    {
     "name": "stdout",
     "output_type": "stream",
     "text": [
      "Three\n",
      "Two\n",
      "One\n"
     ]
    }
   ],
   "source": [
    "#Recursion ---> Function calls itself\n",
    "\n",
    "def FunctionThree():\n",
    "    print(\"Three\")\n",
    "\n",
    "def FunctionTwo():\n",
    "    FunctionThree()\n",
    "    print(\"Two\")\n",
    "\n",
    "def FunctionOne():\n",
    "    FunctionTwo()\n",
    "    print(\"One\")\n",
    "\n",
    "FunctionOne()\n"
   ]
  },
  {
   "cell_type": "code",
   "execution_count": null,
   "metadata": {},
   "outputs": [
    {
     "name": "stdout",
     "output_type": "stream",
     "text": [
      "Three\n",
      "Two\n",
      "One\n",
      "None\n"
     ]
    }
   ],
   "source": [
    "#Recursion ---> Function calls itself\n",
    "\n",
    "def FunctionThree():\n",
    "    print(\"Three\")\n",
    "\n",
    "def FunctionTwo():\n",
    "    FunctionThree()\n",
    "    print(\"Two\")\n",
    "\n",
    "def FunctionOne():\n",
    "    FunctionTwo()\n",
    "    print(\"One\")\n",
    "\n",
    "print(FunctionOne())      # ---> Gives None as it's not returning anything.\n"
   ]
  },
  {
   "cell_type": "code",
   "execution_count": null,
   "metadata": {},
   "outputs": [
    {
     "name": "stdout",
     "output_type": "stream",
     "text": [
      "Three\n",
      "Two\n",
      "One\n",
      "0\n"
     ]
    }
   ],
   "source": [
    "def FunctionThree():\n",
    "    print(\"Three\")\n",
    "\n",
    "def FunctionTwo():\n",
    "    FunctionThree()\n",
    "    print(\"Two\")\n",
    "\n",
    "def FunctionOne():\n",
    "    FunctionTwo()\n",
    "    print(\"One\")\n",
    "    return 0\n",
    "\n",
    "print(FunctionOne()) # ---> Now it's returning 0 as it's passed inside the block.\n"
   ]
  },
  {
   "cell_type": "code",
   "execution_count": 9,
   "metadata": {},
   "outputs": [
    {
     "name": "stdout",
     "output_type": "stream",
     "text": [
      "120\n"
     ]
    }
   ],
   "source": [
    "def factorial(n):\n",
    "    if n == 1:\n",
    "        return 1\n",
    "    return n * (factorial(n - 1))\n",
    "\n",
    "print(factorial(5))"
   ]
  },
  {
   "cell_type": "code",
   "execution_count": 11,
   "metadata": {},
   "outputs": [
    {
     "name": "stdout",
     "output_type": "stream",
     "text": [
      "24\n"
     ]
    }
   ],
   "source": [
    "def list_sum(num_List):\n",
    "    if len(num_List) == 1:\n",
    "        return num_List[0]\n",
    "    else:\n",
    "        return num_List[0] + list_sum(num_List[1:])\n",
    "    \n",
    "print(list_sum([2, 4, 5, 6, 7]))"
   ]
  },
  {
   "cell_type": "code",
   "execution_count": null,
   "metadata": {},
   "outputs": [
    {
     "name": "stdout",
     "output_type": "stream",
     "text": [
      "0 1 1 2 3 5 8 13 21 34 "
     ]
    }
   ],
   "source": [
    "#Fibonacci Using Recursion\n",
    "\n",
    "def fibonacci(n):\n",
    "     if n <= 0:\n",
    "          return 0\n",
    "     elif n == 1:\n",
    "          return 1\n",
    "     else:\n",
    "          return(fibonacci(n - 1)) + fibonacci(n - 2)\n",
    "     \n",
    "terms = int(input(\"Enter the number of terms: \"))\n",
    "for i in range(terms):\n",
    "    print(fibonacci(i), end = \" \")\n"
   ]
  },
  {
   "cell_type": "code",
   "execution_count": null,
   "metadata": {},
   "outputs": [
    {
     "name": "stdout",
     "output_type": "stream",
     "text": [
      "6\n"
     ]
    }
   ],
   "source": [
    "#count the digits of the number\n",
    "def digits(n):\n",
    "    if len(str(n))==1:\n",
    "        return 1\n",
    "    else:\n",
    "        return 1 + digits(n//10)\n",
    "\n",
    "#print(digits(265473))\n",
    "num = int(input())\n",
    "print(digits(num))"
   ]
  },
  {
   "cell_type": "code",
   "execution_count": null,
   "metadata": {},
   "outputs": [
    {
     "name": "stdout",
     "output_type": "stream",
     "text": [
      "iruag\n"
     ]
    }
   ],
   "source": [
    "#Reverse a string using recursion\n",
    "def revstr(strg):\n",
    "    if len(strg) <= 1:\n",
    "        return strg\n",
    "    else:\n",
    "        return revstr(strg[1:])+strg[0]\n",
    "print(revstr('gauri'))"
   ]
  },
  {
   "cell_type": "code",
   "execution_count": 58,
   "metadata": {},
   "outputs": [
    {
     "name": "stdout",
     "output_type": "stream",
     "text": [
      "<function square at 0x00000166A9C80040>\n"
     ]
    }
   ],
   "source": [
    "#First class function\n",
    "\n",
    "def square(num):\n",
    "    return num*num\n",
    "f = square\n",
    "print(f)"
   ]
  },
  {
   "cell_type": "code",
   "execution_count": 62,
   "metadata": {},
   "outputs": [
    {
     "data": {
      "text/plain": [
       "625"
      ]
     },
     "execution_count": 62,
     "metadata": {},
     "output_type": "execute_result"
    }
   ],
   "source": [
    "f(25)"
   ]
  },
  {
   "cell_type": "code",
   "execution_count": 64,
   "metadata": {},
   "outputs": [
    {
     "name": "stdout",
     "output_type": "stream",
     "text": [
      "<function cube at 0x00000166A9C81580>\n"
     ]
    }
   ],
   "source": [
    "def cube(numb):\n",
    "    return numb*numb*numb\n",
    "print(cube)"
   ]
  },
  {
   "cell_type": "code",
   "execution_count": 61,
   "metadata": {},
   "outputs": [
    {
     "data": {
      "text/plain": [
       "512"
      ]
     },
     "execution_count": 61,
     "metadata": {},
     "output_type": "execute_result"
    }
   ],
   "source": [
    "cube(8)"
   ]
  },
  {
   "cell_type": "code",
   "execution_count": 65,
   "metadata": {},
   "outputs": [
    {
     "name": "stdout",
     "output_type": "stream",
     "text": [
      "[1, 4, 9, 16, 25]\n"
     ]
    }
   ],
   "source": [
    "def my_map(func, arr):\n",
    "    result = []\n",
    "    for i in arr:\n",
    "        result.append(func(i))\n",
    "    return result\n",
    "\n",
    "squares = my_map(square, [1, 2, 3, 4, 5])\n",
    "print(squares)"
   ]
  },
  {
   "cell_type": "code",
   "execution_count": 67,
   "metadata": {},
   "outputs": [
    {
     "name": "stdout",
     "output_type": "stream",
     "text": [
      "[1, 4, 9, 16, 25]\n"
     ]
    }
   ],
   "source": [
    "def my_map(func, arr):\n",
    "    result = []\n",
    "    for i in arr:\n",
    "        result.append(func(i))\n",
    "    return result\n",
    "\n",
    "squares = my_map(f, [1, 2, 3, 4, 5])\n",
    "print(squares)"
   ]
  },
  {
   "cell_type": "code",
   "execution_count": null,
   "metadata": {},
   "outputs": [
    {
     "name": "stdout",
     "output_type": "stream",
     "text": [
      "Log: Hi\n"
     ]
    }
   ],
   "source": [
    "#Nested Function\n",
    "\n",
    "def logger(msg):\n",
    "    def log_message():\n",
    "        print('Log:', msg)\n",
    "    return log_message\n",
    "log_hi = logger('Hi')\n",
    "log_hi()"
   ]
  },
  {
   "cell_type": "code",
   "execution_count": 5,
   "metadata": {},
   "outputs": [
    {
     "name": "stdout",
     "output_type": "stream",
     "text": [
      "Log: Hi from:  ABC\n"
     ]
    }
   ],
   "source": [
    "def logger(msg):\n",
    "    def log_message(name):\n",
    "        print('Log:', msg, 'from: ', name)\n",
    "    return log_message\n",
    "\n",
    "log_hi = logger('Hi')\n",
    "log_hi('ABC')"
   ]
  },
  {
   "cell_type": "code",
   "execution_count": 6,
   "metadata": {},
   "outputs": [
    {
     "name": "stdout",
     "output_type": "stream",
     "text": [
      "Log: Welcome from:  xyz\n",
      "Log: Hi from:  ram\n"
     ]
    }
   ],
   "source": [
    "log_welcome = logger('Welcome')\n",
    "log_welcome('xyz')\n",
    "\n",
    "log_hi('ram')"
   ]
  },
  {
   "cell_type": "code",
   "execution_count": 6,
   "metadata": {},
   "outputs": [
    {
     "name": "stdout",
     "output_type": "stream",
     "text": [
      "25\n"
     ]
    }
   ],
   "source": [
    "#Create a closure to add a fixed number\n",
    "\n",
    "# add5= adder(5)\n",
    "# add5(100)\n",
    "\n",
    "def add5(fixed):\n",
    "    def adder(num):\n",
    "        return fixed+num\n",
    "    return adder\n",
    "\n",
    "res = add5(15)\n",
    "print(res(10))\n"
   ]
  },
  {
   "cell_type": "code",
   "execution_count": 9,
   "metadata": {},
   "outputs": [
    {
     "name": "stdout",
     "output_type": "stream",
     "text": [
      "[1, 2, 3, 4, 5]\n"
     ]
    }
   ],
   "source": [
    "# flatten a list ---> [1,[2,[3,4]],5] ---> [1,2,3,4,5]\n",
    "# li = [1,[2,[3,4]],5]\n",
    "\n",
    "def flatten(li):\n",
    "    ans = []\n",
    "    for i in li:\n",
    "        if isinstance(i, list):\n",
    "            ans.extend(flatten(i))\n",
    "        else:\n",
    "            ans.append(i)\n",
    "    return ans\n",
    "\n",
    "li = [1,[2,[3,4]],5]\n",
    "print(flatten(li))"
   ]
  },
  {
   "cell_type": "code",
   "execution_count": 72,
   "metadata": {},
   "outputs": [
    {
     "name": "stdout",
     "output_type": "stream",
     "text": [
      "[1, 2, 3, 4, 5]\n"
     ]
    }
   ],
   "source": [
    "# def check(l):\n",
    "#     res = []\n",
    "#     for i in l:\n",
    "#         if type(l[i]) == int:\n",
    "#             res.append(l[i])\n",
    "#         else:\n",
    "#             check(l[i])\n",
    "#     return res\n",
    "\n",
    "# l = [1,[2,[3,4]],5]\n",
    "\n",
    "# print(check(l))\n",
    "\n",
    "def check(l):\n",
    "    res = []\n",
    "    for i in l:\n",
    "        if isinstance(i, int):\n",
    "            res.append(i)\n",
    "        elif isinstance(i, list):\n",
    "            res.extend(check(i))\n",
    "    return res\n",
    "\n",
    "l = [1, [2, [3, 4]], 5]\n",
    "print(check(l))  # Output: [1, 2, 3, 4, 5]\n",
    "\n"
   ]
  },
  {
   "cell_type": "code",
   "execution_count": 45,
   "metadata": {},
   "outputs": [
    {
     "name": "stdout",
     "output_type": "stream",
     "text": [
      "b\n",
      "bs\n",
      "bsd\n",
      "bsdk\n",
      "s\n",
      "sd\n",
      "sdk\n",
      "d\n",
      "dk\n",
      "k\n"
     ]
    }
   ],
   "source": [
    "def print_substrings(s, start = 0, current = \"\"):\n",
    "    if start == len(s):  #base case: if start index goes beyond the string length\n",
    "        return \n",
    "    \n",
    "    if current == \"\":\n",
    "        current = s[start]\n",
    "\n",
    "    print(current)\n",
    "\n",
    "    if start + len(current) < len(s):\n",
    "        print_substrings(s, start, current + s[start + len(current)])    #expand the current substring\n",
    "    else:\n",
    "        print_substrings(s, start + 1)    #move to the next starting character\n",
    "\n",
    "print_substrings(\"bsdk\")"
   ]
  },
  {
   "cell_type": "code",
   "execution_count": 74,
   "metadata": {},
   "outputs": [
    {
     "name": "stdout",
     "output_type": "stream",
     "text": [
      "3.0\n"
     ]
    }
   ],
   "source": [
    "#calculate the average of the given arguements using *args\n",
    "# def avg(*args):\n",
    "#     if not args:\n",
    "#         return 0\n",
    "#     return sum(args)/len(args)\n",
    "# print(avg(5, 10, 15, 20))\n",
    "\n",
    "def average(*args):\n",
    "    if args:\n",
    "        return sum(args) / len(args) \n",
    "    else:\n",
    "        0\n",
    "\n",
    "print(average(1, 2, 3, 4, 5))"
   ]
  },
  {
   "cell_type": "code",
   "execution_count": 75,
   "metadata": {},
   "outputs": [
    {
     "name": "stdout",
     "output_type": "stream",
     "text": [
      "(5, 1)\n"
     ]
    }
   ],
   "source": [
    "#max and min of the given arguements using *args\n",
    "\n",
    "def max_min(*args):\n",
    "    return max(args), min(args)\n",
    "\n",
    "print(max_min(1, 2, 3, 4, 5)) "
   ]
  },
  {
   "cell_type": "code",
   "execution_count": 76,
   "metadata": {},
   "outputs": [
    {
     "name": "stdout",
     "output_type": "stream",
     "text": [
      "All fields are present\n",
      "Missing required fields: email\n"
     ]
    }
   ],
   "source": [
    "#check the arguements using **kwargs\n",
    "#required(name = abc, email = a@b, dob = 1/11/1111) #All fields are present\n",
    "#required(name = abc, dob = 1/11/1111) #Missing required fields\n",
    "\n",
    "def required(**kwargs):\n",
    "    required_fields = ['name', 'email', 'dob']\n",
    "    missing_fields = [field for field in required_fields if field not in kwargs]\n",
    "    if missing_fields:\n",
    "        return f\"Missing required fields: {', '.join(missing_fields)}\"\n",
    "    return \"All fields are present\"\n",
    "\n",
    "print(required(name='abc', email='a@b', dob='1/11/1111'))  # Output: All fields are present\n",
    "print(required(name='abc', dob='1/11/1111'))  # Output: Missing required fields: email\n"
   ]
  },
  {
   "cell_type": "code",
   "execution_count": 77,
   "metadata": {},
   "outputs": [
    {
     "name": "stdout",
     "output_type": "stream",
     "text": [
      "115.0\n"
     ]
    }
   ],
   "source": [
    "#bill(100, tax=5, tip=10)\n",
    "\n",
    "def bill(amount, tax=0, tip=0):\n",
    "    total = amount + (amount * tax / 100) + (amount * tip / 100)\n",
    "    return total\n",
    "\n",
    "print(bill(100, tax=5, tip=10))"
   ]
  },
  {
   "cell_type": "code",
   "execution_count": 78,
   "metadata": {},
   "outputs": [
    {
     "name": "stdout",
     "output_type": "stream",
     "text": [
      "1\n",
      "3\n",
      "5\n"
     ]
    }
   ],
   "source": [
    "#create a closure to generate odd numbers\n",
    "\n",
    "# odd = calculate()\n",
    "# print(odd()) #3\n",
    "# print(odd()) #5\n",
    "# print(odd()) #7\n",
    "\n",
    "# odd2 = calculate()\n",
    "# print(odd2()) #3\n",
    "\n",
    "def odd_number_generator():\n",
    "    number = 1\n",
    "    def next_odd():\n",
    "        nonlocal number\n",
    "        current = number\n",
    "        number += 2\n",
    "        return current\n",
    "    return next_odd\n",
    "\n",
    "odd_gen = odd_number_generator()\n",
    "print(odd_gen())  # Output: 1\n",
    "print(odd_gen())  # Output: 3\n",
    "print(odd_gen())  # Output: 5\n"
   ]
  },
  {
   "cell_type": "markdown",
   "metadata": {},
   "source": [
    "# PYTHON DAY 5"
   ]
  },
  {
   "cell_type": "code",
   "execution_count": 6,
   "metadata": {},
   "outputs": [],
   "source": [
    "#SCOPE INSIDE A NESTED FUNCTION\n",
    "\n",
    "def data():\n",
    "    color = 'Green'\n",
    "    def fly():\n",
    "        #print(color)\n",
    "        nonlocal color\n",
    "        color = 'Red'\n",
    "    fly()\n",
    "data()"
   ]
  },
  {
   "cell_type": "code",
   "execution_count": null,
   "metadata": {},
   "outputs": [
    {
     "name": "stdout",
     "output_type": "stream",
     "text": [
      "2\n",
      "red\n",
      "Dave\n"
     ]
    }
   ],
   "source": [
    "\n",
    "name = 'Dave'\n",
    "count = 1\n",
    "\n",
    "def another():\n",
    "    color = 'blue'\n",
    "    global count\n",
    "    count += 1\n",
    "    print(count)\n",
    "\n",
    "    def greeting(name):\n",
    "        nonlocal color\n",
    "        color = 'red'\n",
    "        print(color)\n",
    "        print(name)\n",
    "\n",
    "    greeting(\"Dave\")\n",
    "another()"
   ]
  },
  {
   "cell_type": "code",
   "execution_count": 3,
   "metadata": {},
   "outputs": [],
   "source": [
    "#Iterables\n",
    "#List\n",
    "#String\n",
    "#Dictionary\n"
   ]
  },
  {
   "cell_type": "code",
   "execution_count": 4,
   "metadata": {},
   "outputs": [
    {
     "name": "stdout",
     "output_type": "stream",
     "text": [
      "1\n",
      "2\n",
      "3\n"
     ]
    }
   ],
   "source": [
    "for i in [1,2,3]:\n",
    "    print(i)"
   ]
  },
  {
   "cell_type": "code",
   "execution_count": 5,
   "metadata": {},
   "outputs": [
    {
     "data": {
      "text/plain": [
       "<list_iterator at 0x1b642523d60>"
      ]
     },
     "execution_count": 5,
     "metadata": {},
     "output_type": "execute_result"
    }
   ],
   "source": [
    "#iterator\n",
    "#iter()\n",
    "iter([1,2,3])"
   ]
  },
  {
   "cell_type": "code",
   "execution_count": 6,
   "metadata": {},
   "outputs": [],
   "source": [
    "#Iterables\n",
    "my_list='hello'\n",
    "#iterator\n",
    "my_it = iter(my_list)"
   ]
  },
  {
   "cell_type": "code",
   "execution_count": 8,
   "metadata": {},
   "outputs": [
    {
     "data": {
      "text/plain": [
       "'h'"
      ]
     },
     "execution_count": 8,
     "metadata": {},
     "output_type": "execute_result"
    }
   ],
   "source": [
    "#next()\n",
    "next(my_it)"
   ]
  },
  {
   "cell_type": "code",
   "execution_count": 9,
   "metadata": {},
   "outputs": [
    {
     "name": "stdout",
     "output_type": "stream",
     "text": [
      "h e l l o\n"
     ]
    }
   ],
   "source": [
    "#unpack with(*)\n",
    "my_list = 'hello'\n",
    "\n",
    "my_it = iter(my_list)\n",
    "\n",
    "print(*my_it)"
   ]
  },
  {
   "cell_type": "code",
   "execution_count": 10,
   "metadata": {},
   "outputs": [
    {
     "name": "stdout",
     "output_type": "stream",
     "text": [
      "\n"
     ]
    }
   ],
   "source": [
    "#Can't unpack multiple items\n",
    "print(*my_it)"
   ]
  },
  {
   "cell_type": "code",
   "execution_count": 11,
   "metadata": {},
   "outputs": [
    {
     "data": {
      "text/plain": [
       "['h', 'e', 'l', 'l', 'o']"
      ]
     },
     "execution_count": 11,
     "metadata": {},
     "output_type": "execute_result"
    }
   ],
   "source": [
    "#unpack with list\n",
    "my_list = 'hello'\n",
    "\n",
    "my_it = iter(my_list)\n",
    "list(my_it)"
   ]
  },
  {
   "cell_type": "code",
   "execution_count": 12,
   "metadata": {},
   "outputs": [
    {
     "name": "stdout",
     "output_type": "stream",
     "text": [
      "0 a\n",
      "1 b\n",
      "2 c\n"
     ]
    }
   ],
   "source": [
    "#enumerate()\n",
    "\n",
    "ls = ['a', 'b', 'c']\n",
    "\n",
    "for i, v in enumerate(ls):\n",
    "    print(i,v)"
   ]
  },
  {
   "cell_type": "code",
   "execution_count": 14,
   "metadata": {},
   "outputs": [
    {
     "data": {
      "text/plain": [
       "(0, 'a')"
      ]
     },
     "execution_count": 14,
     "metadata": {},
     "output_type": "execute_result"
    }
   ],
   "source": [
    "next(enumerate(ls))\n",
    "next(enumerate(ls))"
   ]
  },
  {
   "cell_type": "code",
   "execution_count": 15,
   "metadata": {},
   "outputs": [
    {
     "data": {
      "text/plain": [
       "[(0, 'a'), (1, 'b'), (2, 'c')]"
      ]
     },
     "execution_count": 15,
     "metadata": {},
     "output_type": "execute_result"
    }
   ],
   "source": [
    "list(enumerate(ls))"
   ]
  },
  {
   "cell_type": "code",
   "execution_count": 17,
   "metadata": {},
   "outputs": [
    {
     "data": {
      "text/plain": [
       "[(1, 'a'), (2, 'b'), (3, 'c')]"
      ]
     },
     "execution_count": 17,
     "metadata": {},
     "output_type": "execute_result"
    }
   ],
   "source": [
    "list(enumerate(ls, start=1))"
   ]
  },
  {
   "cell_type": "code",
   "execution_count": 18,
   "metadata": {},
   "outputs": [
    {
     "data": {
      "text/plain": [
       "[(3, 'a'), (4, 'b'), (5, 'c')]"
      ]
     },
     "execution_count": 18,
     "metadata": {},
     "output_type": "execute_result"
    }
   ],
   "source": [
    "list(enumerate(ls, start=3))"
   ]
  },
  {
   "cell_type": "code",
   "execution_count": 44,
   "metadata": {},
   "outputs": [
    {
     "name": "stdout",
     "output_type": "stream",
     "text": [
      "<generator object simple_gen at 0x000001B6449EEE50>\n",
      "1\n",
      "2\n",
      "3\n"
     ]
    }
   ],
   "source": [
    "#generators\n",
    "#generators are used to create iterators and they are memory efficient\n",
    "#yield\n",
    "def simple_gen():\n",
    "    yield 1\n",
    "    yield 2\n",
    "    yield 3\n",
    "    # return 1\n",
    "    # return 2\n",
    "    # return 3\n",
    "gen = simple_gen()\n",
    "print(gen)\n",
    "for i in gen:\n",
    "    print(i)"
   ]
  },
  {
   "cell_type": "code",
   "execution_count": 2,
   "metadata": {},
   "outputs": [
    {
     "name": "stdout",
     "output_type": "stream",
     "text": [
      "Help on built-in function round in module builtins:\n",
      "\n",
      "round(number, ndigits=None)\n",
      "    Round a number to a given precision in decimal digits.\n",
      "\n",
      "    The return value is an integer if ndigits is omitted or None.  Otherwise\n",
      "    the return value has the same type as the number.  ndigits may be negative.\n",
      "\n"
     ]
    }
   ],
   "source": [
    "help(round)"
   ]
  },
  {
   "cell_type": "code",
   "execution_count": 48,
   "metadata": {},
   "outputs": [
    {
     "data": {
      "text/plain": [
       "3"
      ]
     },
     "execution_count": 48,
     "metadata": {},
     "output_type": "execute_result"
    }
   ],
   "source": [
    "next(gen)"
   ]
  },
  {
   "cell_type": "code",
   "execution_count": 32,
   "metadata": {},
   "outputs": [
    {
     "name": "stdout",
     "output_type": "stream",
     "text": [
      "0\n",
      "1\n",
      "2\n",
      "3\n",
      "4\n",
      "5\n"
     ]
    }
   ],
   "source": [
    "def infinite():\n",
    "    num = 0\n",
    "    while True:\n",
    "        yield num\n",
    "        num += 1\n",
    "gen = infinite()\n",
    "print(next(gen))\n",
    "print(next(gen))\n",
    "print(next(gen))\n",
    "print(next(gen))\n",
    "print(next(gen))\n",
    "print(next(gen))"
   ]
  },
  {
   "cell_type": "code",
   "execution_count": null,
   "metadata": {},
   "outputs": [],
   "source": [
    "# ls = [x for x in range(10**9)]  ----> do not run this code as it gives millions of values.\n",
    "# ls[0]"
   ]
  },
  {
   "cell_type": "code",
   "execution_count": null,
   "metadata": {},
   "outputs": [
    {
     "name": "stdout",
     "output_type": "stream",
     "text": [
      "0\n",
      "1\n"
     ]
    }
   ],
   "source": [
    "gen = (x for x in range(10**9)) #generator without yield\n",
    "print(next(gen))\n",
    "print(next(gen))"
   ]
  },
  {
   "cell_type": "code",
   "execution_count": null,
   "metadata": {},
   "outputs": [
    {
     "name": "stdout",
     "output_type": "stream",
     "text": [
      "1\n",
      "2\n",
      "3\n",
      "4\n",
      "5\n",
      "6\n",
      "7\n",
      "8\n",
      "9\n",
      "10\n",
      "11\n",
      "12\n",
      "13\n",
      "14\n",
      "15\n",
      "16\n",
      "17\n",
      "18\n",
      "19\n",
      "20\n",
      "21\n"
     ]
    }
   ],
   "source": [
    "#Generate numbers from 1 to N\n",
    "# Task: Write a generator function that yields numbers from 1 to n.\n",
    "\n",
    "# def func(k):\n",
    "#     n=1\n",
    "#     while n<=k:\n",
    "#         yield  n\n",
    "#         n += 1\n",
    "# k= int(input())\n",
    "# p=func(k)\n",
    "# for i in range(k):\n",
    "#     print(next(p))\n",
    "\n",
    "def generate_numbers(n):\n",
    "    for i in range(1, n + 1):\n",
    "        yield i\n",
    "\n",
    "for number in generate_numbers(21):\n",
    "    print(number)"
   ]
  },
  {
   "cell_type": "code",
   "execution_count": 130,
   "metadata": {},
   "outputs": [
    {
     "name": "stdout",
     "output_type": "stream",
     "text": [
      "0\n",
      "1\n",
      "1\n",
      "2\n",
      "3\n",
      "5\n",
      "8\n"
     ]
    }
   ],
   "source": [
    "#Fibonacci sequence generator\n",
    "# Task: Write a generator to yield first n fibonacci numbers.\n",
    "\n",
    "def fibonacci(n):\n",
    "    a, b = 0, 1\n",
    "    for _ in range(n):\n",
    "        yield a\n",
    "        a, b = b, a + b\n",
    "\n",
    "for number in fibonacci(int(input())):\n",
    "    print(number)"
   ]
  },
  {
   "cell_type": "code",
   "execution_count": null,
   "metadata": {},
   "outputs": [
    {
     "name": "stdout",
     "output_type": "stream",
     "text": [
      "2\n",
      "4\n",
      "6\n"
     ]
    }
   ],
   "source": [
    "#Even numbers from a list\n",
    "#Task: Yield only even numbers from a list.\n",
    "\n",
    "def even_numbers(lst):\n",
    "    for number in lst:\n",
    "        if number % 2 == 0:\n",
    "            yield number\n",
    "\n",
    "for number in even_numbers([1, 2, 3, 4, 5, 6]):\n",
    "    print(number)"
   ]
  },
  {
   "cell_type": "code",
   "execution_count": null,
   "metadata": {},
   "outputs": [
    {
     "name": "stdout",
     "output_type": "stream",
     "text": [
      "1\n",
      "3\n",
      "5\n",
      "7\n",
      "9\n"
     ]
    }
   ],
   "source": [
    "#Infinite odd number generatior\n",
    "#Task: Create a generator that yields odd numbers infinitely starting from 1.\n",
    "\n",
    "def infinite_odd_numbers():\n",
    "    number = 1\n",
    "    while True:\n",
    "        yield number\n",
    "        number += 2\n",
    "\n",
    "odd_gen = infinite_odd_numbers()\n",
    "for _ in range(5):\n",
    "    print(next(odd_gen))"
   ]
  },
  {
   "cell_type": "code",
   "execution_count": 63,
   "metadata": {},
   "outputs": [
    {
     "name": "stdout",
     "output_type": "stream",
     "text": [
      "1\n",
      "3\n",
      "5\n",
      "7\n",
      "9\n"
     ]
    }
   ],
   "source": [
    "#Custom range generator (like built-in range).\n",
    "\n",
    "def custom_range(start, stop, step=1):\n",
    "    current = start\n",
    "    while current < stop:\n",
    "        yield current\n",
    "        current += step\n",
    "\n",
    "for number in custom_range(1, 10, 2):\n",
    "    print(number)"
   ]
  },
  {
   "cell_type": "code",
   "execution_count": 64,
   "metadata": {},
   "outputs": [
    {
     "name": "stdout",
     "output_type": "stream",
     "text": [
      "10.0\n",
      "None\n",
      "20.0\n"
     ]
    }
   ],
   "source": [
    "#Running Average generator\n",
    "#Task: Create a generator to yield the average after each number added.\n",
    "\n",
    "def running_average():\n",
    "    total, count = 0, 0\n",
    "    while True:\n",
    "        number = yield\n",
    "        total += number\n",
    "        count += 1\n",
    "        yield total / count\n",
    "\n",
    "avg_gen = running_average()\n",
    "next(avg_gen)  # Prime the generator\n",
    "print(avg_gen.send(10))  # Output: 10.0\n",
    "print(avg_gen.send(20))  # Output: 15.0\n",
    "print(avg_gen.send(30))  # Output: 20.0"
   ]
  },
  {
   "cell_type": "code",
   "execution_count": 18,
   "metadata": {},
   "outputs": [
    {
     "name": "stdout",
     "output_type": "stream",
     "text": [
      "Before Hi!\n",
      "Hello\n",
      "After Hi!\n",
      "Hello\n"
     ]
    }
   ],
   "source": [
    "#Decorators\n",
    "def deco(func):\n",
    "    def wrapper():\n",
    "        print('Before Hi!')\n",
    "        func()\n",
    "        print('After Hi!')\n",
    "        func()\n",
    "    return wrapper\n",
    "\n",
    "@deco\n",
    "def hi():\n",
    "    print('Hello')\n",
    "\n",
    "hi()"
   ]
  },
  {
   "cell_type": "code",
   "execution_count": 20,
   "metadata": {},
   "outputs": [
    {
     "data": {
      "text/plain": [
       "<function __main__.deco.<locals>.wrapper()>"
      ]
     },
     "execution_count": 20,
     "metadata": {},
     "output_type": "execute_result"
    }
   ],
   "source": [
    "deco(func(hi))"
   ]
  },
  {
   "cell_type": "code",
   "execution_count": 25,
   "metadata": {},
   "outputs": [
    {
     "name": "stdout",
     "output_type": "stream",
     "text": [
      "wrapper executed this before  display\n",
      "display function ran\n"
     ]
    }
   ],
   "source": [
    "def decorator_function(original_function):\n",
    "    def wrapper_function():\n",
    "        print('wrapper executed this before ', original_function.__name__)\n",
    "        return original_function()\n",
    "    return wrapper_function\n",
    "\n",
    "# @decorator_function\n",
    "def display():\n",
    "    print('display function ran')\n",
    "\n",
    "decorated_display = decorator_function(display)\n",
    "decorated_display()"
   ]
  },
  {
   "cell_type": "code",
   "execution_count": 132,
   "metadata": {},
   "outputs": [
    {
     "name": "stdout",
     "output_type": "stream",
     "text": [
      "wrapper executed this before display \n",
      "display function ran\n"
     ]
    }
   ],
   "source": [
    "def decorator_function(original_function):\n",
    "    def wrapper_function():\n",
    "        print('wrapper executed this before {} '.format(original_function.__name__))\n",
    "        return original_function()\n",
    "    return wrapper_function\n",
    "\n",
    "#@decorator_function\n",
    "def display():\n",
    "    print('display function ran')\n",
    "\n",
    "decorated_display = decorator_function(display)\n",
    "decorated_display()"
   ]
  },
  {
   "cell_type": "code",
   "execution_count": null,
   "metadata": {},
   "outputs": [
    {
     "name": "stdout",
     "output_type": "stream",
     "text": [
      "Function Executed\n",
      "Function Executed\n",
      "Function Executed\n",
      "The function 'example_function' was called 3 times.\n"
     ]
    }
   ],
   "source": [
    "def count_calls(func):\n",
    "    def wrapper(*args, **kwargs):\n",
    "        wrapper.count += 1\n",
    "        return func(*args, **kwargs)\n",
    "    wrapper.count = 0\n",
    "    return wrapper\n",
    "\n",
    "@count_calls\n",
    "def example_function():\n",
    "    \"\"\"This is an example function.\"\"\"\n",
    "    print(\"Function Executed\")\n",
    "\n",
    "example_function()\n",
    "example_function()\n",
    "example_function()\n",
    "\n",
    "print(f\"The function 'example_function' was called {example_function.count} times.\")"
   ]
  },
  {
   "cell_type": "code",
   "execution_count": 36,
   "metadata": {},
   "outputs": [
    {
     "name": "stdout",
     "output_type": "stream",
     "text": [
      "HELLO WORLD\n",
      "123\n"
     ]
    }
   ],
   "source": [
    "def uppercase_decorator(func):\n",
    "    def wrapper(*args, **kwargs):\n",
    "        result = func(*args, **kwargs)\n",
    "        if isinstance(result, str):\n",
    "            return result.upper()\n",
    "        return result\n",
    "    return wrapper\n",
    "\n",
    "@uppercase_decorator\n",
    "def get_string():\n",
    "    return \"Hello World\"\n",
    "\n",
    "@uppercase_decorator\n",
    "def get_number():\n",
    "    return 123\n",
    "\n",
    "print(get_string())\n",
    "print(get_number())"
   ]
  },
  {
   "cell_type": "code",
   "execution_count": 42,
   "metadata": {},
   "outputs": [
    {
     "name": "stdout",
     "output_type": "stream",
     "text": [
      "400\n"
     ]
    }
   ],
   "source": [
    "#Code for testing decorator chaining\n",
    "\n",
    "def decor1(func):\n",
    "    def inner():\n",
    "        x = func()\n",
    "        return x * x\n",
    "    return inner\n",
    "\n",
    "def decor(func):\n",
    "    def inner():\n",
    "        x = func()\n",
    "        return 2 * x\n",
    "    return inner\n",
    "\n",
    "@decor1\n",
    "@decor\n",
    "def num():\n",
    "    return 10\n",
    "\n",
    "print(num())"
   ]
  },
  {
   "cell_type": "code",
   "execution_count": 43,
   "metadata": {},
   "outputs": [
    {
     "name": "stdout",
     "output_type": "stream",
     "text": [
      "200\n"
     ]
    }
   ],
   "source": [
    "@decor\n",
    "@decor1\n",
    "def num():\n",
    "    return 10\n",
    "\n",
    "print(num())"
   ]
  },
  {
   "cell_type": "code",
   "execution_count": 44,
   "metadata": {},
   "outputs": [],
   "source": [
    "def type_check_decorator(expected_type):\n",
    "    def decorator(func):\n",
    "        def wrapper(arg):\n",
    "            if not isinstance(arg, expected_type):\n",
    "                raise TypeError(f\"Expected {expected_type}, got {type(arg)}\")\n",
    "            return func(arg)\n",
    "        return wrapper\n",
    "    return decorator\n"
   ]
  },
  {
   "cell_type": "code",
   "execution_count": 47,
   "metadata": {},
   "outputs": [
    {
     "name": "stdout",
     "output_type": "stream",
     "text": [
      "25\n",
      "HELLO\n"
     ]
    }
   ],
   "source": [
    "@type_check_decorator(int)\n",
    "def square(n):\n",
    "    return n*n\n",
    "\n",
    "@type_check_decorator(str)\n",
    "def shout(text):\n",
    "    return text.upper()\n",
    "\n",
    "#Valid Calls\n",
    "print(square(5))\n",
    "print(shout(\"Hello\"))\n"
   ]
  },
  {
   "cell_type": "code",
   "execution_count": 88,
   "metadata": {},
   "outputs": [],
   "source": [
    "#Invalid Call - will raise TypeError\n",
    "# print(square(\"456\"))    #Raises TypeError"
   ]
  },
  {
   "cell_type": "code",
   "execution_count": 54,
   "metadata": {},
   "outputs": [
    {
     "name": "stdout",
     "output_type": "stream",
     "text": [
      "20\n"
     ]
    }
   ],
   "source": [
    "#Double the value.\n",
    "#Task is using decorator double the value.\n",
    "\n",
    "def double_value(func):\n",
    "    def wrapper(*args, **kwargs):\n",
    "        result = func(*args, **kwargs)\n",
    "        return result * 2\n",
    "    return wrapper\n",
    "\n",
    "@double_value\n",
    "def get_number():\n",
    "    return 10\n",
    "\n",
    "print(get_number())  # Output will be 20"
   ]
  },
  {
   "cell_type": "code",
   "execution_count": 3,
   "metadata": {},
   "outputs": [
    {
     "name": "stdout",
     "output_type": "stream",
     "text": [
      "============================\n",
      "This is the function output.\n",
      "============================\n"
     ]
    }
   ],
   "source": [
    "#Using decorator add a line before and after a function output.\n",
    "\n",
    "def add_lines(func):\n",
    "    def wrapper(*args, **kwargs):\n",
    "        print(\"============================\")\n",
    "        result = func(*args, **kwargs)\n",
    "        print(\"============================\")\n",
    "        return result\n",
    "    return wrapper\n",
    "\n",
    "@add_lines\n",
    "def my_function():\n",
    "    print(\"This is the function output.\")\n",
    "\n",
    "my_function()\n"
   ]
  },
  {
   "cell_type": "code",
   "execution_count": null,
   "metadata": {},
   "outputs": [
    {
     "data": {
      "text/plain": [
       "8"
      ]
     },
     "execution_count": 68,
     "metadata": {},
     "output_type": "execute_result"
    }
   ],
   "source": [
    "#Lambda / Anonymous function / single line function / function with no name.\n",
    "\n",
    "a = lambda a, b: a*b \n",
    "\n",
    "a(2,4)"
   ]
  },
  {
   "cell_type": "code",
   "execution_count": 71,
   "metadata": {},
   "outputs": [
    {
     "data": {
      "text/plain": [
       "False"
      ]
     },
     "execution_count": 71,
     "metadata": {},
     "output_type": "execute_result"
    }
   ],
   "source": [
    "b = lambda x:x % 2 == 0\n",
    "\n",
    "b(21)"
   ]
  },
  {
   "cell_type": "code",
   "execution_count": 93,
   "metadata": {},
   "outputs": [
    {
     "data": {
      "text/plain": [
       "'iruag'"
      ]
     },
     "execution_count": 93,
     "metadata": {},
     "output_type": "execute_result"
    }
   ],
   "source": [
    "#Reverse a string using Lambda.\n",
    "\n",
    "s = lambda d:d[::-1]\n",
    "s(\"gauri\")\n"
   ]
  },
  {
   "cell_type": "code",
   "execution_count": 94,
   "metadata": {},
   "outputs": [
    {
     "data": {
      "text/plain": [
       "89"
      ]
     },
     "execution_count": 94,
     "metadata": {},
     "output_type": "execute_result"
    }
   ],
   "source": [
    "#Maximum of two numbers using lambda.\n",
    "\n",
    "a = lambda a, b:max(a,b)\n",
    "a(89,21)\n"
   ]
  },
  {
   "cell_type": "code",
   "execution_count": null,
   "metadata": {},
   "outputs": [
    {
     "data": {
      "text/plain": [
       "105"
      ]
     },
     "execution_count": 113,
     "metadata": {},
     "output_type": "execute_result"
    }
   ],
   "source": [
    "#Max of three numbers using lambda.\n",
    "\n",
    "# a = lambda a, b, c:max(a,b,c)\n",
    "# a(10,15,25)\n",
    "\n",
    "max_of_three = lambda a, b, c: a if (a >= b and a >= c) else (b if b >= c else c)\n",
    "max_of_three(15, 89, 105)"
   ]
  },
  {
   "cell_type": "code",
   "execution_count": 116,
   "metadata": {},
   "outputs": [
    {
     "data": {
      "text/plain": [
       "'odd'"
      ]
     },
     "execution_count": 116,
     "metadata": {},
     "output_type": "execute_result"
    }
   ],
   "source": [
    "#Using lambda even or odd.\n",
    "#Task: the function should return 'even' for even value and 'odd for odd value.\n",
    "\n",
    "even_or_odd = lambda x: 'even' if x % 2 == 0 else 'odd'\n",
    "\n",
    "even_or_odd(90)\n",
    "even_or_odd(45)"
   ]
  },
  {
   "cell_type": "code",
   "execution_count": 120,
   "metadata": {},
   "outputs": [
    {
     "name": "stdout",
     "output_type": "stream",
     "text": [
      "Sorted by keys: {'apple': 2, 'cherry': 3, 'dragon fruit': 1}\n"
     ]
    }
   ],
   "source": [
    "#Sort a dictionary using Lambda. (Sorted method)  ----> Read documentations of sort and sorted.\n",
    "\n",
    "#Sorting by Keys\n",
    "\n",
    "my_dict = {'cherry': 3, 'dragon fruit': 1, 'apple': 2}\n",
    "sorted_by_keys = dict(sorted(my_dict.items(), key=lambda item: item[0]))\n",
    "\n",
    "print(\"Sorted by keys:\", sorted_by_keys)\n"
   ]
  },
  {
   "cell_type": "code",
   "execution_count": 121,
   "metadata": {},
   "outputs": [
    {
     "name": "stdout",
     "output_type": "stream",
     "text": [
      "Sorted by values: {'dragon fruit': 1, 'apple': 2, 'cherry': 3}\n"
     ]
    }
   ],
   "source": [
    "#Sorting by values\n",
    "\n",
    "sorted_by_values = dict(sorted(my_dict.items(), key=lambda item: item[1]))\n",
    "\n",
    "print(\"Sorted by values:\", sorted_by_values)"
   ]
  },
  {
   "cell_type": "code",
   "execution_count": 122,
   "metadata": {},
   "outputs": [
    {
     "name": "stdout",
     "output_type": "stream",
     "text": [
      "['a', 'ab', 'abc', 'aaaa']\n"
     ]
    }
   ],
   "source": [
    "#Sort a list using Sorted() and lambda\n",
    "#Task: input = ['abc', 'ab', 'a', 'aaaa']\n",
    "# Output = ['a', 'ab', 'abc', 'aaaa']\n",
    "\n",
    "input_list = ['abc', 'ab', 'a', 'aaaa']\n",
    "sorted_list = sorted(input_list, key=lambda x: len(x))\n",
    "\n",
    "print(sorted_list)"
   ]
  },
  {
   "cell_type": "markdown",
   "metadata": {},
   "source": [
    "####################################################################################################"
   ]
  },
  {
   "cell_type": "code",
   "execution_count": 5,
   "metadata": {},
   "outputs": [
    {
     "name": "stdout",
     "output_type": "stream",
     "text": [
      "10\n",
      "9\n",
      "8\n",
      "7\n",
      "6\n",
      "5\n",
      "4\n",
      "3\n",
      "2\n",
      "1\n"
     ]
    }
   ],
   "source": [
    "for x in range(10, 0, -1):\n",
    "    print(x)"
   ]
  },
  {
   "cell_type": "code",
   "execution_count": 6,
   "metadata": {},
   "outputs": [
    {
     "name": "stdout",
     "output_type": "stream",
     "text": [
      "0 0\n",
      "0 1\n",
      "0 2\n",
      "1 0\n",
      "1 1\n",
      "1 2\n",
      "2 0\n",
      "2 1\n",
      "2 2\n",
      "3 0\n",
      "3 1\n",
      "3 2\n",
      "4 0\n",
      "4 1\n",
      "4 2\n"
     ]
    }
   ],
   "source": [
    "for x in range(5):\n",
    "    for y in range(3):\n",
    "        print(x, y)"
   ]
  },
  {
   "cell_type": "code",
   "execution_count": 7,
   "metadata": {},
   "outputs": [
    {
     "name": "stdout",
     "output_type": "stream",
     "text": [
      "15\n"
     ]
    }
   ],
   "source": [
    "a = [1, 2, 3, 4, 5]\n",
    "sum = 0\n",
    "for ele in a:\n",
    "   sum += ele \n",
    "print(sum)"
   ]
  },
  {
   "cell_type": "code",
   "execution_count": 8,
   "metadata": {},
   "outputs": [
    {
     "name": "stdout",
     "output_type": "stream",
     "text": [
      "[2, 4, 7, 19, 22, 45, 72, 89]\n"
     ]
    }
   ],
   "source": [
    "numbers = (4, 7, 19, 2, 89, 45, 72, 22)\n",
    "sorted_numbers = sorted(numbers)\n",
    "print(sorted_numbers)"
   ]
  },
  {
   "cell_type": "code",
   "execution_count": 10,
   "metadata": {},
   "outputs": [
    {
     "name": "stdout",
     "output_type": "stream",
     "text": [
      "five neither thrive three "
     ]
    }
   ],
   "source": [
    "def thrive(n):\n",
    " if n % 15 == 0:\n",
    "   print(\"thrive\", end = \" \")\n",
    " elif n % 3 != 0 and n % 5 != 0:\n",
    "   print(\"neither\", end = \" \")\n",
    " elif n % 3 == 0:\n",
    "   print(\"three\", end = \" \")\n",
    " elif n % 5 == 0:\n",
    "   print(\"five\", end = \" \")\n",
    "thrive(35)\n",
    "thrive(56)\n",
    "thrive(15)\n",
    "thrive(39)"
   ]
  },
  {
   "cell_type": "code",
   "execution_count": 11,
   "metadata": {},
   "outputs": [
    {
     "name": "stdout",
     "output_type": "stream",
     "text": [
      "<class 'filter'>\n"
     ]
    }
   ],
   "source": [
    "numbers = (4, 7, 19, 2, 89, 45, 72, 22)\n",
    "sorted_numbers = sorted(numbers)\n",
    "even = lambda a: a % 2 == 0\n",
    "even_numbers = filter(even, sorted_numbers)\n",
    "print(type(even_numbers))"
   ]
  },
  {
   "cell_type": "code",
   "execution_count": 12,
   "metadata": {},
   "outputs": [
    {
     "name": "stdout",
     "output_type": "stream",
     "text": [
      "{'first': 'sunday', 'second': 'monday', 1: 3, 2: 4}\n"
     ]
    }
   ],
   "source": [
    "dict1 = {'first' : 'sunday', 'second' : 'monday'}\n",
    "dict2 = {1: 3, 2: 4}\n",
    "dict1.update(dict2)\n",
    "print(dict1)"
   ]
  },
  {
   "cell_type": "code",
   "execution_count": 13,
   "metadata": {},
   "outputs": [
    {
     "name": "stdout",
     "output_type": "stream",
     "text": [
      "{1, 2, 3, 4, 5}\n"
     ]
    }
   ],
   "source": [
    "s = {1, 2, 3, 3, 2, 4, 5, 5}\n",
    "print(s)"
   ]
  },
  {
   "cell_type": "code",
   "execution_count": 18,
   "metadata": {},
   "outputs": [
    {
     "name": "stdout",
     "output_type": "stream",
     "text": [
      "{'World': 'Hello', 1: 'First'}\n",
      "dict_items([('Hello', 'World'), ('First', 1)])\n",
      "dict_keys(['Hello', 'First'])\n",
      "dict_values(['World', 1])\n"
     ]
    }
   ],
   "source": [
    "a = {'Hello':'World', 'First': 1}\n",
    "b = {val: k for k , val in a.items()}\n",
    "print(b)\n",
    "print(a.items())\n",
    "print(a.keys())\n",
    "print(a.values())"
   ]
  },
  {
   "cell_type": "code",
   "execution_count": 20,
   "metadata": {},
   "outputs": [
    {
     "name": "stdout",
     "output_type": "stream",
     "text": [
      "0\n",
      "1\n",
      "2\n",
      "3\n",
      "4\n"
     ]
    }
   ],
   "source": [
    "for i in range(5):\n",
    "    print(i)"
   ]
  },
  {
   "cell_type": "code",
   "execution_count": 21,
   "metadata": {},
   "outputs": [
    {
     "name": "stdout",
     "output_type": "stream",
     "text": [
      "2 3 -3 3.3\n"
     ]
    }
   ],
   "source": [
    "from math import *\n",
    "a = 2.19\n",
    "b = 3.999999\n",
    "c = -3.30\n",
    "print(int(a), floor(b), ceil(c), fabs(c))"
   ]
  },
  {
   "cell_type": "code",
   "execution_count": 23,
   "metadata": {},
   "outputs": [],
   "source": [
    "set1 = {1, 3, 5}\n",
    "set2 = {2, 4, 6}\n",
    "# print(len(set1 + set2))"
   ]
  },
  {
   "cell_type": "code",
   "execution_count": 26,
   "metadata": {},
   "outputs": [
    {
     "name": "stdout",
     "output_type": "stream",
     "text": [
      "{1, 3, 5, 6}\n"
     ]
    }
   ],
   "source": [
    "s1 = {1, 2, 3, 4, 5}\n",
    "s2 = {2, 4, 6}\n",
    "print(s1 ^ s2)"
   ]
  },
  {
   "cell_type": "code",
   "execution_count": 28,
   "metadata": {},
   "outputs": [
    {
     "name": "stdout",
     "output_type": "stream",
     "text": [
      "['abc', [0], 1]\n"
     ]
    }
   ],
   "source": [
    "a = [[], \"abc\", [0], 1, 0]\n",
    "print(list(filter(bool, a)))"
   ]
  },
  {
   "cell_type": "code",
   "execution_count": 29,
   "metadata": {},
   "outputs": [
    {
     "name": "stdout",
     "output_type": "stream",
     "text": [
      "10\n"
     ]
    }
   ],
   "source": [
    "def solve(a, b):\n",
    "   return b if a == 0 else solve(b % a, a)\n",
    "print(solve(20, 50))"
   ]
  },
  {
   "cell_type": "code",
   "execution_count": 30,
   "metadata": {},
   "outputs": [
    {
     "name": "stdout",
     "output_type": "stream",
     "text": [
      "[2, 4, 6]\n",
      "[2, 4, 6]\n"
     ]
    }
   ],
   "source": [
    "def solve(a):\n",
    "   a = [1, 3, 5]\n",
    "a = [2, 4, 6]\n",
    "print(a)\n",
    "solve(a)\n",
    "print(a)"
   ]
  },
  {
   "cell_type": "code",
   "execution_count": 33,
   "metadata": {},
   "outputs": [
    {
     "name": "stdout",
     "output_type": "stream",
     "text": [
      "[1, 2, 3]\n"
     ]
    }
   ],
   "source": [
    "x = [1, 2, 3];\n",
    "print(x)"
   ]
  },
  {
   "cell_type": "code",
   "execution_count": 34,
   "metadata": {},
   "outputs": [
    {
     "name": "stdout",
     "output_type": "stream",
     "text": [
      "You entered:  59\n"
     ]
    }
   ],
   "source": [
    "user_input = input(\"Enter a number: \");\n",
    "print(\"You entered: \", int(user_input))"
   ]
  },
  {
   "cell_type": "code",
   "execution_count": 49,
   "metadata": {},
   "outputs": [
    {
     "data": {
      "text/plain": [
       "[[], [], []]"
      ]
     },
     "execution_count": 49,
     "metadata": {},
     "output_type": "execute_result"
    }
   ],
   "source": [
    "list1 = [1, -2, 3]\n",
    "# r = [[i+j for i in list2] for j in list1]\n",
    "r"
   ]
  },
  {
   "cell_type": "code",
   "execution_count": 48,
   "metadata": {},
   "outputs": [
    {
     "name": "stdout",
     "output_type": "stream",
     "text": [
      "['B', 'C', 'D', 'F', 'G']\n"
     ]
    }
   ],
   "source": [
    "x = [i for i in 'ABCDEFG' if i not in 'AEIOUaeiou']\n",
    "print(x)"
   ]
  },
  {
   "cell_type": "code",
   "execution_count": 53,
   "metadata": {},
   "outputs": [
    {
     "name": "stdout",
     "output_type": "stream",
     "text": [
      "True\n"
     ]
    }
   ],
   "source": [
    "x = 10\n",
    "if x > 5:\n",
    "    print(bool(1))\n",
    "else:\n",
    "    print(bool(0))"
   ]
  },
  {
   "cell_type": "code",
   "execution_count": 54,
   "metadata": {},
   "outputs": [
    {
     "data": {
      "text/plain": [
       "[0, 0, 0, 0, 1]"
      ]
     },
     "execution_count": 54,
     "metadata": {},
     "output_type": "execute_result"
    }
   ],
   "source": [
    "y = [i//4 for i in range(5)]\n",
    "y"
   ]
  },
  {
   "cell_type": "code",
   "execution_count": 57,
   "metadata": {},
   "outputs": [
    {
     "name": "stdout",
     "output_type": "stream",
     "text": [
      "Yes\n"
     ]
    }
   ],
   "source": [
    "if x > 5:\n",
    "    print(\"Yes\")\n",
    "elif x < 10:\n",
    "    print(\"No\")"
   ]
  },
  {
   "cell_type": "code",
   "execution_count": 60,
   "metadata": {},
   "outputs": [
    {
     "name": "stdout",
     "output_type": "stream",
     "text": [
      "0\n",
      "1\n",
      "2\n"
     ]
    }
   ],
   "source": [
    "for i in range(3):\n",
    "    print(i)"
   ]
  },
  {
   "cell_type": "code",
   "execution_count": 61,
   "metadata": {},
   "outputs": [
    {
     "data": {
      "text/plain": [
       "6"
      ]
     },
     "execution_count": 61,
     "metadata": {},
     "output_type": "execute_result"
    }
   ],
   "source": [
    "x = 4+3 and 6 or 4>5 + 2\n",
    "x"
   ]
  },
  {
   "cell_type": "code",
   "execution_count": 62,
   "metadata": {},
   "outputs": [
    {
     "name": "stdout",
     "output_type": "stream",
     "text": [
      "1\n",
      "2\n",
      "3\n"
     ]
    }
   ],
   "source": [
    "for x in [1, 2, 3]:\n",
    "    print(x)"
   ]
  },
  {
   "cell_type": "code",
   "execution_count": 63,
   "metadata": {},
   "outputs": [
    {
     "name": "stdout",
     "output_type": "stream",
     "text": [
      "Python\n",
      "Python\n"
     ]
    }
   ],
   "source": [
    "for i in range(0, 4):\n",
    "    if(i%2 == 0):\n",
    "        print(\"Python\")"
   ]
  },
  {
   "cell_type": "code",
   "execution_count": 86,
   "metadata": {},
   "outputs": [
    {
     "name": "stdout",
     "output_type": "stream",
     "text": [
      "True\n"
     ]
    }
   ],
   "source": [
    "x = False\n",
    "y = True\n",
    "#print(x)\n",
    "print(x|y)"
   ]
  },
  {
   "cell_type": "code",
   "execution_count": 75,
   "metadata": {},
   "outputs": [
    {
     "name": "stdout",
     "output_type": "stream",
     "text": [
      "False\n",
      "<class 'bool'>\n"
     ]
    }
   ],
   "source": [
    "print(6+4!=~4+15)\n",
    "p = 6+4!=~4+15\n",
    "print(type(p))"
   ]
  },
  {
   "cell_type": "code",
   "execution_count": 91,
   "metadata": {},
   "outputs": [
    {
     "data": {
      "text/plain": [
       "False"
      ]
     },
     "execution_count": 91,
     "metadata": {},
     "output_type": "execute_result"
    }
   ],
   "source": [
    "x = (6 > 7 < 3 + 3)\n",
    "x\n"
   ]
  },
  {
   "cell_type": "code",
   "execution_count": 88,
   "metadata": {},
   "outputs": [
    {
     "data": {
      "text/plain": [
       "True"
      ]
     },
     "execution_count": 88,
     "metadata": {},
     "output_type": "execute_result"
    }
   ],
   "source": [
    "y = (6 > False)\n",
    "y"
   ]
  },
  {
   "cell_type": "code",
   "execution_count": 89,
   "metadata": {},
   "outputs": [
    {
     "data": {
      "text/plain": [
       "True"
      ]
     },
     "execution_count": 89,
     "metadata": {},
     "output_type": "execute_result"
    }
   ],
   "source": [
    "y = (False < 6)\n",
    "y"
   ]
  },
  {
   "cell_type": "code",
   "execution_count": 92,
   "metadata": {},
   "outputs": [
    {
     "name": "stdout",
     "output_type": "stream",
     "text": [
      "Looping\n"
     ]
    }
   ],
   "source": [
    "while True:\n",
    "    print(\"Looping\");\n",
    "    break"
   ]
  },
  {
   "cell_type": "code",
   "execution_count": 99,
   "metadata": {},
   "outputs": [
    {
     "data": {
      "text/plain": [
       "[2, 4, 6, [2, 4, 67]]"
      ]
     },
     "execution_count": 99,
     "metadata": {},
     "output_type": "execute_result"
    }
   ],
   "source": [
    "l1 = [2, 4, 6]\n",
    "l2 = [2, 4, 67]\n",
    "# l1 + l2\n",
    "l1.append(l2)\n",
    "l1"
   ]
  },
  {
   "cell_type": "code",
   "execution_count": 101,
   "metadata": {},
   "outputs": [],
   "source": [
    "a = 1245\n",
    "# a.isdigit()"
   ]
  },
  {
   "cell_type": "code",
   "execution_count": null,
   "metadata": {},
   "outputs": [],
   "source": []
  }
 ],
 "metadata": {
  "kernelspec": {
   "display_name": "Python 3",
   "language": "python",
   "name": "python3"
  },
  "language_info": {
   "codemirror_mode": {
    "name": "ipython",
    "version": 3
   },
   "file_extension": ".py",
   "mimetype": "text/x-python",
   "name": "python",
   "nbconvert_exporter": "python",
   "pygments_lexer": "ipython3",
   "version": "3.12.3"
  }
 },
 "nbformat": 4,
 "nbformat_minor": 2
}
