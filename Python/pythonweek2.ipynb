{
 "cells": [
  {
   "cell_type": "markdown",
   "id": "eec1a531",
   "metadata": {},
   "source": [
    "# PYTHON DAY 6"
   ]
  },
  {
   "cell_type": "code",
   "execution_count": null,
   "id": "6795fc6e",
   "metadata": {},
   "outputs": [],
   "source": [
    "#LIST Comprehension\n",
    "\n",
    "l = []\n",
    "for i in range(10):\n",
    "    if i % 2 == 0:\n",
    "        l.append(i)"
   ]
  },
  {
   "cell_type": "code",
   "execution_count": 6,
   "id": "f60908b6",
   "metadata": {},
   "outputs": [
    {
     "data": {
      "text/plain": [
       "[0, 2, 4]"
      ]
     },
     "execution_count": 6,
     "metadata": {},
     "output_type": "execute_result"
    }
   ],
   "source": [
    "l = [i for i in range(5) if i % 2 == 0]\n",
    "l"
   ]
  },
  {
   "cell_type": "code",
   "execution_count": 7,
   "id": "49fc4b68",
   "metadata": {},
   "outputs": [],
   "source": [
    "# Traditional for Loop \n",
    "# for(set of values to iterate):\n",
    "#     if(conditional filtering):\n",
    "#         output_expression()\n",
    "\n",
    "#Trasnlated to list comprehension:\n",
    "# The same gets implemented in a simple LC construct in a single line as:\n",
    "# [ output_expression() for(set of values to iterate) if(conditional filtering) ]\n",
    "\n",
    "# [e**2 for e in a_list if type(e) == types.IntType]\n",
    "# (e**2 --> output Expression)\n",
    "# (e --> variable)\n",
    "# (in a_list --> input sequence)\n",
    "# (if type(e) == types.IntType --> optional predicate)\n"
   ]
  },
  {
   "cell_type": "code",
   "execution_count": 15,
   "id": "c1e5cc06",
   "metadata": {},
   "outputs": [
    {
     "data": {
      "text/plain": [
       "[0,\n",
       " 7,\n",
       " 14,\n",
       " 21,\n",
       " 28,\n",
       " 35,\n",
       " 42,\n",
       " 49,\n",
       " 56,\n",
       " 63,\n",
       " 70,\n",
       " 77,\n",
       " 84,\n",
       " 91,\n",
       " 98,\n",
       " 105,\n",
       " 112,\n",
       " 119,\n",
       " 126,\n",
       " 133,\n",
       " 140,\n",
       " 147,\n",
       " 154,\n",
       " 161,\n",
       " 168,\n",
       " 175,\n",
       " 182,\n",
       " 189,\n",
       " 196,\n",
       " 203,\n",
       " 210,\n",
       " 217,\n",
       " 224,\n",
       " 231,\n",
       " 238,\n",
       " 245,\n",
       " 252,\n",
       " 259,\n",
       " 266,\n",
       " 273,\n",
       " 280,\n",
       " 287,\n",
       " 294,\n",
       " 301,\n",
       " 308,\n",
       " 315,\n",
       " 322,\n",
       " 329,\n",
       " 336,\n",
       " 343,\n",
       " 350,\n",
       " 357,\n",
       " 364,\n",
       " 371,\n",
       " 378,\n",
       " 385,\n",
       " 392,\n",
       " 399,\n",
       " 406,\n",
       " 413,\n",
       " 420,\n",
       " 427,\n",
       " 434,\n",
       " 441,\n",
       " 448,\n",
       " 455,\n",
       " 462,\n",
       " 469,\n",
       " 476,\n",
       " 483,\n",
       " 490,\n",
       " 497,\n",
       " 504,\n",
       " 511,\n",
       " 518,\n",
       " 525,\n",
       " 532,\n",
       " 539,\n",
       " 546,\n",
       " 553,\n",
       " 560,\n",
       " 567,\n",
       " 574,\n",
       " 581,\n",
       " 588,\n",
       " 595,\n",
       " 602,\n",
       " 609,\n",
       " 616,\n",
       " 623,\n",
       " 630,\n",
       " 637,\n",
       " 644,\n",
       " 651,\n",
       " 658,\n",
       " 665,\n",
       " 672,\n",
       " 679,\n",
       " 686,\n",
       " 693,\n",
       " 700,\n",
       " 707,\n",
       " 714,\n",
       " 721,\n",
       " 728,\n",
       " 735,\n",
       " 742,\n",
       " 749,\n",
       " 756,\n",
       " 763,\n",
       " 770,\n",
       " 777,\n",
       " 784,\n",
       " 791,\n",
       " 798,\n",
       " 805,\n",
       " 812,\n",
       " 819,\n",
       " 826,\n",
       " 833,\n",
       " 840,\n",
       " 847,\n",
       " 854,\n",
       " 861,\n",
       " 868,\n",
       " 875,\n",
       " 882,\n",
       " 889,\n",
       " 896,\n",
       " 903,\n",
       " 910,\n",
       " 917,\n",
       " 924,\n",
       " 931,\n",
       " 938,\n",
       " 945,\n",
       " 952,\n",
       " 959,\n",
       " 966,\n",
       " 973,\n",
       " 980,\n",
       " 987,\n",
       " 994]"
      ]
     },
     "execution_count": 15,
     "metadata": {},
     "output_type": "execute_result"
    }
   ],
   "source": [
    "#Find all of the numbers from 1-1000 that are divisible by 7. \n",
    "l = [i for i in range(1000) if i % 7 == 0]\n",
    "l"
   ]
  },
  {
   "cell_type": "code",
   "execution_count": null,
   "id": "979b6c76",
   "metadata": {},
   "outputs": [
    {
     "data": {
      "text/plain": [
       "[3,\n",
       " 13,\n",
       " 23,\n",
       " 30,\n",
       " 31,\n",
       " 32,\n",
       " 33,\n",
       " 34,\n",
       " 35,\n",
       " 36,\n",
       " 37,\n",
       " 38,\n",
       " 39,\n",
       " 43,\n",
       " 53,\n",
       " 63,\n",
       " 73,\n",
       " 83,\n",
       " 93,\n",
       " 103,\n",
       " 113,\n",
       " 123,\n",
       " 130,\n",
       " 131,\n",
       " 132,\n",
       " 133,\n",
       " 134,\n",
       " 135,\n",
       " 136,\n",
       " 137,\n",
       " 138,\n",
       " 139,\n",
       " 143,\n",
       " 153,\n",
       " 163,\n",
       " 173,\n",
       " 183,\n",
       " 193,\n",
       " 203,\n",
       " 213,\n",
       " 223,\n",
       " 230,\n",
       " 231,\n",
       " 232,\n",
       " 233,\n",
       " 234,\n",
       " 235,\n",
       " 236,\n",
       " 237,\n",
       " 238,\n",
       " 239,\n",
       " 243,\n",
       " 253,\n",
       " 263,\n",
       " 273,\n",
       " 283,\n",
       " 293,\n",
       " 300,\n",
       " 301,\n",
       " 302,\n",
       " 303,\n",
       " 304,\n",
       " 305,\n",
       " 306,\n",
       " 307,\n",
       " 308,\n",
       " 309,\n",
       " 310,\n",
       " 311,\n",
       " 312,\n",
       " 313,\n",
       " 314,\n",
       " 315,\n",
       " 316,\n",
       " 317,\n",
       " 318,\n",
       " 319,\n",
       " 320,\n",
       " 321,\n",
       " 322,\n",
       " 323,\n",
       " 324,\n",
       " 325,\n",
       " 326,\n",
       " 327,\n",
       " 328,\n",
       " 329,\n",
       " 330,\n",
       " 331,\n",
       " 332,\n",
       " 333,\n",
       " 334,\n",
       " 335,\n",
       " 336,\n",
       " 337,\n",
       " 338,\n",
       " 339,\n",
       " 340,\n",
       " 341,\n",
       " 342,\n",
       " 343,\n",
       " 344,\n",
       " 345,\n",
       " 346,\n",
       " 347,\n",
       " 348,\n",
       " 349,\n",
       " 350,\n",
       " 351,\n",
       " 352,\n",
       " 353,\n",
       " 354,\n",
       " 355,\n",
       " 356,\n",
       " 357,\n",
       " 358,\n",
       " 359,\n",
       " 360,\n",
       " 361,\n",
       " 362,\n",
       " 363,\n",
       " 364,\n",
       " 365,\n",
       " 366,\n",
       " 367,\n",
       " 368,\n",
       " 369,\n",
       " 370,\n",
       " 371,\n",
       " 372,\n",
       " 373,\n",
       " 374,\n",
       " 375,\n",
       " 376,\n",
       " 377,\n",
       " 378,\n",
       " 379,\n",
       " 380,\n",
       " 381,\n",
       " 382,\n",
       " 383,\n",
       " 384,\n",
       " 385,\n",
       " 386,\n",
       " 387,\n",
       " 388,\n",
       " 389,\n",
       " 390,\n",
       " 391,\n",
       " 392,\n",
       " 393,\n",
       " 394,\n",
       " 395,\n",
       " 396,\n",
       " 397,\n",
       " 398,\n",
       " 399,\n",
       " 403,\n",
       " 413,\n",
       " 423,\n",
       " 430,\n",
       " 431,\n",
       " 432,\n",
       " 433,\n",
       " 434,\n",
       " 435,\n",
       " 436,\n",
       " 437,\n",
       " 438,\n",
       " 439,\n",
       " 443,\n",
       " 453,\n",
       " 463,\n",
       " 473,\n",
       " 483,\n",
       " 493,\n",
       " 503,\n",
       " 513,\n",
       " 523,\n",
       " 530,\n",
       " 531,\n",
       " 532,\n",
       " 533,\n",
       " 534,\n",
       " 535,\n",
       " 536,\n",
       " 537,\n",
       " 538,\n",
       " 539,\n",
       " 543,\n",
       " 553,\n",
       " 563,\n",
       " 573,\n",
       " 583,\n",
       " 593,\n",
       " 603,\n",
       " 613,\n",
       " 623,\n",
       " 630,\n",
       " 631,\n",
       " 632,\n",
       " 633,\n",
       " 634,\n",
       " 635,\n",
       " 636,\n",
       " 637,\n",
       " 638,\n",
       " 639,\n",
       " 643,\n",
       " 653,\n",
       " 663,\n",
       " 673,\n",
       " 683,\n",
       " 693,\n",
       " 703,\n",
       " 713,\n",
       " 723,\n",
       " 730,\n",
       " 731,\n",
       " 732,\n",
       " 733,\n",
       " 734,\n",
       " 735,\n",
       " 736,\n",
       " 737,\n",
       " 738,\n",
       " 739,\n",
       " 743,\n",
       " 753,\n",
       " 763,\n",
       " 773,\n",
       " 783,\n",
       " 793,\n",
       " 803,\n",
       " 813,\n",
       " 823,\n",
       " 830,\n",
       " 831,\n",
       " 832,\n",
       " 833,\n",
       " 834,\n",
       " 835,\n",
       " 836,\n",
       " 837,\n",
       " 838,\n",
       " 839,\n",
       " 843,\n",
       " 853,\n",
       " 863,\n",
       " 873,\n",
       " 883,\n",
       " 893,\n",
       " 903,\n",
       " 913,\n",
       " 923,\n",
       " 930,\n",
       " 931,\n",
       " 932,\n",
       " 933,\n",
       " 934,\n",
       " 935,\n",
       " 936,\n",
       " 937,\n",
       " 938,\n",
       " 939,\n",
       " 943,\n",
       " 953,\n",
       " 963,\n",
       " 973,\n",
       " 983,\n",
       " 993]"
      ]
     },
     "execution_count": 18,
     "metadata": {},
     "output_type": "execute_result"
    }
   ],
   "source": [
    "#Find all of the numbers from 1-1000 that have a 3 in them\n",
    "\n",
    "numbers_with_3 = [num for num in range(1, 1001) if '3' in str(num)]\n",
    "numbers_with_3\n"
   ]
  },
  {
   "cell_type": "code",
   "execution_count": null,
   "id": "edfa1e42",
   "metadata": {},
   "outputs": [
    {
     "name": "stdout",
     "output_type": "stream",
     "text": [
      "2\n"
     ]
    }
   ],
   "source": [
    "#Count the number of spaces in a string\n",
    "\n",
    "str = \"Python Week 2\"\n",
    "space_count = sum(1 for char in str if char == ' ')\n",
    "print(space_count)"
   ]
  },
  {
   "cell_type": "code",
   "execution_count": 27,
   "id": "0b9cb695",
   "metadata": {},
   "outputs": [
    {
     "data": {
      "text/plain": [
       "['Yello',\n",
       " 'Yaks',\n",
       " 'like',\n",
       " 'yelling',\n",
       " 'and',\n",
       " 'yawning',\n",
       " 'and',\n",
       " 'yesturday',\n",
       " 'they',\n",
       " 'yodled',\n",
       " 'while',\n",
       " 'eating',\n",
       " 'yuky',\n",
       " 'yams']"
      ]
     },
     "execution_count": 27,
     "metadata": {},
     "output_type": "execute_result"
    }
   ],
   "source": [
    "#Create a list of all the components in a string \n",
    "#\"Yello Yaks like yelling and yawning and yesturday they yodled while eating yuky yams\"\n",
    "\n",
    "p = \"Yello Yaks like yelling and yawning and yesturday they yodled while eating yuky yams\"\n",
    "l = [i for i in p.split()]\n",
    "l\n"
   ]
  },
  {
   "cell_type": "code",
   "execution_count": 37,
   "id": "3e9625d2",
   "metadata": {},
   "outputs": [
    {
     "data": {
      "text/plain": [
       "[(0, (0, 'hi')),\n",
       " (1, (1, 4)),\n",
       " (2, (2, 8.99)),\n",
       " (3, (3, 'apple')),\n",
       " (4, (4, ('t,b', 'n')))]"
      ]
     },
     "execution_count": 37,
     "metadata": {},
     "output_type": "execute_result"
    }
   ],
   "source": [
    "#Get the index and the value as a tuple for item in the list\n",
    "# \"hi\", 4, 8.99, 'apple', ('t,b', 'n')\n",
    "#Result would look like (index, value), (index, value)\n",
    "\n",
    "li = [\"hi\", 4, 8.99, 'apple', ('t,b', 'n')]\n",
    "indx = [(index, value) for index, value in enumerate(indx)] # type: ignore\n",
    "indx"
   ]
  },
  {
   "cell_type": "code",
   "execution_count": 34,
   "id": "6a8e086a",
   "metadata": {},
   "outputs": [
    {
     "data": {
      "text/plain": [
       "[(0, 'hi'), (1, 4), (2, 8.99), (3, 'apple'), (4, ('t,b', 'n'))]"
      ]
     },
     "execution_count": 34,
     "metadata": {},
     "output_type": "execute_result"
    }
   ],
   "source": [
    "li = [\"hi\", 4, 8.99, 'apple', ('t,b', 'n')]\n",
    "indx = [(i, li[i]) for i in range(len(li))]\n",
    "indx"
   ]
  },
  {
   "cell_type": "code",
   "execution_count": 35,
   "id": "009758a7",
   "metadata": {},
   "outputs": [
    {
     "data": {
      "text/plain": [
       "[2, 3, 4]"
      ]
     },
     "execution_count": 35,
     "metadata": {},
     "output_type": "execute_result"
    }
   ],
   "source": [
    "#Find the common numbers in two lists (without using a tuple or set)\n",
    "list_a = 1, 2, 3, 4\n",
    "list_b = 2, 3, 4, 5\n",
    "\n",
    "common = [i for i in list_a if i in list_b]\n",
    "common"
   ]
  },
  {
   "cell_type": "code",
   "execution_count": null,
   "id": "f25beee3",
   "metadata": {},
   "outputs": [
    {
     "data": {
      "text/plain": [
       "[1984, 13, 1000]"
      ]
     },
     "execution_count": 44,
     "metadata": {},
     "output_type": "execute_result"
    }
   ],
   "source": [
    "# Get only the numbers in the sequence like\n",
    "# \"In 1984 there were 13 instances of a protest with over 1000 people attending\"\n",
    "\n",
    "para = \"In 1984 there were 13 instances of a protest with over 1000 people attending\"\n",
    "res = [int(i) for i in para.split() if i.isdigit()]\n",
    "res"
   ]
  },
  {
   "cell_type": "code",
   "execution_count": 48,
   "id": "b81b10fe",
   "metadata": {},
   "outputs": [
    {
     "data": {
      "text/plain": [
       "['even',\n",
       " 'odd',\n",
       " 'even',\n",
       " 'odd',\n",
       " 'even',\n",
       " 'odd',\n",
       " 'even',\n",
       " 'odd',\n",
       " 'even',\n",
       " 'odd',\n",
       " 'even',\n",
       " 'odd',\n",
       " 'even',\n",
       " 'odd',\n",
       " 'even',\n",
       " 'odd',\n",
       " 'even',\n",
       " 'odd',\n",
       " 'even',\n",
       " 'odd']"
      ]
     },
     "execution_count": 48,
     "metadata": {},
     "output_type": "execute_result"
    }
   ],
   "source": [
    "#Given numbers = range(20), produce a list containing the word 'even' if a number in the numbers is even, and the word odd if the number is odd. Result would look like 'odd', 'odd', 'even'.\n",
    "\n",
    "result = ['even' if num % 2 == 0 else 'odd' for num in range(20)]\n",
    "result"
   ]
  },
  {
   "cell_type": "code",
   "execution_count": 52,
   "id": "89c38ec4",
   "metadata": {},
   "outputs": [
    {
     "data": {
      "text/plain": [
       "[(1, 1), (2, 2), (7, 7)]"
      ]
     },
     "execution_count": 52,
     "metadata": {},
     "output_type": "execute_result"
    }
   ],
   "source": [
    "#Produce a list of tuples consisting of only the matching numbers in these lists\n",
    "list_a = 1, 2, 3, 4, 5, 6, 7, 8, 9\n",
    "list_b = 2, 7, 1, 12\n",
    "#Result would look like (4,4), (12,12)\n",
    "\n",
    "list = [(i,i) for i in list_a if i in list_b]\n",
    "list"
   ]
  },
  {
   "cell_type": "code",
   "execution_count": 54,
   "id": "ef7fd502",
   "metadata": {},
   "outputs": [
    {
     "data": {
      "text/plain": [
       "['In', '13', 'of', 'a']"
      ]
     },
     "execution_count": 54,
     "metadata": {},
     "output_type": "execute_result"
    }
   ],
   "source": [
    "#Find all of the words in a string that are less than 4 letters.\n",
    "strg = \"In 1984 there were 13 instances of a protest with over 1000 people attending\"\n",
    "ans = [i for i in strg.split() if len(i) < 4]\n",
    "ans"
   ]
  },
  {
   "cell_type": "code",
   "execution_count": 55,
   "id": "83d5aad0",
   "metadata": {},
   "outputs": [
    {
     "data": {
      "text/plain": [
       "[2,\n",
       " 3,\n",
       " 4,\n",
       " 5,\n",
       " 6,\n",
       " 7,\n",
       " 8,\n",
       " 9,\n",
       " 10,\n",
       " 12,\n",
       " 14,\n",
       " 15,\n",
       " 16,\n",
       " 18,\n",
       " 20,\n",
       " 21,\n",
       " 22,\n",
       " 24,\n",
       " 25,\n",
       " 26,\n",
       " 27,\n",
       " 28,\n",
       " 30,\n",
       " 32,\n",
       " 33,\n",
       " 34,\n",
       " 35,\n",
       " 36,\n",
       " 38,\n",
       " 39,\n",
       " 40,\n",
       " 42,\n",
       " 44,\n",
       " 45,\n",
       " 46,\n",
       " 48,\n",
       " 49,\n",
       " 50,\n",
       " 51,\n",
       " 52,\n",
       " 54,\n",
       " 55,\n",
       " 56,\n",
       " 57,\n",
       " 58,\n",
       " 60,\n",
       " 62,\n",
       " 63,\n",
       " 64,\n",
       " 65,\n",
       " 66,\n",
       " 68,\n",
       " 69,\n",
       " 70,\n",
       " 72,\n",
       " 74,\n",
       " 75,\n",
       " 76,\n",
       " 77,\n",
       " 78,\n",
       " 80,\n",
       " 81,\n",
       " 82,\n",
       " 84,\n",
       " 85,\n",
       " 86,\n",
       " 87,\n",
       " 88,\n",
       " 90,\n",
       " 91,\n",
       " 92,\n",
       " 93,\n",
       " 94,\n",
       " 95,\n",
       " 96,\n",
       " 98,\n",
       " 99,\n",
       " 100,\n",
       " 102,\n",
       " 104,\n",
       " 105,\n",
       " 106,\n",
       " 108,\n",
       " 110,\n",
       " 111,\n",
       " 112,\n",
       " 114,\n",
       " 115,\n",
       " 116,\n",
       " 117,\n",
       " 118,\n",
       " 119,\n",
       " 120,\n",
       " 122,\n",
       " 123,\n",
       " 124,\n",
       " 125,\n",
       " 126,\n",
       " 128,\n",
       " 129,\n",
       " 130,\n",
       " 132,\n",
       " 133,\n",
       " 134,\n",
       " 135,\n",
       " 136,\n",
       " 138,\n",
       " 140,\n",
       " 141,\n",
       " 142,\n",
       " 144,\n",
       " 145,\n",
       " 146,\n",
       " 147,\n",
       " 148,\n",
       " 150,\n",
       " 152,\n",
       " 153,\n",
       " 154,\n",
       " 155,\n",
       " 156,\n",
       " 158,\n",
       " 159,\n",
       " 160,\n",
       " 161,\n",
       " 162,\n",
       " 164,\n",
       " 165,\n",
       " 166,\n",
       " 168,\n",
       " 170,\n",
       " 171,\n",
       " 172,\n",
       " 174,\n",
       " 175,\n",
       " 176,\n",
       " 177,\n",
       " 178,\n",
       " 180,\n",
       " 182,\n",
       " 183,\n",
       " 184,\n",
       " 185,\n",
       " 186,\n",
       " 188,\n",
       " 189,\n",
       " 190,\n",
       " 192,\n",
       " 194,\n",
       " 195,\n",
       " 196,\n",
       " 198,\n",
       " 200,\n",
       " 201,\n",
       " 202,\n",
       " 203,\n",
       " 204,\n",
       " 205,\n",
       " 206,\n",
       " 207,\n",
       " 208,\n",
       " 210,\n",
       " 212,\n",
       " 213,\n",
       " 214,\n",
       " 215,\n",
       " 216,\n",
       " 217,\n",
       " 218,\n",
       " 219,\n",
       " 220,\n",
       " 222,\n",
       " 224,\n",
       " 225,\n",
       " 226,\n",
       " 228,\n",
       " 230,\n",
       " 231,\n",
       " 232,\n",
       " 234,\n",
       " 235,\n",
       " 236,\n",
       " 237,\n",
       " 238,\n",
       " 240,\n",
       " 242,\n",
       " 243,\n",
       " 244,\n",
       " 245,\n",
       " 246,\n",
       " 248,\n",
       " 249,\n",
       " 250,\n",
       " 252,\n",
       " 254,\n",
       " 255,\n",
       " 256,\n",
       " 258,\n",
       " 259,\n",
       " 260,\n",
       " 261,\n",
       " 262,\n",
       " 264,\n",
       " 265,\n",
       " 266,\n",
       " 267,\n",
       " 268,\n",
       " 270,\n",
       " 272,\n",
       " 273,\n",
       " 274,\n",
       " 275,\n",
       " 276,\n",
       " 278,\n",
       " 279,\n",
       " 280,\n",
       " 282,\n",
       " 284,\n",
       " 285,\n",
       " 286,\n",
       " 287,\n",
       " 288,\n",
       " 290,\n",
       " 291,\n",
       " 292,\n",
       " 294,\n",
       " 295,\n",
       " 296,\n",
       " 297,\n",
       " 298,\n",
       " 300,\n",
       " 301,\n",
       " 302,\n",
       " 303,\n",
       " 304,\n",
       " 305,\n",
       " 306,\n",
       " 308,\n",
       " 309,\n",
       " 310,\n",
       " 312,\n",
       " 314,\n",
       " 315,\n",
       " 316,\n",
       " 318,\n",
       " 320,\n",
       " 321,\n",
       " 322,\n",
       " 324,\n",
       " 325,\n",
       " 326,\n",
       " 327,\n",
       " 328,\n",
       " 329,\n",
       " 330,\n",
       " 332,\n",
       " 333,\n",
       " 334,\n",
       " 335,\n",
       " 336,\n",
       " 338,\n",
       " 339,\n",
       " 340,\n",
       " 342,\n",
       " 343,\n",
       " 344,\n",
       " 345,\n",
       " 346,\n",
       " 348,\n",
       " 350,\n",
       " 351,\n",
       " 352,\n",
       " 354,\n",
       " 355,\n",
       " 356,\n",
       " 357,\n",
       " 358,\n",
       " 360,\n",
       " 362,\n",
       " 363,\n",
       " 364,\n",
       " 365,\n",
       " 366,\n",
       " 368,\n",
       " 369,\n",
       " 370,\n",
       " 371,\n",
       " 372,\n",
       " 374,\n",
       " 375,\n",
       " 376,\n",
       " 378,\n",
       " 380,\n",
       " 381,\n",
       " 382,\n",
       " 384,\n",
       " 385,\n",
       " 386,\n",
       " 387,\n",
       " 388,\n",
       " 390,\n",
       " 392,\n",
       " 393,\n",
       " 394,\n",
       " 395,\n",
       " 396,\n",
       " 398,\n",
       " 399,\n",
       " 400,\n",
       " 402,\n",
       " 404,\n",
       " 405,\n",
       " 406,\n",
       " 408,\n",
       " 410,\n",
       " 411,\n",
       " 412,\n",
       " 413,\n",
       " 414,\n",
       " 415,\n",
       " 416,\n",
       " 417,\n",
       " 418,\n",
       " 420,\n",
       " 422,\n",
       " 423,\n",
       " 424,\n",
       " 425,\n",
       " 426,\n",
       " 427,\n",
       " 428,\n",
       " 429,\n",
       " 430,\n",
       " 432,\n",
       " 434,\n",
       " 435,\n",
       " 436,\n",
       " 438,\n",
       " 440,\n",
       " 441,\n",
       " 442,\n",
       " 444,\n",
       " 445,\n",
       " 446,\n",
       " 447,\n",
       " 448,\n",
       " 450,\n",
       " 452,\n",
       " 453,\n",
       " 454,\n",
       " 455,\n",
       " 456,\n",
       " 458,\n",
       " 459,\n",
       " 460,\n",
       " 462,\n",
       " 464,\n",
       " 465,\n",
       " 466,\n",
       " 468,\n",
       " 469,\n",
       " 470,\n",
       " 471,\n",
       " 472,\n",
       " 474,\n",
       " 475,\n",
       " 476,\n",
       " 477,\n",
       " 478,\n",
       " 480,\n",
       " 482,\n",
       " 483,\n",
       " 484,\n",
       " 485,\n",
       " 486,\n",
       " 488,\n",
       " 489,\n",
       " 490,\n",
       " 492,\n",
       " 494,\n",
       " 495,\n",
       " 496,\n",
       " 497,\n",
       " 498,\n",
       " 500,\n",
       " 501,\n",
       " 502,\n",
       " 504,\n",
       " 505,\n",
       " 506,\n",
       " 507,\n",
       " 508,\n",
       " 510,\n",
       " 511,\n",
       " 512,\n",
       " 513,\n",
       " 514,\n",
       " 515,\n",
       " 516,\n",
       " 518,\n",
       " 519,\n",
       " 520,\n",
       " 522,\n",
       " 524,\n",
       " 525,\n",
       " 526,\n",
       " 528,\n",
       " 530,\n",
       " 531,\n",
       " 532,\n",
       " 534,\n",
       " 535,\n",
       " 536,\n",
       " 537,\n",
       " 538,\n",
       " 539,\n",
       " 540,\n",
       " 542,\n",
       " 543,\n",
       " 544,\n",
       " 545,\n",
       " 546,\n",
       " 548,\n",
       " 549,\n",
       " 550,\n",
       " 552,\n",
       " 553,\n",
       " 554,\n",
       " 555,\n",
       " 556,\n",
       " 558,\n",
       " 560,\n",
       " 561,\n",
       " 562,\n",
       " 564,\n",
       " 565,\n",
       " 566,\n",
       " 567,\n",
       " 568,\n",
       " 570,\n",
       " 572,\n",
       " 573,\n",
       " 574,\n",
       " 575,\n",
       " 576,\n",
       " 578,\n",
       " 579,\n",
       " 580,\n",
       " 581,\n",
       " 582,\n",
       " 584,\n",
       " 585,\n",
       " 586,\n",
       " 588,\n",
       " 590,\n",
       " 591,\n",
       " 592,\n",
       " 594,\n",
       " 595,\n",
       " 596,\n",
       " 597,\n",
       " 598,\n",
       " 600,\n",
       " 602,\n",
       " 603,\n",
       " 604,\n",
       " 605,\n",
       " 606,\n",
       " 608,\n",
       " 609,\n",
       " 610,\n",
       " 612,\n",
       " 614,\n",
       " 615,\n",
       " 616,\n",
       " 618,\n",
       " 620,\n",
       " 621,\n",
       " 622,\n",
       " 623,\n",
       " 624,\n",
       " 625,\n",
       " 626,\n",
       " 627,\n",
       " 628,\n",
       " 630,\n",
       " 632,\n",
       " 633,\n",
       " 634,\n",
       " 635,\n",
       " 636,\n",
       " 637,\n",
       " 638,\n",
       " 639,\n",
       " 640,\n",
       " 642,\n",
       " 644,\n",
       " 645,\n",
       " 646,\n",
       " 648,\n",
       " 650,\n",
       " 651,\n",
       " 652,\n",
       " 654,\n",
       " 655,\n",
       " 656,\n",
       " 657,\n",
       " 658,\n",
       " 660,\n",
       " 662,\n",
       " 663,\n",
       " 664,\n",
       " 665,\n",
       " 666,\n",
       " 668,\n",
       " 669,\n",
       " 670,\n",
       " 672,\n",
       " 674,\n",
       " 675,\n",
       " 676,\n",
       " 678,\n",
       " 679,\n",
       " 680,\n",
       " 681,\n",
       " 682,\n",
       " 684,\n",
       " 685,\n",
       " 686,\n",
       " 687,\n",
       " 688,\n",
       " 690,\n",
       " 692,\n",
       " 693,\n",
       " 694,\n",
       " 695,\n",
       " 696,\n",
       " 698,\n",
       " 699,\n",
       " 700,\n",
       " 702,\n",
       " 704,\n",
       " 705,\n",
       " 706,\n",
       " 707,\n",
       " 708,\n",
       " 710,\n",
       " 711,\n",
       " 712,\n",
       " 714,\n",
       " 715,\n",
       " 716,\n",
       " 717,\n",
       " 718,\n",
       " 720,\n",
       " 721,\n",
       " 722,\n",
       " 723,\n",
       " 724,\n",
       " 725,\n",
       " 726,\n",
       " 728,\n",
       " 729,\n",
       " 730,\n",
       " 732,\n",
       " 734,\n",
       " 735,\n",
       " 736,\n",
       " 738,\n",
       " 740,\n",
       " 741,\n",
       " 742,\n",
       " 744,\n",
       " 745,\n",
       " 746,\n",
       " 747,\n",
       " 748,\n",
       " 749,\n",
       " 750,\n",
       " 752,\n",
       " 753,\n",
       " 754,\n",
       " 755,\n",
       " 756,\n",
       " 758,\n",
       " 759,\n",
       " 760,\n",
       " 762,\n",
       " 763,\n",
       " 764,\n",
       " 765,\n",
       " 766,\n",
       " 768,\n",
       " 770,\n",
       " 771,\n",
       " 772,\n",
       " 774,\n",
       " 775,\n",
       " 776,\n",
       " 777,\n",
       " 778,\n",
       " 780,\n",
       " 782,\n",
       " 783,\n",
       " 784,\n",
       " 785,\n",
       " 786,\n",
       " 788,\n",
       " 789,\n",
       " 790,\n",
       " 791,\n",
       " 792,\n",
       " 794,\n",
       " 795,\n",
       " 796,\n",
       " 798,\n",
       " 800,\n",
       " 801,\n",
       " 802,\n",
       " 804,\n",
       " 805,\n",
       " 806,\n",
       " 807,\n",
       " 808,\n",
       " 810,\n",
       " 812,\n",
       " 813,\n",
       " 814,\n",
       " 815,\n",
       " 816,\n",
       " 818,\n",
       " 819,\n",
       " 820,\n",
       " 822,\n",
       " 824,\n",
       " 825,\n",
       " 826,\n",
       " 828,\n",
       " 830,\n",
       " 831,\n",
       " 832,\n",
       " 833,\n",
       " 834,\n",
       " 835,\n",
       " 836,\n",
       " 837,\n",
       " 838,\n",
       " 840,\n",
       " 842,\n",
       " 843,\n",
       " 844,\n",
       " 845,\n",
       " 846,\n",
       " 847,\n",
       " 848,\n",
       " 849,\n",
       " 850,\n",
       " 852,\n",
       " 854,\n",
       " 855,\n",
       " 856,\n",
       " 858,\n",
       " 860,\n",
       " 861,\n",
       " 862,\n",
       " 864,\n",
       " 865,\n",
       " 866,\n",
       " 867,\n",
       " 868,\n",
       " 870,\n",
       " 872,\n",
       " 873,\n",
       " 874,\n",
       " 875,\n",
       " 876,\n",
       " 878,\n",
       " 879,\n",
       " 880,\n",
       " 882,\n",
       " 884,\n",
       " 885,\n",
       " 886,\n",
       " 888,\n",
       " 889,\n",
       " 890,\n",
       " 891,\n",
       " 892,\n",
       " 894,\n",
       " 895,\n",
       " 896,\n",
       " 897,\n",
       " 898,\n",
       " 900,\n",
       " 902,\n",
       " 903,\n",
       " 904,\n",
       " 905,\n",
       " 906,\n",
       " 908,\n",
       " 909,\n",
       " 910,\n",
       " 912,\n",
       " 914,\n",
       " 915,\n",
       " 916,\n",
       " 917,\n",
       " 918,\n",
       " 920,\n",
       " 921,\n",
       " 922,\n",
       " 924,\n",
       " 925,\n",
       " 926,\n",
       " 927,\n",
       " 928,\n",
       " 930,\n",
       " 931,\n",
       " 932,\n",
       " 933,\n",
       " 934,\n",
       " 935,\n",
       " 936,\n",
       " 938,\n",
       " 939,\n",
       " 940,\n",
       " 942,\n",
       " 944,\n",
       " 945,\n",
       " 946,\n",
       " 948,\n",
       " 950,\n",
       " 951,\n",
       " 952,\n",
       " 954,\n",
       " 955,\n",
       " 956,\n",
       " 957,\n",
       " 958,\n",
       " 959,\n",
       " 960,\n",
       " 962,\n",
       " 963,\n",
       " 964,\n",
       " 965,\n",
       " 966,\n",
       " 968,\n",
       " 969,\n",
       " 970,\n",
       " 972,\n",
       " 973,\n",
       " 974,\n",
       " 975,\n",
       " 976,\n",
       " 978,\n",
       " 980,\n",
       " 981,\n",
       " 982,\n",
       " 984,\n",
       " 985,\n",
       " 986,\n",
       " 987,\n",
       " 988,\n",
       " 990,\n",
       " 992,\n",
       " 993,\n",
       " 994,\n",
       " 995,\n",
       " 996,\n",
       " 998,\n",
       " 999]"
      ]
     },
     "execution_count": 55,
     "metadata": {},
     "output_type": "execute_result"
    }
   ],
   "source": [
    "#Use a nested list comprehension to find all of the numbers from 1-1000 that are divisible by any single digit besides 1 (2-9).\n",
    "result = [num for num in range(1, 1000) if True in [True for x in range(2, 10) if num % x == 0]]\n",
    "result"
   ]
  },
  {
   "cell_type": "code",
   "execution_count": 58,
   "id": "214bd579",
   "metadata": {},
   "outputs": [
    {
     "data": {
      "text/plain": [
       "{0: 0, 1: 1, 2: 4, 3: 9, 4: 16, 5: 25, 6: 36, 7: 49, 8: 64, 9: 81}"
      ]
     },
     "execution_count": 58,
     "metadata": {},
     "output_type": "execute_result"
    }
   ],
   "source": [
    "#Dictionary Comprehension\n",
    "d = {i: i**2 for i in range(10)}\n",
    "d"
   ]
  },
  {
   "cell_type": "code",
   "execution_count": 64,
   "id": "c08b54a3",
   "metadata": {},
   "outputs": [
    {
     "data": {
      "text/plain": [
       "{'a': 1, 'b': 2, 'c': 3}"
      ]
     },
     "execution_count": 64,
     "metadata": {},
     "output_type": "execute_result"
    }
   ],
   "source": [
    "#Convert two lists into a dictionary\n",
    "#Task: Given keys = ['a', 'b', 'c'] and values = [1, 2, 3], create a dictionary using dict comprehension.\n",
    "\n",
    "keys = ['a', 'b', 'c']\n",
    "values = [1, 2, 3]\n",
    "d = {keys[i]: values[i] for i in range(len(keys))}\n",
    "d"
   ]
  },
  {
   "cell_type": "code",
   "execution_count": 66,
   "id": "19a803b4",
   "metadata": {},
   "outputs": [
    {
     "data": {
      "text/plain": [
       "{1: 'a', 2: 'b', 3: 'c'}"
      ]
     },
     "execution_count": 66,
     "metadata": {},
     "output_type": "execute_result"
    }
   ],
   "source": [
    "# Invert a dictionary\n",
    "# Task: Invert a dictionary, swap it's keys and values. \n",
    "# original = {'a' : 1, 'b' : 2, 'c' : 3}\n",
    "# output = {1 : 'a', 2 : 'b', 3 : 'c'}\n",
    "dict = {'a' : 1, 'b' : 2, 'c' : 3}\n",
    "revdict = {v:k for k,v in dict.items()}\n",
    "revdict\n"
   ]
  },
  {
   "cell_type": "code",
   "execution_count": 67,
   "id": "e3a81683",
   "metadata": {},
   "outputs": [
    {
     "name": "stdout",
     "output_type": "stream",
     "text": [
      "{'f': 1, 'd': 1, 'a': 3, 'e': 2, 'i': 7, 'x': 1, 'c': 3, 't': 1, 'g': 1, 's': 2, 'l': 3, 'p': 2, 'S': 1, 'r': 2, 'u': 2, 'o': 2}\n"
     ]
    }
   ],
   "source": [
    "#Count Occurences of characters in a word\n",
    "#Task: Given a string, create a dictionary with character counts.\n",
    "# word = \"banana\"\n",
    "# Output: {'b' : 1, 'a': 3, 'n': 2}\n",
    "item = \"Supercalifragilisticexpialidocious\"\n",
    "char_count = {char: item.count(char) for char in set(item)}\n",
    "print(char_count)\n"
   ]
  },
  {
   "cell_type": "code",
   "execution_count": 2,
   "id": "ad8a9cea",
   "metadata": {},
   "outputs": [
    {
     "name": "stdout",
     "output_type": "stream",
     "text": [
      "{'a': 2, 'b': 7, 'c': 4}\n"
     ]
    }
   ],
   "source": [
    "# Merge two dictionaries (add values if keys match)\n",
    "# Task: combine two dictionaries by adding values for common keys. \n",
    "d1 = {'a':5, 'b':3}\n",
    "d1 = {'a':2, 'b':7, 'c': 4}\n",
    "# output: {'a':7, 'b':10, 'c': 4}\n",
    "\n",
    "from functools import reduce\n",
    "d1 = {'a': 5, 'b': 3}\n",
    "d2 = {'a': 2, 'b': 7, 'c': 4}\n",
    "\n",
    "merged_dict = reduce(lambda d, k: {**d, k: d.get(k, 0) + d2.get(k, 0)}, d1.keys() | d2.keys(), {})\n",
    "print(merged_dict)\n",
    "\n"
   ]
  },
  {
   "cell_type": "code",
   "execution_count": 3,
   "id": "bb94362c",
   "metadata": {},
   "outputs": [
    {
     "data": {
      "text/plain": [
       "78.5"
      ]
     },
     "execution_count": 3,
     "metadata": {},
     "output_type": "execute_result"
    }
   ],
   "source": [
    "#Mapping\n",
    "\n",
    "#map(), filter(), reduce()\n",
    "#map(func, iter)\n",
    "\n",
    "l = [2,3,4,5]\n",
    "a = []\n",
    "for i in l:\n",
    "    area = 3.14*i**2\n",
    "    a.append(area)\n",
    "area"
   ]
  },
  {
   "cell_type": "code",
   "execution_count": null,
   "id": "50ff9827",
   "metadata": {},
   "outputs": [
    {
     "data": {
      "text/plain": [
       "[12.56, 28.26, 50.24, 78.5]"
      ]
     },
     "execution_count": 4,
     "metadata": {},
     "output_type": "execute_result"
    }
   ],
   "source": [
    "l = [2,3,4,5]\n",
    "def area(a):\n",
    "    return 3.14*a**2\n",
    "\n",
    "list(map(area,l))"
   ]
  },
  {
   "cell_type": "code",
   "execution_count": 5,
   "id": "0b18d511",
   "metadata": {},
   "outputs": [
    {
     "data": {
      "text/plain": [
       "[12.56, 28.26, 50.24, 78.5]"
      ]
     },
     "execution_count": 5,
     "metadata": {},
     "output_type": "execute_result"
    }
   ],
   "source": [
    "list(map(lambda a:3.14*a**2,l))"
   ]
  },
  {
   "cell_type": "code",
   "execution_count": 6,
   "id": "55a28346",
   "metadata": {},
   "outputs": [
    {
     "data": {
      "text/plain": [
       "[2, 4, 6, 8]"
      ]
     },
     "execution_count": 6,
     "metadata": {},
     "output_type": "execute_result"
    }
   ],
   "source": [
    "#filter(func, data)\n",
    "l = [2,3,4,5,6,7,8]\n",
    "\n",
    "list(filter(lambda a: a % 2 == 0, l))"
   ]
  },
  {
   "cell_type": "code",
   "execution_count": null,
   "id": "eb3e116c",
   "metadata": {},
   "outputs": [],
   "source": [
    "#difference between filter and map and reduce"
   ]
  },
  {
   "cell_type": "code",
   "execution_count": 8,
   "id": "393bc80c",
   "metadata": {},
   "outputs": [
    {
     "data": {
      "text/plain": [
       "510510"
      ]
     },
     "execution_count": 8,
     "metadata": {},
     "output_type": "execute_result"
    }
   ],
   "source": [
    "#reduce()\n",
    "from functools import reduce\n",
    "data = [2,3,5,7,11,13,17]\n",
    "multiply = lambda x, y : x*y \n",
    "reduce(multiply, data)"
   ]
  },
  {
   "cell_type": "code",
   "execution_count": 9,
   "id": "0a78a185",
   "metadata": {},
   "outputs": [
    {
     "data": {
      "text/plain": [
       "510510"
      ]
     },
     "execution_count": 9,
     "metadata": {},
     "output_type": "execute_result"
    }
   ],
   "source": [
    "mul = 1\n",
    "for x in data:\n",
    "    mul = mul*x\n",
    "mul"
   ]
  },
  {
   "cell_type": "code",
   "execution_count": 10,
   "id": "e7560d3a",
   "metadata": {},
   "outputs": [
    {
     "data": {
      "text/plain": [
       "['chennai', 'banglore', 'pondicherry', 'velachery']"
      ]
     },
     "execution_count": 10,
     "metadata": {},
     "output_type": "execute_result"
    }
   ],
   "source": [
    "city = [\"\", \"chennai\", \"banglore\", \"pondicherry\", \"\", \"velachery\"]\n",
    "list(filter(None, city))"
   ]
  },
  {
   "cell_type": "code",
   "execution_count": null,
   "id": "0980383e",
   "metadata": {},
   "outputs": [
    {
     "data": {
      "text/plain": [
       "[4, 9, 16, 25, 36, 49, 64]"
      ]
     },
     "execution_count": 11,
     "metadata": {},
     "output_type": "execute_result"
    }
   ],
   "source": [
    "############            MAP             ############\n",
    "\n",
    "#Square each number in a list \n",
    "list(map(lambda a:a**2,l))"
   ]
  },
  {
   "cell_type": "code",
   "execution_count": null,
   "id": "fa74f825",
   "metadata": {},
   "outputs": [
    {
     "data": {
      "text/plain": [
       "['MUMBAI', 'PUNE', 'BANGLORE', 'CHENNAI']"
      ]
     },
     "execution_count": 6,
     "metadata": {},
     "output_type": "execute_result"
    }
   ],
   "source": [
    "#Covert a list of strings to uppercase \n",
    "strg = [\"mumbai\", \"pune\", \"banglore\", \"chennai\"]\n",
    "list(map(lambda a : a.upper(), strg))"
   ]
  },
  {
   "cell_type": "code",
   "execution_count": null,
   "id": "eb789bac",
   "metadata": {},
   "outputs": [
    {
     "data": {
      "text/plain": [
       "[6, 8, 10, 12]"
      ]
     },
     "execution_count": 7,
     "metadata": {},
     "output_type": "execute_result"
    }
   ],
   "source": [
    "#Add two lists element-wise \n",
    "l1 = [1, 2, 3, 4]\n",
    "l2 = [5, 6, 7, 8]\n",
    "list(map(lambda a,b : a+b, l1, l2))"
   ]
  },
  {
   "cell_type": "code",
   "execution_count": null,
   "id": "bd297a2a",
   "metadata": {},
   "outputs": [
    {
     "data": {
      "text/plain": [
       "[111, 222, 333, 444, 555]"
      ]
     },
     "execution_count": 8,
     "metadata": {},
     "output_type": "execute_result"
    }
   ],
   "source": [
    "list1 = [1, 2, 3, 4, 5]\n",
    "list2 = [10, 20, 30, 40, 50]\n",
    "list3 = [100, 200, 300, 400, 500]\n",
    "#Output = [111, 222, 333, 444, 555]\n",
    "list(map(lambda a,b,c : a+b+c, list1, list2, list3))"
   ]
  },
  {
   "cell_type": "code",
   "execution_count": 9,
   "id": "116f4066",
   "metadata": {},
   "outputs": [
    {
     "data": {
      "text/plain": [
       "[2, 4, 6, 8]"
      ]
     },
     "execution_count": 9,
     "metadata": {},
     "output_type": "execute_result"
    }
   ],
   "source": [
    "############            FILTER             ############\n",
    "\n",
    "#Filter even numbers from a list. \n",
    "list5 = [1, 2, 3, 4, 5, 6, 7, 8]\n",
    "list(filter(lambda a: a % 2 == 0, list5))"
   ]
  },
  {
   "cell_type": "code",
   "execution_count": 13,
   "id": "c0d3131b",
   "metadata": {},
   "outputs": [
    {
     "data": {
      "text/plain": [
       "['apple', 'banana', 'mango', 'strawberry']"
      ]
     },
     "execution_count": 13,
     "metadata": {},
     "output_type": "execute_result"
    }
   ],
   "source": [
    "#Filter a list of words with Length > 4\n",
    "li = ['apple', 'banana', 'mango', 'strawberry']\n",
    "list(filter(lambda a: len(a) > 4, li))"
   ]
  },
  {
   "cell_type": "code",
   "execution_count": 17,
   "id": "3b039725",
   "metadata": {},
   "outputs": [
    {
     "data": {
      "text/plain": [
       "['chennai', 'banglore', 'pondicherry', 'velachery']"
      ]
     },
     "execution_count": 17,
     "metadata": {},
     "output_type": "execute_result"
    }
   ],
   "source": [
    "#Filter out empty strings\n",
    "city = [\"\", \"chennai\", \"banglore\", \"pondicherry\", \"\", \"velachery\"]\n",
    "list(filter(None, city))"
   ]
  },
  {
   "cell_type": "code",
   "execution_count": null,
   "id": "cf88daf1",
   "metadata": {},
   "outputs": [
    {
     "data": {
      "text/plain": [
       "[2, 3, 5, 7, 11, 13]"
      ]
     },
     "execution_count": 21,
     "metadata": {},
     "output_type": "execute_result"
    }
   ],
   "source": [
    "#Filter prime numbers from a list\n",
    "\n",
    "nums = [2, 3, 4, 5, 6, 7, 8, 9, 10, 11, 12, 13, 14, 15]\n",
    "def prime(n):\n",
    "    if n <= 1:\n",
    "        return False\n",
    "    for i in range(2, n):\n",
    "        if n % i == 0:\n",
    "            return False\n",
    "    return True\n",
    "\n",
    "list(filter(prime, nums))\n",
    "    "
   ]
  },
  {
   "cell_type": "code",
   "execution_count": 24,
   "id": "4eda9aa3",
   "metadata": {},
   "outputs": [
    {
     "data": {
      "text/plain": [
       "'GAURI'"
      ]
     },
     "execution_count": 24,
     "metadata": {},
     "output_type": "execute_result"
    }
   ],
   "source": [
    "############            REDUCE             ############\n",
    "\n",
    "#Concatenate a list of strings using reduce.\n",
    "\n",
    "from functools import reduce\n",
    "ls = [\"G\", \"A\", \"U\", \"R\", \"I\"]\n",
    "reduce(lambda a, b: a+b, ls)\n"
   ]
  },
  {
   "cell_type": "code",
   "execution_count": 29,
   "id": "796c9df9",
   "metadata": {},
   "outputs": [
    {
     "data": {
      "text/plain": [
       "15"
      ]
     },
     "execution_count": 29,
     "metadata": {},
     "output_type": "execute_result"
    }
   ],
   "source": [
    "#Find the maximum value from the list. \n",
    "nums = [2, 3, 4, 5, 6, 7, 8, 9, 10, 11, 12, 13, 14, 15]\n",
    "reduce(lambda x, y: x if x > y else y, nums)"
   ]
  },
  {
   "cell_type": "code",
   "execution_count": null,
   "id": "669726d4",
   "metadata": {},
   "outputs": [],
   "source": [
    "#HASH "
   ]
  },
  {
   "cell_type": "code",
   "execution_count": 30,
   "id": "da0f2ee7",
   "metadata": {},
   "outputs": [
    {
     "data": {
      "text/plain": [
       "-6595155914780434541"
      ]
     },
     "execution_count": 30,
     "metadata": {},
     "output_type": "execute_result"
    }
   ],
   "source": [
    "import hashlib\n",
    "\n",
    "hash('1,2,3')"
   ]
  },
  {
   "cell_type": "code",
   "execution_count": 31,
   "id": "c451657f",
   "metadata": {},
   "outputs": [
    {
     "data": {
      "text/plain": [
       "-6595155914780434541"
      ]
     },
     "execution_count": 31,
     "metadata": {},
     "output_type": "execute_result"
    }
   ],
   "source": [
    "hash('1,2,3')"
   ]
  },
  {
   "cell_type": "code",
   "execution_count": 32,
   "id": "f3ea2254",
   "metadata": {},
   "outputs": [
    {
     "data": {
      "text/plain": [
       "-1451077919542883911"
      ]
     },
     "execution_count": 32,
     "metadata": {},
     "output_type": "execute_result"
    }
   ],
   "source": [
    "hash('A,B,C')"
   ]
  },
  {
   "cell_type": "code",
   "execution_count": 33,
   "id": "8709c6b9",
   "metadata": {},
   "outputs": [
    {
     "data": {
      "text/plain": [
       "-1451077919542883911"
      ]
     },
     "execution_count": 33,
     "metadata": {},
     "output_type": "execute_result"
    }
   ],
   "source": [
    "hash('A,B,C')"
   ]
  },
  {
   "cell_type": "code",
   "execution_count": 34,
   "id": "b9615704",
   "metadata": {},
   "outputs": [
    {
     "data": {
      "text/plain": [
       "-271316533907355506"
      ]
     },
     "execution_count": 34,
     "metadata": {},
     "output_type": "execute_result"
    }
   ],
   "source": [
    "hash('abc')"
   ]
  },
  {
   "cell_type": "code",
   "execution_count": 35,
   "id": "dd92a8c2",
   "metadata": {},
   "outputs": [
    {
     "data": {
      "text/plain": [
       "-271316533907355506"
      ]
     },
     "execution_count": 35,
     "metadata": {},
     "output_type": "execute_result"
    }
   ],
   "source": [
    "hash('abc')"
   ]
  },
  {
   "cell_type": "code",
   "execution_count": 36,
   "id": "ff2615b3",
   "metadata": {},
   "outputs": [
    {
     "data": {
      "text/plain": [
       "-8029221531125627774"
      ]
     },
     "execution_count": 36,
     "metadata": {},
     "output_type": "execute_result"
    }
   ],
   "source": [
    "hash(\"Abc\")"
   ]
  },
  {
   "cell_type": "code",
   "execution_count": 37,
   "id": "1b3361cb",
   "metadata": {},
   "outputs": [
    {
     "data": {
      "text/plain": [
       "849720690011204647"
      ]
     },
     "execution_count": 37,
     "metadata": {},
     "output_type": "execute_result"
    }
   ],
   "source": [
    "hash(\"ABc\")"
   ]
  },
  {
   "cell_type": "code",
   "execution_count": 38,
   "id": "1d53cf3b",
   "metadata": {},
   "outputs": [
    {
     "name": "stdout",
     "output_type": "stream",
     "text": [
      "2537526723954161258\n"
     ]
    }
   ],
   "source": [
    "print(hash('a'))"
   ]
  },
  {
   "cell_type": "code",
   "execution_count": 3,
   "id": "fcd88402",
   "metadata": {},
   "outputs": [
    {
     "name": "stdout",
     "output_type": "stream",
     "text": [
      "751744354085382932\n"
     ]
    }
   ],
   "source": [
    "print(hash('a'))"
   ]
  },
  {
   "cell_type": "code",
   "execution_count": 4,
   "id": "779cd481",
   "metadata": {},
   "outputs": [
    {
     "name": "stdout",
     "output_type": "stream",
     "text": [
      "751744354085382932\n"
     ]
    }
   ],
   "source": [
    "print(hash('a'))"
   ]
  },
  {
   "cell_type": "code",
   "execution_count": null,
   "id": "3bbd68c1",
   "metadata": {},
   "outputs": [
    {
     "name": "stdout",
     "output_type": "stream",
     "text": [
      "Defaulting to user installation because normal site-packages is not writeable\n",
      "Collecting django\n",
      "  Downloading Django-5.2-py3-none-any.whl.metadata (4.1 kB)\n",
      "Collecting asgiref>=3.8.1 (from django)\n",
      "  Downloading asgiref-3.8.1-py3-none-any.whl.metadata (9.3 kB)\n",
      "Collecting sqlparse>=0.3.1 (from django)\n",
      "  Downloading sqlparse-0.5.3-py3-none-any.whl.metadata (3.9 kB)\n",
      "Collecting tzdata (from django)\n",
      "  Downloading tzdata-2025.2-py2.py3-none-any.whl.metadata (1.4 kB)\n",
      "Downloading Django-5.2-py3-none-any.whl (8.3 MB)\n",
      "   ---------------------------------------- 0.0/8.3 MB ? eta -:--:--\n",
      "   - -------------------------------------- 0.4/8.3 MB 8.3 MB/s eta 0:00:01\n",
      "   ---- ----------------------------------- 1.0/8.3 MB 10.1 MB/s eta 0:00:01\n",
      "   ------- -------------------------------- 1.5/8.3 MB 10.7 MB/s eta 0:00:01\n",
      "   --------- ------------------------------ 2.1/8.3 MB 10.9 MB/s eta 0:00:01\n",
      "   ------------ --------------------------- 2.6/8.3 MB 11.1 MB/s eta 0:00:01\n",
      "   --------------- ------------------------ 3.2/8.3 MB 11.3 MB/s eta 0:00:01\n",
      "   ------------------ --------------------- 3.7/8.3 MB 11.3 MB/s eta 0:00:01\n",
      "   -------------------- ------------------- 4.3/8.3 MB 11.4 MB/s eta 0:00:01\n",
      "   ----------------------- ---------------- 4.8/8.3 MB 11.5 MB/s eta 0:00:01\n",
      "   ------------------------- -------------- 5.4/8.3 MB 11.8 MB/s eta 0:00:01\n",
      "   ---------------------------- ----------- 5.9/8.3 MB 11.8 MB/s eta 0:00:01\n",
      "   ------------------------------- -------- 6.5/8.3 MB 11.5 MB/s eta 0:00:01\n",
      "   --------------------------------- ------ 7.0/8.3 MB 11.8 MB/s eta 0:00:01\n",
      "   ------------------------------------ --- 7.6/8.3 MB 11.8 MB/s eta 0:00:01\n",
      "   ---------------------------------------  8.1/8.3 MB 11.8 MB/s eta 0:00:01\n",
      "   ---------------------------------------  8.3/8.3 MB 11.8 MB/s eta 0:00:01\n",
      "   ---------------------------------------  8.3/8.3 MB 11.8 MB/s eta 0:00:01\n",
      "   ---------------------------------------  8.3/8.3 MB 11.8 MB/s eta 0:00:01\n",
      "   ---------------------------------------- 8.3/8.3 MB 9.8 MB/s eta 0:00:00\n",
      "Downloading asgiref-3.8.1-py3-none-any.whl (23 kB)\n",
      "Downloading sqlparse-0.5.3-py3-none-any.whl (44 kB)\n",
      "   ---------------------------------------- 0.0/44.4 kB ? eta -:--:--\n",
      "   ------------------------------------ --- 41.0/44.4 kB ? eta -:--:--\n",
      "   ---------------------------------------- 44.4/44.4 kB 551.2 kB/s eta 0:00:00\n",
      "Downloading tzdata-2025.2-py2.py3-none-any.whl (347 kB)\n",
      "   ---------------------------------------- 0.0/347.8 kB ? eta -:--:--\n",
      "   ------------------------------------- - 337.9/347.8 kB 20.5 MB/s eta 0:00:01\n",
      "   ---------------------------------------- 347.8/347.8 kB 3.6 MB/s eta 0:00:00\n",
      "Installing collected packages: tzdata, sqlparse, asgiref, django\n",
      "Successfully installed asgiref-3.8.1 django-5.2 sqlparse-0.5.3 tzdata-2025.2\n",
      "Note: you may need to restart the kernel to use updated packages.\n"
     ]
    },
    {
     "name": "stderr",
     "output_type": "stream",
     "text": [
      "\n",
      "[notice] A new release of pip is available: 24.0 -> 25.0.1\n",
      "[notice] To update, run: python.exe -m pip install --upgrade pip\n"
     ]
    }
   ],
   "source": [
    "from gettext import install\n",
    "\n",
    "import django\n",
    "\n",
    "pip: install-django # type: ignore"
   ]
  },
  {
   "cell_type": "code",
   "execution_count": null,
   "id": "fa2cf15c",
   "metadata": {},
   "outputs": [
    {
     "name": "stdout",
     "output_type": "stream",
     "text": [
      "Package                 Version\n",
      "----------------------- -----------\n",
      "asgiref                 3.8.1\n",
      "asttokens               3.0.0\n",
      "colorama                0.4.6\n",
      "comm                    0.2.2\n",
      "debugpy                 1.8.13\n",
      "decorator               5.2.1\n",
      "Django                  5.2\n",
      "executing               2.2.0\n",
      "ipykernel               6.29.5\n",
      "ipython                 9.0.2\n",
      "ipython_pygments_lexers 1.1.1\n",
      "jedi                    0.19.2\n",
      "jupyter_client          8.6.3\n",
      "jupyter_core            5.7.2\n",
      "matplotlib-inline       0.1.7\n",
      "nest-asyncio            1.6.0\n",
      "packaging               24.2\n",
      "parso                   0.8.4\n",
      "pip                     24.0\n",
      "platformdirs            4.3.7\n",
      "prompt_toolkit          3.0.50\n",
      "psutil                  7.0.0\n",
      "pure_eval               0.2.3\n",
      "Pygments                2.19.1\n",
      "python-dateutil         2.9.0.post0\n",
      "pywin32                 310\n",
      "pyzmq                   26.3.0\n",
      "six                     1.17.0\n",
      "sqlparse                0.5.3\n",
      "stack-data              0.6.3\n",
      "tornado                 6.4.2\n",
      "traitlets               5.14.3\n",
      "tzdata                  2025.2\n",
      "wcwidth                 0.2.13\n",
      "Note: you may need to restart the kernel to use updated packages.\n"
     ]
    },
    {
     "name": "stderr",
     "output_type": "stream",
     "text": [
      "\n",
      "[notice] A new release of pip is available: 24.0 -> 25.0.1\n",
      "[notice] To update, run: python.exe -m pip install --upgrade pip\n"
     ]
    }
   ],
   "source": [
    "pip: list # type: ignore"
   ]
  },
  {
   "cell_type": "code",
   "execution_count": 8,
   "id": "a60c55dc",
   "metadata": {},
   "outputs": [
    {
     "data": {
      "text/plain": [
       "2.718281828459045"
      ]
     },
     "execution_count": 8,
     "metadata": {},
     "output_type": "execute_result"
    }
   ],
   "source": [
    "#math module\n",
    "import math\n",
    "math.e"
   ]
  },
  {
   "cell_type": "code",
   "execution_count": 9,
   "id": "0855bea4",
   "metadata": {},
   "outputs": [
    {
     "data": {
      "text/plain": [
       "3.141592653589793"
      ]
     },
     "execution_count": 9,
     "metadata": {},
     "output_type": "execute_result"
    }
   ],
   "source": [
    "math.pi"
   ]
  },
  {
   "cell_type": "code",
   "execution_count": 19,
   "id": "363acbef",
   "metadata": {},
   "outputs": [
    {
     "data": {
      "text/plain": [
       "1.0"
      ]
     },
     "execution_count": 19,
     "metadata": {},
     "output_type": "execute_result"
    }
   ],
   "source": [
    "x = 90\n",
    "math.sin(math.radians(x))"
   ]
  },
  {
   "cell_type": "code",
   "execution_count": 20,
   "id": "6f837871",
   "metadata": {},
   "outputs": [
    {
     "data": {
      "text/plain": [
       "0.5000000000000001"
      ]
     },
     "execution_count": 20,
     "metadata": {},
     "output_type": "execute_result"
    }
   ],
   "source": [
    "x = 60\n",
    "math.cos(math.radians(x))"
   ]
  },
  {
   "cell_type": "code",
   "execution_count": 17,
   "id": "b1853f47",
   "metadata": {},
   "outputs": [
    {
     "data": {
      "text/plain": [
       "78.53981633974483"
      ]
     },
     "execution_count": 17,
     "metadata": {},
     "output_type": "execute_result"
    }
   ],
   "source": [
    "r = 5\n",
    "area = math.pi*r**2\n",
    "area"
   ]
  },
  {
   "cell_type": "code",
   "execution_count": 21,
   "id": "350fb480",
   "metadata": {},
   "outputs": [
    {
     "data": {
      "text/plain": [
       "61.1"
      ]
     },
     "execution_count": 21,
     "metadata": {},
     "output_type": "execute_result"
    }
   ],
   "source": [
    "#Statistics module\n",
    "\n",
    "#Using statistics module, min, max, mean, median, std deviation, variance of a list.\n",
    "\n",
    "import statistics\n",
    "li = [45, 78, 56, 23, 57, 84, 65, 34, 75, 94]\n",
    "statistics.mean(li)\n"
   ]
  },
  {
   "cell_type": "code",
   "execution_count": 22,
   "id": "ebd97d79",
   "metadata": {},
   "outputs": [
    {
     "data": {
      "text/plain": [
       "61.0"
      ]
     },
     "execution_count": 22,
     "metadata": {},
     "output_type": "execute_result"
    }
   ],
   "source": [
    "import statistics\n",
    "li = [45, 78, 56, 23, 57, 84, 65, 34, 75, 94]\n",
    "statistics.median(li)"
   ]
  },
  {
   "cell_type": "code",
   "execution_count": 23,
   "id": "ef246377",
   "metadata": {},
   "outputs": [
    {
     "data": {
      "text/plain": [
       "57"
      ]
     },
     "execution_count": 23,
     "metadata": {},
     "output_type": "execute_result"
    }
   ],
   "source": [
    "import statistics\n",
    "li = [45, 78, 56, 23, 57, 84, 65, 34, 75, 94]\n",
    "statistics.median_low(li)"
   ]
  },
  {
   "cell_type": "code",
   "execution_count": null,
   "id": "f6180dfc",
   "metadata": {},
   "outputs": [
    {
     "data": {
      "text/plain": [
       "65"
      ]
     },
     "execution_count": 24,
     "metadata": {},
     "output_type": "execute_result"
    }
   ],
   "source": [
    "from statistics import median\n",
    "li = [45, 78, 56, 23, 57, 84, 65, 34, 75, 94]\n",
    "statistics.median_high(li)"
   ]
  },
  {
   "cell_type": "code",
   "execution_count": 25,
   "id": "ed489e3e",
   "metadata": {},
   "outputs": [
    {
     "data": {
      "text/plain": [
       "65"
      ]
     },
     "execution_count": 25,
     "metadata": {},
     "output_type": "execute_result"
    }
   ],
   "source": [
    "import statistics\n",
    "li = [45, 78, 56, 23, 57, 84, 65, 34, 75, 94, 97]\n",
    "statistics.median(li)"
   ]
  },
  {
   "cell_type": "code",
   "execution_count": 26,
   "id": "3bdee336",
   "metadata": {},
   "outputs": [
    {
     "data": {
      "text/plain": [
       "65"
      ]
     },
     "execution_count": 26,
     "metadata": {},
     "output_type": "execute_result"
    }
   ],
   "source": [
    "import statistics\n",
    "li = [45, 78, 56, 23, 57, 84, 65, 34, 75, 94, 97]\n",
    "statistics.median_low(li)"
   ]
  },
  {
   "cell_type": "code",
   "execution_count": 27,
   "id": "e50756e3",
   "metadata": {},
   "outputs": [
    {
     "data": {
      "text/plain": [
       "65"
      ]
     },
     "execution_count": 27,
     "metadata": {},
     "output_type": "execute_result"
    }
   ],
   "source": [
    "import statistics\n",
    "li = [45, 78, 56, 23, 57, 84, 65, 34, 75, 94, 97]\n",
    "statistics.median_high(li)"
   ]
  },
  {
   "cell_type": "code",
   "execution_count": 30,
   "id": "e6a110f4",
   "metadata": {},
   "outputs": [
    {
     "data": {
      "text/plain": [
       "78"
      ]
     },
     "execution_count": 30,
     "metadata": {},
     "output_type": "execute_result"
    }
   ],
   "source": [
    "from statistics import mode\n",
    "li = [78, 78, 56, 23, 97, 84, 65, 34, 65, 94, 97]\n",
    "mode(li)"
   ]
  },
  {
   "cell_type": "code",
   "execution_count": 31,
   "id": "eed762d9",
   "metadata": {},
   "outputs": [
    {
     "data": {
      "text/plain": [
       "23"
      ]
     },
     "execution_count": 31,
     "metadata": {},
     "output_type": "execute_result"
    }
   ],
   "source": [
    "li = [45, 78, 56, 23, 57, 84, 65, 34, 75, 94, 97]\n",
    "min(li)"
   ]
  },
  {
   "cell_type": "code",
   "execution_count": 32,
   "id": "7970e151",
   "metadata": {},
   "outputs": [
    {
     "data": {
      "text/plain": [
       "97"
      ]
     },
     "execution_count": 32,
     "metadata": {},
     "output_type": "execute_result"
    }
   ],
   "source": [
    "max(li)"
   ]
  },
  {
   "cell_type": "code",
   "execution_count": 34,
   "id": "bc1967bd",
   "metadata": {},
   "outputs": [
    {
     "data": {
      "text/plain": [
       "74"
      ]
     },
     "execution_count": 34,
     "metadata": {},
     "output_type": "execute_result"
    }
   ],
   "source": [
    "Range = max(li) - min(li)\n",
    "Range"
   ]
  },
  {
   "cell_type": "code",
   "execution_count": 35,
   "id": "6b594505",
   "metadata": {},
   "outputs": [
    {
     "data": {
      "text/plain": [
       "576.0545454545454"
      ]
     },
     "execution_count": 35,
     "metadata": {},
     "output_type": "execute_result"
    }
   ],
   "source": [
    "from statistics import variance\n",
    "import fractions as fr \n",
    "\n",
    "data = [45, 78, 56, 23, 57, 84, 65, 34, 75, 94, 97]\n",
    "variance(data)"
   ]
  },
  {
   "cell_type": "code",
   "execution_count": 37,
   "id": "d24434e7",
   "metadata": {},
   "outputs": [
    {
     "data": {
      "text/plain": [
       "24.00113633673509"
      ]
     },
     "execution_count": 37,
     "metadata": {},
     "output_type": "execute_result"
    }
   ],
   "source": [
    "from statistics import stdev\n",
    "\n",
    "data = [45, 78, 56, 23, 57, 84, 65, 34, 75, 94, 97]\n",
    "stdev(data)"
   ]
  },
  {
   "cell_type": "code",
   "execution_count": 38,
   "id": "5f9010f7",
   "metadata": {},
   "outputs": [],
   "source": [
    "#Random Module\n",
    "\n",
    "#random.choice()\n",
    "#random.choices()\n",
    "#random.sample()\n",
    "#random.seed()\n",
    "#random.uniform()"
   ]
  },
  {
   "cell_type": "code",
   "execution_count": 39,
   "id": "ea8f50de",
   "metadata": {},
   "outputs": [
    {
     "data": {
      "text/plain": [
       "23"
      ]
     },
     "execution_count": 39,
     "metadata": {},
     "output_type": "execute_result"
    }
   ],
   "source": [
    "import random\n",
    "\n",
    "data = [23, 67, 45, 89, 12, 34, 78, 56, 90, 11]\n",
    "random.choice(data)"
   ]
  },
  {
   "cell_type": "code",
   "execution_count": 40,
   "id": "ba9fd72f",
   "metadata": {},
   "outputs": [
    {
     "data": {
      "text/plain": [
       "90"
      ]
     },
     "execution_count": 40,
     "metadata": {},
     "output_type": "execute_result"
    }
   ],
   "source": [
    "random.choice(data)"
   ]
  },
  {
   "cell_type": "code",
   "execution_count": 43,
   "id": "4be8f6d0",
   "metadata": {},
   "outputs": [
    {
     "data": {
      "text/plain": [
       "[67, 67, 78, 56, 78]"
      ]
     },
     "execution_count": 43,
     "metadata": {},
     "output_type": "execute_result"
    }
   ],
   "source": [
    "random.choices(data, k=5)"
   ]
  },
  {
   "cell_type": "code",
   "execution_count": 42,
   "id": "3615d7f1",
   "metadata": {},
   "outputs": [
    {
     "data": {
      "text/plain": [
       "[78]"
      ]
     },
     "execution_count": 42,
     "metadata": {},
     "output_type": "execute_result"
    }
   ],
   "source": [
    "random.choices(data)"
   ]
  },
  {
   "cell_type": "code",
   "execution_count": 45,
   "id": "565d3f10",
   "metadata": {},
   "outputs": [
    {
     "data": {
      "text/plain": [
       "209"
      ]
     },
     "execution_count": 45,
     "metadata": {},
     "output_type": "execute_result"
    }
   ],
   "source": [
    "data = [23, 67, 45, 89, 12, 34, 78, 56, 90, 11]\n",
    "random.seed(90)\n",
    "random.randint(1, 1000)"
   ]
  },
  {
   "cell_type": "code",
   "execution_count": 46,
   "id": "ed43ec3b",
   "metadata": {},
   "outputs": [
    {
     "data": {
      "text/plain": [
       "209"
      ]
     },
     "execution_count": 46,
     "metadata": {},
     "output_type": "execute_result"
    }
   ],
   "source": [
    "random.seed(90)\n",
    "random.randint(1, 1000)"
   ]
  },
  {
   "cell_type": "code",
   "execution_count": 47,
   "id": "f69450d2",
   "metadata": {},
   "outputs": [
    {
     "data": {
      "text/plain": [
       "279"
      ]
     },
     "execution_count": 47,
     "metadata": {},
     "output_type": "execute_result"
    }
   ],
   "source": [
    "random.seed(45)\n",
    "random.randint(1, 1000)"
   ]
  },
  {
   "cell_type": "code",
   "execution_count": 48,
   "id": "160467a2",
   "metadata": {},
   "outputs": [
    {
     "data": {
      "text/plain": [
       "209"
      ]
     },
     "execution_count": 48,
     "metadata": {},
     "output_type": "execute_result"
    }
   ],
   "source": [
    "random.seed(90)\n",
    "random.randint(1, 1000)"
   ]
  },
  {
   "cell_type": "code",
   "execution_count": 49,
   "id": "8a4e6fc3",
   "metadata": {},
   "outputs": [
    {
     "data": {
      "text/plain": [
       "[67, 56, 12, 34, 45, 89]"
      ]
     },
     "execution_count": 49,
     "metadata": {},
     "output_type": "execute_result"
    }
   ],
   "source": [
    "from random import sample\n",
    "data = [23, 67, 45, 89, 12, 34, 78, 56, 90, 11]\n",
    "random.sample(data, 6)"
   ]
  },
  {
   "cell_type": "code",
   "execution_count": 66,
   "id": "397af374",
   "metadata": {},
   "outputs": [
    {
     "data": {
      "text/plain": [
       "1.3713993186815974"
      ]
     },
     "execution_count": 66,
     "metadata": {},
     "output_type": "execute_result"
    }
   ],
   "source": [
    "from random import uniform\n",
    "data = [23, 67, 45, 89, 12, 34, 78, 56, 90, 11]\n",
    "random.uniform(1, 6)"
   ]
  },
  {
   "cell_type": "code",
   "execution_count": 50,
   "id": "cc5a010b",
   "metadata": {},
   "outputs": [],
   "source": [
    "#os module\n",
    "#get the  current working directory()\n",
    "#change the directory()\n",
    "#Rename a directory"
   ]
  },
  {
   "cell_type": "code",
   "execution_count": 53,
   "id": "a2fc7854",
   "metadata": {},
   "outputs": [
    {
     "data": {
      "text/plain": [
       "['DirEntry',\n",
       " 'EX_OK',\n",
       " 'F_OK',\n",
       " 'GenericAlias',\n",
       " 'Mapping',\n",
       " 'MutableMapping',\n",
       " 'O_APPEND',\n",
       " 'O_BINARY',\n",
       " 'O_CREAT',\n",
       " 'O_EXCL',\n",
       " 'O_NOINHERIT',\n",
       " 'O_RANDOM',\n",
       " 'O_RDONLY',\n",
       " 'O_RDWR',\n",
       " 'O_SEQUENTIAL',\n",
       " 'O_SHORT_LIVED',\n",
       " 'O_TEMPORARY',\n",
       " 'O_TEXT',\n",
       " 'O_TRUNC',\n",
       " 'O_WRONLY',\n",
       " 'P_DETACH',\n",
       " 'P_NOWAIT',\n",
       " 'P_NOWAITO',\n",
       " 'P_OVERLAY',\n",
       " 'P_WAIT',\n",
       " 'PathLike',\n",
       " 'R_OK',\n",
       " 'SEEK_CUR',\n",
       " 'SEEK_END',\n",
       " 'SEEK_SET',\n",
       " 'TMP_MAX',\n",
       " 'W_OK',\n",
       " 'X_OK',\n",
       " '_AddedDllDirectory',\n",
       " '_Environ',\n",
       " '__all__',\n",
       " '__builtins__',\n",
       " '__doc__',\n",
       " '__file__',\n",
       " '__loader__',\n",
       " '__name__',\n",
       " '__package__',\n",
       " '__spec__',\n",
       " '_check_methods',\n",
       " '_execvpe',\n",
       " '_exists',\n",
       " '_exit',\n",
       " '_fspath',\n",
       " '_get_exports_list',\n",
       " '_wrap_close',\n",
       " 'abc',\n",
       " 'abort',\n",
       " 'access',\n",
       " 'add_dll_directory',\n",
       " 'altsep',\n",
       " 'chdir',\n",
       " 'chmod',\n",
       " 'close',\n",
       " 'closerange',\n",
       " 'cpu_count',\n",
       " 'curdir',\n",
       " 'defpath',\n",
       " 'device_encoding',\n",
       " 'devnull',\n",
       " 'dup',\n",
       " 'dup2',\n",
       " 'environ',\n",
       " 'error',\n",
       " 'execl',\n",
       " 'execle',\n",
       " 'execlp',\n",
       " 'execlpe',\n",
       " 'execv',\n",
       " 'execve',\n",
       " 'execvp',\n",
       " 'execvpe',\n",
       " 'extsep',\n",
       " 'fdopen',\n",
       " 'fsdecode',\n",
       " 'fsencode',\n",
       " 'fspath',\n",
       " 'fstat',\n",
       " 'fsync',\n",
       " 'ftruncate',\n",
       " 'get_blocking',\n",
       " 'get_exec_path',\n",
       " 'get_handle_inheritable',\n",
       " 'get_inheritable',\n",
       " 'get_terminal_size',\n",
       " 'getcwd',\n",
       " 'getcwdb',\n",
       " 'getenv',\n",
       " 'getlogin',\n",
       " 'getpid',\n",
       " 'getppid',\n",
       " 'isatty',\n",
       " 'kill',\n",
       " 'linesep',\n",
       " 'link',\n",
       " 'listdir',\n",
       " 'listdrives',\n",
       " 'listmounts',\n",
       " 'listvolumes',\n",
       " 'lseek',\n",
       " 'lstat',\n",
       " 'makedirs',\n",
       " 'mkdir',\n",
       " 'name',\n",
       " 'open',\n",
       " 'pardir',\n",
       " 'path',\n",
       " 'pathsep',\n",
       " 'pipe',\n",
       " 'popen',\n",
       " 'putenv',\n",
       " 'read',\n",
       " 'readlink',\n",
       " 'remove',\n",
       " 'removedirs',\n",
       " 'rename',\n",
       " 'renames',\n",
       " 'replace',\n",
       " 'rmdir',\n",
       " 'scandir',\n",
       " 'sep',\n",
       " 'set_blocking',\n",
       " 'set_handle_inheritable',\n",
       " 'set_inheritable',\n",
       " 'spawnl',\n",
       " 'spawnle',\n",
       " 'spawnv',\n",
       " 'spawnve',\n",
       " 'st',\n",
       " 'startfile',\n",
       " 'stat',\n",
       " 'stat_result',\n",
       " 'statvfs_result',\n",
       " 'strerror',\n",
       " 'supports_bytes_environ',\n",
       " 'supports_dir_fd',\n",
       " 'supports_effective_ids',\n",
       " 'supports_fd',\n",
       " 'supports_follow_symlinks',\n",
       " 'symlink',\n",
       " 'sys',\n",
       " 'system',\n",
       " 'terminal_size',\n",
       " 'times',\n",
       " 'times_result',\n",
       " 'truncate',\n",
       " 'umask',\n",
       " 'uname_result',\n",
       " 'unlink',\n",
       " 'unsetenv',\n",
       " 'urandom',\n",
       " 'utime',\n",
       " 'waitpid',\n",
       " 'waitstatus_to_exitcode',\n",
       " 'walk',\n",
       " 'write']"
      ]
     },
     "execution_count": 53,
     "metadata": {},
     "output_type": "execute_result"
    }
   ],
   "source": [
    "import os\n",
    "dir(os)"
   ]
  },
  {
   "cell_type": "code",
   "execution_count": 54,
   "id": "639a5f55",
   "metadata": {},
   "outputs": [
    {
     "data": {
      "text/plain": [
       "'c:\\\\Users\\\\gauri.jindal\\\\Python'"
      ]
     },
     "execution_count": 54,
     "metadata": {},
     "output_type": "execute_result"
    }
   ],
   "source": [
    "#current directory\n",
    "os.getcwd()"
   ]
  },
  {
   "cell_type": "code",
   "execution_count": 55,
   "id": "d807a9d6",
   "metadata": {},
   "outputs": [],
   "source": [
    "# #to change directory\n",
    "# os.chdir('c:\\\\Users\\\\gauri.jindal\\\\Python')\n",
    "# print(os.getcwd())\n"
   ]
  },
  {
   "cell_type": "code",
   "execution_count": 56,
   "id": "8d7dc4df",
   "metadata": {},
   "outputs": [],
   "source": [
    "#to view the files and folders\n",
    "# print(os.listdir())"
   ]
  },
  {
   "cell_type": "code",
   "execution_count": null,
   "id": "c5029576",
   "metadata": {},
   "outputs": [],
   "source": [
    "#create new folder in directory\n",
    "# os.mkdir('name')  #for single folder\n",
    "# os.makedirs('python/submodule') #for directory tree"
   ]
  },
  {
   "cell_type": "code",
   "execution_count": 59,
   "id": "2f40d14e",
   "metadata": {},
   "outputs": [],
   "source": [
    "#delete folders\n",
    "# os.rmdir('name')\n",
    "# os.removedirs('python/submodule')"
   ]
  },
  {
   "cell_type": "code",
   "execution_count": 60,
   "id": "5ad5da38",
   "metadata": {},
   "outputs": [],
   "source": [
    "#rename\n",
    "# os.rename('hello', 'hi')\n",
    "# os.rename('demo.txt', 'text.txt')"
   ]
  },
  {
   "cell_type": "code",
   "execution_count": 61,
   "id": "b03df3ae",
   "metadata": {},
   "outputs": [],
   "source": [
    "#details\n",
    "# print(os.stat('text.txt'))"
   ]
  },
  {
   "cell_type": "code",
   "execution_count": 62,
   "id": "13585cc0",
   "metadata": {},
   "outputs": [],
   "source": [
    "# print(os.stat('text.txt').st_size)"
   ]
  },
  {
   "cell_type": "code",
   "execution_count": 63,
   "id": "abf280eb",
   "metadata": {},
   "outputs": [],
   "source": [
    "# last modification time\n",
    "# print(os.stat('text.txt').st_mtime)"
   ]
  },
  {
   "cell_type": "code",
   "execution_count": 64,
   "id": "4cabd617",
   "metadata": {},
   "outputs": [],
   "source": [
    "#time stamp\n",
    "# from datetime import datetime\n",
    "# mod = os.stat('text.txt').st_mtime\n",
    "# print(datetime.fromtimestamp(mod))"
   ]
  },
  {
   "cell_type": "code",
   "execution_count": 65,
   "id": "67b4b4a3",
   "metadata": {},
   "outputs": [],
   "source": [
    "# entire directory\n",
    "\n",
    "# import os\n",
    "# for dirpath, dirnames, filenames in os.walk('D:/files'):\n",
    "#     print(\"Current path: \", dirpath)\n",
    "#     print(\"Directories: \", dirnames)\n",
    "#     print(\"Files: \", filenames)\n",
    "#     print()"
   ]
  },
  {
   "cell_type": "code",
   "execution_count": 67,
   "id": "973305a0",
   "metadata": {},
   "outputs": [
    {
     "data": {
      "text/plain": [
       "'c:\\\\Users\\\\gauri.jindal\\\\Python'"
      ]
     },
     "execution_count": 67,
     "metadata": {},
     "output_type": "execute_result"
    }
   ],
   "source": [
    "os.getcwd()"
   ]
  },
  {
   "cell_type": "code",
   "execution_count": 68,
   "id": "0e908438",
   "metadata": {},
   "outputs": [],
   "source": [
    "#environ\n",
    "# print(os.environ.get('C:/users/gauri/python'))"
   ]
  },
  {
   "cell_type": "code",
   "execution_count": 69,
   "id": "178d8a16",
   "metadata": {},
   "outputs": [],
   "source": [
    "#creating file\n",
    "# filepath = os.getcwd() + 'test.text'\n",
    "# print(filepath)"
   ]
  },
  {
   "cell_type": "code",
   "execution_count": 70,
   "id": "ce158b23",
   "metadata": {},
   "outputs": [],
   "source": [
    "#others\n",
    "# print(os.path.basename('tmp/test.text'))"
   ]
  },
  {
   "cell_type": "code",
   "execution_count": 71,
   "id": "e37f7f79",
   "metadata": {},
   "outputs": [],
   "source": [
    "# print(os.path.dirname('tmp/test.txt'))"
   ]
  },
  {
   "cell_type": "code",
   "execution_count": 72,
   "id": "3d96f354",
   "metadata": {},
   "outputs": [],
   "source": [
    "# print(os.path.split('tmp/test.text))"
   ]
  },
  {
   "cell_type": "code",
   "execution_count": 73,
   "id": "94c9cc00",
   "metadata": {},
   "outputs": [
    {
     "name": "stdout",
     "output_type": "stream",
     "text": [
      "Mon Apr  7 16:29:16 2025\n"
     ]
    }
   ],
   "source": [
    "import time\n",
    "print(time.ctime())"
   ]
  },
  {
   "cell_type": "code",
   "execution_count": null,
   "id": "7c9839e7",
   "metadata": {},
   "outputs": [
    {
     "name": "stdout",
     "output_type": "stream",
     "text": [
      "1744023573.680987\n"
     ]
    }
   ],
   "source": [
    "print(time.time())  #time in seconds"
   ]
  },
  {
   "cell_type": "code",
   "execution_count": 75,
   "id": "1ff23e1e",
   "metadata": {},
   "outputs": [
    {
     "name": "stdout",
     "output_type": "stream",
     "text": [
      "time.struct_time(tm_year=2025, tm_mon=4, tm_mday=7, tm_hour=16, tm_min=29, tm_sec=55, tm_wday=0, tm_yday=97, tm_isdst=0)\n"
     ]
    }
   ],
   "source": [
    "print(time.localtime())"
   ]
  },
  {
   "cell_type": "code",
   "execution_count": 78,
   "id": "c6be8db1",
   "metadata": {},
   "outputs": [
    {
     "name": "stdout",
     "output_type": "stream",
     "text": [
      "Hello\n"
     ]
    }
   ],
   "source": [
    "time.sleep(2)\n",
    "print(\"Hello\")"
   ]
  },
  {
   "cell_type": "code",
   "execution_count": 79,
   "id": "c99ef485",
   "metadata": {},
   "outputs": [
    {
     "name": "stdout",
     "output_type": "stream",
     "text": [
      "2025-04-07 16:31:43\n"
     ]
    }
   ],
   "source": [
    "print(time.strftime(\"%Y-%m-%d %H:%M:%S\", time.localtime()))"
   ]
  },
  {
   "cell_type": "code",
   "execution_count": 80,
   "id": "5ed51d7a",
   "metadata": {},
   "outputs": [
    {
     "data": {
      "text/plain": [
       "3.0005282999773044"
      ]
     },
     "execution_count": 80,
     "metadata": {},
     "output_type": "execute_result"
    }
   ],
   "source": [
    "start_time = time.perf_counter()\n",
    "time.sleep(3)\n",
    "end_time = time.perf_counter()\n",
    "end_time-start_time"
   ]
  },
  {
   "cell_type": "code",
   "execution_count": 5,
   "id": "204ef529",
   "metadata": {},
   "outputs": [
    {
     "name": "stdout",
     "output_type": "stream",
     "text": [
      "List lookup:  0.04144480000002204\n",
      "Set lookup:  0.0003974999999627471\n"
     ]
    }
   ],
   "source": [
    "#timeit\n",
    "\n",
    "import timeit\n",
    "\n",
    "#time to check if 500 is in a list\n",
    "list_time = timeit.timeit(stmt=\"500 in my_list\", \n",
    "                          setup=\"my_list = list(range(1000))\", \n",
    "                          number = 10000 )\n",
    "\n",
    "#time to check if 500 is in a list\n",
    "set_time = timeit.timeit(stmt=\"500 in my_set\", \n",
    "                         setup=\"my_set = set(range(1000))\", \n",
    "                         number = 10000 )\n",
    "\n",
    "print(\"List lookup: \", list_time)\n",
    "print(\"Set lookup: \", set_time)"
   ]
  },
  {
   "cell_type": "code",
   "execution_count": 6,
   "id": "2c89a783",
   "metadata": {},
   "outputs": [
    {
     "name": "stdout",
     "output_type": "stream",
     "text": [
      "4.49686029999998\n"
     ]
    }
   ],
   "source": [
    "def test():\n",
    "    return sum([i for i in range(10000)])\n",
    "\n",
    "import timeit\n",
    "print(timeit.timeit(test, number=10000))"
   ]
  },
  {
   "cell_type": "code",
   "execution_count": 17,
   "id": "41f696c9",
   "metadata": {},
   "outputs": [
    {
     "name": "stdout",
     "output_type": "stream",
     "text": [
      "Time Testing\n",
      "8.000611299999946\n"
     ]
    }
   ],
   "source": [
    "#Calculate the time required to complete a process.\n",
    "\n",
    "import time\n",
    "\n",
    "start_time = time.perf_counter()\n",
    "\n",
    "# for i in range(5):\n",
    "#     if i%2 == 0:\n",
    "\n",
    "print(\"Time Testing\")\n",
    "\n",
    "time.sleep(8)\n",
    "\n",
    "end_time = time.perf_counter()\n",
    "print(end_time-start_time)\n"
   ]
  },
  {
   "cell_type": "code",
   "execution_count": 19,
   "id": "1e834a8d",
   "metadata": {},
   "outputs": [
    {
     "name": "stdout",
     "output_type": "stream",
     "text": [
      "Time Testing\n",
      "Time Testing\n",
      "Time Testing\n",
      "5.001588582992554\n"
     ]
    }
   ],
   "source": [
    "import time\n",
    "\n",
    "start_time = time.time()\n",
    "\n",
    "for i in range(5):\n",
    "    if i%2 == 0:\n",
    "        print(\"Time Testing\")\n",
    "\n",
    "time.sleep(5)\n",
    "\n",
    "end_time = time.time()\n",
    "print(end_time-start_time)"
   ]
  },
  {
   "cell_type": "code",
   "execution_count": null,
   "id": "37d30700",
   "metadata": {},
   "outputs": [],
   "source": [
    "#Display the current time every second.\n",
    "\n",
    "import time\n",
    "\n",
    "while True:\n",
    "    print(time.strftime(\"%H:%M:%S\", time.localtime()))"
   ]
  },
  {
   "cell_type": "code",
   "execution_count": 4,
   "id": "58bc26e7",
   "metadata": {},
   "outputs": [
    {
     "name": "stdout",
     "output_type": "stream",
     "text": [
      "Press Enter to start the stopwatch\n",
      "Stopwatch started. Press Enter to stop.\n",
      "Elapsed time: 11.200542211532593 seconds\n"
     ]
    }
   ],
   "source": [
    "#Create a simple stopwatch.\n",
    "\n",
    "import time\n",
    "\n",
    "def stopwatch():\n",
    "    print(\"Press Enter to start the stopwatch\")\n",
    "    input()\n",
    "    start_time = time.time()\n",
    "    print(\"Stopwatch started. Press Enter to stop.\")\n",
    "    input()\n",
    "    end_time = time.time()\n",
    "    elapsed_time = end_time - start_time\n",
    "    print(f\"Elapsed time: {elapsed_time} seconds\")\n",
    "\n",
    "stopwatch()"
   ]
  },
  {
   "cell_type": "code",
   "execution_count": null,
   "id": "ce103f6a",
   "metadata": {},
   "outputs": [
    {
     "name": "stdout",
     "output_type": "stream",
     "text": [
      "17:39:00.139890\n"
     ]
    }
   ],
   "source": [
    "#DateTime\n",
    "\n",
    "#Current time\n",
    "\n",
    "from datetime import datetime\n",
    "\n",
    "print(datetime.now().time())"
   ]
  },
  {
   "cell_type": "code",
   "execution_count": 8,
   "id": "6928c8ce",
   "metadata": {},
   "outputs": [
    {
     "name": "stdout",
     "output_type": "stream",
     "text": [
      "Days until 2025-12-31: 268\n"
     ]
    }
   ],
   "source": [
    "#Days until a specific date.\n",
    "\n",
    "from datetime import datetime\n",
    "\n",
    "def days_until(target_date):\n",
    "\n",
    "    current_date = datetime.now().date()\n",
    "\n",
    "    delta = target_date - current_date\n",
    "    \n",
    "    return delta.days\n",
    "\n",
    "target_date = datetime(2025, 12, 31).date()\n",
    "days_remaining = days_until(target_date)\n",
    "\n",
    "print(f\"Days until {target_date}: {days_remaining}\")\n"
   ]
  },
  {
   "cell_type": "code",
   "execution_count": 12,
   "id": "9df1b487",
   "metadata": {},
   "outputs": [
    {
     "name": "stdout",
     "output_type": "stream",
     "text": [
      "Converted Date: 15-09-2023\n"
     ]
    }
   ],
   "source": [
    "#Convert a user input from yyyy-mm-dd to dd-mm-yyyy\n",
    "\n",
    "from datetime import datetime\n",
    "\n",
    "def convert_date_format(date_str):\n",
    "\n",
    "    date_obj = datetime.strptime(date_str, \"%Y-%m-%d\")\n",
    "    formatted_date = date_obj.strftime(\"%d-%m-%Y\")\n",
    "    return formatted_date\n",
    "\n",
    "user_input = \"2023-09-15\"\n",
    "converted_date = convert_date_format(user_input)\n",
    "print(f\"Converted Date: {converted_date}\")\n"
   ]
  },
  {
   "cell_type": "code",
   "execution_count": null,
   "id": "e9bab0c2",
   "metadata": {},
   "outputs": [],
   "source": [
    "######################               RANDOM                    ###########################\n",
    "\n",
    "# Random data generator for testing\n",
    "\n",
    "# Description: Create a script that generates fake data for 10 users. Each user should have:\n",
    "#     A random full Name \n",
    "#     A random age between 18 to 60\n",
    "#     A random 10-digit phone  number \n",
    "#     A random email based on their name\n",
    "\n",
    "# Store the data in a dictionary\n",
    "\n",
    "\n",
    "\n"
   ]
  },
  {
   "cell_type": "markdown",
   "id": "ff423160",
   "metadata": {},
   "source": [
    "# PYTHON DAY 7"
   ]
  },
  {
   "cell_type": "code",
   "execution_count": 1,
   "id": "f0e8ac49",
   "metadata": {},
   "outputs": [],
   "source": [
    "#File Handling"
   ]
  },
  {
   "cell_type": "code",
   "execution_count": null,
   "id": "a0e2baae",
   "metadata": {},
   "outputs": [],
   "source": [
    "#file modes\n",
    "#'r' ---> read\n",
    "#'w' ---> write\n",
    "#'a' ---> append\n",
    "#'r+' ---> read/write\n",
    "#'w+' ---> read/write\n",
    "\n",
    "# f = open('demo.txt', 'r')\n",
    "# print(f.read(10))\n",
    "# print(f.readline())\n",
    "# print(f.readline())  # to read second line\n",
    "# print(f.readlines())  # \n",
    "# f.close()"
   ]
  },
  {
   "cell_type": "code",
   "execution_count": 6,
   "id": "23a41119",
   "metadata": {},
   "outputs": [],
   "source": [
    "f = open('demo1.txt', 'w')  # creates a file with write only and not read\n",
    "f.write(\"Hello World\\n\")\n",
    "f.write(\"Hello Python\\n\")\n",
    "f.close()"
   ]
  },
  {
   "cell_type": "code",
   "execution_count": null,
   "id": "2a4bd0f6",
   "metadata": {},
   "outputs": [],
   "source": [
    "f = open('demo1.txt', 'w')  # Overwrites the previous content, in order to add use append.\n",
    "f.write(\"Java\\n\")\n",
    "f.write(\"C++\\n\")\n",
    "f.close()"
   ]
  },
  {
   "cell_type": "code",
   "execution_count": 9,
   "id": "02423850",
   "metadata": {},
   "outputs": [],
   "source": [
    "f = open('demo1.txt', 'w')\n",
    "f.writelines([\"Hello World\\n\", \"Hello Python\\n\"])\n",
    "f.close()"
   ]
  },
  {
   "cell_type": "code",
   "execution_count": null,
   "id": "f0d6356e",
   "metadata": {},
   "outputs": [],
   "source": [
    "f = open('demo1.txt', 'a')\n",
    "f.write(\"Hello Folks\\n\")\n",
    "f.write(\"Welcome To Chennai\\n\")\n",
    "f.close()"
   ]
  },
  {
   "cell_type": "code",
   "execution_count": 11,
   "id": "c6263541",
   "metadata": {},
   "outputs": [
    {
     "name": "stdout",
     "output_type": "stream",
     "text": [
      "\n"
     ]
    }
   ],
   "source": [
    "f = open('demo1.txt', 'a+')  \n",
    "f.write(\"Hello Folks\\n\")\n",
    "f.write(\"Welcome To Chennai\\n\")\n",
    "print(f.read())\n",
    "f.close()"
   ]
  },
  {
   "cell_type": "code",
   "execution_count": 13,
   "id": "f001eb8f",
   "metadata": {},
   "outputs": [
    {
     "name": "stdout",
     "output_type": "stream",
     "text": [
      "135\n",
      "Hello World\n",
      "Hello Python\n",
      "Hello Folks\n",
      "Welcome To Chennai\n",
      "Hello Folks\n",
      "Welcome To Chennai\n",
      "Hello ABC\n",
      "Welcome To Chennai\n",
      "Hello ABC\n",
      "Welcome To Chennai\n",
      "\n"
     ]
    }
   ],
   "source": [
    "f = open('demo1.txt', 'a+')  \n",
    "f.write(\"Hello ABC\\n\")\n",
    "print(f.tell())\n",
    "f.write(\"Welcome To Chennai\\n\")\n",
    "f.seek(0)\n",
    "print(f.read())\n",
    "f.close()"
   ]
  },
  {
   "cell_type": "code",
   "execution_count": 14,
   "id": "88dc38ef",
   "metadata": {},
   "outputs": [],
   "source": [
    "# f = open('demo1.txt', 'w+')\n",
    "\n",
    "# s = f.read()\n",
    "# f.close()\n",
    "\n",
    "f = open('demo3.txt', 'a')\n",
    "f.close()"
   ]
  },
  {
   "cell_type": "code",
   "execution_count": null,
   "id": "b7e5312f",
   "metadata": {},
   "outputs": [],
   "source": [
    "f = open('demo2.txt', 'x')   #With the help of w, a and x a new file can be created.\n",
    "f.close()"
   ]
  },
  {
   "cell_type": "code",
   "execution_count": 20,
   "id": "1b14fcfe",
   "metadata": {},
   "outputs": [
    {
     "name": "stdout",
     "output_type": "stream",
     "text": [
      "Hello World\n",
      "Hello Python\n",
      "Hello Folks\n",
      "Welcome To Chennai\n",
      "Hello Folks\n",
      "Welcome To Chennai\n",
      "Hello ABC\n",
      "Welcome To Chennai\n",
      "Hello ABC\n",
      "Welcome To Chennai\n",
      "\n",
      "True\n"
     ]
    }
   ],
   "source": [
    "with open('demo1.txt', 'r') as f:\n",
    "    # with open('new_txt.txt', 'w') as w:\n",
    "    #     w.write(f.read)\n",
    "    print(f.read())\n",
    "print(f.closed)"
   ]
  },
  {
   "cell_type": "code",
   "execution_count": 21,
   "id": "793b3c01",
   "metadata": {},
   "outputs": [
    {
     "name": "stdout",
     "output_type": "stream",
     "text": [
      "Log entry has been written to the log file.\n"
     ]
    }
   ],
   "source": [
    "import datetime\n",
    "\n",
    "now = datetime.datetime.now()  #Get the current date and time\n",
    "\n",
    "log_message = f\"Log entry created at {now} : This is a log message.\"  #Create a log message\n",
    "\n",
    "with open(\"demo2.txt\", \"a\") as file:  #Open the log file in the append mode\n",
    "    file.write(log_message + \"\\n\")  #Write the log message to the file\n",
    "\n",
    "print(\"Log entry has been written to the log file.\") #Print a message"
   ]
  },
  {
   "cell_type": "code",
   "execution_count": 22,
   "id": "00adb471",
   "metadata": {},
   "outputs": [],
   "source": [
    "lines = [\"Hello, World!\", \"Python is great.\", \"File handling is easy.\"]\n",
    "\n",
    "with open(\"example.txt\", \"w\") as file:\n",
    "    l = [line + \"\\n\" for line in lines]\n",
    "    file.writelines(l)"
   ]
  },
  {
   "cell_type": "code",
   "execution_count": 42,
   "id": "aa5977ec",
   "metadata": {},
   "outputs": [
    {
     "name": "stdout",
     "output_type": "stream",
     "text": [
      "{\"Name\": \"Gauri\", \"School\": \"SCSE\", \"Address\": \"Chennai\", \"Age\": 23, \"Phone\": 9211420786}\n"
     ]
    }
   ],
   "source": [
    "import json\n",
    "#json file contains data in key: value\n",
    "\n",
    "# with open('data.json', 'r') as j:\n",
    "#     d = json.load(j)\n",
    "\n",
    "# print(type(d))\n",
    "\n",
    "d = {\"Name\": \"Gauri\",\n",
    "     \"School\": \"SCSE\",\n",
    "     \"Address\": \"Chennai\",\n",
    "     \"Age\": 23,\n",
    "     \"Phone\": 9211420786\n",
    "    }\n",
    "j_obj = json.dumps(d)\n",
    "\n",
    "print(j_obj)\n",
    "\n",
    "with open('new.json', 'w') as w:\n",
    "    json.dump(d, w)"
   ]
  },
  {
   "cell_type": "code",
   "execution_count": 29,
   "id": "7c313bc2",
   "metadata": {},
   "outputs": [],
   "source": [
    "with open('new.json', 'w') as w:\n",
    "    json.dump(d, w, indent=4) #data, file"
   ]
  },
  {
   "cell_type": "code",
   "execution_count": 40,
   "id": "37f9c757",
   "metadata": {},
   "outputs": [
    {
     "name": "stdout",
     "output_type": "stream",
     "text": [
      "{\"Name\": \"Gauri\", \"School\": \"SCSE\", \"Address\": \"Chennai\", \"Age\": 23, \"Phone\": 9211420786}\n",
      "{'Name': 'Gauri', 'School': 'SCSE', 'Address': 'Chennai', 'Age': 23, 'Phone': 9211420786}\n"
     ]
    }
   ],
   "source": [
    "d = {\"Name\": \"Gauri\",\n",
    "     \"School\": \"SCSE\",\n",
    "     \"Address\": \"Chennai\",\n",
    "     \"Age\": 23,\n",
    "     \"Phone\": 9211420786,\n",
    "    }\n",
    "j_obj = json.dumps(d)  #TO CONVERT A PYTHON OBJECT TO JSON OBJECT\n",
    "p_obj = json.loads(j_obj) #JSON OBJECT TO PYTHON OBJECT\n",
    "\n",
    "print(j_obj)\n",
    "print(p_obj)"
   ]
  },
  {
   "cell_type": "code",
   "execution_count": null,
   "id": "04eed6b2",
   "metadata": {},
   "outputs": [],
   "source": [
    "with open('new.json', 'w') as w:\n",
    "    json.dump(d, w, indent=4, sort_keys=True) #data, file #Write into a file\n",
    "\n",
    "    #sort_keys is used for getting the data in alphabetical order."
   ]
  },
  {
   "cell_type": "code",
   "execution_count": 44,
   "id": "75720d0c",
   "metadata": {},
   "outputs": [
    {
     "name": "stdout",
     "output_type": "stream",
     "text": [
      "{'Name': 'Gauri', 'School': 'SCSE', 'Address': 'Chennai', 'Age': 23, 'Phone': 9211420786, 'Pincode': 600042}\n"
     ]
    }
   ],
   "source": [
    "#Update a json file\n",
    "\n",
    "with open('new.json', 'r') as f:\n",
    "    d = json.load(f)\n",
    "print(d)\n",
    "d[\"Pincode\"] = 600042\n",
    "\n",
    "with open('new.json', 'w') as w:\n",
    "    json.dump(d, w, indent=4)"
   ]
  },
  {
   "cell_type": "code",
   "execution_count": 45,
   "id": "8576efda",
   "metadata": {},
   "outputs": [
    {
     "name": "stdout",
     "output_type": "stream",
     "text": [
      "{'Name': 'Gauri', 'School': 'SCSE', 'Address': 'Chennai', 'Age': 23, 'Phone': 9211420786, 'Pincode': 600042}\n"
     ]
    }
   ],
   "source": [
    "with open('new.json', 'r') as f:\n",
    "    d = json.load(f)\n",
    "print(d)\n",
    "d[\"Language\"] = \"ਗੌਰੀ\"\n",
    "\n",
    "with open('new.json', 'w') as w:\n",
    "    json.dump(d, w, indent=4)"
   ]
  },
  {
   "cell_type": "code",
   "execution_count": 50,
   "id": "a21ae683",
   "metadata": {},
   "outputs": [],
   "source": [
    "with open('new.json', 'w',encoding='utf-8') as w:\n",
    "    json.dump(d, w, indent=4, ensure_ascii=False)"
   ]
  },
  {
   "cell_type": "code",
   "execution_count": 53,
   "id": "1e44f151",
   "metadata": {},
   "outputs": [],
   "source": [
    "new_employee = {\n",
    "    \"employee\": {\n",
    "        \"id\": 102,\n",
    "        \"name\": \"Ravi\",\n",
    "        \"department\": \"IT\",\n",
    "        \"skills\": [\"Communication\", \"Recruitment\"],\n",
    "        \"address\": {\n",
    "            \"city\": \"Mumbai\",\n",
    "            \"zip\": \"400005\"\n",
    "        }\n",
    "    }\n",
    "}\n",
    "with open('new_employee.json', 'w') as f:\n",
    "    json.dump(new_employee, f, indent=4)\n",
    "\n",
    "d = {}"
   ]
  },
  {
   "cell_type": "code",
   "execution_count": 60,
   "id": "c7883126",
   "metadata": {},
   "outputs": [
    {
     "name": "stdout",
     "output_type": "stream",
     "text": [
      "Communication\n",
      "Recruitment\n"
     ]
    }
   ],
   "source": [
    "#read the emp skills\n",
    "#print it one by one\n",
    "\n",
    "skills = new_employee['employee']['skills']\n",
    "\n",
    "for skill in skills:\n",
    "    print(skill)"
   ]
  },
  {
   "cell_type": "code",
   "execution_count": 17,
   "id": "1fe3c10a",
   "metadata": {},
   "outputs": [],
   "source": [
    "#Change the zipcode and add a new skill"
   ]
  },
  {
   "cell_type": "code",
   "execution_count": 73,
   "id": "2fd59f7f",
   "metadata": {},
   "outputs": [],
   "source": [
    "import csv\n",
    "\n",
    "data = [['Name', 'Age', 'City'],\n",
    "        ['Alice', 10, 'New York'],\n",
    "        ['Bob', 11, 'New York'],\n",
    "        ['John', 12, 'London']\n",
    "        ]\n",
    "\n",
    "with open('people.csv', 'w', newline='') as c:\n",
    "    writer = csv.writer(c)\n",
    "    writer.writerows(data)\n"
   ]
  },
  {
   "cell_type": "code",
   "execution_count": 69,
   "id": "a7678786",
   "metadata": {},
   "outputs": [
    {
     "name": "stdout",
     "output_type": "stream",
     "text": [
      "['Name', 'Age', 'City']\n",
      "['Alice', '10', 'New York']\n",
      "['Bob', '11', 'New York']\n",
      "['John', '12', 'London']\n"
     ]
    }
   ],
   "source": [
    "#csv file\n",
    "\n",
    "with open('people.csv', 'r') as c:\n",
    "    reader = csv.reader(c)\n",
    "    for row in reader:\n",
    "        print(row)\n",
    "\n"
   ]
  },
  {
   "cell_type": "code",
   "execution_count": 70,
   "id": "ec3b9416",
   "metadata": {},
   "outputs": [
    {
     "name": "stdout",
     "output_type": "stream",
     "text": [
      "['Name', 'Age', 'City']\n",
      "['Alice', '10', 'New York']\n"
     ]
    }
   ],
   "source": [
    "with open('people.csv', 'r') as c:\n",
    "    reader = csv.reader(c)\n",
    "    print(next(reader))\n",
    "    print(next(reader))"
   ]
  },
  {
   "cell_type": "code",
   "execution_count": null,
   "id": "68f467a7",
   "metadata": {},
   "outputs": [
    {
     "name": "stdout",
     "output_type": "stream",
     "text": [
      "<_csv.reader object at 0x000001E52BCC0580>\n"
     ]
    }
   ],
   "source": [
    "print(reader)  #returns csv object"
   ]
  },
  {
   "cell_type": "code",
   "execution_count": 72,
   "id": "021b0d8d",
   "metadata": {},
   "outputs": [
    {
     "name": "stdout",
     "output_type": "stream",
     "text": [
      "[['Name', 'Age', 'City'], ['Alice', '10', 'New York'], ['Bob', '11', 'New York'], ['John', '12', 'London']]\n"
     ]
    }
   ],
   "source": [
    "with open('people.csv', 'r') as c:\n",
    "    reader = csv.reader(c)\n",
    "    print(list(reader))"
   ]
  },
  {
   "cell_type": "code",
   "execution_count": 74,
   "id": "b8a5d86e",
   "metadata": {},
   "outputs": [],
   "source": [
    "l = [['Dave', 11, 'New York'],\n",
    "     ['Max', 12, 'London']\n",
    "    ]\n",
    "\n",
    "with open('people.csv', 'a', newline='') as c:\n",
    "    writer = csv.writer(c)\n",
    "    writer.writerows(l)"
   ]
  },
  {
   "cell_type": "code",
   "execution_count": 77,
   "id": "ec62cf5f",
   "metadata": {},
   "outputs": [
    {
     "name": "stdout",
     "output_type": "stream",
     "text": [
      "['Name', 'Age', 'City']\n",
      "['Alice', '10', 'New York']\n",
      "['Bob', '11', 'New York']\n",
      "['John', '12', 'London']\n",
      "['Dave', '11', 'New York']\n",
      "['Max', '12', 'London']\n"
     ]
    }
   ],
   "source": [
    "with open('people.csv', 'r') as c:\n",
    "    reader = csv.reader(c)\n",
    "    for row in reader:\n",
    "        print(row)"
   ]
  },
  {
   "cell_type": "code",
   "execution_count": 78,
   "id": "bdeaed8b",
   "metadata": {},
   "outputs": [
    {
     "name": "stdout",
     "output_type": "stream",
     "text": [
      "<_csv.reader object at 0x000001E52BD5A440>\n"
     ]
    }
   ],
   "source": [
    "print(reader)"
   ]
  },
  {
   "cell_type": "code",
   "execution_count": 79,
   "id": "3eae1f52",
   "metadata": {},
   "outputs": [
    {
     "name": "stdout",
     "output_type": "stream",
     "text": [
      "['Name', 'Age', 'City']\n",
      "['Alice', '10', 'New York']\n",
      "['Bob', '11', 'New York']\n",
      "['John', '12', 'London']\n",
      "['Dave', '11', 'New York']\n",
      "['Max', '12', 'London']\n"
     ]
    }
   ],
   "source": [
    "with open('people.csv', 'r') as c:\n",
    "    reader = csv.reader(c)\n",
    "    print(next(reader))\n",
    "    print(next(reader))\n",
    "    print(next(reader))\n",
    "    print(next(reader))\n",
    "    print(next(reader))\n",
    "    print(next(reader))"
   ]
  },
  {
   "cell_type": "code",
   "execution_count": 80,
   "id": "3d63736b",
   "metadata": {},
   "outputs": [
    {
     "name": "stdout",
     "output_type": "stream",
     "text": [
      "['Name', 'Age', 'City']\n",
      "['Alice', '10', 'New York']\n",
      "['Bob', '11', 'New York']\n",
      "['John', '12', 'London']\n",
      "['Dave', '11', 'New York']\n",
      "['Max', '12', 'London']\n"
     ]
    }
   ],
   "source": [
    "with open('people.csv', 'r') as c:\n",
    "    reader = csv.reader(c)\n",
    "    for row in reader:\n",
    "        print(row)"
   ]
  },
  {
   "cell_type": "code",
   "execution_count": 81,
   "id": "661671e5",
   "metadata": {},
   "outputs": [],
   "source": [
    "info = [\n",
    "    ['Name', 'Gender', 'Age', 'Course'],\n",
    "    ['Gauri', 'F', 22, 'B.Tech'],\n",
    "    ['Maitrayee', 'F',15 , '12th'],\n",
    "    ['Anay', 'M', 13, '9th']\n",
    "]\n",
    "\n",
    "with open('student.csv', 'w', newline='') as d:\n",
    "    writer = csv.writer(d)\n",
    "    writer.writerows(info)\n"
   ]
  },
  {
   "cell_type": "code",
   "execution_count": 82,
   "id": "0c4a3bff",
   "metadata": {},
   "outputs": [
    {
     "name": "stdout",
     "output_type": "stream",
     "text": [
      "[{'Name': 'Alice', 'Age': '10', 'City': 'New York'}, {'Name': 'Bob', 'Age': '11', 'City': 'New York'}, {'Name': 'John', 'Age': '12', 'City': 'London'}, {'Name': 'Dave', 'Age': '11', 'City': 'New York'}, {'Name': 'Max', 'Age': '12', 'City': 'London'}]\n"
     ]
    }
   ],
   "source": [
    "with open('people.csv', 'r') as c:\n",
    "    reader = csv.DictReader(c)\n",
    "    print(list(reader))\n",
    "    for row in reader:\n",
    "        print(row['Name'], row['Age'], row['City'])"
   ]
  },
  {
   "cell_type": "code",
   "execution_count": 85,
   "id": "3ae58672",
   "metadata": {},
   "outputs": [
    {
     "name": "stdout",
     "output_type": "stream",
     "text": [
      "<class 'csv.DictReader'>\n"
     ]
    }
   ],
   "source": [
    "print(type(reader))"
   ]
  },
  {
   "cell_type": "code",
   "execution_count": 101,
   "id": "650a8632",
   "metadata": {},
   "outputs": [],
   "source": [
    "li=[]\n",
    "with open('people.csv', 'r') as c:\n",
    "    reader = csv.reader(c)\n",
    "    for row in reader:\n",
    "        li.append(row)\n",
    "\n",
    "    with open('student.csv', 'r') as g:\n",
    "        reader2 = csv.reader(g)\n",
    "        next(reader2)\n",
    "        for row2 in reader2:\n",
    "            li.append(row2)\n",
    "\n",
    "        with open('info.csv', 'a', newline= \"\") as j:\n",
    "            writer = csv.writer(j)\n",
    "            writer.writerows(li)\n"
   ]
  },
  {
   "cell_type": "code",
   "execution_count": 90,
   "id": "5264ccbc",
   "metadata": {},
   "outputs": [],
   "source": [
    "with open('info.csv', 'a', newline= \"\") as j:\n",
    "        writer = csv.writer(j)\n",
    "        writer.writerows(info)"
   ]
  },
  {
   "cell_type": "code",
   "execution_count": 89,
   "id": "181eee1c",
   "metadata": {},
   "outputs": [
    {
     "name": "stdout",
     "output_type": "stream",
     "text": [
      "['Name', 'Age', 'City']\n",
      "['Alice', '10', 'New York']\n",
      "['Bob', '11', 'New York']\n",
      "['John', '12', 'London']\n",
      "['Dave', '11', 'New York']\n",
      "['Max', '12', 'London']\n",
      "['Name', 'Gender', 'Age', 'Course']\n",
      "['Gauri', 'F', '22', 'B.Tech']\n",
      "['Maitrayee', 'F', '15', '12th']\n",
      "['Anay', 'M', '13', '9th']\n"
     ]
    }
   ],
   "source": [
    "with open('people.csv', 'r') as c:\n",
    "    reader = csv.reader(c)\n",
    "    for row in reader:\n",
    "        print(row)"
   ]
  },
  {
   "cell_type": "code",
   "execution_count": 104,
   "id": "115df509",
   "metadata": {},
   "outputs": [
    {
     "name": "stdout",
     "output_type": "stream",
     "text": [
      "<class 'list'>\n"
     ]
    }
   ],
   "source": [
    "print(type(info))"
   ]
  },
  {
   "cell_type": "code",
   "execution_count": 110,
   "id": "01648394",
   "metadata": {},
   "outputs": [],
   "source": [
    "val = [\n",
    "    {'Name': 'Bob', 'Age': '11', 'City': 'New York'},\n",
    "    {'Name': 'John', 'Age': '12', 'City': 'London'},\n",
    "    {'Name': 'Dave', 'Age': '11', 'City': 'New York'},\n",
    "    {'Name': 'Max', 'Age': '12', 'City': 'London'}\n",
    "    ]\n",
    " \n",
    "with open ('people1.csv','w', newline='') as w: \n",
    "    writer=csv.DictWriter(w,fieldnames=['Name', 'Age', 'City'])\n",
    " \n",
    "    writer.writeheader()\n",
    " \n",
    "    writer.writerows (val)\n",
    " \n",
    "with open('people1.csv', 'w', newline='') as w:\n",
    "    writer = csv.DictWriter(w, fieldnames=['Name', 'Age', 'City'])\n",
    "    writer.writeheader()\n",
    "    writer.writerows(val)"
   ]
  },
  {
   "cell_type": "code",
   "execution_count": 113,
   "id": "4710744c",
   "metadata": {},
   "outputs": [],
   "source": [
    "import csv   #Adding Column\n",
    "fields = ['Name', 'Branch', 'Year', 'CGPA']\n",
    "rows = [\n",
    "    ['Nikhil', 'COE', '2', '9.0'],\n",
    "    ['Sanchi', 'COE', '2', '9.1'],\n",
    "    ['Aditya', 'IT', '2', '9.3'],\n",
    "    ['Sagar', 'SE', '1', '9.5'],\n",
    "    ['Prateek', 'MCE', '3', '9.0']\n",
    "]\n",
    " \n",
    "with open('people1.csv', 'w') as r:\n",
    "    csvwriter = csv.writer(r, dialect='excel')\n",
    "    csvwriter.writerows(fields)\n",
    "    csvwriter.writerows(rows)"
   ]
  },
  {
   "cell_type": "code",
   "execution_count": 114,
   "id": "21cba744",
   "metadata": {},
   "outputs": [],
   "source": [
    "#YAML File"
   ]
  },
  {
   "cell_type": "code",
   "execution_count": 119,
   "id": "3d51dc01",
   "metadata": {},
   "outputs": [],
   "source": [
    "import yaml"
   ]
  },
  {
   "cell_type": "code",
   "execution_count": null,
   "id": "b4ffa9dc",
   "metadata": {},
   "outputs": [
    {
     "name": "stdout",
     "output_type": "stream",
     "text": [
      "Defaulting to user installation because normal site-packages is not writeable\n",
      "Requirement already satisfied: pyyaml in c:\\users\\gauri.jindal\\appdata\\roaming\\python\\python312\\site-packages (6.0.2)\n",
      "Note: you may need to restart the kernel to use updated packages.\n"
     ]
    }
   ],
   "source": [
    "#pip install pyyaml"
   ]
  },
  {
   "cell_type": "code",
   "execution_count": 120,
   "id": "5b2f658d",
   "metadata": {},
   "outputs": [],
   "source": [
    "data = {\n",
    "    \"Name\": \"Desktop\",\n",
    "    \"Version\": 1.2,\n",
    "    \"Users\": ['John', 'Max']\n",
    "}\n",
    "\n",
    "with open('project.yaml', 'w') as w:\n",
    "    yaml.dump(data, w)"
   ]
  },
  {
   "cell_type": "code",
   "execution_count": null,
   "id": "38a3d1d6",
   "metadata": {},
   "outputs": [],
   "source": [
    "with open('project.yaml', 'w') as w:\n",
    "    yaml.dump(data, w, sort_keys=True)  #By default sort_keys is true in yaml but false in json."
   ]
  },
  {
   "cell_type": "code",
   "execution_count": 123,
   "id": "690a7d26",
   "metadata": {},
   "outputs": [
    {
     "name": "stdout",
     "output_type": "stream",
     "text": [
      "{'Name': 'Desktop', 'Version': 1.2, 'Users': ['John', 'Max']}\n"
     ]
    }
   ],
   "source": [
    "with open('project.yaml', 'r') as r:\n",
    "    yaml.safe_load(r)\n",
    "    print(data)"
   ]
  },
  {
   "cell_type": "code",
   "execution_count": 124,
   "id": "dc1e8570",
   "metadata": {},
   "outputs": [],
   "source": [
    "#Nested Yaml\n",
    "\n",
    "data = {\n",
    "    'employee': {\n",
    "        'name': 'Alice',\n",
    "        'age': 30,\n",
    "        'contact': {\n",
    "            'email': 'alice@yahoo.com',\n",
    "            'phone': '9211720486'\n",
    "        },\n",
    "        'skills': ['Python', 'Django', 'SQL']\n",
    "    }\n",
    "}\n",
    "\n",
    "with open('employee.yaml', 'w') as file:\n",
    "    yaml.dump(data, file, sort_keys= False)"
   ]
  },
  {
   "cell_type": "code",
   "execution_count": 125,
   "id": "13accffc",
   "metadata": {},
   "outputs": [],
   "source": [
    "# json to yaml\n",
    "# yaml to json"
   ]
  },
  {
   "cell_type": "code",
   "execution_count": 129,
   "id": "246be1b1",
   "metadata": {},
   "outputs": [],
   "source": [
    "with open('data.json', 'r') as jfile:\n",
    "    jf = json.load(jfile)\n",
    "\n",
    "with open('data.yaml', 'w') as yfile:\n",
    "    yaml.dump(jf, yfile, sort_keys=True)"
   ]
  },
  {
   "cell_type": "code",
   "execution_count": 131,
   "id": "6e17f278",
   "metadata": {},
   "outputs": [],
   "source": [
    "with open('project.yaml', 'r') as yf:\n",
    "    yl = yaml.safe_load(yf)\n",
    "\n",
    "with open('project.json', 'w') as jfl:\n",
    "    json.dump(yl, jfl)\n"
   ]
  },
  {
   "cell_type": "code",
   "execution_count": 132,
   "id": "5949def7",
   "metadata": {},
   "outputs": [],
   "source": [
    "# https://github.com/python123-dev/python_file_task"
   ]
  },
  {
   "cell_type": "code",
   "execution_count": 138,
   "id": "844fc18d",
   "metadata": {},
   "outputs": [
    {
     "data": {
      "text/plain": [
       "31"
      ]
     },
     "execution_count": 138,
     "metadata": {},
     "output_type": "execute_result"
    }
   ],
   "source": [
    "# File Handling\n",
    "\n",
    "# Text File\n",
    "\n",
    "# 1. Write and Read a File\n",
    "# Task:\n",
    "# Create a text file called data.txt. Write the following lines into it:\n",
    "\n",
    "# Python is awesome\n",
    "# File handling is powerful\n",
    "# Practice makes perfect\n",
    "\n",
    "# Then read and print the content of the file.\n",
    "\n",
    "f = open('data.txt', 'w')\n",
    "f.write(\"Python is Awesome!\\n\")\n",
    "f.write(\"File Handling is Powerful\\n\")\n",
    "f.write(\"Practice makes a Woman Perfect\\n\")"
   ]
  },
  {
   "cell_type": "code",
   "execution_count": 139,
   "id": "384e750d",
   "metadata": {},
   "outputs": [
    {
     "name": "stdout",
     "output_type": "stream",
     "text": [
      "Python is Awesome!\n",
      "File Handling is Powerful\n",
      "Practice makes a Woman Perfect\n",
      "\n"
     ]
    }
   ],
   "source": [
    "with open('data.txt', 'r') as datafile:\n",
    "    exp = datafile.read()\n",
    "\n",
    "    print(exp)"
   ]
  },
  {
   "cell_type": "code",
   "execution_count": 146,
   "id": "32bc0cb5",
   "metadata": {},
   "outputs": [
    {
     "name": "stdout",
     "output_type": "stream",
     "text": [
      "24\n"
     ]
    }
   ],
   "source": [
    "# 2. Count Number of Words in a File\n",
    "# Task:\n",
    "# Open a file and count how many words it contains.\n",
    "\n",
    "with open('demo1.txt', 'r') as a:\n",
    "    sample = a.read()\n",
    "    space = sample.split()\n",
    "    print(len(space))"
   ]
  },
  {
   "cell_type": "code",
   "execution_count": 109,
   "id": "8cfaf60e",
   "metadata": {},
   "outputs": [
    {
     "name": "stdout",
     "output_type": "stream",
     "text": [
      "Python is Awesome!\n",
      "File Handling is Powerful\n"
     ]
    }
   ],
   "source": [
    "# 3. Search for a Word in a File\n",
    "# Task:\n",
    "# Ask the user for a word, search for that word in the file, and print the line(s) where it's found.\n",
    "\n",
    "search_word = input().strip().lower()\n",
    " \n",
    "# Open the file and search for the word\n",
    "with open('data.txt', 'r') as file:\n",
    "    lines = file.readlines()\n",
    " \n",
    "# Print the lines where the word is found\n",
    "for line in lines:\n",
    "    if search_word in line:\n",
    "        print(line.strip())"
   ]
  },
  {
   "cell_type": "code",
   "execution_count": 110,
   "id": "62bd147c",
   "metadata": {},
   "outputs": [],
   "source": [
    "# 4. Copy Content from One File to Another\n",
    "# Task:\n",
    "# Copy the content from data.txt to copy.txt.\n",
    "\n",
    "with open('data.txt', 'r') as c:\n",
    "    content = c.read()\n",
    "\n",
    "    with open('copy.txt', 'w') as n:\n",
    "        m = n.writelines(content)"
   ]
  },
  {
   "cell_type": "code",
   "execution_count": 111,
   "id": "9b145f23",
   "metadata": {},
   "outputs": [],
   "source": [
    "# 5. Append to a File\n",
    "# Task:\n",
    "# Append a new sentence to the end of data.txt without overwriting existing content.\n",
    "\n",
    "with open('data.txt', 'a') as txtfile:\n",
    "    txtfile.write(\"Hii\")"
   ]
  },
  {
   "cell_type": "code",
   "execution_count": 112,
   "id": "9d9a2768",
   "metadata": {},
   "outputs": [
    {
     "name": "stdout",
     "output_type": "stream",
     "text": [
      "Hii\n",
      "Practice makes a Woman Perfect\n",
      "File Handling is Powerful\n",
      "Python is Awesome!\n"
     ]
    }
   ],
   "source": [
    "# 6. Display File Content in Reverse\n",
    "# Task:\n",
    "# Read all lines from the file and print them in reverse order.\n",
    "\n",
    "with open('copy.txt', 'r') as exp:\n",
    "    data = exp.readlines()\n",
    "    for line in reversed(data):\n",
    "        print(line.strip())\n"
   ]
  },
  {
   "cell_type": "code",
   "execution_count": 9,
   "id": "ce17ee97",
   "metadata": {},
   "outputs": [
    {
     "name": "stdout",
     "output_type": "stream",
     "text": [
      "None\n"
     ]
    }
   ],
   "source": [
    "# 7. Remove Blank Lines\n",
    "# Task:\n",
    "# Create a new file that contains all the lines from the original file except blank lines.\n",
    "\n",
    "with open('demo2.txt', 'r') as file:\n",
    "    read = file.readlines()\n",
    "\n",
    "blank = [line for line in read if line.strip()]\n",
    "\n",
    "with open('black.txt', 'w') as newfile:\n",
    "    new = newfile.writelines(blank)\n",
    "    print(new)"
   ]
  },
  {
   "cell_type": "code",
   "execution_count": 21,
   "id": "59934125",
   "metadata": {},
   "outputs": [],
   "source": [
    "# 8. Write Random Numbers to File\n",
    "# Task:\n",
    "# Use the random module to write 100 random integers to a file (one per line).\n"
   ]
  },
  {
   "cell_type": "code",
   "execution_count": null,
   "id": "bc3d6094",
   "metadata": {},
   "outputs": [],
   "source": [
    "# 9. Sum of Numbers in a File\n",
    "# Task:\n",
    "# Read all numbers from the file you created above and print their sum."
   ]
  },
  {
   "cell_type": "code",
   "execution_count": null,
   "id": "f641944c",
   "metadata": {},
   "outputs": [],
   "source": [
    "# 10. Line Numbering\n",
    "# Task:\n",
    "# Read a file and print each line preceded by its line number, like:\n",
    "# 1: Python is awesome\n",
    "# 2: File handling is powerful"
   ]
  },
  {
   "cell_type": "code",
   "execution_count": null,
   "id": "01debed1",
   "metadata": {},
   "outputs": [],
   "source": [
    "# 11. Count the Occurrence of each words from a text file."
   ]
  },
  {
   "cell_type": "code",
   "execution_count": null,
   "id": "a98891c6",
   "metadata": {},
   "outputs": [],
   "source": [
    "# 12. Write a file handling code with seek() and tell().\n"
   ]
  },
  {
   "cell_type": "code",
   "execution_count": null,
   "id": "79d60871",
   "metadata": {},
   "outputs": [],
   "source": [
    "# Json file\n",
    "\n",
    "# 1. Write a Dictionary to a JSON File\n",
    "# Task:\n",
    "# Create a Python dictionary and write it to a file called data.json.\n",
    "\n",
    "# 2. Read JSON Data from a File\n",
    "# Task:\n",
    "# Read the JSON data from data.json and print each key-value pair.\n",
    "\n",
    "# 3. Update JSON Data in a File\n",
    "# Task:\n",
    "# Add a new key \"location\": \"Bangalore\" to the existing JSON data and write it back to the same file.\n",
    "\n",
    "# 4. Pretty Print JSON Data\n",
    "# Task:\n",
    "# Read a JSON file and print its contents in a readable/indented format.\n",
    "\n",
    "# 5. Convert JSON to Python Object and Back\n",
    "# Task:\n",
    "# Convert a JSON string into a Python dictionary and then back into a JSON string.\n",
    "\n",
    "# 6. Work with Nested JSON\n",
    "# Task:\n",
    "# Read a file with nested JSON\n",
    "# Write a nested JSON file\n",
    "\n",
    "# 7. Merge Two JSON Files\n",
    "# Task:\n",
    "# Load two JSON files and merge their contents into a new file.\n",
    "\n",
    "# 8. Count Entries(items) in a JSON Array\n",
    "\n",
    "# 9. Remove a Key from JSON File\n",
    "# Task:\n",
    "# Remove the key \"age\" from the JSON file if it exists.\n",
    "\n",
    "# 10.Flatten a Nested JSON\n",
    "# Task:\n",
    "# Write a function to flatten a nested dictionary. For example:\n",
    "\n",
    "# {\n",
    "#   \"user\": {\n",
    "#     \"name\": \"Alice\",\n",
    "#     \"address\": {\n",
    "#       \"city\": \"Mumbai\",\n",
    "#       \"pin\": 400001\n",
    "#     }\n",
    "#   }\n",
    "# }\n",
    "# Should become:\n",
    "\n",
    "# {\n",
    "#   \"user.name\": \"Alice\",\n",
    "#   \"user.address.city\": \"Mumbai\",\n",
    "#   \"user.address.pin\": 400001\n",
    "# }"
   ]
  },
  {
   "cell_type": "code",
   "execution_count": null,
   "id": "99999806",
   "metadata": {},
   "outputs": [],
   "source": []
  },
  {
   "cell_type": "markdown",
   "id": "f0c00a62",
   "metadata": {},
   "source": [
    "# PYTHON DAY 8"
   ]
  },
  {
   "cell_type": "code",
   "execution_count": 5,
   "id": "1435c914",
   "metadata": {},
   "outputs": [],
   "source": [
    "#Exception Handling"
   ]
  },
  {
   "cell_type": "code",
   "execution_count": 69,
   "id": "fec2738e",
   "metadata": {},
   "outputs": [],
   "source": [
    "# print(10/0)\n",
    "# print(\"Hello\")"
   ]
  },
  {
   "cell_type": "code",
   "execution_count": 7,
   "id": "d4dc1b9e",
   "metadata": {},
   "outputs": [
    {
     "name": "stdout",
     "output_type": "stream",
     "text": [
      "Something is wrong! division by zero\n",
      "Hello\n"
     ]
    }
   ],
   "source": [
    "try:\n",
    "    print(10/0)\n",
    "except Exception as e:\n",
    "    print(\"Something is wrong!\", e)\n",
    "print(\"Hello\")"
   ]
  },
  {
   "cell_type": "code",
   "execution_count": 8,
   "id": "7c40f760",
   "metadata": {},
   "outputs": [
    {
     "name": "stdout",
     "output_type": "stream",
     "text": [
      "Something is wrong! division by zero\n",
      "Hello\n"
     ]
    }
   ],
   "source": [
    "try:\n",
    "    print(10/0)\n",
    "except ZeroDivisionError as e:\n",
    "    print(\"Something is wrong!\", e)\n",
    "print(\"Hello\")"
   ]
  },
  {
   "cell_type": "code",
   "execution_count": 9,
   "id": "985470e1",
   "metadata": {},
   "outputs": [
    {
     "name": "stdout",
     "output_type": "stream",
     "text": [
      "2.0\n",
      "Hello\n"
     ]
    }
   ],
   "source": [
    "try:\n",
    "    print(10/5)\n",
    "except ZeroDivisionError as e:\n",
    "    print(\"Something is wrong!\", e)\n",
    "print(\"Hello\")"
   ]
  },
  {
   "cell_type": "code",
   "execution_count": 22,
   "id": "b941111a",
   "metadata": {},
   "outputs": [
    {
     "name": "stdout",
     "output_type": "stream",
     "text": [
      "2.0\n",
      "Hello\n"
     ]
    }
   ],
   "source": [
    "try:\n",
    "    print(10/5)\n",
    "    # var = var1\n",
    "except ZeroDivisionError as e:\n",
    "    print(\"Something is wrong!\", e)\n",
    "except NameError as e:\n",
    "    print(e)\n",
    "except ValueError as e:\n",
    "    print(e)\n",
    "print(\"Hello\")"
   ]
  },
  {
   "cell_type": "code",
   "execution_count": 71,
   "id": "5396e7d8",
   "metadata": {},
   "outputs": [
    {
     "name": "stdout",
     "output_type": "stream",
     "text": [
      "[Errno 2] No such file or directory: 'study.txt'\n"
     ]
    }
   ],
   "source": [
    "try:\n",
    "    f = open('study.txt')\n",
    "except FileNotFoundError as e:\n",
    "    print(e)\n",
    "finally:  #will run even the try block contains an error.\n",
    "    f.close()"
   ]
  },
  {
   "cell_type": "code",
   "execution_count": 16,
   "id": "963217dc",
   "metadata": {},
   "outputs": [
    {
     "name": "stdout",
     "output_type": "stream",
     "text": [
      "[Errno 2] No such file or directory: 'study.txt'\n"
     ]
    }
   ],
   "source": [
    "try:\n",
    "    f = open('study.txt')\n",
    "except FileNotFoundError as e:\n",
    "    print(e)\n",
    "finally:  #will run even the try block contains an error.\n",
    "    pass"
   ]
  },
  {
   "cell_type": "code",
   "execution_count": null,
   "id": "b1a29756",
   "metadata": {},
   "outputs": [
    {
     "name": "stdout",
     "output_type": "stream",
     "text": [
      "5.0\n",
      "Hello\n"
     ]
    }
   ],
   "source": [
    "#else\n",
    "\n",
    "try:\n",
    "    print(10/2)\n",
    "except:\n",
    "    print('error')\n",
    "else:\n",
    "    print(\"Hello\")  #only runs if try is ture, not run in case try is false. "
   ]
  },
  {
   "cell_type": "code",
   "execution_count": 19,
   "id": "de0ee316",
   "metadata": {},
   "outputs": [],
   "source": [
    "#try\n",
    "#except\n",
    "#else\n",
    "#Finally"
   ]
  },
  {
   "cell_type": "code",
   "execution_count": 20,
   "id": "5cae9f3e",
   "metadata": {},
   "outputs": [],
   "source": [
    "try:\n",
    "    pass\n",
    "except Exception:\n",
    "    pass\n",
    "else:\n",
    "    pass\n",
    "finally:\n",
    "    pass"
   ]
  },
  {
   "cell_type": "code",
   "execution_count": null,
   "id": "41cd7daf",
   "metadata": {},
   "outputs": [
    {
     "name": "stdout",
     "output_type": "stream",
     "text": [
      "Sorry, File not found!\n"
     ]
    }
   ],
   "source": [
    "try:\n",
    "    f = open('test.txt', 'r')\n",
    "except Exception:\n",
    "    print(\"Sorry, File not found!\")"
   ]
  },
  {
   "cell_type": "code",
   "execution_count": 23,
   "id": "ae99f337",
   "metadata": {},
   "outputs": [
    {
     "name": "stdout",
     "output_type": "stream",
     "text": [
      "Sorry, FIle Not Found!\n"
     ]
    }
   ],
   "source": [
    "try:\n",
    "    f = open('test.txt', 'r')\n",
    "    # var = bad_var\n",
    "except Exception:\n",
    "    print(\"Sorry, FIle Not Found!\")"
   ]
  },
  {
   "cell_type": "code",
   "execution_count": 75,
   "id": "995f973a",
   "metadata": {},
   "outputs": [],
   "source": [
    "# try:\n",
    "#     # f = open('test.txt', 'r')\n",
    "#     # var = bad_var\n",
    "# # except FileNotFoundError:\n",
    "#     print(\"Sorry, FIle Not Found!\")"
   ]
  },
  {
   "cell_type": "code",
   "execution_count": null,
   "id": "172c1a32",
   "metadata": {},
   "outputs": [
    {
     "name": "stdout",
     "output_type": "stream",
     "text": [
      "Sorry, Something is Wrong!\n"
     ]
    }
   ],
   "source": [
    "# #maintain the order of exception\n",
    "\n",
    "# try:\n",
    "#     f = open('test.txt', 'r')\n",
    "#     # var = bad_var\n",
    "# except Exception:\n",
    "#     print(\"Sorry, Something is Wrong!\")\n",
    "# except FileNotFoundError:\n",
    "#     print(\"Sorry, File Not Found!\")"
   ]
  },
  {
   "cell_type": "code",
   "execution_count": 24,
   "id": "28741c0d",
   "metadata": {},
   "outputs": [],
   "source": [
    "#maintain the order of exception\n",
    "\n",
    "# try:\n",
    "#     # f = open('test.txt', 'r')\n",
    "#     var = bad_var\n",
    "# except FileNotFoundError:\n",
    "#     print(\"Sorry, File Not Found!\")\n",
    "# except Exception:\n",
    "#     print(\"Sorry, Something is Wrong!\")"
   ]
  },
  {
   "cell_type": "code",
   "execution_count": 34,
   "id": "0aa6483d",
   "metadata": {},
   "outputs": [
    {
     "name": "stdout",
     "output_type": "stream",
     "text": [
      "Bye!\n"
     ]
    }
   ],
   "source": [
    "try:\n",
    "    f = open('copy.txt', 'r')\n",
    "    # var = bad_var\n",
    "except FileNotFoundError:\n",
    "    print(\"Sorry, File Not Found!\")\n",
    "except Exception:\n",
    "    print(\"Sorry, Something is Wrong!\")\n",
    "else:\n",
    "    print(\"Bye!\")"
   ]
  },
  {
   "cell_type": "code",
   "execution_count": 37,
   "id": "4600681e",
   "metadata": {},
   "outputs": [
    {
     "name": "stdout",
     "output_type": "stream",
     "text": [
      "[Errno 2] No such file or directory: 'test.txt'\n",
      "Finally\n"
     ]
    }
   ],
   "source": [
    "#Finally runs no matter what happens, helps us to close or release the resources\n",
    "try:\n",
    "    f = open('test.txt', 'r')\n",
    "    f.close()\n",
    "except FileNotFoundError as e:\n",
    "    print(e)\n",
    "except Exception as e:\n",
    "    print(e)\n",
    "else:\n",
    "    print(f.read())\n",
    "finally:\n",
    "    print(\"Finally\")"
   ]
  },
  {
   "cell_type": "code",
   "execution_count": 38,
   "id": "ca23e2d4",
   "metadata": {},
   "outputs": [
    {
     "name": "stdout",
     "output_type": "stream",
     "text": [
      "1.0\n",
      "2.0\n",
      "1.6666666666666667\n",
      "1.1111111111111112\n",
      "1.25\n",
      "5.0\n"
     ]
    }
   ],
   "source": [
    "values = [10, 5, 6, 0, 9, 8, 2]\n",
    "\n",
    "for value in values:\n",
    "    try:\n",
    "        print(10/value)\n",
    "    except:\n",
    "        pass"
   ]
  },
  {
   "cell_type": "code",
   "execution_count": 39,
   "id": "151d77ea",
   "metadata": {},
   "outputs": [
    {
     "name": "stdout",
     "output_type": "stream",
     "text": [
      "1.0\n",
      "2.0\n",
      "1.6666666666666667\n",
      "1.1111111111111112\n",
      "1.25\n",
      "5.0\n"
     ]
    }
   ],
   "source": [
    "values = [10, 5, 6, 0, 9, 8, 2]\n",
    "\n",
    "for value in values:\n",
    "    try:\n",
    "        print(10/value)\n",
    "    except:\n",
    "        continue "
   ]
  },
  {
   "cell_type": "code",
   "execution_count": 40,
   "id": "14e138ad",
   "metadata": {},
   "outputs": [
    {
     "name": "stdout",
     "output_type": "stream",
     "text": [
      "1.0\n",
      "2.0\n",
      "1.6666666666666667\n"
     ]
    }
   ],
   "source": [
    "values = [10, 5, 6, 0, 9, 8, 2]\n",
    "\n",
    "for value in values:\n",
    "    try:\n",
    "        print(10/value)\n",
    "    except:\n",
    "        break"
   ]
  },
  {
   "cell_type": "code",
   "execution_count": 76,
   "id": "1bc9fdb3",
   "metadata": {},
   "outputs": [
    {
     "name": "stdout",
     "output_type": "stream",
     "text": [
      "invalid literal for int() with base 10: 'Hello'\n",
      "invalid literal for int() with base 10: 'Hello'\n",
      "invalid literal for int() with base 10: 'Hello'\n",
      "invalid literal for int() with base 10: 'Hello'\n",
      "invalid literal for int() with base 10: 'Hello'\n",
      "invalid literal for int() with base 10: 'Hello'\n",
      "invalid literal for int() with base 10: 'Hello'\n"
     ]
    }
   ],
   "source": [
    "values = [10, 5, 6, 0, 9, 8, 2]\n",
    "\n",
    "for value in values:\n",
    "    try:\n",
    "        # print(10/value)\n",
    "        print(int(\"Hello\"))\n",
    "    except ValueError as e:\n",
    "        print(e)"
   ]
  },
  {
   "cell_type": "code",
   "execution_count": null,
   "id": "9e4d25b7",
   "metadata": {},
   "outputs": [
    {
     "name": "stdout",
     "output_type": "stream",
     "text": [
      "1.0\n",
      "invalid literal for int() with base 10: 'Hello'\n",
      "2.0\n",
      "invalid literal for int() with base 10: 'Hello'\n",
      "1.6666666666666667\n",
      "invalid literal for int() with base 10: 'Hello'\n",
      "1.1111111111111112\n",
      "invalid literal for int() with base 10: 'Hello'\n",
      "1.25\n",
      "invalid literal for int() with base 10: 'Hello'\n",
      "5.0\n",
      "invalid literal for int() with base 10: 'Hello'\n"
     ]
    }
   ],
   "source": [
    "import logging\n",
    "logging.basicConfig(filename='error.log', level= logging.ERROR)\n",
    "values = [10, 5, 6, 0, 9, 8, 2]\n",
    "\n",
    "for value in values:\n",
    "    try:\n",
    "        print(10/value)\n",
    "        print(int(\"Hello\"))\n",
    "    except ValueError as e:\n",
    "        print(e)\n",
    "    except Exception as e:\n",
    "        logging.exception(e)"
   ]
  },
  {
   "cell_type": "code",
   "execution_count": 46,
   "id": "28adee70",
   "metadata": {},
   "outputs": [
    {
     "name": "stdout",
     "output_type": "stream",
     "text": [
      "1.0\n",
      "2.0\n",
      "1.6666666666666667\n",
      "ValueError or ZeroDivisionError\n",
      "1.1111111111111112\n",
      "1.25\n",
      "ValueError or ZeroDivisionError\n",
      "5.0\n"
     ]
    }
   ],
   "source": [
    "values = [10, 5, 6, 0, 9, 8, \"Hello\", 2]\n",
    "\n",
    "for value in values:\n",
    "    try:\n",
    "        print(10/int(value))\n",
    "\n",
    "    except (ValueError, ZeroDivisionError) as e:\n",
    "        print(\"ValueError or ZeroDivisionError\")\n",
    "    \n",
    "    except Exception as e:\n",
    "        print(e)"
   ]
  },
  {
   "cell_type": "code",
   "execution_count": 48,
   "id": "93d9d45c",
   "metadata": {},
   "outputs": [
    {
     "name": "stdout",
     "output_type": "stream",
     "text": [
      "x should be greater than y\n"
     ]
    }
   ],
   "source": [
    "try:\n",
    "    x = 5\n",
    "    y =10\n",
    "    assert x > y, \"x should be greater than y\"\n",
    "\n",
    "except AssertionError as error:\n",
    "    print(error)"
   ]
  },
  {
   "cell_type": "code",
   "execution_count": null,
   "id": "24e9567c",
   "metadata": {},
   "outputs": [
    {
     "name": "stdout",
     "output_type": "stream",
     "text": [
      "Error: string object has no attribute 'sort'!\n",
      "Hello\n"
     ]
    }
   ],
   "source": [
    "try:              #Attribute Error\n",
    "    my_str = \"Hello! World\"\n",
    "    my_str.sort()\n",
    "except AttributeError:\n",
    "    print(\"Error: string object has no attribute 'sort'!\")\n",
    "print(\"Hello\")"
   ]
  },
  {
   "cell_type": "code",
   "execution_count": null,
   "id": "21a48227",
   "metadata": {},
   "outputs": [
    {
     "name": "stdout",
     "output_type": "stream",
     "text": [
      "Error: Index out of range!\n",
      "hello\n"
     ]
    }
   ],
   "source": [
    "try:                   #Index Error\n",
    "    my_list = [1, 2, 3]\n",
    "    print(my_list[3])\n",
    "except IndexError:\n",
    "    print(\"Error: Index out of range!\")\n",
    "print(\"hello\")"
   ]
  },
  {
   "cell_type": "code",
   "execution_count": 77,
   "id": "af91e185",
   "metadata": {},
   "outputs": [
    {
     "name": "stdout",
     "output_type": "stream",
     "text": [
      "hello\n"
     ]
    }
   ],
   "source": [
    "my_list = [1, 2, 3]\n",
    "# print(my_list[3])\n",
    "print(\"hello\")"
   ]
  },
  {
   "cell_type": "code",
   "execution_count": null,
   "id": "d74bc12c",
   "metadata": {},
   "outputs": [
    {
     "name": "stdout",
     "output_type": "stream",
     "text": [
      "Error: Key not found in Dictionary!\n",
      "hello\n"
     ]
    }
   ],
   "source": [
    "try:\n",
    "    my_dict = {'Name': 'Alice', 'Age': 23}  #Key Error only occurs in Dictionary.\n",
    "    print(my_dict[\"height\"])\n",
    "except KeyError:\n",
    "    print(\"Error: Key not found in Dictionary!\")\n",
    "print(\"hello\")"
   ]
  },
  {
   "cell_type": "code",
   "execution_count": 58,
   "id": "ee9e7af2",
   "metadata": {},
   "outputs": [
    {
     "name": "stdout",
     "output_type": "stream",
     "text": [
      "0\n",
      "hello\n"
     ]
    }
   ],
   "source": [
    "try:\n",
    "    my_list = [0] * (10**9)\n",
    "    print(my_list[3])\n",
    "except MemoryError:\n",
    "    print(\"Error: Not Enough Memory Available!\")\n",
    "print(\"hello\")"
   ]
  },
  {
   "cell_type": "code",
   "execution_count": 25,
   "id": "30c126c3",
   "metadata": {},
   "outputs": [],
   "source": [
    "# try:\n",
    "#     print(my_var)\n",
    "# except NameError:\n",
    "#     print(\"Error: Variable Not Defined!\")\n"
   ]
  },
  {
   "cell_type": "code",
   "execution_count": 61,
   "id": "0a1e7857",
   "metadata": {},
   "outputs": [
    {
     "name": "stdout",
     "output_type": "stream",
     "text": [
      "Error: Could Not Open File!\n"
     ]
    }
   ],
   "source": [
    "try:\n",
    "    with open('nonexistent_file.txt') as f:\n",
    "        contents = f.read()\n",
    "    print(my_list[3])\n",
    "except OSError:\n",
    "    print(\"Error: Could Not Open File!\")"
   ]
  },
  {
   "cell_type": "code",
   "execution_count": 62,
   "id": "68413066",
   "metadata": {},
   "outputs": [
    {
     "name": "stdout",
     "output_type": "stream",
     "text": [
      "Error: Invalid Syntax!\n"
     ]
    }
   ],
   "source": [
    "try:\n",
    "    eval(\"x = 5\")\n",
    "except SyntaxError:\n",
    "    print(\"Error: Invalid Syntax!\")"
   ]
  },
  {
   "cell_type": "code",
   "execution_count": 63,
   "id": "29127a52",
   "metadata": {},
   "outputs": [
    {
     "name": "stdout",
     "output_type": "stream",
     "text": [
      "Error: Invalid Syntax!\n"
     ]
    }
   ],
   "source": [
    "try:\n",
    "    exec('print(')\n",
    "except SyntaxError:\n",
    "    print(\"Error: Invalid Syntax!\")"
   ]
  },
  {
   "cell_type": "code",
   "execution_count": 64,
   "id": "8c2134bf",
   "metadata": {},
   "outputs": [
    {
     "name": "stdout",
     "output_type": "stream",
     "text": [
      "Error: unsupported operand type(s) for +: 'int' and 'str' \n"
     ]
    }
   ],
   "source": [
    "try:\n",
    "    result = 5 + \"Hello\"\n",
    "except TypeError:\n",
    "    print(\"Error: unsupported operand type(s) for +: 'int' and 'str' \")"
   ]
  },
  {
   "cell_type": "code",
   "execution_count": 65,
   "id": "4dc7118b",
   "metadata": {},
   "outputs": [
    {
     "name": "stdout",
     "output_type": "stream",
     "text": [
      "Error: Couldn't convert string into integer\n"
     ]
    }
   ],
   "source": [
    "try:\n",
    "    n = int(\"Hello\")\n",
    "except ValueError:\n",
    "    print(\"Error: Couldn't convert string into integer\")"
   ]
  },
  {
   "cell_type": "code",
   "execution_count": 66,
   "id": "f4bb5dea",
   "metadata": {},
   "outputs": [
    {
     "name": "stdout",
     "output_type": "stream",
     "text": [
      "1.0\n",
      "0.5\n",
      "0.3333333333333333\n",
      "error (<class 'TypeError'>, TypeError(\"unsupported operand type(s) for /: 'int' and 'str'\"), <traceback object at 0x0000029E208A1FC0>)\n",
      "0.25\n",
      "error (<class 'ZeroDivisionError'>, ZeroDivisionError('division by zero'), <traceback object at 0x0000029E208A2080>)\n"
     ]
    }
   ],
   "source": [
    "import sys\n",
    "\n",
    "a = [2, 4, 6, 'a', 8, 0]\n",
    "for i in a:\n",
    "    try:\n",
    "        c = 2/i\n",
    "        print(c)\n",
    "    except:\n",
    "        print('error', sys.exc_info())"
   ]
  },
  {
   "cell_type": "code",
   "execution_count": 67,
   "id": "d01148a4",
   "metadata": {},
   "outputs": [
    {
     "name": "stdout",
     "output_type": "stream",
     "text": [
      "1.0\n",
      "0.5\n",
      "0.3333333333333333\n",
      "error <class 'TypeError'>\n",
      "0.25\n",
      "error <class 'ZeroDivisionError'>\n"
     ]
    }
   ],
   "source": [
    "import sys\n",
    "\n",
    "a = [2, 4, 6, 'a', 8, 0]\n",
    "for i in a:\n",
    "    try:\n",
    "        c = 2/i\n",
    "        print(c)\n",
    "    except:\n",
    "        print('error', sys.exc_info()[0])"
   ]
  },
  {
   "cell_type": "code",
   "execution_count": 68,
   "id": "5b9861f5",
   "metadata": {},
   "outputs": [],
   "source": [
    "import sys\n",
    "\n",
    "randomList = ['a', 0, '2']"
   ]
  },
  {
   "cell_type": "code",
   "execution_count": 78,
   "id": "98cbd59c",
   "metadata": {},
   "outputs": [
    {
     "name": "stdout",
     "output_type": "stream",
     "text": [
      "5.0\n",
      "Error\n"
     ]
    }
   ],
   "source": [
    "try:\n",
    "    print(10/2)\n",
    "    raise ValueError\n",
    "except:\n",
    "    print(\"Error\")\n",
    "else:\n",
    "    print(\"Hello\")"
   ]
  },
  {
   "cell_type": "code",
   "execution_count": 84,
   "id": "4a13f47a",
   "metadata": {},
   "outputs": [
    {
     "name": "stdout",
     "output_type": "stream",
     "text": [
      "5.0\n",
      "Error\n"
     ]
    }
   ],
   "source": [
    "try:\n",
    "    print(10/2)\n",
    "    raise ValueError\n",
    "except:\n",
    "    print(\"Error\")\n",
    "else:\n",
    "    print(\"Hello\")\n",
    "\n",
    "n = -5\n",
    "# if n < 0:\n",
    "    # raise ValueError('n should be +pos')"
   ]
  },
  {
   "cell_type": "code",
   "execution_count": 85,
   "id": "7fa11e4b",
   "metadata": {},
   "outputs": [],
   "source": [
    "n = 5\n",
    "if n < 0:\n",
    "    raise ValueError('n should be +pos')"
   ]
  },
  {
   "cell_type": "code",
   "execution_count": 87,
   "id": "5b1ca9fa",
   "metadata": {},
   "outputs": [
    {
     "name": "stdout",
     "output_type": "stream",
     "text": [
      "n should be +pos\n"
     ]
    }
   ],
   "source": [
    "n = -5\n",
    "try:\n",
    "    if n < 0:\n",
    "        raise ValueError('n should be +pos')\n",
    "except ValueError as e:\n",
    "    print(e)"
   ]
  },
  {
   "cell_type": "code",
   "execution_count": 89,
   "id": "da27b201",
   "metadata": {},
   "outputs": [
    {
     "name": "stdout",
     "output_type": "stream",
     "text": [
      "Caught:  Index out of range\n"
     ]
    }
   ],
   "source": [
    "def get_item(lst, index):\n",
    "    if index >= len(lst):\n",
    "        raise IndexError(\"Index out of range\")\n",
    "    return lst[index]\n",
    "\n",
    "try:\n",
    "    print(get_item([10, 20, 30], 5))\n",
    "except IndexError as e:\n",
    "    print(\"Caught: \", e)"
   ]
  },
  {
   "cell_type": "code",
   "execution_count": 90,
   "id": "4e9809f0",
   "metadata": {},
   "outputs": [
    {
     "name": "stdout",
     "output_type": "stream",
     "text": [
      "Error: Both arguements must be numbers\n"
     ]
    }
   ],
   "source": [
    "def multiply(a, b):\n",
    "    if not isinstance(a, (int, float)) or not isinstance(b, (int,float)):\n",
    "        raise TypeError(\"Both arguements must be numbers\")\n",
    "    return a + b\n",
    "\n",
    "try:\n",
    "    result = multiply(3, \"four\")\n",
    "except TypeError as e:\n",
    "    print(\"Error:\", e)"
   ]
  },
  {
   "cell_type": "code",
   "execution_count": 92,
   "id": "6d3d7bba",
   "metadata": {},
   "outputs": [
    {
     "name": "stdout",
     "output_type": "stream",
     "text": [
      "Caught:  Invalid Score: -5\n"
     ]
    }
   ],
   "source": [
    "def check_scores(scores):\n",
    "    for score in scores:\n",
    "        if score < 0 or score > 100:\n",
    "            raise ValueError(f\"Invalid Score: {score}\")\n",
    "    return \"All scores are valid\"\n",
    "\n",
    "try:\n",
    "    check_scores([85, 90, -5, 100])\n",
    "except ValueError as e:\n",
    "    print(\"Caught: \", e)"
   ]
  },
  {
   "cell_type": "code",
   "execution_count": 44,
   "id": "2da4a35f",
   "metadata": {},
   "outputs": [],
   "source": [
    "values = [10, 5, 6, 0, 9, 8, \"Hello\", 2]\n",
    "\n",
    "for value in values:\n",
    "    try:\n",
    "        # print(10/int(value))\n",
    "    # except ZeroDivisionError as e:\n",
    "        pass\n",
    "    except ValueError as e:\n",
    "        print(\"Hello World\")\n",
    "        raise ValueError(\"Value Error\") #reraise - exception\n",
    "    except Exception as e:\n",
    "        print(e)"
   ]
  },
  {
   "cell_type": "code",
   "execution_count": 103,
   "id": "01304df3",
   "metadata": {},
   "outputs": [
    {
     "name": "stdout",
     "output_type": "stream",
     "text": [
      "Try Outside\n",
      "Try Inside\n",
      "Finally Inside\n",
      "finally Outside\n"
     ]
    }
   ],
   "source": [
    "try:\n",
    "    print('Try Outside')\n",
    "    try:\n",
    "        print(\"Try Inside\")\n",
    "    except:\n",
    "        print(\"Except Inside\")\n",
    "    finally:\n",
    "        print(\"Finally Inside\")\n",
    "except:\n",
    "    print(\"Except Outside\")\n",
    "finally:\n",
    "    print(\"finally Outside\")"
   ]
  },
  {
   "cell_type": "code",
   "execution_count": 104,
   "id": "11515341",
   "metadata": {},
   "outputs": [
    {
     "name": "stdout",
     "output_type": "stream",
     "text": [
      "Try Outside\n",
      "Except Outside\n",
      "finally Outside\n"
     ]
    }
   ],
   "source": [
    "try:\n",
    "    print('Try Outside')\n",
    "    print(10/0)\n",
    "    try:\n",
    "        print(\"Try Inside\")\n",
    "    except:\n",
    "        print(\"Except Inside\")\n",
    "    finally:\n",
    "        print(\"Finally Inside\")\n",
    "except:\n",
    "    print(\"Except Outside\")\n",
    "finally:\n",
    "    print(\"finally Outside\")"
   ]
  },
  {
   "cell_type": "code",
   "execution_count": 105,
   "id": "41eac09c",
   "metadata": {},
   "outputs": [
    {
     "name": "stdout",
     "output_type": "stream",
     "text": [
      "Try Outside\n",
      "Try Inside\n",
      "Except Inside\n",
      "Finally Inside\n",
      "finally Outside\n"
     ]
    }
   ],
   "source": [
    "try:\n",
    "    print('Try Outside')\n",
    "    try:\n",
    "        print(\"Try Inside\")\n",
    "        print(10/0)\n",
    "    except:\n",
    "        print(\"Except Inside\")\n",
    "    finally:\n",
    "        print(\"Finally Inside\")\n",
    "except:\n",
    "    print(\"Except Outside\")\n",
    "finally:\n",
    "    print(\"finally Outside\")"
   ]
  },
  {
   "cell_type": "code",
   "execution_count": 106,
   "id": "7865f53e",
   "metadata": {},
   "outputs": [
    {
     "name": "stdout",
     "output_type": "stream",
     "text": [
      "Try Outside\n",
      "Try Inside\n",
      "Finally Inside\n",
      "Except Outside\n",
      "finally Outside\n"
     ]
    }
   ],
   "source": [
    "try:\n",
    "    print('Try Outside')\n",
    "    try:\n",
    "        print(\"Try Inside\")\n",
    "        print(10/0)\n",
    "    finally:\n",
    "        print(\"Finally Inside\")\n",
    "except:\n",
    "    print(\"Except Outside\")\n",
    "finally:\n",
    "    print(\"finally Outside\")"
   ]
  },
  {
   "cell_type": "code",
   "execution_count": 1,
   "id": "b719bd41",
   "metadata": {},
   "outputs": [
    {
     "name": "stdout",
     "output_type": "stream",
     "text": [
      "Caught CustomError:  Number must be positive!\n"
     ]
    }
   ],
   "source": [
    "#User Defined Exception\n",
    "\n",
    "#Step-1: Define a custom exception by inheriting from Exception\n",
    "class CustomError(Exception):\n",
    "    pass\n",
    "\n",
    "#Step-2: Use it in a function or logic\n",
    "def check_positive(number):\n",
    "    if number < 0:\n",
    "        raise CustomError(\"Number must be positive!\")\n",
    "    else:\n",
    "        print(\"Valid number: \", number)\n",
    "\n",
    "#Step-3: Handle it using try-except\n",
    "try:\n",
    "    num = int(input(\"Enter a number: \"))\n",
    "    check_positive(num)\n",
    "except CustomError as e:\n",
    "    print(\"Caught CustomError: \", e)"
   ]
  },
  {
   "cell_type": "code",
   "execution_count": 3,
   "id": "bf144981",
   "metadata": {},
   "outputs": [],
   "source": [
    "# try:\n",
    "#     raise Exception(\"Outer\")\n",
    "# except Exception as e:\n",
    "#     try:\n",
    "#         raise Exception(\"Inner\")\n",
    "#     except:\n",
    "#         pass\n",
    "#     raise"
   ]
  },
  {
   "cell_type": "code",
   "execution_count": 4,
   "id": "5ea4d53a",
   "metadata": {},
   "outputs": [
    {
     "name": "stdout",
     "output_type": "stream",
     "text": [
      "File error: File not found: config.json\n",
      "Failed to load valid config.\n"
     ]
    }
   ],
   "source": [
    "''' Guidelines for Exception-Safe Functions\n",
    "Use try-except inside the funcction to handle expected errors. \n",
    "\n",
    "Raise meaningful exceptions if the function can't complete it's job. \n",
    "\n",
    "Use default values\n",
    "\n",
    "Log errors if needed. \n",
    "\n",
    "Don't hide bugs silently - handle only what you expect. '''\n",
    "\n",
    "import json\n",
    "import os\n",
    "\n",
    "def load_config(file_path):\n",
    "    try:\n",
    "        # Check if file exists\n",
    "        if not os.path.isfile(file_path):\n",
    "            raise FileNotFoundError(f\"File not found: {file_path}\")\n",
    "\n",
    "        # Load JSON data\n",
    "        with open(file_path, 'r') as file:\n",
    "            config = json.load(file)\n",
    "\n",
    "        # Validate essential keys\n",
    "        required_keys = ['host', 'port', 'username']\n",
    "        for key in required_keys:\n",
    "            if key not in config:\n",
    "                raise ValueError(f\"Missing required key: {key}\")\n",
    "\n",
    "        # Validate types\n",
    "        if not isinstance(config['port'], int):\n",
    "            raise TypeError(\"Port must be an integer\")\n",
    "\n",
    "        return config\n",
    "\n",
    "    except FileNotFoundError as fnf:\n",
    "        print(\"File error:\", fnf)\n",
    "    except json.JSONDecodeError as jde:\n",
    "        print(\"Invalid JSON format:\", jde)\n",
    "    except (ValueError, TypeError) as ve:\n",
    "        print(\"Validation error:\", ve)\n",
    "    except Exception as e:\n",
    "        print(\"Unexpected error:\", e)\n",
    "\n",
    "    return None\n",
    "\n",
    "# --- Example usage ---\n",
    "config = load_config(\"config.json\")\n",
    "if config:\n",
    "    print(\"Valid config loaded:\", config)\n",
    "else:\n",
    "    print(\"Failed to load valid config.\")\n"
   ]
  },
  {
   "cell_type": "code",
   "execution_count": 33,
   "id": "c937480b",
   "metadata": {},
   "outputs": [
    {
     "name": "stdout",
     "output_type": "stream",
     "text": [
      "0.0\n"
     ]
    }
   ],
   "source": [
    "# 1. Divide Two Numbers\n",
    "# - Input two numbers.\n",
    "# - Handle ZeroDivisionError and ValueError.\n",
    "\n",
    "a = int(input())\n",
    "b = int(input())\n",
    "\n",
    "try:\n",
    "    c = a/b\n",
    "    print(c)\n",
    "\n",
    "except ZeroDivisionError:\n",
    "    print(\"Caught: Division by zero is not allowed.\")\n",
    "\n",
    "except ValueError:\n",
    "    print(\"Caught: Invalid input. Please enter valid integers.\")"
   ]
  },
  {
   "cell_type": "code",
   "execution_count": 62,
   "id": "d43b7830",
   "metadata": {},
   "outputs": [
    {
     "name": "stdout",
     "output_type": "stream",
     "text": [
      "[Errno 2] No such file or directory: 'numb.txt'\n"
     ]
    }
   ],
   "source": [
    "# 2. File Reader\n",
    "# - Try opening a file.\n",
    "# - Handle FileNotFoundError.\n",
    "\n",
    "try:\n",
    "    with open('numb.txt', 'r') as file:\n",
    "        f = file.read()\n",
    "        print(f)\n",
    "\n",
    "except FileNotFoundError as e:\n",
    "    print(e)"
   ]
  },
  {
   "cell_type": "code",
   "execution_count": 70,
   "id": "6ee7f954",
   "metadata": {},
   "outputs": [
    {
     "name": "stdout",
     "output_type": "stream",
     "text": [
      "Caught:  {ValueError(\"invalid literal for int() with base 10: 'g'\")}\n"
     ]
    }
   ],
   "source": [
    "# 3. List Index Access\n",
    "# - Access a list index given by the user.\n",
    "# - Handle IndexError and ValueError.\n",
    "\n",
    "val = [10, 20, 'g', 75, 84, 96, 34, 62, \"Python\"]\n",
    "\n",
    "try:\n",
    "        print(int(val[int(input())]))\n",
    "        # print(int(val[8]))\n",
    "except IndexError as e:\n",
    "    print(\"Index not in range.\")\n",
    "except ValueError as e:\n",
    "    print(\"Caught: \", {e})"
   ]
  },
  {
   "cell_type": "code",
   "execution_count": 74,
   "id": "154484d4",
   "metadata": {},
   "outputs": [
    {
     "name": "stdout",
     "output_type": "stream",
     "text": [
      "65\n"
     ]
    }
   ],
   "source": [
    "# 4. String to Integer Conversion\n",
    "# - Convert a user-given string to an integer.\n",
    "# - Handle ValueError.\n",
    "\n",
    "str = input()\n",
    "\n",
    "try:\n",
    "    i = int(str)\n",
    "    print(i)\n",
    "except ValueError as e:\n",
    "    print(e)"
   ]
  },
  {
   "cell_type": "code",
   "execution_count": 79,
   "id": "ba2678a4",
   "metadata": {},
   "outputs": [
    {
     "name": "stdout",
     "output_type": "stream",
     "text": [
      "[Errno 17] File exists: 'num1.txt'\n"
     ]
    }
   ],
   "source": [
    "# 5. Open a Nonexistent File\n",
    "# - Read a file that may or may not exist.\n",
    "# - Handle FileExistsError.\n",
    "\n",
    "try:\n",
    "    with open('num1.txt', 'x') as f:\n",
    "        g = f.close()\n",
    "except FileExistsError as e:\n",
    "    print(e)"
   ]
  },
  {
   "cell_type": "code",
   "execution_count": null,
   "id": "7f9416a6",
   "metadata": {},
   "outputs": [],
   "source": [
    "# 6. Nested Try-Except\n",
    "# - Perform multiple operations (file, division, list access).\n",
    "# - Use nested try-except. \n",
    "\n"
   ]
  },
  {
   "cell_type": "code",
   "execution_count": 89,
   "id": "888d02c8",
   "metadata": {},
   "outputs": [
    {
     "name": "stdout",
     "output_type": "stream",
     "text": [
      "Division by Zero Error\n",
      "Program Executed!\n"
     ]
    }
   ],
   "source": [
    "# 7. Use of Else and Finally\n",
    "# - Create a program that uses try-except-else-finally together.\n",
    "\n",
    "a = int(input())\n",
    "b = int(input())\n",
    "\n",
    "try:\n",
    "    c = a/b\n",
    "except ZeroDivisionError as e:\n",
    "    print(\"Division by Zero Error\")\n",
    "except ValueError as e:\n",
    "    print(e)\n",
    "else:\n",
    "    print(\"Division Successfull, result is :\", c)\n",
    "finally:\n",
    "    print(\"Program Executed!\")"
   ]
  },
  {
   "cell_type": "code",
   "execution_count": 6,
   "id": "eaf5ce76",
   "metadata": {},
   "outputs": [
    {
     "name": "stdout",
     "output_type": "stream",
     "text": [
      "Age is: 56\n"
     ]
    }
   ],
   "source": [
    "# 8. Raise Custom Exceptions\n",
    "# Python Exception Handling Tasks\n",
    "# - Create a custom exception for 'Negative Age'.\n",
    "# - Raise it if the user enters a negative number.\n",
    "\n",
    "age = int(input())\n",
    "try:\n",
    "    if age < 0:\n",
    "        raise ValueError('Age should be +pos')\n",
    "except ValueError as e:\n",
    "    print(e)\n",
    "else:\n",
    "    print(\"Age is:\",age)"
   ]
  },
  {
   "cell_type": "code",
   "execution_count": 83,
   "id": "c3a0ae2d",
   "metadata": {},
   "outputs": [],
   "source": [
    "# 9. Form Validation\n",
    "# - Validate a form with name, age, and email.\n",
    "# - Raise custom exceptions for invalid inputs."
   ]
  },
  {
   "cell_type": "code",
   "execution_count": 84,
   "id": "c175b353",
   "metadata": {},
   "outputs": [],
   "source": [
    "# 10. User Registration System\n",
    "# - Ask for username and password.\n",
    "# - Raise exception for weak password or duplicate username."
   ]
  },
  {
   "cell_type": "code",
   "execution_count": 20,
   "id": "0f5d79c1",
   "metadata": {},
   "outputs": [],
   "source": [
    "#Network Module\n",
    "#Database connectivity module\n",
    "#Multi-Threading module\n",
    "#MongoDB Module\n",
    "\n",
    "#HackerRank\n",
    "#HackerEarth"
   ]
  },
  {
   "cell_type": "code",
   "execution_count": 8,
   "id": "e7d55040",
   "metadata": {},
   "outputs": [
    {
     "name": "stdout",
     "output_type": "stream",
     "text": [
      "That's not a valid integer. Please try again.\n",
      "You entered: 0\n"
     ]
    }
   ],
   "source": [
    "while True:\n",
    "    try:\n",
    "        num = int(input(\"Enter a valid Integer:\"))\n",
    "        print(f\"You entered: {num}\")\n",
    "        break   #Exits the loop if input is valid\n",
    "    except ValueError:\n",
    "        print(\"That's not a valid integer. Please try again.\")"
   ]
  },
  {
   "cell_type": "code",
   "execution_count": null,
   "id": "90352490",
   "metadata": {},
   "outputs": [
    {
     "data": {
      "text/plain": [
       "'Write a function, which takes a non-negative integer (seconds)\\nas input and returns the time  in a human readable format(HH:MM:SS)\\nHH = hours, padded to 2 digits, range: 00-99\\nMM = minutes, padded t 2 digits, range: 00-59\\nSS = seconds, padded to 2 digits, range: 00-59\\nThe maximum time never exceeds 359999 (99:59:59)\\n\\n\\n\\nmake_readable(0), \"00:00:00\"\\nmake_readable(59), \"00:00:59\"\\nmake_readable(60), \"00:01:00\"\\nmake_readable(3599), \"00:59:59\"\\nmake_readable(3600), \"01:00:00\"\\nmake_readable(86399), \"23:59:59\"\\nmake_readable(86400), \"24:00:00\"\\nmake_readable(359999), \"99:59:59\"\\n'"
      ]
     },
     "execution_count": 19,
     "metadata": {},
     "output_type": "execute_result"
    }
   ],
   "source": [
    "''' Write a function, which takes a non-negative integer (seconds) as input and returns the time  in a human readable format(HH:MM:SS)\n",
    "\n",
    "HH = hours, padded to 2 digits, range: 00-99\n",
    "MM = minutes, padded t 2 digits, range: 00-59\n",
    "SS = seconds, padded to 2 digits, range: 00-59\n",
    "The maximum time never exceeds 359999 (99:59:59)\n",
    "\n",
    "\n",
    "make_readable(0), \"00:00:00\"\n",
    "make_readable(59), \"00:00:59\"\n",
    "make_readable(60), \"00:01:00\"\n",
    "make_readable(3599), \"00:59:59\"\n",
    "make_readable(3600), \"01:00:00\"\n",
    "make_readable(86399), \"23:59:59\"\n",
    "make_readable(86400), \"24:00:00\"\n",
    "make_readable(359999), \"99:59:59\" '''"
   ]
  },
  {
   "cell_type": "code",
   "execution_count": 29,
   "id": "66795390",
   "metadata": {},
   "outputs": [
    {
     "name": "stdout",
     "output_type": "stream",
     "text": [
      "99: 59: 59\n"
     ]
    }
   ],
   "source": [
    "def make_readable(seconds):\n",
    "    if not (0 <= seconds <= 359999):\n",
    "        raise ValueError(\"Seconds should be between 0 and 359999\")\n",
    "    \n",
    "    hours = seconds // 3600\n",
    "    minutes = (seconds % 3600) // 60\n",
    "    secs = seconds % 60\n",
    "\n",
    "    return f\"{hours:02}: {minutes:02}: {secs:02}\"\n",
    "\n",
    "n = int(input())\n",
    "\n",
    "print(make_readable(n))\n"
   ]
  },
  {
   "cell_type": "markdown",
   "id": "84fa8bcd",
   "metadata": {},
   "source": [
    "# PYTHON DAY 9"
   ]
  },
  {
   "cell_type": "code",
   "execution_count": 1,
   "id": "00a04c68",
   "metadata": {},
   "outputs": [
    {
     "name": "stdout",
     "output_type": "stream",
     "text": [
      "Hello\n",
      "['C:\\\\Users\\\\gauri.jindal\\\\AppData\\\\Roaming\\\\Python\\\\Python312\\\\site-packages\\\\ipykernel_launcher.py', '--f=c:\\\\Users\\\\gauri.jindal\\\\AppData\\\\Roaming\\\\jupyter\\\\runtime\\\\kernel-v3144997e6f11be049500865fab0cf923615517d37.json']\n",
      "C:\\Users\\gauri.jindal\\AppData\\Roaming\\Python\\Python312\\site-packages\\ipykernel_launcher.py\n",
      "['--f=c:\\\\Users\\\\gauri.jindal\\\\AppData\\\\Roaming\\\\jupyter\\\\runtime\\\\kernel-v3144997e6f11be049500865fab0cf923615517d37.json']\n",
      "file nameC:\\Users\\gauri.jindal\\AppData\\Roaming\\Python\\Python312\\site-packages\\ipykernel_launcher.py\n"
     ]
    }
   ],
   "source": [
    "#Command Line Arguements\n",
    "\n",
    "import sys\n",
    "print(\"Hello\")\n",
    "print(sys.argv)\n",
    "\n",
    "print(sys.argv[0]) #pynew_args.py 1 2 3 4\n",
    "print(sys.argv[1:])\n",
    "\n",
    "print(f'file name{sys.argv[0]}')"
   ]
  },
  {
   "cell_type": "code",
   "execution_count": null,
   "id": "44eed9e4",
   "metadata": {},
   "outputs": [],
   "source": []
  }
 ],
 "metadata": {
  "kernelspec": {
   "display_name": "Python 3",
   "language": "python",
   "name": "python3"
  },
  "language_info": {
   "codemirror_mode": {
    "name": "ipython",
    "version": 3
   },
   "file_extension": ".py",
   "mimetype": "text/x-python",
   "name": "python",
   "nbconvert_exporter": "python",
   "pygments_lexer": "ipython3",
   "version": "3.12.3"
  }
 },
 "nbformat": 4,
 "nbformat_minor": 5
}
