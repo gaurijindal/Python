{
 "cells": [
  {
   "cell_type": "markdown",
   "id": "03cdfea4",
   "metadata": {},
   "source": [
    "# PYTHON DAY 11"
   ]
  },
  {
   "cell_type": "markdown",
   "id": "7f6112d0",
   "metadata": {},
   "source": [
    "REGEX"
   ]
  },
  {
   "cell_type": "code",
   "execution_count": 1,
   "id": "5347ef2c",
   "metadata": {},
   "outputs": [
    {
     "name": "stdout",
     "output_type": "stream",
     "text": [
      "['a_b', 'a b']\n"
     ]
    }
   ],
   "source": [
    "import re\n",
    "print(re.findall(r'a.b', 'abc a_b a b abs'))"
   ]
  },
  {
   "cell_type": "code",
   "execution_count": 2,
   "id": "8101dff1",
   "metadata": {},
   "outputs": [
    {
     "name": "stdout",
     "output_type": "stream",
     "text": [
      "['Hello']\n"
     ]
    }
   ],
   "source": [
    "print(re.findall(r'^Hello', 'Hello World'))"
   ]
  },
  {
   "cell_type": "code",
   "execution_count": 3,
   "id": "25364368",
   "metadata": {},
   "outputs": [
    {
     "name": "stdout",
     "output_type": "stream",
     "text": [
      "[]\n"
     ]
    }
   ],
   "source": [
    "print(re.findall(r'world$', 'Hello World'))"
   ]
  },
  {
   "cell_type": "code",
   "execution_count": 4,
   "id": "da45886a",
   "metadata": {},
   "outputs": [
    {
     "name": "stdout",
     "output_type": "stream",
     "text": [
      "['ab', 'ab', 'ab']\n"
     ]
    }
   ],
   "source": [
    "print(re.findall(r'abs*', 'ab abbb abb a'))"
   ]
  },
  {
   "cell_type": "code",
   "execution_count": 5,
   "id": "5d579bba",
   "metadata": {},
   "outputs": [
    {
     "name": "stdout",
     "output_type": "stream",
     "text": [
      "['ab', 'abbb', 'abb', 'a']\n"
     ]
    }
   ],
   "source": [
    "print(re.findall(r'ab*', 'ab abbb abb a'))"
   ]
  },
  {
   "cell_type": "code",
   "execution_count": null,
   "id": "08869de0",
   "metadata": {},
   "outputs": [
    {
     "name": "stdout",
     "output_type": "stream",
     "text": [
      "['aa', 'aa']\n"
     ]
    }
   ],
   "source": [
    "print(re.findall(r'a{2}', 'a aa aaa'))  #Exact repetitions"
   ]
  },
  {
   "cell_type": "code",
   "execution_count": 11,
   "id": "f6a97919",
   "metadata": {},
   "outputs": [
    {
     "name": "stdout",
     "output_type": "stream",
     "text": [
      "['a', 'aa', 'aa', 'a', 'a', 'aa', 'aa', 'a']\n"
     ]
    }
   ],
   "source": [
    "print(re.findall(r'a{1,2}', 'a aa aaa a aaaaa'))"
   ]
  },
  {
   "cell_type": "code",
   "execution_count": 12,
   "id": "d8a44167",
   "metadata": {},
   "outputs": [
    {
     "name": "stdout",
     "output_type": "stream",
     "text": [
      "['e', 'o', 'o']\n"
     ]
    }
   ],
   "source": [
    "print(re.findall(r'[aeiou]', 'Hello World'))"
   ]
  },
  {
   "cell_type": "code",
   "execution_count": 13,
   "id": "963fa0e8",
   "metadata": {},
   "outputs": [
    {
     "name": "stdout",
     "output_type": "stream",
     "text": [
      "<re.Match object; span=(0, 8), match='DEV25001'>\n"
     ]
    }
   ],
   "source": [
    "s = 'DEV25001'\n",
    "\n",
    "pattern = '[A-Z]{3}[0-9]{2}[0-9]{3}'\n",
    "\n",
    "print(re.match(pattern,s))"
   ]
  },
  {
   "cell_type": "code",
   "execution_count": 14,
   "id": "264bd216",
   "metadata": {},
   "outputs": [
    {
     "name": "stdout",
     "output_type": "stream",
     "text": [
      "['ai', 'ai']\n"
     ]
    }
   ],
   "source": [
    "import re\n",
    "\n",
    "txt = 'The rain in Spain'\n",
    "x = re.findall('ai', txt)\n",
    "print(x)"
   ]
  },
  {
   "cell_type": "code",
   "execution_count": 15,
   "id": "71d13705",
   "metadata": {},
   "outputs": [
    {
     "name": "stdout",
     "output_type": "stream",
     "text": [
      "[]\n"
     ]
    }
   ],
   "source": [
    "import re\n",
    "\n",
    "txt = 'The rain in Spain'\n",
    "x = re.findall('Portugal', txt)\n",
    "print(x)"
   ]
  },
  {
   "cell_type": "code",
   "execution_count": 16,
   "id": "12e84921",
   "metadata": {},
   "outputs": [
    {
     "name": "stdout",
     "output_type": "stream",
     "text": [
      "in txt\n"
     ]
    }
   ],
   "source": [
    "#search()\n",
    "\n",
    "import re\n",
    "txt = \"The rain in rain\"\n",
    "x = re.search(\"rain\", txt)\n",
    "\n",
    "if x:\n",
    "    print(\"in txt\")\n",
    "else:\n",
    "    print(\"no match\")"
   ]
  },
  {
   "cell_type": "code",
   "execution_count": null,
   "id": "08af1cfb",
   "metadata": {},
   "outputs": [
    {
     "name": "stdout",
     "output_type": "stream",
     "text": [
      "['The', 'rain', 'in', 'Spain']\n"
     ]
    },
    {
     "name": "stderr",
     "output_type": "stream",
     "text": [
      "<>:3: SyntaxWarning: invalid escape sequence '\\s'\n",
      "<>:3: SyntaxWarning: invalid escape sequence '\\s'\n",
      "C:\\Users\\gauri.jindal\\AppData\\Local\\Temp\\ipykernel_15852\\2312977447.py:3: SyntaxWarning: invalid escape sequence '\\s'\n",
      "  x = re.split(\"\\s\", txt)\n"
     ]
    }
   ],
   "source": [
    "#split()\n",
    "\n",
    "import re\n",
    "txt = \"The rain in Spain\"\n",
    "x = re.split(\"\\s\", txt)\n",
    "\n",
    "print(x)"
   ]
  },
  {
   "cell_type": "code",
   "execution_count": null,
   "id": "c3a4059c",
   "metadata": {},
   "outputs": [
    {
     "name": "stdout",
     "output_type": "stream",
     "text": [
      "['The', 'rain', 'in Spain']\n"
     ]
    },
    {
     "name": "stderr",
     "output_type": "stream",
     "text": [
      "<>:3: SyntaxWarning: invalid escape sequence '\\s'\n",
      "<>:3: SyntaxWarning: invalid escape sequence '\\s'\n",
      "C:\\Users\\gauri.jindal\\AppData\\Local\\Temp\\ipykernel_15852\\1570150705.py:3: SyntaxWarning: invalid escape sequence '\\s'\n",
      "  x = re.split(\"\\s\", txt,2)\n"
     ]
    }
   ],
   "source": [
    "#split()\n",
    "\n",
    "import re\n",
    "txt = \"The rain in Spain\"\n",
    "x = re.split(\"\\s\", txt,2)\n",
    "\n",
    "print(x)"
   ]
  },
  {
   "cell_type": "code",
   "execution_count": 20,
   "id": "5bf44b38",
   "metadata": {},
   "outputs": [
    {
     "name": "stdout",
     "output_type": "stream",
     "text": [
      "There rain in Spain\n"
     ]
    }
   ],
   "source": [
    "#sub()\n",
    "\n",
    "import re\n",
    "txt = \"The rain in Spain\"\n",
    "x = re.sub(\"The\", \"There\", txt)\n",
    "\n",
    "print(x)"
   ]
  },
  {
   "cell_type": "code",
   "execution_count": 21,
   "id": "67abae8d",
   "metadata": {},
   "outputs": [
    {
     "name": "stdout",
     "output_type": "stream",
     "text": [
      "The9rain9in Spain\n"
     ]
    },
    {
     "name": "stderr",
     "output_type": "stream",
     "text": [
      "<>:5: SyntaxWarning: invalid escape sequence '\\s'\n",
      "<>:5: SyntaxWarning: invalid escape sequence '\\s'\n",
      "C:\\Users\\gauri.jindal\\AppData\\Local\\Temp\\ipykernel_15852\\1513771669.py:5: SyntaxWarning: invalid escape sequence '\\s'\n",
      "  x = re.sub(\"\\s\", \"9\", txt,2)\n"
     ]
    }
   ],
   "source": [
    "#sub()\n",
    "\n",
    "import re\n",
    "txt = \"The rain in Spain\"\n",
    "x = re.sub(\"\\s\", \"9\", txt,2)\n",
    "\n",
    "print(x)"
   ]
  },
  {
   "cell_type": "code",
   "execution_count": 22,
   "id": "c579df6b",
   "metadata": {},
   "outputs": [
    {
     "name": "stdout",
     "output_type": "stream",
     "text": [
      "This is a string with special characters\n"
     ]
    }
   ],
   "source": [
    "import re\n",
    "\n",
    "string = \"This is a #string with %special^ characters!\"\n",
    "pattern = r'[^a-zA-Z0-9\\s]+'\n",
    "\n",
    "#replace all non-alphanumeric characters and  whitespace with\n",
    "new_string = re.sub(pattern, '', string)\n",
    "\n",
    "print(new_string) #output: This is a string with special characters. "
   ]
  },
  {
   "cell_type": "code",
   "execution_count": 29,
   "id": "9116d5ba",
   "metadata": {},
   "outputs": [
    {
     "name": "stdout",
     "output_type": "stream",
     "text": [
      "False\n"
     ]
    }
   ],
   "source": [
    "import re\n",
    "\n",
    "t = \"My name is Gauri\"\n",
    "s = (re.search(r'\\.$', t))\n",
    "\n",
    "print(bool(s))"
   ]
  },
  {
   "cell_type": "code",
   "execution_count": 45,
   "id": "e43f5653",
   "metadata": {},
   "outputs": [
    {
     "name": "stdout",
     "output_type": "stream",
     "text": [
      "['12', '20']\n"
     ]
    }
   ],
   "source": [
    "import re\n",
    "\n",
    "s = \"I have 12 apples and 20 bananas\"  #12, 20\n",
    "ans = re.findall(r'[0-9]+', s)\n",
    "\n",
    "print(ans)\n"
   ]
  },
  {
   "cell_type": "code",
   "execution_count": 44,
   "id": "a85af2e8",
   "metadata": {},
   "outputs": [
    {
     "name": "stdout",
     "output_type": "stream",
     "text": [
      "<re.Match object; span=(0, 2), match='hi'>\n",
      "<re.Match object; span=(0, 2), match='hi'>\n"
     ]
    }
   ],
   "source": [
    "import re\n",
    "\n",
    "#difference between match and search\n",
    "\n",
    "s = \"hi Say hii to Everyone.\"\n",
    "\n",
    "print(re.match('hi', s))\n",
    "\n",
    "print(re.search('hi', s))"
   ]
  },
  {
   "cell_type": "code",
   "execution_count": 48,
   "id": "afe8702e",
   "metadata": {},
   "outputs": [
    {
     "name": "stdout",
     "output_type": "stream",
     "text": [
      "First Match:  9876\n",
      "All matches:  ['9876', '1234']\n"
     ]
    }
   ],
   "source": [
    "import re\n",
    "\n",
    "text = \"My number is 9876 and my friend's is 1234\"\n",
    "\n",
    "#search: only finds the first match.\n",
    "first_match = re.search(r\"\\d+\", text)\n",
    "print(\"First Match: \", first_match.group())\n",
    "\n",
    "#findall: finds all digit sequences\n",
    "all_matches = re.findall(r'\\d+', text)\n",
    "print(\"All matches: \", all_matches)"
   ]
  },
  {
   "cell_type": "code",
   "execution_count": 52,
   "id": "e3ca88ff",
   "metadata": {},
   "outputs": [
    {
     "name": "stdout",
     "output_type": "stream",
     "text": [
      "Capitalized Words:  ['Python', 'Developed', 'Guido', 'Rossum', 'Netherlands']\n"
     ]
    }
   ],
   "source": [
    "text = \"Python is Developed by Guido van Rossum in Netherlands\"\n",
    "\n",
    "cap_words = re.findall(r'\\b[A-Z][a-z]*\\b', text)\n",
    "print(\"Capitalized Words: \", cap_words)"
   ]
  },
  {
   "cell_type": "code",
   "execution_count": 53,
   "id": "1308773d",
   "metadata": {},
   "outputs": [
    {
     "name": "stdout",
     "output_type": "stream",
     "text": [
      "The cost is 10 dollars and 14 cents.\n"
     ]
    }
   ],
   "source": [
    "#Functions\n",
    "\n",
    "import re\n",
    "\n",
    "def double_numbers(match):\n",
    "    number = int(match.group())\n",
    "    return str(number*2)\n",
    "\n",
    "text = \"The cost is 5 dollars and 7 cents.\"\n",
    "result = re.sub(r'\\d+', double_numbers, text)\n",
    "print(result)"
   ]
  },
  {
   "cell_type": "code",
   "execution_count": 55,
   "id": "53225152",
   "metadata": {},
   "outputs": [
    {
     "name": "stdout",
     "output_type": "stream",
     "text": [
      "You are such a [censored]and a[censored].\n"
     ]
    }
   ],
   "source": [
    "text = 'You are such a fool and a dummy.'\n",
    "bad_words = r'\\bfool | dummy\\b'\n",
    "censored = re.sub(bad_words, '[censored]', text)\n",
    "print(censored)"
   ]
  },
  {
   "cell_type": "code",
   "execution_count": 57,
   "id": "8cab4d38",
   "metadata": {},
   "outputs": [
    {
     "name": "stdout",
     "output_type": "stream",
     "text": [
      "Full match: Name: John, Age: 30\n",
      "Name: John\n",
      "Age: 30\n"
     ]
    }
   ],
   "source": [
    "text = \"Name: John, Age: 30\"\n",
    "match = re.search(r\"Name: (\\w+), Age: (\\d+)\", text)\n",
    "\n",
    "if match:\n",
    "    print(\"Full match:\", match.group(0))           #Full match\n",
    "    print(\"Name:\", match.group(1))                 #First group(\\w+)\n",
    "    print(\"Age:\", match.group(2))                  #Second group(\\d+)"
   ]
  },
  {
   "cell_type": "code",
   "execution_count": 58,
   "id": "bccfc704",
   "metadata": {},
   "outputs": [
    {
     "name": "stdout",
     "output_type": "stream",
     "text": [
      "['apple', 'banana', 'grape', 'orange']\n"
     ]
    }
   ],
   "source": [
    "import re\n",
    "\n",
    "text = \"apple, banana; grape orange\"\n",
    "result = re.split(r'[;, \\s]+', text)\n",
    "print(result)\n"
   ]
  },
  {
   "cell_type": "code",
   "execution_count": 62,
   "id": "257b79f4",
   "metadata": {},
   "outputs": [
    {
     "name": "stdout",
     "output_type": "stream",
     "text": [
      "['one', 'two', 'three-four']\n"
     ]
    }
   ],
   "source": [
    "text='one-two-three-four'\n",
    "result=re.split(r'[-]',text,maxsplit=2)\n",
    "print(result)\n"
   ]
  },
  {
   "cell_type": "code",
   "execution_count": 60,
   "id": "e44c2062",
   "metadata": {},
   "outputs": [
    {
     "name": "stdout",
     "output_type": "stream",
     "text": [
      "('# # #', 3)\n"
     ]
    }
   ],
   "source": [
    "result = re.subn(r'\\d+', '#', '123 456 789')\n",
    "print(result)"
   ]
  },
  {
   "cell_type": "code",
   "execution_count": 61,
   "id": "531b315a",
   "metadata": {},
   "outputs": [
    {
     "name": "stdout",
     "output_type": "stream",
     "text": [
      "['123', '456']\n"
     ]
    }
   ],
   "source": [
    "pattern = re.compile(r'\\d+')\n",
    "print(pattern.findall('123 456'))"
   ]
  },
  {
   "cell_type": "code",
   "execution_count": 63,
   "id": "45e225d7",
   "metadata": {},
   "outputs": [
    {
     "name": "stdout",
     "output_type": "stream",
     "text": [
      "True\n"
     ]
    }
   ],
   "source": [
    "# 1. Write a regex pattern to validate a mail id.\n",
    "\n",
    "regex = r'^[a-zA-Z0-9._%+-]+@[a-zA-Z0-9.-]+\\.[a-zA-Z]{2,}$'\n",
    "if re.match(regex, 'gaurijindal.hrd@gmail.com'):\n",
    "        print(True)\n",
    "else:\n",
    "        print(False)"
   ]
  },
  {
   "cell_type": "code",
   "execution_count": 64,
   "id": "a523fa3f",
   "metadata": {},
   "outputs": [
    {
     "name": "stdout",
     "output_type": "stream",
     "text": [
      "False\n"
     ]
    }
   ],
   "source": [
    "regex = r'^[a-zA-Z0-9._%+-]+@[a-zA-Z0-9.-]+\\.[a-zA-Z]{2,}$'\n",
    "if re.match(regex, 'gaurijindal.hrd@.com'):\n",
    "        print(True)\n",
    "else:\n",
    "        print(False)"
   ]
  },
  {
   "cell_type": "code",
   "execution_count": 73,
   "id": "1e3429ed",
   "metadata": {},
   "outputs": [
    {
     "name": "stdout",
     "output_type": "stream",
     "text": [
      "True\n"
     ]
    }
   ],
   "source": [
    "#pattern = r'^\\w+@\\w+\\.\\w{2,}'\n",
    "mail = input(\"Enter your email: \")\n",
    "\n",
    "res = re.search(r'\\w+@\\w+\\.\\w+', mail)\n",
    "\n",
    "if res:\n",
    "    print(True)\n",
    "else:\n",
    "    print(False)\n"
   ]
  },
  {
   "cell_type": "code",
   "execution_count": null,
   "id": "631178cd",
   "metadata": {},
   "outputs": [
    {
     "name": "stdout",
     "output_type": "stream",
     "text": [
      "<re.Match object; span=(0, 6), match='Python'>\n",
      "None\n",
      "<re.Match object; span=(0, 9), match='Python123'>\n",
      "None\n",
      "<re.Match object; span=(6, 9), match='123'>\n"
     ]
    }
   ],
   "source": [
    "# Difference b/w match, full match and search.\n",
    "\n",
    "text = \"Python123\"\n",
    "\n",
    "#match()\n",
    "print(re.match(r'Python', text))  #Matches: starts with python\n",
    "print(re.match(r'\\d+', text))     #No Match: doesn't start with digits\n",
    "\n",
    "#fullmatch()\n",
    "print(re.fullmatch(r'Python\\d+', text))   #Matches whole string\n",
    "print(re.fullmatch(r'Python', text))      #No Match: doesn't match entire string\n",
    "\n",
    "#search()\n",
    "print(re.search(r'\\d+', text))    #Finds: digits anywhere in the string"
   ]
  },
  {
   "cell_type": "code",
   "execution_count": 71,
   "id": "b4e7f608",
   "metadata": {},
   "outputs": [
    {
     "name": "stdout",
     "output_type": "stream",
     "text": [
      "Found: Python 3.8 at position: (0, 10)\n",
      "Found: Python 3.9 at position: (37, 47)\n"
     ]
    }
   ],
   "source": [
    "import re\n",
    "text = \"Python 3.8 was released in 2019, and Python 3.9 in 2020.\"\n",
    "\n",
    "#Find all python versions mentioned.\n",
    "pattern = re.finditer(r'Python \\d\\.\\d', text)\n",
    "\n",
    "for match in pattern:\n",
    "    print(\"Found:\", match.group(), \"at position:\", match.span())"
   ]
  },
  {
   "cell_type": "code",
   "execution_count": 72,
   "id": "9f0db1f2",
   "metadata": {},
   "outputs": [
    {
     "name": "stdout",
     "output_type": "stream",
     "text": [
      "Matched Text:  hello@example.com\n",
      "Start Index:  7\n",
      "End Index:  24\n",
      "Span (start, end):  (7, 24)\n"
     ]
    }
   ],
   "source": [
    "import re\n",
    "\n",
    "text = \"Email: hello@example.com\"\n",
    "\n",
    "match = re.search(r'\\w+@\\w+\\.\\w+', text)\n",
    "\n",
    "if match:\n",
    "    print(\"Matched Text: \", match.group())\n",
    "    print(\"Start Index: \", match.start())\n",
    "    print(\"End Index: \", match.end())\n",
    "    print(\"Span (start, end): \", match.span())"
   ]
  },
  {
   "cell_type": "code",
   "execution_count": 76,
   "id": "010a7ed8",
   "metadata": {},
   "outputs": [
    {
     "name": "stdout",
     "output_type": "stream",
     "text": [
      "Hello\n"
     ]
    }
   ],
   "source": [
    "#re.IGNORECASE or re.I\n",
    "\n",
    "import re\n",
    "\n",
    "text = \"Hello World\"\n",
    "pattern = re.compile(r'hello', re.IGNORECASE)\n",
    "match = pattern.search(text)\n",
    "print(match.group())         #Output: Hello"
   ]
  },
  {
   "cell_type": "code",
   "execution_count": 77,
   "id": "c1df3044",
   "metadata": {},
   "outputs": [
    {
     "name": "stdout",
     "output_type": "stream",
     "text": [
      "Hello\n",
      "World\n"
     ]
    }
   ],
   "source": [
    "#re.DOTALL or re.S\n",
    "\n",
    "text = \"Hello\\nWorld\"\n",
    "pattern = re.compile(r'Hello.World', re.DOTALL)\n",
    "match = pattern.search(text)\n",
    "print(match.group())   #Output: Hello\\nWorld"
   ]
  },
  {
   "cell_type": "code",
   "execution_count": 1,
   "id": "3466962b",
   "metadata": {},
   "outputs": [
    {
     "name": "stdout",
     "output_type": "stream",
     "text": [
      "user@example.com\n"
     ]
    }
   ],
   "source": [
    "import re\n",
    "\n",
    "pattern = r'^[A-Za-z0-9._%+-]+@[A-Za-z0-9.-]+\\.[A-Za-z]{2,}$'\n",
    "text = \"user@example.com\"\n",
    "\n",
    "match = re.match(pattern, text)\n",
    "print(match.group() if match else \"No match\")"
   ]
  },
  {
   "cell_type": "code",
   "execution_count": 2,
   "id": "dafac10a",
   "metadata": {},
   "outputs": [
    {
     "name": "stdout",
     "output_type": "stream",
     "text": [
      "user@example.com\n"
     ]
    }
   ],
   "source": [
    "import re\n",
    "\n",
    "pattern = re.compile(r'''\n",
    "                     ^          # Start of string\n",
    "    [A-Za-z0-9._%+-]+           # Username: One or more valid characters\n",
    "    @                           # @ symbol\n",
    "    [A-Za-z0-9.-]+              # Domain name: One or more valid characters\n",
    "    \\.                          # Literal dot\n",
    "    [A-Za-z]{2,}                # Top-level domain: At least 2 letters\n",
    "    $                           # End of string\n",
    "''', re.VERBOSE)\n",
    "\n",
    "text = \"user@example.com\"\n",
    "\n",
    "match = pattern.match(text)\n",
    "print(match.group() if match else \"No match\")"
   ]
  },
  {
   "cell_type": "code",
   "execution_count": 3,
   "id": "0ff813b1",
   "metadata": {},
   "outputs": [
    {
     "name": "stdout",
     "output_type": "stream",
     "text": [
      "123-456-7890\n"
     ]
    }
   ],
   "source": [
    "# re.VERBOSE or re.X\n",
    "\n",
    "pattern = re.compile(r\"\"\"\n",
    "    \\d{3}      # Area code\n",
    "    -          # Separator\n",
    "    \\d{3}\n",
    "    -\n",
    "    \\d{4}\n",
    "\"\"\", re.VERBOSE)\n",
    "\n",
    "match = pattern.match(\"123-456-7890\")\n",
    "print(match.group())  # Output: 123-456-7890"
   ]
  },
  {
   "cell_type": "code",
   "execution_count": 4,
   "id": "a7358e8b",
   "metadata": {},
   "outputs": [
    {
     "name": "stdout",
     "output_type": "stream",
     "text": [
      "['caf', 'caf']\n"
     ]
    }
   ],
   "source": [
    "# re.ASCII or re.A\n",
    "pattern = re.compile(r'\\w+', re.ASCII)\n",
    "print(pattern.findall(\"café café\"))  # Output: ['caf', 'caf']"
   ]
  },
  {
   "cell_type": "code",
   "execution_count": 5,
   "id": "dc6d9cd4",
   "metadata": {},
   "outputs": [],
   "source": [
    "pattern = re.compile(r'hello.world', re.IGNORECASE | re.DOTALL)"
   ]
  },
  {
   "cell_type": "markdown",
   "id": "67070e4a",
   "metadata": {},
   "source": [
    "# PYTHON DAY 12"
   ]
  },
  {
   "cell_type": "markdown",
   "id": "de809074",
   "metadata": {},
   "source": [
    "LIBRARIES"
   ]
  },
  {
   "cell_type": "code",
   "execution_count": 5,
   "id": "7ba5e337",
   "metadata": {},
   "outputs": [
    {
     "name": "stdout",
     "output_type": "stream",
     "text": [
      "Count.test= 25\n",
      "k = 0\n"
     ]
    }
   ],
   "source": [
    "def add(c,k):\n",
    "    c.test=c.test+1\n",
    "    k=k+1\n",
    "class A:\n",
    "    def __init__(self):\n",
    "        self.test = 0\n",
    "def main():\n",
    "    Count=A()\n",
    "    k=0\n",
    " \n",
    "    for i in range(0,25):\n",
    "        add(Count,k)\n",
    "    print(\"Count.test=\", Count.test)\n",
    "    print(\"k =\", k)\n",
    "main()"
   ]
  },
  {
   "cell_type": "code",
   "execution_count": null,
   "id": "df75f2ee",
   "metadata": {},
   "outputs": [],
   "source": []
  }
 ],
 "metadata": {
  "kernelspec": {
   "display_name": "Python 3",
   "language": "python",
   "name": "python3"
  },
  "language_info": {
   "codemirror_mode": {
    "name": "ipython",
    "version": 3
   },
   "file_extension": ".py",
   "mimetype": "text/x-python",
   "name": "python",
   "nbconvert_exporter": "python",
   "pygments_lexer": "ipython3",
   "version": "3.12.3"
  }
 },
 "nbformat": 4,
 "nbformat_minor": 5
}
